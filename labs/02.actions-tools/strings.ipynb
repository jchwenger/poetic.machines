{
 "cells": [
  {
   "cell_type": "markdown",
   "id": "1d5f634c-c382-425b-b934-4f68d0e5dafa",
   "metadata": {},
   "source": [
    "# String in Python"
   ]
  },
  {
   "cell_type": "code",
   "execution_count": null,
   "id": "c8a8f92c-52f6-4d60-9bbd-cc0b668962a9",
   "metadata": {},
   "outputs": [],
   "source": [
    "word = \"silencio\"\n",
    "word"
   ]
  },
  {
   "cell_type": "markdown",
   "id": "201ed24c-b115-4061-a4f0-ad9e525b1088",
   "metadata": {},
   "source": [
    "## Unicode, encoding and UTF-8 "
   ]
  },
  {
   "cell_type": "markdown",
   "id": "d148d0ff-9d8e-40b4-9aaa-38e3e99d4565",
   "metadata": {},
   "source": [
    "[doc (aka the gory detail)](https://docs.python.org/3/howto/unicode.html)  \n",
    "[`ord()` doc](https://docs.python.org/3/library/functions.html#ord)  \n",
    "[`chr()` doc](https://docs.python.org/3/library/functions.html#chr)  \n",
    "[`bin()` doc](https://docs.python.org/3/library/functions.html#bin)  \n",
    "[`int()` doc](https://docs.python.org/3/library/functions.html#int)\n",
    "\n",
    "- `unicode`: worldwide standard assigning one **number** to one **character**\n",
    "- encoding: the way you **implement** this in computers (how to organise the 0s and 1s, binary representation, so as to get the computer to handle text properly)\n",
    "- `utf-8` (Unicode Transformation Format – 8-bit): one specific implementation, in this case using 8 bits for each character\n"
   ]
  },
  {
   "cell_type": "code",
   "execution_count": null,
   "id": "107e0ae2-35e5-4d13-98f0-70539fd47e31",
   "metadata": {},
   "outputs": [],
   "source": [
    "from IPython.display import YouTubeVideo\n",
    "YouTubeVideo(\"MijmeoH9LT4\", width=853, height=480) #  Characters, Symbols and the Unicode Miracle - Computerphile "
   ]
  },
  {
   "cell_type": "code",
   "execution_count": null,
   "id": "0d60264d-e5dd-46c4-b7dc-b54d83718940",
   "metadata": {},
   "outputs": [],
   "source": [
    "print(\"the unicode point for 'a' is:\", ord(\"a\"))"
   ]
  },
  {
   "cell_type": "code",
   "execution_count": null,
   "id": "897eb2fe-867c-4799-a53a-89afeeafe7eb",
   "metadata": {},
   "outputs": [],
   "source": [
    "print(\"the character for unicode point 97:\", chr(97))"
   ]
  },
  {
   "cell_type": "code",
   "execution_count": null,
   "id": "2962ee13-0f23-413a-8351-cd99c60b2519",
   "metadata": {},
   "outputs": [],
   "source": [
    "print(\"binary representation of 97 is:\", bin(97))"
   ]
  },
  {
   "cell_type": "code",
   "execution_count": null,
   "id": "87bea8e8-e704-4e36-a1c7-a0f31f262b0f",
   "metadata": {},
   "outputs": [],
   "source": [
    "print(\"converting from binary to integer (base 10):\", int('10', 2)) # try '0', '1', '10', '11' ...\n",
    "print(\"'converting' from base 10 to integer (also base 10):\", int('10', 10)) "
   ]
  },
  {
   "cell_type": "code",
   "execution_count": null,
   "id": "5083314e-6c39-4bd6-b0ac-2dfe65b24901",
   "metadata": {},
   "outputs": [],
   "source": [
    "print(\"converting bytes for 97 back to 97:\", int(bin(97), 2))"
   ]
  },
  {
   "cell_type": "code",
   "execution_count": null,
   "id": "ac7be0dc-ff5a-4f11-af5a-3443004d58c9",
   "metadata": {},
   "outputs": [],
   "source": [
    "print(\"converting bytes for 97 back to 'a':\", chr(int(bin(97), 2)))"
   ]
  },
  {
   "cell_type": "code",
   "execution_count": null,
   "id": "28271086-fbaa-43eb-8dce-0ca126a44fde",
   "metadata": {},
   "outputs": [],
   "source": [
    "# to convert a string to binary,\n",
    "# first 'encode' to bytes\n",
    "byte_string = \"a\".encode(\"utf8\") # try adding more letters\n",
    "# then turn the bytes into binary\n",
    "# (the '0b' only indicates this is a binary string)\n",
    "# (see the `int()` doc for details)\n",
    "list_of_binary_strings = [bin(byte) for byte in byte_string]\n",
    "print(list_of_binary_strings)"
   ]
  },
  {
   "cell_type": "code",
   "execution_count": null,
   "id": "50b58442-f3d1-4ec6-8199-f19a9d25e20d",
   "metadata": {},
   "outputs": [],
   "source": [
    "# Chinese characters take more than one byte!\n",
    "byte_string = \"龙\".encode(\"utf8\")\n",
    "list_of_binary_strings = [bin(byte) for byte in byte_string]\n",
    "print(list_of_binary_strings)"
   ]
  },
  {
   "cell_type": "markdown",
   "id": "6206297f-b285-4763-81a9-aa0734e127c4",
   "metadata": {},
   "source": [
    "## Indexing"
   ]
  },
  {
   "cell_type": "code",
   "execution_count": null,
   "id": "07c739b8-0c33-47c5-8956-947a09d510e9",
   "metadata": {},
   "outputs": [],
   "source": [
    "# start included, end excluded\n",
    "# so characters 0, 1, 2\n",
    "word[0:3] # not like JavaScript"
   ]
  },
  {
   "cell_type": "code",
   "execution_count": null,
   "id": "666f21e4-9167-404b-aceb-024352eecac6",
   "metadata": {},
   "outputs": [],
   "source": [
    "# with negative numbers, count from the end\n",
    "word[-1] # last character"
   ]
  },
  {
   "cell_type": "code",
   "execution_count": null,
   "id": "a3c2abde-53f3-4cff-8112-1b0c926d4311",
   "metadata": {},
   "outputs": [],
   "source": [
    "# take 'every n', here every 2\n",
    "# from 0 to the end, every 2 chars\n",
    "word[::2] # every second letter"
   ]
  },
  {
   "cell_type": "code",
   "execution_count": null,
   "id": "c852d44f-ab00-4191-9b7f-ad23d7fb8675",
   "metadata": {},
   "outputs": [],
   "source": [
    "# hidden text!\n",
    "word_hidden = \"5sgi7lfefnmcvicoo\"\n",
    "print(word_hidden)"
   ]
  },
  {
   "cell_type": "code",
   "execution_count": null,
   "id": "1da6ae7a-3fb5-4c5f-891b-cd3444b31857",
   "metadata": {},
   "outputs": [],
   "source": [
    "print(word_hidden[1::2])"
   ]
  },
  {
   "cell_type": "markdown",
   "id": "1542bfe2-2331-4e34-b34a-b9274b98a657",
   "metadata": {},
   "source": [
    "## Concatenation, splitting, joining"
   ]
  },
  {
   "cell_type": "code",
   "execution_count": null,
   "id": "9537ef7d-89ee-4fec-bc81-364c6899705b",
   "metadata": {},
   "outputs": [],
   "source": [
    "two_silencios = word + \" \" + word\n",
    "print(two_silencios)"
   ]
  },
  {
   "cell_type": "code",
   "execution_count": null,
   "id": "28a715db-6126-4a8e-8720-7ee0037354ad",
   "metadata": {},
   "outputs": [],
   "source": [
    "# beware! 1) the splitting char(s) disappear,\n",
    "# 2) when splitting at the end, you still get an empty string (\"after\" the split)\n",
    "silencios_split1 = two_silencios.split(\" \")\n",
    "print(silencios_split1)"
   ]
  },
  {
   "cell_type": "code",
   "execution_count": null,
   "id": "b6124659-d0d5-4092-a676-cbd2293b9318",
   "metadata": {},
   "outputs": [],
   "source": [
    "silencios_split2 = two_silencios.split(\"i\")\n",
    "print(silencios_split2)"
   ]
  },
  {
   "cell_type": "code",
   "execution_count": null,
   "id": "a3c3399c-ce0b-4dbf-bcdf-0c92c3a976be",
   "metadata": {},
   "outputs": [],
   "source": [
    "# how to reverse a split?\n",
    "# use \"separator\".join(iterable)\n",
    "print(silencios_split1)\n",
    "print(\" \".join(silencios_split1))"
   ]
  },
  {
   "cell_type": "markdown",
   "id": "0a526847-9ec0-4db1-884b-3eb2848f8b5a",
   "metadata": {},
   "source": [
    "## String constants"
   ]
  },
  {
   "cell_type": "markdown",
   "id": "52bf5d04-ac5b-423f-bed5-aa6f43cf3f80",
   "metadata": {},
   "source": [
    "[docs](https://docs.python.org/3/library/string.html#string-constants)"
   ]
  },
  {
   "cell_type": "code",
   "execution_count": null,
   "id": "51187295-03e6-484b-ac2e-4beba47e600d",
   "metadata": {},
   "outputs": [],
   "source": [
    "import string"
   ]
  },
  {
   "cell_type": "code",
   "execution_count": null,
   "id": "2066a74b-0dca-4565-82db-21b0365f865e",
   "metadata": {},
   "outputs": [],
   "source": [
    "string.punctuation # very useful!, can be used to remove all punctuation"
   ]
  },
  {
   "cell_type": "markdown",
   "id": "1625a554-b95d-4c76-a27b-1750427b538e",
   "metadata": {},
   "source": [
    "## String Methods"
   ]
  },
  {
   "cell_type": "markdown",
   "id": "50196f72-179f-4ffc-9ce2-3d435d68bbc3",
   "metadata": {},
   "source": [
    "[docs](https://docs.python.org/3/library/stdtypes.html#string-methods)"
   ]
  },
  {
   "cell_type": "markdown",
   "id": "0fa5b94f-1eda-4fc8-9639-b1de75db85b6",
   "metadata": {},
   "source": [
    "### Search, replace, translate"
   ]
  },
  {
   "cell_type": "code",
   "execution_count": null,
   "id": "6a8d2952-b9a4-4025-b841-049439fdde09",
   "metadata": {},
   "outputs": [],
   "source": [
    "word.find(\"s\")"
   ]
  },
  {
   "cell_type": "code",
   "execution_count": null,
   "id": "15788ad7-a0cf-4f40-bda3-b17374c6c4eb",
   "metadata": {},
   "outputs": [],
   "source": [
    "word.replace(\"i\", \" \")"
   ]
  },
  {
   "cell_type": "code",
   "execution_count": null,
   "id": "643cee8b-9389-4605-8d66-39cb2d06bcf7",
   "metadata": {},
   "outputs": [],
   "source": [
    "# translate expects\n",
    "word.translate(\n",
    "    {\n",
    "        ord(\"i\"): ord(\"1\"),\n",
    "        ord(\"e\"): ord(\"3\"),\n",
    "        ord(\"c\"): ord(\"<\"),\n",
    "        ord(\"o\"): ord(\"0\"),\n",
    "    }\n",
    ")"
   ]
  },
  {
   "cell_type": "code",
   "execution_count": null,
   "id": "75d0669b-a0ef-4a69-96fe-ccc8f2aa8e0a",
   "metadata": {},
   "outputs": [],
   "source": [
    "word.translate(\n",
    "    str.maketrans(\"ieco\", \"13<0\")\n",
    ")"
   ]
  },
  {
   "cell_type": "code",
   "execution_count": null,
   "id": "77de9ef2-5695-4e06-a193-7284fe9b8866",
   "metadata": {},
   "outputs": [],
   "source": [
    "# maketrans can take a third argument:\n",
    "# here we say: translate everything as is (\"\" to \"\")\n",
    "# and the last argument is for *everything that needs to be removed*\n",
    "# (equivalent to do `ord(\",\"): None` for all punctuation characters)\n",
    "print(str.maketrans(\"\", \"\", string.punctuation))"
   ]
  },
  {
   "cell_type": "code",
   "execution_count": null,
   "id": "f5a4315d-885f-4855-9e01-86b0db0e7d8c",
   "metadata": {
    "scrolled": true
   },
   "outputs": [],
   "source": [
    "# now, we can remove all punctuation from text\n",
    "print(\"Hello there! How are you? Yes, you...\".translate(\n",
    "    str.maketrans(\"\", \"\", string.punctuation)\n",
    "))"
   ]
  },
  {
   "cell_type": "markdown",
   "id": "b97d43b5-092e-44b2-be0e-03ecd580db39",
   "metadata": {},
   "source": [
    "### Working with case"
   ]
  },
  {
   "cell_type": "code",
   "execution_count": null,
   "id": "5ece3100-4599-4150-918b-45d99fb49b34",
   "metadata": {},
   "outputs": [],
   "source": [
    "word.capitalize()"
   ]
  },
  {
   "cell_type": "code",
   "execution_count": null,
   "id": "103eb601-2b8b-4c4d-b0bf-28bc28216ea9",
   "metadata": {},
   "outputs": [],
   "source": [
    "word.upper()"
   ]
  },
  {
   "cell_type": "code",
   "execution_count": null,
   "id": "cb4e8a48-8295-4a0c-9e1f-1ec3beadea51",
   "metadata": {},
   "outputs": [],
   "source": [
    "word.upper().lower()"
   ]
  },
  {
   "cell_type": "code",
   "execution_count": null,
   "id": "770a4208-a85c-4895-b5b2-d788c069398a",
   "metadata": {},
   "outputs": [],
   "source": [
    "word.capitalize().swapcase()"
   ]
  },
  {
   "cell_type": "markdown",
   "id": "6a01b90d-2cd1-41cd-861b-41d43d0f0650",
   "metadata": {},
   "source": [
    "## F-string (formatted strings)"
   ]
  },
  {
   "cell_type": "markdown",
   "id": "62d88c88-54a6-4765-8785-c8e44f0f3346",
   "metadata": {},
   "source": [
    "[tutorial](https://docs.python.org/3/tutorial/inputoutput.html#fancier-output-formatting)  \n",
    "[f-strings docs](https://docs.python.org/3/library/stdtypes.html#formatted-string-literals-f-strings)  \n",
    "[`str.format()` doc](https://docs.python.org/3/library/stdtypes.html#str.format)"
   ]
  },
  {
   "cell_type": "code",
   "execution_count": null,
   "id": "140c0848-0046-47e1-a07d-cd763f74e0b1",
   "metadata": {},
   "outputs": [],
   "source": [
    "print(f\"What is the word? {word}.\") # note the leading f"
   ]
  },
  {
   "cell_type": "code",
   "execution_count": null,
   "id": "3008c96a-7d89-4dea-925b-ce02b6f33f36",
   "metadata": {},
   "outputs": [],
   "source": [
    "print(f\"What is the word? {word:<80}.\") # left aligned, specify the width"
   ]
  },
  {
   "cell_type": "code",
   "execution_count": null,
   "id": "a2a0dce6-7e39-4ee9-a972-515ba1fe85a2",
   "metadata": {},
   "outputs": [],
   "source": [
    "print(f\"What is the word? {word:>80}.\") # right aligned"
   ]
  },
  {
   "cell_type": "code",
   "execution_count": null,
   "id": "5002bdb9-6024-4f7a-ab09-59027f39baee",
   "metadata": {},
   "outputs": [],
   "source": [
    "print(f\"What is the word? {word:^80}.\") # centered"
   ]
  },
  {
   "cell_type": "code",
   "execution_count": null,
   "id": "ba171b7d-163c-4b9c-887d-53a69e9e03fa",
   "metadata": {},
   "outputs": [],
   "source": [
    "width = 80\n",
    "print(f\"What is the word? {word:^{width}}.\") # use a variable in the parameter!"
   ]
  }
 ],
 "metadata": {
  "kernelspec": {
   "display_name": "Python 3 (ipykernel)",
   "language": "python",
   "name": "python3"
  },
  "language_info": {
   "codemirror_mode": {
    "name": "ipython",
    "version": 3
   },
   "file_extension": ".py",
   "mimetype": "text/x-python",
   "name": "python",
   "nbconvert_exporter": "python",
   "pygments_lexer": "ipython3",
   "version": "3.12.2"
  }
 },
 "nbformat": 4,
 "nbformat_minor": 5
}
