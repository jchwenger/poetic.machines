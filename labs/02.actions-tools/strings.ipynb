{
 "cells": [
  {
   "cell_type": "markdown",
   "id": "1d5f634c-c382-425b-b934-4f68d0e5dafa",
   "metadata": {},
   "source": [
    "# String in Python"
   ]
  },
  {
   "cell_type": "code",
   "execution_count": 5,
   "id": "c8a8f92c-52f6-4d60-9bbd-cc0b668962a9",
   "metadata": {},
   "outputs": [],
   "source": [
    "word = \"silencio\""
   ]
  },
  {
   "cell_type": "code",
   "execution_count": 6,
   "id": "fbc7a142-22dd-47cb-b2d4-989869583103",
   "metadata": {},
   "outputs": [
    {
     "data": {
      "text/plain": [
       "'silencio'"
      ]
     },
     "execution_count": 6,
     "metadata": {},
     "output_type": "execute_result"
    }
   ],
   "source": [
    "word"
   ]
  },
  {
   "cell_type": "markdown",
   "id": "6206297f-b285-4763-81a9-aa0734e127c4",
   "metadata": {
    "jp-MarkdownHeadingCollapsed": true
   },
   "source": [
    "## Indexing"
   ]
  },
  {
   "cell_type": "code",
   "execution_count": 7,
   "id": "07c739b8-0c33-47c5-8956-947a09d510e9",
   "metadata": {},
   "outputs": [
    {
     "data": {
      "text/plain": [
       "'sil'"
      ]
     },
     "execution_count": 7,
     "metadata": {},
     "output_type": "execute_result"
    }
   ],
   "source": [
    "# start included, end excluded\n",
    "# so characters 0, 1, 2\n",
    "word[0:3] # not like JavaScript"
   ]
  },
  {
   "cell_type": "code",
   "execution_count": null,
   "id": "666f21e4-9167-404b-aceb-024352eecac6",
   "metadata": {},
   "outputs": [],
   "source": [
    "# with negative numbers, count from the end\n",
    "word[-1] # last character"
   ]
  },
  {
   "cell_type": "code",
   "execution_count": null,
   "id": "a3c2abde-53f3-4cff-8112-1b0c926d4311",
   "metadata": {},
   "outputs": [],
   "source": [
    "# take 'every n', here every 2\n",
    "# from 0 to the end, every 2 chars\n",
    "word[::2] # every second letter"
   ]
  },
  {
   "cell_type": "code",
   "execution_count": null,
   "id": "c852d44f-ab00-4191-9b7f-ad23d7fb8675",
   "metadata": {},
   "outputs": [],
   "source": [
    "# hidden text!\n",
    "word_hidden = \"5sgi7lfefnmcvicoo\"\n",
    "print(word_hidden)"
   ]
  },
  {
   "cell_type": "code",
   "execution_count": null,
   "id": "1da6ae7a-3fb5-4c5f-891b-cd3444b31857",
   "metadata": {},
   "outputs": [],
   "source": [
    "print(word_hidden[1::2])"
   ]
  },
  {
   "cell_type": "markdown",
   "id": "1542bfe2-2331-4e34-b34a-b9274b98a657",
   "metadata": {},
   "source": [
    "## Concatenation, splitting"
   ]
  },
  {
   "cell_type": "code",
   "execution_count": 8,
   "id": "9537ef7d-89ee-4fec-bc81-364c6899705b",
   "metadata": {},
   "outputs": [
    {
     "name": "stdout",
     "output_type": "stream",
     "text": [
      "silencio silencio\n"
     ]
    }
   ],
   "source": [
    "two_silencios = word + \" \" + word\n",
    "print(two_silencios)"
   ]
  },
  {
   "cell_type": "code",
   "execution_count": 12,
   "id": "28a715db-6126-4a8e-8720-7ee0037354ad",
   "metadata": {},
   "outputs": [
    {
     "name": "stdout",
     "output_type": "stream",
     "text": [
      "['silencio', 'silencio']\n"
     ]
    }
   ],
   "source": [
    "silencios_split1 = two_silencios.split(\" \")\n",
    "print(silencios_split1)"
   ]
  },
  {
   "cell_type": "code",
   "execution_count": 13,
   "id": "b6124659-d0d5-4092-a676-cbd2293b9318",
   "metadata": {},
   "outputs": [
    {
     "name": "stdout",
     "output_type": "stream",
     "text": [
      "['s', 'lenc', 'o s', 'lenc', 'o']\n"
     ]
    }
   ],
   "source": [
    "silencios_split2 = two_silencios.split(\"i\")\n",
    "print(silencios_split2)"
   ]
  },
  {
   "cell_type": "markdown",
   "id": "1e730d4e-2ffc-46ec-958d-123a6ff72c7d",
   "metadata": {},
   "source": [
    "## String constants\n",
    "\n",
    "[docs](https://docs.python.org/3/library/string.html#string-constants)"
   ]
  },
  {
   "cell_type": "markdown",
   "id": "4a50fec6-77e8-4d61-807d-55729b18a020",
   "metadata": {},
   "source": [
    "## String Methods\n",
    "\n",
    "[docs](https://docs.python.org/3/library/stdtypes.html#string-methods)"
   ]
  },
  {
   "cell_type": "markdown",
   "id": "0fa5b94f-1eda-4fc8-9639-b1de75db85b6",
   "metadata": {},
   "source": [
    "### Search and replace"
   ]
  },
  {
   "cell_type": "markdown",
   "id": "b97d43b5-092e-44b2-be0e-03ecd580db39",
   "metadata": {},
   "source": [
    "### Working with case"
   ]
  },
  {
   "cell_type": "code",
   "execution_count": 19,
   "id": "5ece3100-4599-4150-918b-45d99fb49b34",
   "metadata": {},
   "outputs": [
    {
     "data": {
      "text/plain": [
       "'Silencio'"
      ]
     },
     "execution_count": 19,
     "metadata": {},
     "output_type": "execute_result"
    }
   ],
   "source": [
    "word.capitalize()"
   ]
  },
  {
   "cell_type": "code",
   "execution_count": 21,
   "id": "103eb601-2b8b-4c4d-b0bf-28bc28216ea9",
   "metadata": {},
   "outputs": [
    {
     "data": {
      "text/plain": [
       "'SILENCIO'"
      ]
     },
     "execution_count": 21,
     "metadata": {},
     "output_type": "execute_result"
    }
   ],
   "source": [
    "word.upper()"
   ]
  },
  {
   "cell_type": "code",
   "execution_count": 22,
   "id": "cb4e8a48-8295-4a0c-9e1f-1ec3beadea51",
   "metadata": {},
   "outputs": [
    {
     "data": {
      "text/plain": [
       "'silencio'"
      ]
     },
     "execution_count": 22,
     "metadata": {},
     "output_type": "execute_result"
    }
   ],
   "source": [
    "word.upper().lower()"
   ]
  },
  {
   "cell_type": "code",
   "execution_count": 23,
   "id": "770a4208-a85c-4895-b5b2-d788c069398a",
   "metadata": {},
   "outputs": [
    {
     "data": {
      "text/plain": [
       "'sILENCIO'"
      ]
     },
     "execution_count": 23,
     "metadata": {},
     "output_type": "execute_result"
    }
   ],
   "source": [
    "word.capitalize().swapcase()"
   ]
  },
  {
   "cell_type": "markdown",
   "id": "10d8f8b7-a471-4a99-8060-00936cf5f433",
   "metadata": {},
   "source": [
    "## F-string (formatted strings)\n",
    "\n",
    "[docs](https://docs.python.org/3/library/stdtypes.html#formatted-string-literals-f-strings)"
   ]
  }
 ],
 "metadata": {
  "kernelspec": {
   "display_name": "Python 3 (ipykernel)",
   "language": "python",
   "name": "python3"
  },
  "language_info": {
   "codemirror_mode": {
    "name": "ipython",
    "version": 3
   },
   "file_extension": ".py",
   "mimetype": "text/x-python",
   "name": "python",
   "nbconvert_exporter": "python",
   "pygments_lexer": "ipython3",
   "version": "3.12.2"
  }
 },
 "nbformat": 4,
 "nbformat_minor": 5
}
