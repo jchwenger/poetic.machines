{
 "cells": [
  {
   "cell_type": "markdown",
   "id": "8b40af28-527e-4441-b9ff-fe046fc46fd7",
   "metadata": {},
   "source": [
    "# Variables & Data Structures"
   ]
  },
  {
   "cell_type": "markdown",
   "id": "3147bfd2-bc94-43ba-8659-ae6a365b69b5",
   "metadata": {},
   "source": [
    "![Eugen Gomringer's *Silencio*](../../pics/Gomringer.silencio.jpg)\n",
    "\n",
    "([source](https://www.instagram.com/p/C4kR0d1uIQ0/))"
   ]
  },
  {
   "cell_type": "code",
   "execution_count": 8,
   "id": "ae76d8cb-b358-4e7f-85ab-d03bf62fa3fc",
   "metadata": {},
   "outputs": [
    {
     "name": "stdout",
     "output_type": "stream",
     "text": [
      "\n",
      "silencio silencio silencio\n",
      "silencio silencio silencio\n",
      "silencio          silencio\n",
      "silencio silencio silencio\n",
      "silencio silencio silencio\n",
      "\n"
     ]
    }
   ],
   "source": [
    "print(\"\"\"\n",
    "silencio silencio silencio\n",
    "silencio silencio silencio\n",
    "silencio          silencio\n",
    "silencio silencio silencio\n",
    "silencio silencio silencio\n",
    "\"\"\")"
   ]
  },
  {
   "cell_type": "code",
   "execution_count": 9,
   "id": "8b209150-64f6-40de-9bb9-7254bd581d4f",
   "metadata": {},
   "outputs": [
    {
     "name": "stdout",
     "output_type": "stream",
     "text": [
      "silencio silencio silencio\n",
      "silencio silencio silencio\n",
      "silencio          silencio\n",
      "silencio silencio silencio\n",
      "silencio silencio silencio\n"
     ]
    }
   ],
   "source": [
    "print(\"silencio silencio silencio\")\n",
    "print(\"silencio silencio silencio\")\n",
    "print(\"silencio          silencio\")\n",
    "print(\"silencio silencio silencio\")\n",
    "print(\"silencio silencio silencio\")"
   ]
  },
  {
   "cell_type": "markdown",
   "id": "28c16a43-f00a-4b4e-a312-b1fe5ca7fb26",
   "metadata": {},
   "source": [
    "## Using variables"
   ]
  },
  {
   "cell_type": "code",
   "execution_count": 10,
   "id": "4c7734de-a7fd-4bd3-a8af-e1f6e4f20979",
   "metadata": {},
   "outputs": [],
   "source": [
    "line = \"silencio silencio silencio\"\n",
    "line_gap = \"silencio          silencio\""
   ]
  },
  {
   "cell_type": "code",
   "execution_count": 11,
   "id": "164511b9-e034-495d-ae99-6567771f50cf",
   "metadata": {},
   "outputs": [
    {
     "data": {
      "text/plain": [
       "'silencio silencio silencio'"
      ]
     },
     "execution_count": 11,
     "metadata": {},
     "output_type": "execute_result"
    }
   ],
   "source": [
    "line"
   ]
  },
  {
   "cell_type": "code",
   "execution_count": 12,
   "id": "efbb6a11-dcb0-4157-a735-bdcc8531d7d4",
   "metadata": {},
   "outputs": [
    {
     "data": {
      "text/plain": [
       "'silencio          silencio'"
      ]
     },
     "execution_count": 12,
     "metadata": {},
     "output_type": "execute_result"
    }
   ],
   "source": [
    "line_gap"
   ]
  },
  {
   "cell_type": "code",
   "execution_count": 13,
   "id": "98bc7df7-ffe6-4576-bca6-3aedd362643d",
   "metadata": {},
   "outputs": [
    {
     "name": "stdout",
     "output_type": "stream",
     "text": [
      "silencio silencio silencio\n",
      "silencio silencio silencio\n",
      "silencio          silencio\n",
      "silencio silencio silencio\n",
      "silencio silencio silencio\n"
     ]
    }
   ],
   "source": [
    "print(line)\n",
    "print(line)\n",
    "print(line_gap)\n",
    "print(line)\n",
    "print(line)"
   ]
  },
  {
   "cell_type": "markdown",
   "id": "24b89da8-abae-4147-8bc5-978d3b10f43c",
   "metadata": {},
   "source": [
    "## Tuples, Lists, Dictionaries"
   ]
  },
  {
   "cell_type": "code",
   "execution_count": 20,
   "id": "e2dbb50b-b509-448b-b7da-b659a6efe5b9",
   "metadata": {},
   "outputs": [
    {
     "name": "stdout",
     "output_type": "stream",
     "text": [
      "silencio silencio silencio\n",
      "silencio silencio silencio\n",
      "silencio silencio silencio\n",
      "silencio silencio silencio\n",
      "silencio silencio silencio\n"
     ]
    }
   ],
   "source": [
    "poem = [line, line, line, line, line]\n",
    "print(\"\\n\".join(poem))"
   ]
  },
  {
   "cell_type": "code",
   "execution_count": 21,
   "id": "158a0ccc-86df-4f71-9a68-80865cee19cd",
   "metadata": {},
   "outputs": [
    {
     "name": "stdout",
     "output_type": "stream",
     "text": [
      "silencio silencio silencio\n",
      "silencio silencio silencio\n",
      "silencio          silencio\n",
      "silencio silencio silencio\n",
      "silencio silencio silencio\n"
     ]
    }
   ],
   "source": [
    "poem[2] = line_gap\n",
    "print(\"\\n\".join(poem))"
   ]
  }
 ],
 "metadata": {
  "kernelspec": {
   "display_name": "Python 3 (ipykernel)",
   "language": "python",
   "name": "python3"
  },
  "language_info": {
   "codemirror_mode": {
    "name": "ipython",
    "version": 3
   },
   "file_extension": ".py",
   "mimetype": "text/x-python",
   "name": "python",
   "nbconvert_exporter": "python",
   "pygments_lexer": "ipython3",
   "version": "3.12.2"
  }
 },
 "nbformat": 4,
 "nbformat_minor": 5
}
