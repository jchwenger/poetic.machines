{
 "cells": [
  {
   "cell_type": "markdown",
   "id": "8b40af28-527e-4441-b9ff-fe046fc46fd7",
   "metadata": {},
   "source": [
    "# Variables & Data Structures"
   ]
  },
  {
   "cell_type": "markdown",
   "id": "3147bfd2-bc94-43ba-8659-ae6a365b69b5",
   "metadata": {},
   "source": [
    "![Eugen Gomringer's *Silencio*](../../pics/Gomringer.silencio.jpg)\n",
    "\n",
    "([source](https://www.instagram.com/p/C4kR0d1uIQ0/))"
   ]
  },
  {
   "cell_type": "markdown",
   "id": "28c16a43-f00a-4b4e-a312-b1fe5ca7fb26",
   "metadata": {},
   "source": [
    "## Using variables"
   ]
  },
  {
   "cell_type": "code",
   "execution_count": 5,
   "id": "4c7734de-a7fd-4bd3-a8af-e1f6e4f20979",
   "metadata": {},
   "outputs": [],
   "source": [
    "line = \"silencio silencio silencio\"\n",
    "line_gap = \"silencio          silencio\""
   ]
  },
  {
   "cell_type": "code",
   "execution_count": 6,
   "id": "164511b9-e034-495d-ae99-6567771f50cf",
   "metadata": {},
   "outputs": [
    {
     "data": {
      "text/plain": [
       "'silencio silencio silencio'"
      ]
     },
     "execution_count": 6,
     "metadata": {},
     "output_type": "execute_result"
    }
   ],
   "source": [
    "line"
   ]
  },
  {
   "cell_type": "code",
   "execution_count": 7,
   "id": "efbb6a11-dcb0-4157-a735-bdcc8531d7d4",
   "metadata": {},
   "outputs": [
    {
     "data": {
      "text/plain": [
       "'silencio          silencio'"
      ]
     },
     "execution_count": 7,
     "metadata": {},
     "output_type": "execute_result"
    }
   ],
   "source": [
    "line_gap"
   ]
  },
  {
   "cell_type": "code",
   "execution_count": 8,
   "id": "98bc7df7-ffe6-4576-bca6-3aedd362643d",
   "metadata": {},
   "outputs": [
    {
     "name": "stdout",
     "output_type": "stream",
     "text": [
      "silencio silencio silencio\n",
      "silencio silencio silencio\n",
      "silencio          silencio\n",
      "silencio silencio silencio\n",
      "silencio silencio silencio\n"
     ]
    }
   ],
   "source": [
    "print(line)\n",
    "print(line)\n",
    "print(line_gap)\n",
    "print(line)\n",
    "print(line)"
   ]
  },
  {
   "cell_type": "markdown",
   "id": "24b89da8-abae-4147-8bc5-978d3b10f43c",
   "metadata": {},
   "source": [
    "## Tuples, Lists"
   ]
  },
  {
   "cell_type": "markdown",
   "id": "8cc22f99-c3ac-47ce-9617-4e67d4bf632b",
   "metadata": {},
   "source": [
    "- tuples: immutable (= 'arrays')\n",
    "- lists: mutable (= 'linked lists')"
   ]
  },
  {
   "cell_type": "code",
   "execution_count": 9,
   "id": "0d1cbb0f-9ade-4d1f-90ed-3cecd8cf0738",
   "metadata": {},
   "outputs": [
    {
     "name": "stdout",
     "output_type": "stream",
     "text": [
      "silencio silencio silencio\n",
      "silencio silencio silencio\n",
      "silencio silencio silencio\n",
      "silencio silencio silencio\n",
      "silencio silencio silencio\n"
     ]
    }
   ],
   "source": [
    "poem_tuple = (line, line, line, line, line)\n",
    "print(\"\\n\".join(poem_tuple))"
   ]
  },
  {
   "cell_type": "code",
   "execution_count": 15,
   "id": "e9ec45f1-22d4-4e89-8c58-b0697c72a301",
   "metadata": {},
   "outputs": [
    {
     "ename": "TypeError",
     "evalue": "'tuple' object does not support item assignment",
     "output_type": "error",
     "traceback": [
      "\u001b[0;31m---------------------------------------------------------------------------\u001b[0m",
      "\u001b[0;31mTypeError\u001b[0m                                 Traceback (most recent call last)",
      "Cell \u001b[0;32mIn[15], line 1\u001b[0m\n\u001b[0;32m----> 1\u001b[0m \u001b[43mpoem_tuple\u001b[49m\u001b[43m[\u001b[49m\u001b[38;5;241;43m2\u001b[39;49m\u001b[43m]\u001b[49m \u001b[38;5;241m=\u001b[39m line_gap\n\u001b[1;32m      2\u001b[0m \u001b[38;5;28mprint\u001b[39m(\u001b[38;5;124m\"\u001b[39m\u001b[38;5;130;01m\\n\u001b[39;00m\u001b[38;5;124m\"\u001b[39m\u001b[38;5;241m.\u001b[39mjoin(poem_tuple))\n",
      "\u001b[0;31mTypeError\u001b[0m: 'tuple' object does not support item assignment"
     ]
    }
   ],
   "source": [
    "poem_tuple[2] = line_gap # fails\n",
    "print(\"\\n\".join(poem_tuple))"
   ]
  },
  {
   "cell_type": "code",
   "execution_count": null,
   "id": "8487893d-9bb5-45ca-9358-16facaffb6da",
   "metadata": {},
   "outputs": [],
   "source": [
    "poem_tuple = (line, line, line, line, line)\n",
    "print(\"\\n\".join(poem_tuple))"
   ]
  },
  {
   "cell_type": "code",
   "execution_count": 13,
   "id": "e2dbb50b-b509-448b-b7da-b659a6efe5b9",
   "metadata": {},
   "outputs": [
    {
     "name": "stdout",
     "output_type": "stream",
     "text": [
      "silencio silencio silencio\n",
      "silencio silencio silencio\n",
      "silencio silencio silencio\n",
      "silencio silencio silencio\n",
      "silencio silencio silencio\n"
     ]
    }
   ],
   "source": [
    "poem_list = [line, line, line, line, line]\n",
    "print(\"\\n\".join(poem_list))"
   ]
  },
  {
   "cell_type": "code",
   "execution_count": 14,
   "id": "158a0ccc-86df-4f71-9a68-80865cee19cd",
   "metadata": {},
   "outputs": [
    {
     "name": "stdout",
     "output_type": "stream",
     "text": [
      "silencio silencio silencio\n",
      "silencio silencio silencio\n",
      "silencio          silencio\n",
      "silencio silencio silencio\n",
      "silencio silencio silencio\n"
     ]
    }
   ],
   "source": [
    "poem_list[2] = line_gap\n",
    "print(\"\\n\".join(poem_list))"
   ]
  },
  {
   "cell_type": "markdown",
   "id": "57706ed0-31f5-4963-ad19-9172b0dc04d9",
   "metadata": {},
   "source": [
    "## Dictionaries"
   ]
  },
  {
   "cell_type": "markdown",
   "id": "512eeafa-ec13-4a4a-9bac-89c094ad8d59",
   "metadata": {},
   "source": [
    "(same as 'object')"
   ]
  },
  {
   "cell_type": "code",
   "execution_count": 19,
   "id": "e4f34b08-07e8-4fd7-be43-db0ffc2ac8fd",
   "metadata": {},
   "outputs": [],
   "source": [
    "lines_dict = {\n",
    "    \"line\": line,\n",
    "    \"line_gap\": line_gap\n",
    "}"
   ]
  },
  {
   "cell_type": "code",
   "execution_count": 20,
   "id": "a47146ab-0a8b-4a83-899d-059fbe2c10aa",
   "metadata": {},
   "outputs": [
    {
     "name": "stdout",
     "output_type": "stream",
     "text": [
      "silencio silencio silencio\n",
      "silencio silencio silencio\n",
      "silencio          silencio\n",
      "silencio silencio silencio\n",
      "silencio silencio silencio\n"
     ]
    }
   ],
   "source": [
    "print(lines_dict[\"line\"])\n",
    "print(lines_dict[\"line\"])\n",
    "print(lines_dict[\"line_gap\"])\n",
    "print(lines_dict[\"line\"])\n",
    "print(lines_dict[\"line\"])"
   ]
  }
 ],
 "metadata": {
  "kernelspec": {
   "display_name": "Python 3 (ipykernel)",
   "language": "python",
   "name": "python3"
  },
  "language_info": {
   "codemirror_mode": {
    "name": "ipython",
    "version": 3
   },
   "file_extension": ".py",
   "mimetype": "text/x-python",
   "name": "python",
   "nbconvert_exporter": "python",
   "pygments_lexer": "ipython3",
   "version": "3.12.2"
  }
 },
 "nbformat": 4,
 "nbformat_minor": 5
}
