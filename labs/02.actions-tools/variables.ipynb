{
 "cells": [
  {
   "cell_type": "markdown",
   "id": "8b40af28-527e-4441-b9ff-fe046fc46fd7",
   "metadata": {},
   "source": [
    "# Variables"
   ]
  },
  {
   "cell_type": "markdown",
   "id": "3147bfd2-bc94-43ba-8659-ae6a365b69b5",
   "metadata": {},
   "source": [
    "![Eugen Gomringer's *Silencio*](../../pics/Gomringer.silencio.jpg)\n",
    "\n",
    "([source](https://www.instagram.com/p/C4kR0d1uIQ0/))"
   ]
  },
  {
   "cell_type": "markdown",
   "id": "28c16a43-f00a-4b4e-a312-b1fe5ca7fb26",
   "metadata": {},
   "source": [
    "## Using variables"
   ]
  },
  {
   "cell_type": "code",
   "execution_count": null,
   "id": "4c7734de-a7fd-4bd3-a8af-e1f6e4f20979",
   "metadata": {},
   "outputs": [],
   "source": [
    "line = \"silencio silencio silencio\"\n",
    "line_gap = \"silencio          silencio\""
   ]
  },
  {
   "cell_type": "code",
   "execution_count": null,
   "id": "164511b9-e034-495d-ae99-6567771f50cf",
   "metadata": {},
   "outputs": [],
   "source": [
    "line"
   ]
  },
  {
   "cell_type": "code",
   "execution_count": null,
   "id": "efbb6a11-dcb0-4157-a735-bdcc8531d7d4",
   "metadata": {},
   "outputs": [],
   "source": [
    "line_gap"
   ]
  },
  {
   "cell_type": "code",
   "execution_count": null,
   "id": "98bc7df7-ffe6-4576-bca6-3aedd362643d",
   "metadata": {},
   "outputs": [],
   "source": [
    "print(line)\n",
    "print(line)\n",
    "print(line_gap)\n",
    "print(line)\n",
    "print(line)"
   ]
  },
  {
   "cell_type": "code",
   "execution_count": null,
   "id": "678ac698-8c68-49f5-9dde-e3e85ec41866",
   "metadata": {},
   "outputs": [],
   "source": [
    "word = \"silencio\""
   ]
  },
  {
   "cell_type": "code",
   "execution_count": null,
   "id": "60f69138-fcec-4ce8-af61-62abf41688b6",
   "metadata": {},
   "outputs": [],
   "source": [
    "# len gives us the number of characters\n",
    "len(word)"
   ]
  },
  {
   "cell_type": "code",
   "execution_count": null,
   "id": "0805b37b-41d6-471b-9cc9-04f7ad7acd55",
   "metadata": {},
   "outputs": [],
   "source": [
    "# multiplying a string repeats it!\n",
    "word * 3"
   ]
  },
  {
   "cell_type": "code",
   "execution_count": null,
   "id": "5100de5f-346f-4335-a584-642feb255160",
   "metadata": {},
   "outputs": [],
   "source": [
    "# we can then create a 'gap'\n",
    "# with the same length as word!\n",
    "gap = \" \" * len(word)"
   ]
  },
  {
   "cell_type": "code",
   "execution_count": null,
   "id": "5aafc642-e479-4942-b4ee-2219c6e0357b",
   "metadata": {},
   "outputs": [],
   "source": [
    "print(word, word, word)\n",
    "print(word, word, word)\n",
    "print(word,  gap, word)\n",
    "print(word, word, word)\n",
    "print(word, word, word)"
   ]
  }
 ],
 "metadata": {
  "kernelspec": {
   "display_name": "Python 3 (ipykernel)",
   "language": "python",
   "name": "python3"
  },
  "language_info": {
   "codemirror_mode": {
    "name": "ipython",
    "version": 3
   },
   "file_extension": ".py",
   "mimetype": "text/x-python",
   "name": "python",
   "nbconvert_exporter": "python",
   "pygments_lexer": "ipython3",
   "version": "3.12.2"
  }
 },
 "nbformat": 4,
 "nbformat_minor": 5
}
