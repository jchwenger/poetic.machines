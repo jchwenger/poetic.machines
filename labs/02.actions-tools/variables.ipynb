{
 "cells": [
  {
   "cell_type": "markdown",
   "id": "8b40af28-527e-4441-b9ff-fe046fc46fd7",
   "metadata": {},
   "source": [
    "# Variables & Data Structures"
   ]
  },
  {
   "cell_type": "markdown",
   "id": "3147bfd2-bc94-43ba-8659-ae6a365b69b5",
   "metadata": {},
   "source": [
    "![Eugen Gomringer's *Silencio*](../../pics/Gomringer.silencio.jpg)\n",
    "\n",
    "([source](https://www.instagram.com/p/C4kR0d1uIQ0/))"
   ]
  },
  {
   "cell_type": "markdown",
   "id": "28c16a43-f00a-4b4e-a312-b1fe5ca7fb26",
   "metadata": {},
   "source": [
    "## Using variables"
   ]
  },
  {
   "cell_type": "code",
   "execution_count": 5,
   "id": "4c7734de-a7fd-4bd3-a8af-e1f6e4f20979",
   "metadata": {},
   "outputs": [],
   "source": [
    "line = \"silencio silencio silencio\"\n",
    "line_gap = \"silencio          silencio\""
   ]
  },
  {
   "cell_type": "code",
   "execution_count": 6,
   "id": "164511b9-e034-495d-ae99-6567771f50cf",
   "metadata": {},
   "outputs": [
    {
     "data": {
      "text/plain": [
       "'silencio silencio silencio'"
      ]
     },
     "execution_count": 6,
     "metadata": {},
     "output_type": "execute_result"
    }
   ],
   "source": [
    "line"
   ]
  },
  {
   "cell_type": "code",
   "execution_count": 7,
   "id": "efbb6a11-dcb0-4157-a735-bdcc8531d7d4",
   "metadata": {},
   "outputs": [
    {
     "data": {
      "text/plain": [
       "'silencio          silencio'"
      ]
     },
     "execution_count": 7,
     "metadata": {},
     "output_type": "execute_result"
    }
   ],
   "source": [
    "line_gap"
   ]
  },
  {
   "cell_type": "code",
   "execution_count": 8,
   "id": "98bc7df7-ffe6-4576-bca6-3aedd362643d",
   "metadata": {},
   "outputs": [
    {
     "name": "stdout",
     "output_type": "stream",
     "text": [
      "silencio silencio silencio\n",
      "silencio silencio silencio\n",
      "silencio          silencio\n",
      "silencio silencio silencio\n",
      "silencio silencio silencio\n"
     ]
    }
   ],
   "source": [
    "print(line)\n",
    "print(line)\n",
    "print(line_gap)\n",
    "print(line)\n",
    "print(line)"
   ]
  },
  {
   "cell_type": "markdown",
   "id": "24b89da8-abae-4147-8bc5-978d3b10f43c",
   "metadata": {},
   "source": [
    "## Tuples, Lists"
   ]
  },
  {
   "cell_type": "markdown",
   "id": "8cc22f99-c3ac-47ce-9617-4e67d4bf632b",
   "metadata": {},
   "source": [
    "- tuples: immutable (= 'arrays'), cannot be changed after creation (JavaScript: `const`)\n",
    "- lists: mutable (= 'linked lists')"
   ]
  },
  {
   "cell_type": "code",
   "execution_count": 9,
   "id": "0d1cbb0f-9ade-4d1f-90ed-3cecd8cf0738",
   "metadata": {},
   "outputs": [
    {
     "name": "stdout",
     "output_type": "stream",
     "text": [
      "silencio silencio silencio\n",
      "silencio silencio silencio\n",
      "silencio silencio silencio\n",
      "silencio silencio silencio\n",
      "silencio silencio silencio\n"
     ]
    }
   ],
   "source": [
    "poem_tuple = (line, line, line, line, line)\n",
    "print(\"\\n\".join(poem_tuple))"
   ]
  },
  {
   "cell_type": "code",
   "execution_count": 15,
   "id": "e9ec45f1-22d4-4e89-8c58-b0697c72a301",
   "metadata": {},
   "outputs": [
    {
     "ename": "TypeError",
     "evalue": "'tuple' object does not support item assignment",
     "output_type": "error",
     "traceback": [
      "\u001b[0;31m---------------------------------------------------------------------------\u001b[0m",
      "\u001b[0;31mTypeError\u001b[0m                                 Traceback (most recent call last)",
      "Cell \u001b[0;32mIn[15], line 1\u001b[0m\n\u001b[0;32m----> 1\u001b[0m \u001b[43mpoem_tuple\u001b[49m\u001b[43m[\u001b[49m\u001b[38;5;241;43m2\u001b[39;49m\u001b[43m]\u001b[49m \u001b[38;5;241m=\u001b[39m line_gap\n\u001b[1;32m      2\u001b[0m \u001b[38;5;28mprint\u001b[39m(\u001b[38;5;124m\"\u001b[39m\u001b[38;5;130;01m\\n\u001b[39;00m\u001b[38;5;124m\"\u001b[39m\u001b[38;5;241m.\u001b[39mjoin(poem_tuple))\n",
      "\u001b[0;31mTypeError\u001b[0m: 'tuple' object does not support item assignment"
     ]
    }
   ],
   "source": [
    "poem_tuple[2] = line_gap # fails\n",
    "print(\"\\n\".join(poem_tuple))"
   ]
  },
  {
   "cell_type": "code",
   "execution_count": null,
   "id": "8487893d-9bb5-45ca-9358-16facaffb6da",
   "metadata": {},
   "outputs": [],
   "source": [
    "poem_tuple = (line, line, line, line, line)\n",
    "print(\"\\n\".join(poem_tuple))"
   ]
  },
  {
   "cell_type": "code",
   "execution_count": 13,
   "id": "e2dbb50b-b509-448b-b7da-b659a6efe5b9",
   "metadata": {},
   "outputs": [
    {
     "name": "stdout",
     "output_type": "stream",
     "text": [
      "silencio silencio silencio\n",
      "silencio silencio silencio\n",
      "silencio silencio silencio\n",
      "silencio silencio silencio\n",
      "silencio silencio silencio\n"
     ]
    }
   ],
   "source": [
    "poem_list = [line, line, line, line, line]\n",
    "print(\"\\n\".join(poem_list))"
   ]
  },
  {
   "cell_type": "code",
   "execution_count": 14,
   "id": "158a0ccc-86df-4f71-9a68-80865cee19cd",
   "metadata": {},
   "outputs": [
    {
     "name": "stdout",
     "output_type": "stream",
     "text": [
      "silencio silencio silencio\n",
      "silencio silencio silencio\n",
      "silencio          silencio\n",
      "silencio silencio silencio\n",
      "silencio silencio silencio\n"
     ]
    }
   ],
   "source": [
    "poem_list[2] = line_gap\n",
    "print(\"\\n\".join(poem_list))"
   ]
  },
  {
   "cell_type": "markdown",
   "id": "57706ed0-31f5-4963-ad19-9172b0dc04d9",
   "metadata": {},
   "source": [
    "## Dictionaries"
   ]
  },
  {
   "cell_type": "markdown",
   "id": "512eeafa-ec13-4a4a-9bac-89c094ad8d59",
   "metadata": {},
   "source": [
    "- same as an `object` (typically in JavaScript)\n",
    "- very useful when you need to be able to retrieve elements by a name (\"give me the data under the name `line`\")"
   ]
  },
  {
   "cell_type": "code",
   "execution_count": 61,
   "id": "e4f34b08-07e8-4fd7-be43-db0ffc2ac8fd",
   "metadata": {},
   "outputs": [],
   "source": [
    "lines_dict = {\n",
    "    # name: data, aka key: value\n",
    "    \"line\": line,\n",
    "    \"line_gap\": line_gap\n",
    "}\n",
    "\n",
    "# you can also use `dict()`, passing a list of lists, or tuple of tuples\n",
    "# lines_dict = dict([\n",
    "#     [\"line\", line],\n",
    "#     [\"line_gap\", line_gap]\n",
    "# ])"
   ]
  },
  {
   "cell_type": "code",
   "execution_count": 53,
   "id": "bc7ec0f7-fbd0-46f3-9ceb-8a81fa45adb9",
   "metadata": {},
   "outputs": [
    {
     "data": {
      "text/plain": [
       "dict_keys(['line', 'line_gap'])"
      ]
     },
     "execution_count": 53,
     "metadata": {},
     "output_type": "execute_result"
    }
   ],
   "source": [
    "lines_dict.keys()"
   ]
  },
  {
   "cell_type": "code",
   "execution_count": 54,
   "id": "1c80c1ba-9bee-4291-8a2a-268f709d6832",
   "metadata": {},
   "outputs": [
    {
     "data": {
      "text/plain": [
       "dict_values(['silencio silencio silencio', 'silencio          silencio'])"
      ]
     },
     "execution_count": 54,
     "metadata": {},
     "output_type": "execute_result"
    }
   ],
   "source": [
    "lines_dict.values()"
   ]
  },
  {
   "cell_type": "code",
   "execution_count": 55,
   "id": "e565faea-59d5-4787-9cd2-d7d214396bcb",
   "metadata": {},
   "outputs": [
    {
     "data": {
      "text/plain": [
       "dict_items([('line', 'silencio silencio silencio'), ('line_gap', 'silencio          silencio')])"
      ]
     },
     "execution_count": 55,
     "metadata": {},
     "output_type": "execute_result"
    }
   ],
   "source": [
    "lines_dict.items()"
   ]
  },
  {
   "cell_type": "code",
   "execution_count": 20,
   "id": "a47146ab-0a8b-4a83-899d-059fbe2c10aa",
   "metadata": {},
   "outputs": [
    {
     "name": "stdout",
     "output_type": "stream",
     "text": [
      "silencio silencio silencio\n",
      "silencio silencio silencio\n",
      "silencio          silencio\n",
      "silencio silencio silencio\n",
      "silencio silencio silencio\n"
     ]
    }
   ],
   "source": [
    "print(lines_dict[\"line\"])\n",
    "print(lines_dict[\"line\"])\n",
    "print(lines_dict[\"line_gap\"])\n",
    "print(lines_dict[\"line\"])\n",
    "print(lines_dict[\"line\"])"
   ]
  },
  {
   "cell_type": "markdown",
   "id": "86e1ec9b-a614-40fa-9cbd-77be73e71dbb",
   "metadata": {},
   "source": [
    "## Sets"
   ]
  },
  {
   "cell_type": "markdown",
   "id": "8f87223d-ed4c-4259-9b4f-b6eb8d41fcf7",
   "metadata": {},
   "source": [
    "[doc](https://docs.python.org/3/library/stdtypes.html#set-types-set-frozenset)\n",
    "\n",
    "- only contain **unique** elements!"
   ]
  },
  {
   "cell_type": "code",
   "execution_count": 51,
   "id": "520864b8-553a-4b05-900b-34cb15810799",
   "metadata": {},
   "outputs": [
    {
     "name": "stdout",
     "output_type": "stream",
     "text": [
      "{'s', 'o', 'e', 'i', 'l', 'n', 'c'}\n",
      "{'o', 'd', 'i', 'u', 'r'}\n"
     ]
    }
   ],
   "source": [
    "set1 = set(\"silencio\")\n",
    "set2 = set(\"ruido\")\n",
    "print(set1)\n",
    "print(set2) # all notion of order is removed!"
   ]
  },
  {
   "cell_type": "code",
   "execution_count": 44,
   "id": "756804e9-39a3-4d64-8fbb-c3fc7864d36f",
   "metadata": {},
   "outputs": [
    {
     "name": "stdout",
     "output_type": "stream",
     "text": [
      "False\n",
      "False\n"
     ]
    }
   ],
   "source": [
    "print(\"r\" in set1)\n",
    "print(\"s\" in set2)"
   ]
  },
  {
   "cell_type": "code",
   "execution_count": 45,
   "id": "bba286fc-9741-4a01-90d3-c1b5d4ac9c31",
   "metadata": {},
   "outputs": [
    {
     "data": {
      "text/plain": [
       "{'c', 'e', 'l', 'n', 's'}"
      ]
     },
     "execution_count": 45,
     "metadata": {},
     "output_type": "execute_result"
    }
   ],
   "source": [
    "set1 - set2 # els in set1 that are not in set2"
   ]
  },
  {
   "cell_type": "code",
   "execution_count": 46,
   "id": "9e5fed4e-e1dc-47fc-b0a7-b9538030391f",
   "metadata": {},
   "outputs": [
    {
     "data": {
      "text/plain": [
       "{'i', 'o'}"
      ]
     },
     "execution_count": 46,
     "metadata": {},
     "output_type": "execute_result"
    }
   ],
   "source": [
    "set1 & set2 # intersection"
   ]
  },
  {
   "cell_type": "code",
   "execution_count": 47,
   "id": "b52fc478-bff5-4f44-a030-a82a46a5c69e",
   "metadata": {},
   "outputs": [
    {
     "data": {
      "text/plain": [
       "{'c', 'd', 'e', 'i', 'l', 'n', 'o', 'r', 's', 'u'}"
      ]
     },
     "execution_count": 47,
     "metadata": {},
     "output_type": "execute_result"
    }
   ],
   "source": [
    "set1 | set2 # union"
   ]
  },
  {
   "cell_type": "code",
   "execution_count": 48,
   "id": "a9788de7-2ea3-4af0-aa0d-3399e05c18e2",
   "metadata": {},
   "outputs": [
    {
     "data": {
      "text/plain": [
       "True"
      ]
     },
     "execution_count": 48,
     "metadata": {},
     "output_type": "execute_result"
    }
   ],
   "source": [
    "set(\"ru\") < set2 # is {'r', 'u'} a subset of {'r','u','i','d','o'} ?"
   ]
  },
  {
   "cell_type": "code",
   "execution_count": null,
   "id": "afd56c03-fa08-4a34-82dc-5c9de01cc10a",
   "metadata": {},
   "outputs": [],
   "source": [
    "from IPython.display import YouTubeVideo\n",
    "YouTubeVideo(\"kdz70qt9rrw\", width=853, height=480) # What is the word? - by Samuel Beckett (Cafard_ 2008) "
   ]
  },
  {
   "cell_type": "code",
   "execution_count": 21,
   "id": "e7c3ef84-79c1-4c19-b3a2-0afccd472dd6",
   "metadata": {},
   "outputs": [],
   "source": [
    "# source: https://www.ciaranryan.com/samuel-becketts-last-poem/\n",
    "s = \"\"\"folly –\n",
    "folly for to –\n",
    "for to –\n",
    "what is the word –\n",
    "folly from this –\n",
    "all this –\n",
    "folly from all this –\n",
    "given –\n",
    "folly given all this –\n",
    "seeing –\n",
    "folly seeing all this –\n",
    "this –\n",
    "what is the word –\n",
    "this this –\n",
    "this this here –\n",
    "all this this here –\n",
    "folly given all this –\n",
    "seeing –\n",
    "folly seeing all this this here –\n",
    "for to –\n",
    "what is the word –\n",
    "see –\n",
    "glimpse –\n",
    "seem to glimpse –\n",
    "need to seem to glimpse –\n",
    "folly for to need to seem to glimpse –\n",
    "what –\n",
    "what is the word –\n",
    "and where –\n",
    "folly for to need to seem to glimpse what where –\n",
    "where –\n",
    "what is the word –\n",
    "there –\n",
    "over there –\n",
    "away over there –\n",
    "afar –\n",
    "afar away over there –\n",
    "afaint –\n",
    "afaint afar away over there what –\n",
    "what –\n",
    "what is the word –\n",
    "seeing all this –\n",
    "all this this –\n",
    "all this this here –\n",
    "folly for to see what –\n",
    "glimpse –\n",
    "seem to glimpse –\n",
    "need to seem to glimpse –\n",
    "afaint afar away over there what –\n",
    "folly for to need to seem to glimpse afaint afar away over there what –\n",
    "what –\n",
    "what is the word –\n",
    "\n",
    "what is the word\n",
    "\"\"\""
   ]
  },
  {
   "cell_type": "code",
   "execution_count": 23,
   "id": "2a40dbdf-98b6-4a81-961e-208df9e3601a",
   "metadata": {},
   "outputs": [
    {
     "name": "stdout",
     "output_type": "stream",
     "text": [
      "{'o', 'f', 'e', 't', '\\n', 'l', 'd', 'h', 's', 'a', 'g', 'm', 'p', 'v', 'n', ' ', 'y', 'i', 'w', 'r', '–'}\n"
     ]
    }
   ],
   "source": [
    "print(set(s)) # all unique characters"
   ]
  },
  {
   "cell_type": "code",
   "execution_count": 25,
   "id": "11b86297-08e0-45da-a189-ab2e8454c646",
   "metadata": {},
   "outputs": [
    {
     "name": "stdout",
     "output_type": "stream",
     "text": [
      "{'afaint', 'need', 'given', 'over', 'glimpse', 'see', 'seeing', 'to', 'afar', 'folly', 'from', 'here', 'the', 'for', 'there', 'this', 'away', 'is', 'what', 'and', 'all', 'where', 'seem', 'word', '–'}\n"
     ]
    }
   ],
   "source": [
    "print(set(s.split())) # all unique space/newline-separated words"
   ]
  },
  {
   "cell_type": "code",
   "execution_count": 35,
   "id": "4856f502-83a9-435a-a4c6-b0ddf8ec7a05",
   "metadata": {},
   "outputs": [
    {
     "name": "stdout",
     "output_type": "stream",
     "text": [
      "{'', 'folly for to see what –', 'folly from this –', 'folly for to need to seem to glimpse afaint afar away over there what –', 'what –', 'where –', 'afar away over there –', 'glimpse –', 'afar –', 'all this this –', 'folly for to need to seem to glimpse what where –', 'this this –', 'folly given all this –', 'folly seeing all this this here –', 'and where –', 'this this here –', 'all this –', 'afaint –', 'what is the word –', 'seem to glimpse –', 'afaint afar away over there what –', 'given –', 'folly for to –', 'see –', 'what is the word', 'there –', 'seeing all this –', 'away over there –', 'need to seem to glimpse –', 'folly for to need to seem to glimpse –', 'folly seeing all this –', 'folly –', 'this –', 'folly from all this –', 'for to –', 'seeing –', 'all this this here –', 'over there –'}\n",
      "\n",
      "# lines in original: 55\n",
      "# unique lines: 38\n"
     ]
    }
   ],
   "source": [
    "unique_lines = set(s.split(\"\\n\")) # all unique lines\n",
    "print(unique_lines) \n",
    "\n",
    "print()\n",
    "print(\"# lines in original:\", len(s.split(\"\\n\")))\n",
    "print(\"# unique lines:\", len(unique_lines))"
   ]
  }
 ],
 "metadata": {
  "kernelspec": {
   "display_name": "Python 3 (ipykernel)",
   "language": "python",
   "name": "python3"
  },
  "language_info": {
   "codemirror_mode": {
    "name": "ipython",
    "version": 3
   },
   "file_extension": ".py",
   "mimetype": "text/x-python",
   "name": "python",
   "nbconvert_exporter": "python",
   "pygments_lexer": "ipython3",
   "version": "3.12.2"
  }
 },
 "nbformat": 4,
 "nbformat_minor": 5
}
