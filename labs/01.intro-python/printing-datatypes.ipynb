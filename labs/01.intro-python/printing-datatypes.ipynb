{
 "cells": [
  {
   "cell_type": "markdown",
   "id": "c0be484b-2a9d-4eb1-a952-5fb699f19b3d",
   "metadata": {},
   "source": [
    "# Intro to Python"
   ]
  },
  {
   "cell_type": "markdown",
   "id": "83fc3ddb-f20b-4e85-9e2f-f86f48f80506",
   "metadata": {},
   "source": [
    "## Printing"
   ]
  },
  {
   "cell_type": "markdown",
   "id": "58216aee-fca1-4936-94a6-312820cb96df",
   "metadata": {},
   "source": [
    "[doc](https://docs.python.org/3/library/functions.html#print)"
   ]
  },
  {
   "cell_type": "code",
   "execution_count": null,
   "id": "179e61c4-24b7-4608-83f9-28c10d2085fb",
   "metadata": {},
   "outputs": [],
   "source": [
    "print(\"silencio\")"
   ]
  },
  {
   "cell_type": "code",
   "execution_count": null,
   "id": "d8394fec-49c3-405d-8b09-3b7c804ab577",
   "metadata": {},
   "outputs": [],
   "source": [
    "print(\"silencio\", end=\"!\")"
   ]
  },
  {
   "cell_type": "code",
   "execution_count": null,
   "id": "0a2bf81b-ab73-46fe-a743-92db8a38f295",
   "metadata": {},
   "outputs": [],
   "source": [
    "# add something at the end (space as default in between)\n",
    "print(\"silencio\", \"silencio\", \"silencio\", end=\"!\")"
   ]
  },
  {
   "cell_type": "code",
   "execution_count": null,
   "id": "53d8b905-a1b4-43cb-bd65-e0815d4459cc",
   "metadata": {},
   "outputs": [],
   "source": [
    "print(\"silencio\", \"silencio\", \"silencio\", sep=\",\") # add something in between"
   ]
  },
  {
   "cell_type": "code",
   "execution_count": null,
   "id": "ab9fbd85-61dd-47a3-a199-033f1b1b32f0",
   "metadata": {},
   "outputs": [],
   "source": [
    "print(\"silencio\", \"silencio\", \"silencio\", sep=\"\\n\") # add something in between"
   ]
  },
  {
   "cell_type": "markdown",
   "id": "d2398ecf-d1e9-4c18-883b-a3c5efa62a9b",
   "metadata": {},
   "source": [
    "![Eugen Gomringer's *Silencio*](../../pics/Gomringer.silencio.jpg)\n",
    "\n",
    "([source](https://www.instagram.com/p/C4kR0d1uIQ0/))"
   ]
  },
  {
   "cell_type": "code",
   "execution_count": null,
   "id": "b55f7e78-9691-4dfd-8b13-bdf01ca8dac4",
   "metadata": {},
   "outputs": [],
   "source": [
    "print(\"\"\"\n",
    "silencio silencio silencio\n",
    "silencio silencio silencio\n",
    "silencio          silencio\n",
    "silencio silencio silencio\n",
    "silencio silencio silencio\n",
    "\"\"\")"
   ]
  },
  {
   "cell_type": "code",
   "execution_count": null,
   "id": "fd7779c8-249d-48cf-862a-cfdce1c7900b",
   "metadata": {},
   "outputs": [],
   "source": [
    "print(\"silencio silencio silencio\")\n",
    "print(\"silencio silencio silencio\")\n",
    "print(\"silencio          silencio\")\n",
    "print(\"silencio silencio silencio\")\n",
    "print(\"silencio silencio silencio\")"
   ]
  },
  {
   "cell_type": "markdown",
   "id": "6dee3675-9496-4a72-95d8-6ca6527aeb2d",
   "metadata": {},
   "source": [
    "## Data Types"
   ]
  },
  {
   "cell_type": "code",
   "execution_count": null,
   "id": "8e4debdc-d52f-411a-a1ce-b9f4e80415dd",
   "metadata": {},
   "outputs": [],
   "source": [
    "bin(0)"
   ]
  }
 ],
 "metadata": {
  "kernelspec": {
   "display_name": "Python 3 (ipykernel)",
   "language": "python",
   "name": "python3"
  },
  "language_info": {
   "codemirror_mode": {
    "name": "ipython",
    "version": 3
   },
   "file_extension": ".py",
   "mimetype": "text/x-python",
   "name": "python",
   "nbconvert_exporter": "python",
   "pygments_lexer": "ipython3",
   "version": "3.12.2"
  }
 },
 "nbformat": 4,
 "nbformat_minor": 5
}
