{
 "cells": [
  {
   "cell_type": "markdown",
   "id": "7943ee00-ce61-4010-99f1-d3631d4c91b5",
   "metadata": {},
   "source": [
    "# Repetition & loops"
   ]
  },
  {
   "cell_type": "code",
   "execution_count": null,
   "id": "e3e6cb41-3399-417e-b9bb-4d76c6cc3c30",
   "metadata": {},
   "outputs": [],
   "source": [
    "line = \"silencio silencio silencio\"\n",
    "line_gap = \"silencio          silencio\""
   ]
  },
  {
   "cell_type": "code",
   "execution_count": null,
   "id": "93a4417b-3d02-47f0-9765-9dea6fa53436",
   "metadata": {},
   "outputs": [],
   "source": [
    "line"
   ]
  },
  {
   "cell_type": "code",
   "execution_count": null,
   "id": "a0166de7-1d12-4b4a-8a40-925bc9f77518",
   "metadata": {},
   "outputs": [],
   "source": [
    "line_gap"
   ]
  },
  {
   "cell_type": "code",
   "execution_count": null,
   "id": "54ca0cec-1b8f-423b-9bf0-8af35bdbe90f",
   "metadata": {},
   "outputs": [],
   "source": [
    "print(line)\n",
    "print(line)\n",
    "print(line_gap)\n",
    "print(line)\n",
    "print(line)"
   ]
  },
  {
   "cell_type": "markdown",
   "id": "f6b14d13-e8e3-4229-9c8c-2c130fc96c50",
   "metadata": {},
   "source": [
    "## `for` loop and `range`"
   ]
  },
  {
   "cell_type": "markdown",
   "id": "a17216bc-eef1-409c-bf89-80f510f6445d",
   "metadata": {},
   "source": [
    "[doc](https://docs.python.org/3/tutorial/controlflow.html#the-range-function)"
   ]
  },
  {
   "cell_type": "code",
   "execution_count": null,
   "id": "dda51749-92f9-4125-9109-fc74be3329a2",
   "metadata": {},
   "outputs": [],
   "source": [
    "list(range(3))"
   ]
  },
  {
   "cell_type": "code",
   "execution_count": null,
   "id": "3ee153c8-ec1b-4853-a720-a9e4cb40c9ec",
   "metadata": {},
   "outputs": [],
   "source": [
    "for i in range(3): # from 0 to end\n",
    "    print(i)"
   ]
  },
  {
   "cell_type": "code",
   "execution_count": null,
   "id": "4aaceb58-40bc-4f4a-af71-0cfb5726754f",
   "metadata": {},
   "outputs": [],
   "source": [
    "for i in range(1,4): # define start and end\n",
    "    print(i)    "
   ]
  },
  {
   "cell_type": "code",
   "execution_count": null,
   "id": "7fff77ab-2e99-4971-9841-02d6a759ff1f",
   "metadata": {
    "scrolled": true
   },
   "outputs": [],
   "source": [
    "for i in range(0,6,2): # step size of two\n",
    "    print(i)    "
   ]
  },
  {
   "cell_type": "code",
   "execution_count": null,
   "id": "31cbab35-dda9-4824-bedc-5930dff89941",
   "metadata": {},
   "outputs": [],
   "source": [
    "for i in range(3,0,-1): # - step size goes in reverse\n",
    "    print(i)    "
   ]
  },
  {
   "cell_type": "code",
   "execution_count": null,
   "id": "3e4161b1-59e7-4c4a-9957-b6889441cc69",
   "metadata": {},
   "outputs": [],
   "source": [
    "for i in range(5):\n",
    "    print(line)"
   ]
  },
  {
   "cell_type": "code",
   "execution_count": null,
   "id": "f9cb129c-2366-4679-af86-953260c44bb8",
   "metadata": {},
   "outputs": [],
   "source": [
    "poem = [line, line, line_gap, line, line]\n",
    "for l in poem:\n",
    "    print(l)"
   ]
  },
  {
   "cell_type": "markdown",
   "id": "384f53f1-c06c-4c8d-8299-ae5f3d47c571",
   "metadata": {},
   "source": [
    "## `break`, `continue`, `pass`"
   ]
  },
  {
   "cell_type": "markdown",
   "id": "33f0baae-1742-438e-93d4-a138d670c67e",
   "metadata": {},
   "source": [
    "[`break` & `continue` doc](https://docs.python.org/3/tutorial/controlflow.html#break-and-continue-statements)  \n",
    "[`pass` doc](https://docs.python.org/3/tutorial/controlflow.html#pass-statements)"
   ]
  },
  {
   "cell_type": "code",
   "execution_count": null,
   "id": "88b36712-0df8-4a71-b63a-108a4eaf0347",
   "metadata": {},
   "outputs": [],
   "source": [
    "for l in poem:\n",
    "    print(l)\n",
    "    break # stops the loop"
   ]
  },
  {
   "cell_type": "code",
   "execution_count": null,
   "id": "f7c8c1ae-53bf-40a6-82a2-01cf2eeedcc3",
   "metadata": {},
   "outputs": [],
   "source": [
    "for l in poem:\n",
    "    print(\"about to print a poem line:\")\n",
    "    continue # skip to the next iteration\n",
    "    print(l) # (this never gets printed)"
   ]
  },
  {
   "cell_type": "code",
   "execution_count": null,
   "id": "6a2f8c49-2240-4d8b-9dba-324c0d06ef82",
   "metadata": {},
   "outputs": [],
   "source": [
    "for l in poem:\n",
    "    pass # does nothing, helpful sometimes when you need a placeholder"
   ]
  },
  {
   "cell_type": "markdown",
   "id": "ff5af747-b6f9-49ff-b1bf-02bd35dbf125",
   "metadata": {},
   "source": [
    "## `while` loop"
   ]
  },
  {
   "cell_type": "markdown",
   "id": "ba972f65-21ea-46a7-a089-0876db5126c9",
   "metadata": {},
   "source": [
    "[doc](https://docs.python.org/3/reference/compound_stmts.html#while)"
   ]
  },
  {
   "cell_type": "code",
   "execution_count": null,
   "id": "64a600b3-c030-4834-a646-62dbe3fa6e3c",
   "metadata": {},
   "outputs": [],
   "source": [
    "i = 0\n",
    "while i < 5:\n",
    "    print(line)\n",
    "    i += 1"
   ]
  },
  {
   "cell_type": "code",
   "execution_count": null,
   "id": "d35f08c9-3733-4ba8-9db7-3053348bd320",
   "metadata": {},
   "outputs": [],
   "source": [
    "# how to create an infinite loop?\n",
    "while True:\n",
    "    print(\"repeating forever!\")\n",
    "    break # if you comment this out, this will run for ever"
   ]
  },
  {
   "cell_type": "markdown",
   "id": "924cd86d-3964-4e23-a43b-786ae012d28a",
   "metadata": {},
   "source": [
    "## Nesting loops"
   ]
  },
  {
   "cell_type": "code",
   "execution_count": null,
   "id": "ecc1518e-a6aa-47dd-a7f3-397ad87b19f6",
   "metadata": {},
   "outputs": [],
   "source": [
    "word = \"silencio\"\n",
    "\n",
    "# loop 1\n",
    "for i in range(5):\n",
    "    line = \"\"\n",
    "    # loop 2\n",
    "    for j in range(3):\n",
    "        line += word + \" \"\n",
    "    print(line)"
   ]
  },
  {
   "cell_type": "markdown",
   "id": "ef07d754-ac6e-4db4-8a3d-f7b5fbd6d1e4",
   "metadata": {},
   "source": [
    "## Comprehensions"
   ]
  },
  {
   "cell_type": "markdown",
   "id": "08735bf5-70f3-436c-8eba-2e5c02b392f9",
   "metadata": {},
   "source": [
    "[tutorial](https://book.pythontips.com/en/latest/comprehensions.html)"
   ]
  },
  {
   "cell_type": "code",
   "execution_count": null,
   "id": "373970d2-ec04-464c-8da5-a952f5e5f506",
   "metadata": {},
   "outputs": [],
   "source": [
    "[print(l) for l in poem]\n",
    "\n",
    "# # same as\n",
    "# for l in poem:\n",
    "#     print(l)\n",
    "\n",
    "# note that by doing that we implicitly create a list,\n",
    "# the [None, None, None, None, None] – print() returns None..."
   ]
  },
  {
   "cell_type": "code",
   "execution_count": null,
   "id": "9af5c3e0-bfd1-4f50-b540-71f061a52872",
   "metadata": {},
   "outputs": [],
   "source": [
    "# NOTE: see how the multiple loops in the comprehension are written\n",
    "# in the same order as in the normal loop!\n",
    "# also, by convention, we use `_` for a variable we don't use\n",
    "# (here I just remove the [None, ...] output\n",
    "_ = [print(l) for _ in range(3) for l in poem]\n",
    "\n",
    "# # same as\n",
    "# for _ in range(3):\n",
    "#     for l in poem:\n",
    "#         print(l)"
   ]
  }
 ],
 "metadata": {
  "kernelspec": {
   "display_name": "Python 3 (ipykernel)",
   "language": "python",
   "name": "python3"
  },
  "language_info": {
   "codemirror_mode": {
    "name": "ipython",
    "version": 3
   },
   "file_extension": ".py",
   "mimetype": "text/x-python",
   "name": "python",
   "nbconvert_exporter": "python",
   "pygments_lexer": "ipython3",
   "version": "3.12.2"
  }
 },
 "nbformat": 4,
 "nbformat_minor": 5
}
