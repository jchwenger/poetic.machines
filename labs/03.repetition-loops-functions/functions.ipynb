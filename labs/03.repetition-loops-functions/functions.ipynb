{
 "cells": [
  {
   "cell_type": "markdown",
   "id": "ce0e469a-e837-450f-8a51-e4199cae1f34",
   "metadata": {},
   "source": [
    "# Functions"
   ]
  },
  {
   "cell_type": "markdown",
   "id": "a81fc741-67bb-4345-8a01-c3bcbcf5e4d3",
   "metadata": {},
   "source": [
    "[RealPython tutorial](https://realpython.com/defining-your-own-python-function/)  \n",
    "[Official Python tutorial](https://docs.python.org/3/tutorial/controlflow.html#defining-functions)"
   ]
  },
  {
   "cell_type": "markdown",
   "id": "bae96471-04af-438e-a6b7-51775089b689",
   "metadata": {},
   "source": [
    "## Define functions, arguments, return values"
   ]
  },
  {
   "cell_type": "markdown",
   "id": "e48df50f-a127-40c7-8b58-b13060b0845f",
   "metadata": {},
   "source": [
    "- arguments\n",
    "- return values"
   ]
  },
  {
   "cell_type": "code",
   "execution_count": null,
   "id": "e28dee42-dc7b-4ceb-809c-397f924d2b8f",
   "metadata": {},
   "outputs": [],
   "source": [
    "# define function with `def` + `name` + `()` + :\n",
    "# the body (\"inside\") of the function is *indented*\n",
    "# (no {} like in JavaScript)\n",
    "def silencio():\n",
    "    print(\"from the depth of the silencio function, I say unto thee:\")\n",
    "          \n",
    "    # same indent, we're still inside the function  \n",
    "    print()\n",
    "    print()\n",
    "    print()\n",
    "    print(\"silencio\")\n",
    "    \n",
    "# now we're outside the function\n",
    "\n",
    "# the definition of a function is like a piece of code:\n",
    "# it does nothing until you run it!\n",
    "\n",
    "# here is how you run (aka call) a function:\n",
    "silencio()"
   ]
  },
  {
   "cell_type": "code",
   "execution_count": null,
   "id": "03cdb766-b3e9-4ebe-8ae1-c206b3a8ab7e",
   "metadata": {},
   "outputs": [],
   "source": [
    "# we can make functions flexible by passing\n",
    "def say_something(something):  # <- `something` is the name, inside the function,\n",
    "    print(something)           #     of what we will give the function from the outside\n",
    "\n",
    "say_something(\"silencio\")      # <- `something` is now \"silencio\"\n",
    "say_something(\"say something\") # <- `something` is now \"say something\""
   ]
  },
  {
   "cell_type": "code",
   "execution_count": null,
   "id": "b4b0606a-e85c-4d6c-b707-9a7fc03d8508",
   "metadata": {},
   "outputs": [],
   "source": [
    "def say_something_then_something_else(something, something_else):\n",
    "    print(something)\n",
    "    print(something_else)\n",
    "\n",
    "say_something_then_something_else(\"I say unto thee:\", \"silencio\")"
   ]
  },
  {
   "cell_type": "code",
   "execution_count": null,
   "id": "217d506f-9ebb-4cea-8b66-7947c103af6b",
   "metadata": {},
   "outputs": [],
   "source": [
    "text1 = \"I say unto thee:\"\n",
    "text2 = \"silencio\"\n",
    "\n",
    "say_something_then_something_else(text1, text2)"
   ]
  },
  {
   "cell_type": "code",
   "execution_count": null,
   "id": "d56d7e25-85ee-4615-86fd-83b1d3626813",
   "metadata": {},
   "outputs": [],
   "source": [
    "# you can use *keyword arguments* (kwargs) as well, specifying which is which\n",
    "\n",
    "text1 = \"silencio before\"\n",
    "text2 = \"silencio after\"\n",
    "\n",
    "say_something_then_something_else(something=text1, something_else=text2)"
   ]
  },
  {
   "cell_type": "code",
   "execution_count": null,
   "id": "c965ce3c-bc15-4011-ae03-8d300859ffe9",
   "metadata": {},
   "outputs": [],
   "source": [
    "say_something_then_something_else(something=text2, something_else=text1)"
   ]
  },
  {
   "cell_type": "code",
   "execution_count": null,
   "id": "fb65b477-6ebc-48d1-b77f-dbaa83d50348",
   "metadata": {},
   "outputs": [],
   "source": [
    "# note: you can mix and match (args and kwargs, but you cannot have args *after* kwargs)\n",
    "say_something_then_something_else(text1, something_else=text2)"
   ]
  },
  {
   "cell_type": "code",
   "execution_count": null,
   "id": "b3a52cf7-207f-4c2b-a2da-df33b2fb22a2",
   "metadata": {},
   "outputs": [],
   "source": [
    "# since `something_else` is given explicitly, the arg with text2 will be\n",
    "# interpreted to be the other one\n",
    "say_something_then_something_else(text2, something_else=text1)"
   ]
  },
  {
   "cell_type": "markdown",
   "id": "534bba17-c018-412a-9f31-a8c55e25d808",
   "metadata": {},
   "source": [
    "## Default arguments"
   ]
  },
  {
   "cell_type": "code",
   "execution_count": null,
   "id": "302d88c5-be0f-4a4c-ba52-8425faa1ebdd",
   "metadata": {},
   "outputs": [],
   "source": [
    "# if nothing is given to this function, it falls back to \"silencio\"\n",
    "def divulge_toudest_secret(answer=\"silencio\"):\n",
    "    print(answer)\n",
    "\n",
    "divulge_loudest_secret()"
   ]
  },
  {
   "cell_type": "code",
   "execution_count": null,
   "id": "2ffdb71d-c75e-4445-b762-3fcddabdb6d2",
   "metadata": {},
   "outputs": [],
   "source": [
    "divulge_loudest_secret(\"ruido\")"
   ]
  },
  {
   "cell_type": "markdown",
   "id": "f6676732-09ff-4c17-94f3-6935fbf4ea99",
   "metadata": {},
   "source": [
    "## Scope"
   ]
  },
  {
   "cell_type": "code",
   "execution_count": null,
   "id": "5f3d184e-092d-4919-b84d-097de07d2083",
   "metadata": {},
   "outputs": [],
   "source": [
    "word = \"silencio\"\n",
    "\n",
    "def print_local_word():\n",
    "    # inside a function, we are in \"another world\", the `scope` of the function\n",
    "    # if I define `word` here, it does not change `word` outside!\n",
    "    word = \"ruido\" # this is *local*\n",
    "    print(f\"What is the word here? {word}!\")\n",
    "    \n",
    "print(f\"What is the word here? {word}\")\n",
    "print_local_word()\n",
    "print(f\"What is the word here? {word}...\")"
   ]
  },
  {
   "cell_type": "code",
   "execution_count": null,
   "id": "a3f40390-d6a9-4a4d-a678-fbd37039200b",
   "metadata": {},
   "outputs": [],
   "source": [
    "word = \"silencio\"\n",
    "\n",
    "def print_global_word():\n",
    "    # however, I can always *read* global variables\n",
    "    print(f\"What is the word here? {word}!\")\n",
    "    \n",
    "print(f\"What is the word here? {word}\")\n",
    "print_global_word()\n",
    "print(f\"What is the word here? {word}...\")"
   ]
  },
  {
   "cell_type": "code",
   "execution_count": null,
   "id": "72b7bb41-300d-4275-bc0a-51b57b835148",
   "metadata": {},
   "outputs": [],
   "source": [
    "word = \"silencio\"\n",
    "\n",
    "def print_poem():\n",
    "    # finally, if I want to *modify* a global variable,\n",
    "    # I must declare it as such:\n",
    "    global word\n",
    "    word = \"ruido\"\n",
    "    print(f\"What is the word here? {word}!\")\n",
    "    \n",
    "print(f\"What is the word here? {word}\")\n",
    "print_poem()\n",
    "print(f\"What is the word here? {word}...\") # the global variable has been modified!"
   ]
  },
  {
   "cell_type": "markdown",
   "id": "b360bf16-81b9-4e69-9087-aa419e58963d",
   "metadata": {},
   "source": [
    "[namespace tutorial](https://realpython.com/python-namespace)"
   ]
  },
  {
   "cell_type": "markdown",
   "id": "38f76ba5-57a8-4277-9b56-8b10c9ccdb2e",
   "metadata": {},
   "source": [
    "## Built-in functions"
   ]
  },
  {
   "cell_type": "code",
   "execution_count": null,
   "id": "f58ac2e2-3faa-4ada-a66d-24a3449927b0",
   "metadata": {},
   "outputs": [],
   "source": []
  },
  {
   "cell_type": "markdown",
   "id": "5ce3e32f-9866-460d-938a-354437ee150d",
   "metadata": {},
   "source": [
    "## `lambda` functions, aka functions on the fly"
   ]
  },
  {
   "cell_type": "markdown",
   "id": "58fff45d-ee8b-42dd-86d0-e7bb3228c3ad",
   "metadata": {},
   "source": [
    "[tutorial](https://realpython.com/python-lambda/)"
   ]
  },
  {
   "cell_type": "code",
   "execution_count": null,
   "id": "c2aa42b7-f50a-4c75-87f6-1f56efbafa36",
   "metadata": {},
   "outputs": [],
   "source": [
    "# sometimes it can be useful to define a function 'on the go'\n"
   ]
  },
  {
   "cell_type": "markdown",
   "id": "d4446055-8b5f-4004-a0fc-9a42993b9f1d",
   "metadata": {},
   "source": [
    "## Functions are first-class citizens in Python"
   ]
  },
  {
   "cell_type": "code",
   "execution_count": null,
   "id": "47bb0412-bdca-4481-8a6c-be3c11be1aae",
   "metadata": {},
   "outputs": [],
   "source": [
    "def silencio():\n",
    "    print(\"silencio\")\n",
    "\n",
    "def ruido():\n",
    "    print(\"ruido\")\n",
    "\n",
    "# the function name is the same as any variable\n",
    "s = silencio\n",
    "\n",
    "s()"
   ]
  },
  {
   "cell_type": "code",
   "execution_count": null,
   "id": "9ac3be3c-b599-46ac-b177-f2db2389e3a2",
   "metadata": {},
   "outputs": [],
   "source": [
    "# NOTE: THIS MEANS YOU CAN OVERWRITE THE LANGUAGE ITSELF ☠️\n",
    "list = ruido\n",
    "list() # we have just overwritten the list operator\n",
    "\n",
    "a = {1,3,4,5}\n",
    "list(a) # NOW I CANNOT TURN A SET INTO A LIST ANY MORE"
   ]
  },
  {
   "cell_type": "code",
   "execution_count": null,
   "id": "a24465a5-bfa8-48a8-903b-341d69953786",
   "metadata": {},
   "outputs": [],
   "source": [
    "# to restore, just delete the variable\n",
    "# https://stackoverflow.com/a/17152796\n",
    "del list\n",
    "list(a)"
   ]
  },
  {
   "cell_type": "code",
   "execution_count": null,
   "id": "801d13d2-f3f2-4a04-a51c-0c6e5d5dad5c",
   "metadata": {},
   "outputs": [],
   "source": [
    "# define a function that takes in another function\n",
    "def poetic_column_with_holes(func, size, holes=None):\n",
    "    for i in range(size):\n",
    "        # if at one of the indices for the hole,\n",
    "        # print an empty line\n",
    "        if i in holes:\n",
    "            print()\n",
    "            continue\n",
    "        # otherwise print\n",
    "        func()"
   ]
  },
  {
   "cell_type": "code",
   "execution_count": null,
   "id": "99b35fa4-a0eb-4f78-a54d-ae5eeac8bbc2",
   "metadata": {},
   "outputs": [],
   "source": [
    "poetic_column_with_holes(silencio, 9, holes=[4])"
   ]
  },
  {
   "cell_type": "code",
   "execution_count": null,
   "id": "0fdd1934-b871-4655-8b27-b6b446cb59a9",
   "metadata": {},
   "outputs": [],
   "source": [
    "poetic_column_with_holes(ruido, 8, holes=[2,5])"
   ]
  },
  {
   "cell_type": "markdown",
   "id": "2a90da86-99e4-4e88-847b-e82efebd1ad6",
   "metadata": {},
   "source": [
    "## Advanced: decorators"
   ]
  },
  {
   "cell_type": "markdown",
   "id": "4a90499c-2afa-4e8e-8c41-c8c68ef26928",
   "metadata": {},
   "source": [
    "[RealPython tutorail primer](https://realpython.com/primer-on-python-decorators/)  \n",
    "[RealPython tutorial (video)](https://realpython.com/courses/python-decorators-101/)  "
   ]
  },
  {
   "cell_type": "code",
   "execution_count": null,
   "id": "3590c126-8d15-482f-8d31-882ba7560159",
   "metadata": {},
   "outputs": [],
   "source": [
    "def silencio():\n",
    "    word = \"silencio\"\n",
    "    blank = \" \" * len(word)\n",
    "    for i in range(5):\n",
    "        if i == 2:\n",
    "            print(\" \".join([word, blank, word]))\n",
    "        else:\n",
    "            print(\" \".join([word, word, word]))\n",
    "\n",
    "silencio()"
   ]
  },
  {
   "cell_type": "code",
   "execution_count": null,
   "id": "0499e174-4c6e-4c51-b2dc-93c6671d9c42",
   "metadata": {},
   "outputs": [],
   "source": [
    "def i_say_unto_thee(func):\n",
    "    def biblical_wrapper():\n",
    "        print(\"I say unto thee:\")\n",
    "        print()\n",
    "        func()\n",
    "        print()\n",
    "        print(\"Heed my word, mere mortal!\")\n",
    "\n",
    "    return biblical_wrapper"
   ]
  },
  {
   "cell_type": "code",
   "execution_count": null,
   "id": "789307ab-2f61-43ba-a6d7-7b239e9cbfde",
   "metadata": {},
   "outputs": [],
   "source": [
    "wrapped_silencio = i_say_unto_thee(silencio)\n",
    "wrapped_silencio()"
   ]
  },
  {
   "cell_type": "code",
   "execution_count": null,
   "id": "9008090a-2bfe-4ceb-94d5-658220c64f17",
   "metadata": {},
   "outputs": [],
   "source": [
    "# using the @ syntax is the same as above\n",
    "@i_say_unto_thee\n",
    "def ruido():\n",
    "    word = \"ruido\"\n",
    "    blank = \" \" * len(word)\n",
    "    for i in range(5):\n",
    "        if i % 2 == 0:\n",
    "            print(\" \".join([blank, word, blank]))\n",
    "        else:\n",
    "            print(\" \".join([word, blank, word]))\n",
    "\n",
    "# now the `ruido` function is automatically wrapped\n",
    "ruido()"
   ]
  }
 ],
 "metadata": {
  "kernelspec": {
   "display_name": "Python 3 (ipykernel)",
   "language": "python",
   "name": "python3"
  },
  "language_info": {
   "codemirror_mode": {
    "name": "ipython",
    "version": 3
   },
   "file_extension": ".py",
   "mimetype": "text/x-python",
   "name": "python",
   "nbconvert_exporter": "python",
   "pygments_lexer": "ipython3",
   "version": "3.12.2"
  }
 },
 "nbformat": 4,
 "nbformat_minor": 5
}
