{
 "cells": [
  {
   "cell_type": "markdown",
   "id": "8b40af28-527e-4441-b9ff-fe046fc46fd7",
   "metadata": {},
   "source": [
    "# Data Structures: Tuples, Lists"
   ]
  },
  {
   "cell_type": "markdown",
   "id": "e9b5bcf4-f574-44ea-9cf8-78a73e2caf70",
   "metadata": {},
   "source": [
    "[doc](https://docs.python.org/3/library/stdtypes.html#sequence-types-list-tuple-range)\n",
    "\n",
    "- tuples: immutable (= 'arrays'), cannot be changed after creation (JavaScript: `const`)\n",
    "- lists: mutable (= 'linked lists')"
   ]
  },
  {
   "cell_type": "code",
   "execution_count": null,
   "id": "4c7734de-a7fd-4bd3-a8af-e1f6e4f20979",
   "metadata": {},
   "outputs": [],
   "source": [
    "line = \"silencio silencio silencio\"\n",
    "line_gap = \"silencio          silencio\""
   ]
  },
  {
   "cell_type": "code",
   "execution_count": null,
   "id": "0d1cbb0f-9ade-4d1f-90ed-3cecd8cf0738",
   "metadata": {},
   "outputs": [],
   "source": [
    "poem_tuple = (line, line, line, line, line)\n",
    "print(\"\\n\".join(poem_tuple))"
   ]
  },
  {
   "cell_type": "code",
   "execution_count": null,
   "id": "e9ec45f1-22d4-4e89-8c58-b0697c72a301",
   "metadata": {},
   "outputs": [],
   "source": [
    "poem_tuple[2] = line_gap # fails\n",
    "print(\"\\n\".join(poem_tuple))"
   ]
  },
  {
   "cell_type": "code",
   "execution_count": null,
   "id": "8487893d-9bb5-45ca-9358-16facaffb6da",
   "metadata": {},
   "outputs": [],
   "source": [
    "poem_tuple = (line, line, line, line, line)\n",
    "print(\"\\n\".join(poem_tuple))"
   ]
  },
  {
   "cell_type": "code",
   "execution_count": null,
   "id": "e2dbb50b-b509-448b-b7da-b659a6efe5b9",
   "metadata": {},
   "outputs": [],
   "source": [
    "poem_list = [line, line, line, line, line]\n",
    "print(\"\\n\".join(poem_list))"
   ]
  },
  {
   "cell_type": "code",
   "execution_count": null,
   "id": "158a0ccc-86df-4f71-9a68-80865cee19cd",
   "metadata": {},
   "outputs": [],
   "source": [
    "poem_list[2] = line_gap\n",
    "print(\"\\n\".join(poem_list))"
   ]
  }
 ],
 "metadata": {
  "kernelspec": {
   "display_name": "Python 3 (ipykernel)",
   "language": "python",
   "name": "python3"
  },
  "language_info": {
   "codemirror_mode": {
    "name": "ipython",
    "version": 3
   },
   "file_extension": ".py",
   "mimetype": "text/x-python",
   "name": "python",
   "nbconvert_exporter": "python",
   "pygments_lexer": "ipython3",
   "version": "3.12.2"
  }
 },
 "nbformat": 4,
 "nbformat_minor": 5
}
