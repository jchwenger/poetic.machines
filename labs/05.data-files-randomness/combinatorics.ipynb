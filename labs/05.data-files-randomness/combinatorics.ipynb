{
 "cells": [
  {
   "cell_type": "markdown",
   "id": "95b0075d-5be6-4adf-8495-a9752087886e",
   "metadata": {},
   "source": [
    "# Combinatorics\n"
   ]
  },
  {
   "cell_type": "markdown",
   "id": "4ccbb25b-c4c5-47a5-8b01-7c73b761d871",
   "metadata": {},
   "source": [
    "[doc](https://docs.python.org/3/library/itertools.html)  \n",
    "[tutorial](https://realpython.com/python-itertools/)  "
   ]
  },
  {
   "cell_type": "code",
   "execution_count": 10,
   "id": "97bc77fd-262d-46df-ad52-925662a36140",
   "metadata": {},
   "outputs": [],
   "source": [
    "from itertools import combinations\n",
    "from itertools import permutations\n",
    "from itertools import product"
   ]
  },
  {
   "cell_type": "code",
   "execution_count": null,
   "id": "777d9202-7f3d-421f-ad3d-33d351fc3763",
   "metadata": {},
   "outputs": [],
   "source": [
    "list_a = [\"earth\", \"sun\", \"moon\", \"mars\", \"venus\", \"mercury\"]\n",
    "list_b = [\"cat\", \"dog\", \"hamster\", \"mouse\", \"rat\", \"parrot\", \"raven\"]"
   ]
  },
  {
   "cell_type": "markdown",
   "id": "43d9c91c-3a79-42ea-8968-b5e9bc4c2824",
   "metadata": {},
   "source": [
    "## Combinations"
   ]
  },
  {
   "attachments": {},
   "cell_type": "markdown",
   "id": "779b0074-ef40-45d7-99ce-a2fdfc1d2021",
   "metadata": {},
   "source": [
    "[doc](https://docs.python.org/3/library/itertools.html#itertools.combinations)\n",
    "\n",
    "Order does not matter!\n",
    "\n",
    "`(a,b) = (b,a)` -> counted only once!"
   ]
  },
  {
   "cell_type": "code",
   "execution_count": null,
   "id": "1880e2a4-8271-425d-af13-b03cf4c49552",
   "metadata": {},
   "outputs": [],
   "source": [
    "list(combinations(list_a, 2))"
   ]
  },
  {
   "cell_type": "code",
   "execution_count": null,
   "id": "654fcf55-3cfb-4ab2-a793-710550c574b9",
   "metadata": {
    "scrolled": true
   },
   "outputs": [],
   "source": [
    "list(combinations(list_b, 3))"
   ]
  },
  {
   "cell_type": "markdown",
   "id": "90645436-319a-4c4e-8fef-ab6e24223fb0",
   "metadata": {},
   "source": [
    "## Permutation"
   ]
  },
  {
   "cell_type": "markdown",
   "id": "9799ec28-92e0-4ada-812f-92ea50b8bbe1",
   "metadata": {},
   "source": [
    "[doc](https://docs.python.org/3/library/itertools.html#itertools.permutations)\n",
    "\n",
    "Order matters!\n",
    "\n",
    "`(a,b) ≠ (b,a)`"
   ]
  },
  {
   "cell_type": "code",
   "execution_count": null,
   "id": "2b0e24e7-143c-4e29-9eac-4276ec904e1b",
   "metadata": {
    "scrolled": true
   },
   "outputs": [],
   "source": [
    "list(permutations(list_a, 2))"
   ]
  },
  {
   "cell_type": "code",
   "execution_count": null,
   "id": "a21ada94-2359-4816-82fa-03c6fb3d3b56",
   "metadata": {
    "scrolled": true
   },
   "outputs": [],
   "source": [
    "list(permutations(list_a))\n",
    "# all possible orderings of all the elements\n",
    "# equivalent to permutations(list_a, 6) or permutations(list_a, len(list_a))"
   ]
  },
  {
   "cell_type": "markdown",
   "id": "97f0eda5-8065-4289-a9c1-c7d34d843671",
   "metadata": {},
   "source": [
    "## Product"
   ]
  },
  {
   "cell_type": "markdown",
   "id": "53020602-0b44-4fad-b235-3c74f69ee38e",
   "metadata": {},
   "source": [
    "[doc](https://docs.python.org/3/library/itertools.html#itertools.product)\n",
    "\n",
    "Same as a nested for loop:\n",
    "\n",
    "`(a,b), (0,1) -> (a,0),(a,1),(b,0),(b,1)`"
   ]
  },
  {
   "cell_type": "code",
   "execution_count": null,
   "id": "bb90ae7f-a686-4de0-842f-225ef1ca05a6",
   "metadata": {
    "scrolled": true
   },
   "outputs": [],
   "source": [
    "list(product(list_a, list_b))"
   ]
  }
 ],
 "metadata": {
  "kernelspec": {
   "display_name": "Python 3 (ipykernel)",
   "language": "python",
   "name": "python3"
  },
  "language_info": {
   "codemirror_mode": {
    "name": "ipython",
    "version": 3
   },
   "file_extension": ".py",
   "mimetype": "text/x-python",
   "name": "python",
   "nbconvert_exporter": "python",
   "pygments_lexer": "ipython3",
   "version": "3.12.11"
  }
 },
 "nbformat": 4,
 "nbformat_minor": 5
}
