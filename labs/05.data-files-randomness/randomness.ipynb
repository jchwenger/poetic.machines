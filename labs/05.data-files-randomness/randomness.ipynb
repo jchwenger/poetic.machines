{
 "cells": [
  {
   "cell_type": "markdown",
   "id": "c785d43c-de8d-4625-b45c-ea36c5930237",
   "metadata": {},
   "source": [
    "# Randomness"
   ]
  },
  {
   "cell_type": "markdown",
   "id": "cd87e762-5265-4f69-9a96-45b7b0f8f086",
   "metadata": {},
   "source": [
    "[doc](https://docs.python.org/3/library/random.html)"
   ]
  },
  {
   "cell_type": "code",
   "execution_count": 2,
   "id": "141e8a7e-94ec-46dd-9988-a253f2a1be47",
   "metadata": {},
   "outputs": [],
   "source": [
    "import random"
   ]
  },
  {
   "cell_type": "code",
   "execution_count": null,
   "id": "1eae5d9e-a532-4184-9df0-454d147ed48d",
   "metadata": {},
   "outputs": [],
   "source": [
    "random.seed(42)"
   ]
  },
  {
   "cell_type": "markdown",
   "id": "ac757523-3ce9-4596-92a8-be7a7dd55198",
   "metadata": {},
   "source": [
    "## Integer"
   ]
  },
  {
   "cell_type": "markdown",
   "id": "4d838f46-b2c8-4745-9914-d102e546d5a6",
   "metadata": {},
   "source": [
    "[doc](https://docs.python.org/3/library/random.html#functions-for-integers)"
   ]
  },
  {
   "cell_type": "code",
   "execution_count": null,
   "id": "136cbace-5525-4aaf-a900-23c7d858f81a",
   "metadata": {},
   "outputs": [],
   "source": [
    "random.randint(0, 10)"
   ]
  },
  {
   "cell_type": "markdown",
   "id": "0e104b3b-ff1b-4666-87c0-43c394c21e53",
   "metadata": {},
   "source": [
    "## Sequences"
   ]
  },
  {
   "cell_type": "markdown",
   "id": "1a19f01c-8d77-44ad-98ca-3e1563e908c5",
   "metadata": {},
   "source": [
    "[doc](https://docs.python.org/3/library/random.html#functions-for-sequences)"
   ]
  },
  {
   "cell_type": "code",
   "execution_count": 8,
   "id": "8f233956-dbbe-4c0d-948d-1e5ea8c1e216",
   "metadata": {},
   "outputs": [
    {
     "data": {
      "text/plain": [
       "6"
      ]
     },
     "execution_count": 8,
     "metadata": {},
     "output_type": "execute_result"
    }
   ],
   "source": [
    "a = [1,2,3,4,5,6,7]\n",
    "random.choice(a)"
   ]
  },
  {
   "cell_type": "code",
   "execution_count": 10,
   "id": "455187c6-932d-40d2-b08c-9a16abe5abd1",
   "metadata": {},
   "outputs": [
    {
     "data": {
      "text/plain": [
       "[1, 5, 2, 3, 4, 7, 6]"
      ]
     },
     "execution_count": 10,
     "metadata": {},
     "output_type": "execute_result"
    }
   ],
   "source": [
    "random.shuffle(a) # does that in-place!\n",
    "a"
   ]
  },
  {
   "cell_type": "code",
   "execution_count": 16,
   "id": "1ceb6ea5-ce9e-42b2-9cbb-7d98e01021cc",
   "metadata": {},
   "outputs": [
    {
     "data": {
      "text/plain": [
       "[3, 1, 7, 2]"
      ]
     },
     "execution_count": 16,
     "metadata": {},
     "output_type": "execute_result"
    }
   ],
   "source": [
    "# samples without replacement (like taking balls out of a bag\n",
    "# without putting back the ball you just drew when drawing again)\n",
    "random.sample(a, k=4)"
   ]
  },
  {
   "cell_type": "code",
   "execution_count": 23,
   "id": "e9550737-0cac-4e15-89c1-b94b67877625",
   "metadata": {},
   "outputs": [
    {
     "data": {
      "text/plain": [
       "['speak', 'speak', 'speak', 'sing', 'sing']"
      ]
     },
     "execution_count": 23,
     "metadata": {},
     "output_type": "execute_result"
    }
   ],
   "source": [
    "random.sample(\n",
    "    [\"speak\", \"sing\"],\n",
    "    counts=[4, 2],      # construct the total options: 4 x \"speak\", 2 x \"sing\"\n",
    "    k=5                 # five actions samplesd from that total\n",
    ")"
   ]
  },
  {
   "cell_type": "code",
   "execution_count": 26,
   "id": "cdb5c3e8-87e3-4a93-bdf6-dbb69d41e1c2",
   "metadata": {},
   "outputs": [
    {
     "data": {
      "text/plain": [
       "[5987716,\n",
       " 8840460,\n",
       " 1203092,\n",
       " 7818569,\n",
       " 8192252,\n",
       " 499575,\n",
       " 2034791,\n",
       " 4345052,\n",
       " 884488,\n",
       " 8139232]"
      ]
     },
     "execution_count": 26,
     "metadata": {},
     "output_type": "execute_result"
    }
   ],
   "source": [
    "# to sample efficiently from very large numbers\n",
    "random.sample(range(10000000), k=10)"
   ]
  },
  {
   "cell_type": "markdown",
   "id": "a0a2a69c-ae1d-43b6-96ef-3e425d2f2962",
   "metadata": {},
   "source": [
    "## Floats"
   ]
  },
  {
   "cell_type": "markdown",
   "id": "c7818b74-8b65-4529-bc90-32ad85d5bf3d",
   "metadata": {},
   "source": [
    "[doc](https://docs.python.org/3/library/random.html#real-valued-distributions)"
   ]
  },
  {
   "cell_type": "code",
   "execution_count": 3,
   "id": "791e3908-d2c7-403f-a854-76104071114f",
   "metadata": {},
   "outputs": [
    {
     "data": {
      "text/plain": [
       "0.49690517139205337"
      ]
     },
     "execution_count": 3,
     "metadata": {},
     "output_type": "execute_result"
    }
   ],
   "source": [
    "random.random() # between 0 and 1"
   ]
  },
  {
   "cell_type": "code",
   "execution_count": 17,
   "id": "238a26f9-59b4-4376-ab9d-175d22c4fb13",
   "metadata": {},
   "outputs": [
    {
     "data": {
      "text/plain": [
       "2.1923872089656236"
      ]
     },
     "execution_count": 17,
     "metadata": {},
     "output_type": "execute_result"
    }
   ],
   "source": [
    "random.uniform(2, 4) # between 2 and 4"
   ]
  },
  {
   "cell_type": "code",
   "execution_count": 21,
   "id": "4a0dbc8a-b649-4a01-87f4-28337e8e035f",
   "metadata": {},
   "outputs": [
    {
     "data": {
      "text/plain": [
       "-3.0620057499069255"
      ]
     },
     "execution_count": 21,
     "metadata": {},
     "output_type": "execute_result"
    }
   ],
   "source": [
    "# sample from a normal/Gaussian distribution, mean 0, standard deviation of 1\n",
    "random.gauss(mu=0, sigma=1)"
   ]
  }
 ],
 "metadata": {
  "kernelspec": {
   "display_name": "Python 3 (ipykernel)",
   "language": "python",
   "name": "python3"
  },
  "language_info": {
   "codemirror_mode": {
    "name": "ipython",
    "version": 3
   },
   "file_extension": ".py",
   "mimetype": "text/x-python",
   "name": "python",
   "nbconvert_exporter": "python",
   "pygments_lexer": "ipython3",
   "version": "3.12.2"
  }
 },
 "nbformat": 4,
 "nbformat_minor": 5
}
