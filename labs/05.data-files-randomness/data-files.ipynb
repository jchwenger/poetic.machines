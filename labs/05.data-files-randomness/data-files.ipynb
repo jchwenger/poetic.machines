{
 "cells": [
  {
   "cell_type": "markdown",
   "id": "771394d1-c4c5-428c-b542-53d8e77676df",
   "metadata": {},
   "source": [
    "# Working with Data & Files"
   ]
  },
  {
   "cell_type": "markdown",
   "id": "099bc86d-47af-4d21-936d-bbdad3f5e7b2",
   "metadata": {},
   "source": [
    "## Interfacing with the OS"
   ]
  },
  {
   "cell_type": "code",
   "execution_count": 2,
   "id": "01450367-b011-45c1-8559-a0b020382c42",
   "metadata": {},
   "outputs": [],
   "source": [
    "import os\n",
    "import pathlib"
   ]
  },
  {
   "cell_type": "markdown",
   "id": "cfb93d2e-d38a-4aa7-a62c-c43f01dc46e5",
   "metadata": {
    "jp-MarkdownHeadingCollapsed": true
   },
   "source": [
    "## Plain text"
   ]
  },
  {
   "cell_type": "markdown",
   "id": "d0406116-1598-4fa3-80e1-efbb132502b9",
   "metadata": {},
   "source": [
    "[`open` docs](https://docs.python.org/3/library/functions.html#open)\n",
    "- first arg: file name;\n",
    "- second arg: \"r\": read, \"w\": write, add a \"b\" to it for binary\n",
    "\n",
    "I recommend using the [`with` syntax](https://docs.python.org/3/reference/compound_stmts.html#index-16): it creates a context within which the file is open, and automatically closes it (and clean things up) after it, so you don't need to think about it."
   ]
  },
  {
   "cell_type": "code",
   "execution_count": 12,
   "id": "19bdbd5a-bf54-449b-ba38-70993e6b2789",
   "metadata": {},
   "outputs": [
    {
     "data": {
      "text/plain": [
       "'intro(1)                 General Commands Manual                 intro(1)\\n\\nNAME         top\\n\\n       intro - introduction to user commands\\n\\nDESCRIPTION         top\\n\\n       Section 1 of the manual descr'"
      ]
     },
     "execution_count": 12,
     "metadata": {},
     "output_type": "execute_result"
    }
   ],
   "source": [
    "with open(\"data/linux.txt\", \"r\") as i:\n",
    "    data_read = i.read()\n",
    "\n",
    "data_read[:200]\n",
    "# print(data_read)"
   ]
  },
  {
   "cell_type": "code",
   "execution_count": 13,
   "id": "fe9e4cbf-19d5-4249-8c2e-147a3f65bbe7",
   "metadata": {},
   "outputs": [
    {
     "data": {
      "text/plain": [
       "['intro(1)                 General Commands Manual                 intro(1)',\n",
       " '',\n",
       " 'NAME         top',\n",
       " '',\n",
       " '       intro - introduction to user commands']"
      ]
     },
     "execution_count": 13,
     "metadata": {},
     "output_type": "execute_result"
    }
   ],
   "source": [
    "data_read.split(\"\\n\")[:5] # no newlines"
   ]
  },
  {
   "cell_type": "code",
   "execution_count": 14,
   "id": "74360681-9cb8-42e7-8bf2-ebc052a1a66b",
   "metadata": {},
   "outputs": [
    {
     "data": {
      "text/plain": [
       "['intro(1)                 General Commands Manual                 intro(1)\\n',\n",
       " '\\n',\n",
       " 'NAME         top\\n',\n",
       " '\\n',\n",
       " '       intro - introduction to user commands\\n']"
      ]
     },
     "execution_count": 14,
     "metadata": {},
     "output_type": "execute_result"
    }
   ],
   "source": [
    "with open(\"data/linux.txt\", \"r\") as i:\n",
    "    data_readlines = i.readlines()\n",
    "\n",
    "data_readlines[:5] # no newlines"
   ]
  },
  {
   "cell_type": "markdown",
   "id": "283c38e2-f10a-44b7-9f55-f80d3a5b1159",
   "metadata": {
    "jp-MarkdownHeadingCollapsed": true
   },
   "source": [
    "## JSON"
   ]
  },
  {
   "cell_type": "markdown",
   "id": "a20ecd03-88af-4b40-aea9-7f89fe126688",
   "metadata": {},
   "source": [
    "[JSON (JavaScript Object Notation)](https://www.json.org/json-en.html), nice reference there!  \n",
    "[docs](https://docs.python.org/3/library/json.html)"
   ]
  },
  {
   "cell_type": "code",
   "execution_count": 24,
   "id": "7f48e320-76d9-4a23-adf9-8589f11fca78",
   "metadata": {},
   "outputs": [],
   "source": [
    "import json"
   ]
  },
  {
   "cell_type": "code",
   "execution_count": 35,
   "id": "fe1b00a6-d295-47d2-a092-8c1be78ec08d",
   "metadata": {},
   "outputs": [
    {
     "data": {
      "text/plain": [
       "'{\"opening\": {\"totems\": [\"night\", \"moon\", \"fountain\"], \"tools\": [\"spoon\", \"megaphone\", \"pencil sharpener\", \"plastic skull\"]}, \"die-throws\": [3, 5, 4, 4, 6, 1, 0], \"eyes-closed\": false}'"
      ]
     },
     "execution_count": 35,
     "metadata": {},
     "output_type": "execute_result"
    }
   ],
   "source": [
    "d = {\n",
    "    \"opening\": {\n",
    "        \"totems\": [\"night\", \"moon\", \"fountain\"],\n",
    "        \"tools\": [\"spoon\", \"megaphone\", \"pencil sharpener\", \"plastic skull\"]\n",
    "    },\n",
    "    \"die-throws\": [3,5,4,4,6,1,0],\n",
    "    \"eyes-closed\": False,\n",
    "}\n",
    "\n",
    "# json.dumps converts a Python object to a JSON-compatible string\n",
    "d_json = json.dumps(d)\n",
    "d_json"
   ]
  },
  {
   "cell_type": "code",
   "execution_count": null,
   "id": "89cf21b7-1833-4dfb-82d0-9a3f1940dda5",
   "metadata": {},
   "outputs": [],
   "source": [
    "# you can then write it to a file if you wish\n",
    "with open(\"data/performance.json\", \"w\") as o:\n",
    "    o.write(d_json)"
   ]
  },
  {
   "cell_type": "code",
   "execution_count": 33,
   "id": "17144f31-8a44-4e3a-bb37-445ab34431d2",
   "metadata": {},
   "outputs": [],
   "source": [
    "# you can achieve the same result with json.dump\n",
    "with open(\"data/performance.json\", \"w\") as o:\n",
    "    json.dump(d, o)"
   ]
  },
  {
   "cell_type": "code",
   "execution_count": 34,
   "id": "33e156a5-6778-4e06-bceb-b712162f7d55",
   "metadata": {},
   "outputs": [
    {
     "data": {
      "text/plain": [
       "{'opening': {'totems': ['night', 'moon', 'fountain'],\n",
       "  'tools': ['spoon', 'megaphone', 'pencil sharpener', 'plastic skull']},\n",
       " 'die-throws': [3, 5, 4, 4, 6, 1, 0],\n",
       " 'eyes-closed': False}"
      ]
     },
     "execution_count": 34,
     "metadata": {},
     "output_type": "execute_result"
    }
   ],
   "source": [
    "with open(\"data/performance.json\", \"r\") as o:\n",
    "    d_reloaded = json.load(o)\n",
    "d_reloaded"
   ]
  },
  {
   "cell_type": "markdown",
   "id": "8cea61bf-f313-4571-8a07-091a3e1c60c2",
   "metadata": {},
   "source": [
    "## Save binary data"
   ]
  },
  {
   "cell_type": "code",
   "execution_count": 1,
   "id": "d1b98d9e-aba9-4f36-b563-2fdbd1c4d91d",
   "metadata": {},
   "outputs": [],
   "source": [
    "import pickle"
   ]
  },
  {
   "cell_type": "code",
   "execution_count": 21,
   "id": "14dd7251-93d3-4c6a-9acb-4aa9985fbb55",
   "metadata": {},
   "outputs": [],
   "source": [
    "l = [10, 5, 8, 7]\n",
    "\n",
    "with open(\"data/my_list.pkl\", \"wb\") as o:\n",
    "    pickle.dump(l, o)"
   ]
  },
  {
   "cell_type": "code",
   "execution_count": 19,
   "id": "a4b75d3e-5a0c-41a8-9d1e-cac95b2c38a5",
   "metadata": {},
   "outputs": [
    {
     "data": {
      "text/plain": [
       "[10, 5, 8, 7]"
      ]
     },
     "execution_count": 19,
     "metadata": {},
     "output_type": "execute_result"
    }
   ],
   "source": [
    "with open(\"data/my_list.pkl\", \"rb\") as i:\n",
    "    l_reloaded = pickle.load(i)\n",
    "\n",
    "l_reloaded"
   ]
  },
  {
   "cell_type": "markdown",
   "id": "71b3a816-57d8-4a3f-87d9-14db06a97958",
   "metadata": {},
   "source": [
    "## Scraping"
   ]
  },
  {
   "cell_type": "code",
   "execution_count": null,
   "id": "b9677e4b-523b-4bed-982e-7bfbf47c3872",
   "metadata": {},
   "outputs": [],
   "source": []
  }
 ],
 "metadata": {
  "kernelspec": {
   "display_name": "Python 3 (ipykernel)",
   "language": "python",
   "name": "python3"
  },
  "language_info": {
   "codemirror_mode": {
    "name": "ipython",
    "version": 3
   },
   "file_extension": ".py",
   "mimetype": "text/x-python",
   "name": "python",
   "nbconvert_exporter": "python",
   "pygments_lexer": "ipython3",
   "version": "3.12.2"
  }
 },
 "nbformat": 4,
 "nbformat_minor": 5
}
