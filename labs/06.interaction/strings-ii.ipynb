{
 "cells": [
  {
   "cell_type": "markdown",
   "id": "1d5f634c-c382-425b-b934-4f68d0e5dafa",
   "metadata": {},
   "source": [
    "# Strings II"
   ]
  },
  {
   "cell_type": "code",
   "execution_count": null,
   "id": "56577959-63d1-4066-825a-abd4e13b3259",
   "metadata": {},
   "outputs": [],
   "source": [
    "import string"
   ]
  },
  {
   "cell_type": "code",
   "execution_count": null,
   "id": "a19be256-cb2f-4b30-ae6f-7c95dc72d1a2",
   "metadata": {},
   "outputs": [],
   "source": [
    "word = \"silencio\""
   ]
  },
  {
   "cell_type": "markdown",
   "id": "9730d015-c725-4fe0-bba6-991ee7dfbd1c",
   "metadata": {},
   "source": [
    "### Unicode, encoding and UTF-8 "
   ]
  },
  {
   "cell_type": "markdown",
   "id": "fb93d5e4-937e-4b72-99aa-93155cc3910f",
   "metadata": {},
   "source": [
    "[doc (aka the gory detail)](https://docs.python.org/3/howto/unicode.html)  \n",
    "[`ord()` doc](https://docs.python.org/3/library/functions.html#ord)  \n",
    "[`chr()` doc](https://docs.python.org/3/library/functions.html#chr)  \n",
    "[`bin()` doc](https://docs.python.org/3/library/functions.html#bin)  \n",
    "[`int()` doc](https://docs.python.org/3/library/functions.html#int)\n",
    "\n",
    "- `unicode`: worldwide standard assigning one **number** to one **character**\n",
    "- encoding: the way you **implement** this in computers (how to organise the 0s and 1s, binary representation, so as to get the computer to handle text properly)\n",
    "- `utf-8` (Unicode Transformation Format – 8-bit): one specific implementation, in this case using 8 bits for each character\n"
   ]
  },
  {
   "cell_type": "code",
   "execution_count": null,
   "id": "107e0ae2-35e5-4d13-98f0-70539fd47e31",
   "metadata": {},
   "outputs": [],
   "source": [
    "from IPython.display import YouTubeVideo\n",
    "YouTubeVideo(\"MijmeoH9LT4\", width=853, height=480) #  Characters, Symbols and the Unicode Miracle - Computerphile "
   ]
  },
  {
   "cell_type": "code",
   "execution_count": null,
   "id": "0d60264d-e5dd-46c4-b7dc-b54d83718940",
   "metadata": {},
   "outputs": [],
   "source": [
    "print(\"the unicode point for 'a' is:\", ord(\"a\"))"
   ]
  },
  {
   "cell_type": "code",
   "execution_count": null,
   "id": "897eb2fe-867c-4799-a53a-89afeeafe7eb",
   "metadata": {},
   "outputs": [],
   "source": [
    "print(\"the character for unicode point 97:\", chr(97))"
   ]
  },
  {
   "cell_type": "code",
   "execution_count": null,
   "id": "2962ee13-0f23-413a-8351-cd99c60b2519",
   "metadata": {},
   "outputs": [],
   "source": [
    "print(\"binary representation of 97 is:\", bin(97))"
   ]
  },
  {
   "cell_type": "code",
   "execution_count": null,
   "id": "87bea8e8-e704-4e36-a1c7-a0f31f262b0f",
   "metadata": {},
   "outputs": [],
   "source": [
    "print(\"converting from binary to integer (base 10):\", int('10', 2)) # try '0', '1', '10', '11' ...\n",
    "print(\"'converting' from base 10 to integer (also base 10):\", int('10', 10)) "
   ]
  },
  {
   "cell_type": "code",
   "execution_count": null,
   "id": "5083314e-6c39-4bd6-b0ac-2dfe65b24901",
   "metadata": {},
   "outputs": [],
   "source": [
    "print(\"converting bytes for 97 back to 97:\", int(bin(97), 2))"
   ]
  },
  {
   "cell_type": "code",
   "execution_count": null,
   "id": "ac7be0dc-ff5a-4f11-af5a-3443004d58c9",
   "metadata": {},
   "outputs": [],
   "source": [
    "print(\"converting bytes for 97 back to 'a':\", chr(int(bin(97), 2)))"
   ]
  },
  {
   "cell_type": "code",
   "execution_count": null,
   "id": "28271086-fbaa-43eb-8dce-0ca126a44fde",
   "metadata": {},
   "outputs": [],
   "source": [
    "# to convert a string to binary,\n",
    "# first 'encode' to bytes\n",
    "byte_string = \"a\".encode(\"utf8\") # try adding more letters\n",
    "# then turn the bytes into binary\n",
    "# (the '0b' only indicates this is a binary string)\n",
    "# (see the `int()` doc for details)\n",
    "list_of_binary_strings = [bin(byte) for byte in byte_string]\n",
    "print(list_of_binary_strings)"
   ]
  },
  {
   "cell_type": "code",
   "execution_count": null,
   "id": "f027c594-3d9d-44c1-b613-d42230151732",
   "metadata": {},
   "outputs": [],
   "source": [
    "# Chinese characters take more than one byte!\n",
    "byte_string = \"龙\".encode(\"utf8\")\n",
    "list_of_binary_strings = [bin(byte) for byte in byte_string]\n",
    "print(list_of_binary_strings)"
   ]
  },
  {
   "cell_type": "markdown",
   "id": "d0460d7c-8c35-4859-be52-91976c873acd",
   "metadata": {},
   "source": [
    "## translate"
   ]
  },
  {
   "cell_type": "markdown",
   "id": "194d4135-95e1-4c40-a8b1-a75968d02301",
   "metadata": {},
   "source": [
    "[translate doc](https://docs.python.org/3/library/stdtypes.html#str.translate)  \n",
    "[maketrans doc](https://docs.python.org/3/library/stdtypes.html#str.maketrans)"
   ]
  },
  {
   "cell_type": "code",
   "execution_count": null,
   "id": "643cee8b-9389-4605-8d66-39cb2d06bcf7",
   "metadata": {},
   "outputs": [],
   "source": [
    "# translate expects the `unicode` number!\n",
    "word.translate(\n",
    "    {\n",
    "        ord(\"i\"): ord(\"1\"),\n",
    "        ord(\"e\"): ord(\"3\"),\n",
    "        ord(\"c\"): ord(\"<\"),\n",
    "        ord(\"o\"): ord(\"0\"),\n",
    "    }\n",
    ")"
   ]
  },
  {
   "cell_type": "code",
   "execution_count": null,
   "id": "75d0669b-a0ef-4a69-96fe-ccc8f2aa8e0a",
   "metadata": {},
   "outputs": [],
   "source": [
    "word.translate(\n",
    "    str.maketrans(\"ieco\", \"13<0\")\n",
    ")"
   ]
  },
  {
   "cell_type": "code",
   "execution_count": null,
   "id": "77de9ef2-5695-4e06-a193-7284fe9b8866",
   "metadata": {},
   "outputs": [],
   "source": [
    "# maketrans can take a third argument:\n",
    "# here we say: translate everything as is (\"\" to \"\")\n",
    "# and the last argument is for *everything that needs to be removed*\n",
    "# (equivalent to do `ord(\",\"): None` for all punctuation characters)\n",
    "print(str.maketrans(\"\", \"\", string.punctuation))"
   ]
  },
  {
   "cell_type": "code",
   "execution_count": null,
   "id": "f5a4315d-885f-4855-9e01-86b0db0e7d8c",
   "metadata": {
    "scrolled": true
   },
   "outputs": [],
   "source": [
    "# now, we can remove all punctuation from text\n",
    "print(\"Hello there! How are you? Yes, you...\".translate(\n",
    "    str.maketrans(\"\", \"\", string.punctuation)\n",
    "))"
   ]
  }
 ],
 "metadata": {
  "kernelspec": {
   "display_name": "Python 3 (ipykernel)",
   "language": "python",
   "name": "python3"
  },
  "language_info": {
   "codemirror_mode": {
    "name": "ipython",
    "version": 3
   },
   "file_extension": ".py",
   "mimetype": "text/x-python",
   "name": "python",
   "nbconvert_exporter": "python",
   "pygments_lexer": "ipython3",
   "version": "3.12.2"
  }
 },
 "nbformat": 4,
 "nbformat_minor": 5
}
