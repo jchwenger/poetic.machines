{
 "cells": [
  {
   "cell_type": "markdown",
   "id": "7943ee00-ce61-4010-99f1-d3631d4c91b5",
   "metadata": {},
   "source": [
    "# Repetition & loops"
   ]
  },
  {
   "cell_type": "code",
   "execution_count": 8,
   "id": "e3e6cb41-3399-417e-b9bb-4d76c6cc3c30",
   "metadata": {},
   "outputs": [],
   "source": [
    "line = \"silencio silencio silencio\"\n",
    "line_gap = \"silencio          silencio\""
   ]
  },
  {
   "cell_type": "code",
   "execution_count": 3,
   "id": "93a4417b-3d02-47f0-9765-9dea6fa53436",
   "metadata": {},
   "outputs": [
    {
     "data": {
      "text/plain": [
       "'silencio silencio silencio'"
      ]
     },
     "execution_count": 3,
     "metadata": {},
     "output_type": "execute_result"
    }
   ],
   "source": [
    "line"
   ]
  },
  {
   "cell_type": "code",
   "execution_count": 9,
   "id": "a0166de7-1d12-4b4a-8a40-925bc9f77518",
   "metadata": {},
   "outputs": [
    {
     "data": {
      "text/plain": [
       "'silencio          silencio'"
      ]
     },
     "execution_count": 9,
     "metadata": {},
     "output_type": "execute_result"
    }
   ],
   "source": [
    "line_gap"
   ]
  },
  {
   "cell_type": "code",
   "execution_count": 14,
   "id": "54ca0cec-1b8f-423b-9bf0-8af35bdbe90f",
   "metadata": {},
   "outputs": [
    {
     "name": "stdout",
     "output_type": "stream",
     "text": [
      "silencio silencio silencio\n",
      "silencio silencio silencio\n",
      "silencio          silencio\n",
      "silencio silencio silencio\n",
      "silencio silencio silencio\n"
     ]
    }
   ],
   "source": [
    "print(line)\n",
    "print(line)\n",
    "print(line_gap)\n",
    "print(line)\n",
    "print(line)"
   ]
  },
  {
   "cell_type": "code",
   "execution_count": 5,
   "id": "dda51749-92f9-4125-9109-fc74be3329a2",
   "metadata": {},
   "outputs": [
    {
     "data": {
      "text/plain": [
       "[0, 1, 2]"
      ]
     },
     "execution_count": 5,
     "metadata": {},
     "output_type": "execute_result"
    }
   ],
   "source": [
    "list(range(3))"
   ]
  },
  {
   "cell_type": "code",
   "execution_count": 4,
   "id": "3ee153c8-ec1b-4853-a720-a9e4cb40c9ec",
   "metadata": {},
   "outputs": [
    {
     "name": "stdout",
     "output_type": "stream",
     "text": [
      "0\n",
      "1\n",
      "2\n"
     ]
    }
   ],
   "source": [
    "for i in range(3):\n",
    "    print(i)"
   ]
  },
  {
   "cell_type": "code",
   "execution_count": 15,
   "id": "3e4161b1-59e7-4c4a-9957-b6889441cc69",
   "metadata": {},
   "outputs": [
    {
     "name": "stdout",
     "output_type": "stream",
     "text": [
      "silencio silencio silencio\n",
      "silencio silencio silencio\n",
      "silencio silencio silencio\n",
      "silencio silencio silencio\n",
      "silencio silencio silencio\n"
     ]
    }
   ],
   "source": [
    "for i in range(5):\n",
    "    print(line)"
   ]
  },
  {
   "cell_type": "code",
   "execution_count": 16,
   "id": "f9cb129c-2366-4679-af86-953260c44bb8",
   "metadata": {},
   "outputs": [
    {
     "name": "stdout",
     "output_type": "stream",
     "text": [
      "silencio silencio silencio\n",
      "silencio silencio silencio\n",
      "silencio          silencio\n",
      "silencio silencio silencio\n",
      "silencio silencio silencio\n"
     ]
    }
   ],
   "source": [
    "poem = [line, line, line_gap, line, line]\n",
    "for l in poem:\n",
    "    print(l)"
   ]
  },
  {
   "cell_type": "code",
   "execution_count": 18,
   "id": "d253ac40-b0b9-47e3-856d-4b073390fbbb",
   "metadata": {},
   "outputs": [],
   "source": [
    "word = \"silencio\""
   ]
  },
  {
   "cell_type": "code",
   "execution_count": 20,
   "id": "ecc1518e-a6aa-47dd-a7f3-397ad87b19f6",
   "metadata": {},
   "outputs": [
    {
     "name": "stdout",
     "output_type": "stream",
     "text": [
      "silencio silencio silencio \n",
      "silencio silencio silencio \n",
      "silencio silencio silencio \n",
      "silencio silencio silencio \n",
      "silencio silencio silencio \n"
     ]
    }
   ],
   "source": [
    "# loop 1\n",
    "for i in range(5):\n",
    "    line = \"\"\n",
    "    # loop 2\n",
    "    for j in range(3):\n",
    "        line += word + \" \"\n",
    "    print(line)"
   ]
  },
  {
   "cell_type": "markdown",
   "id": "ef07d754-ac6e-4db4-8a3d-f7b5fbd6d1e4",
   "metadata": {},
   "source": [
    "## List/dict comprehension"
   ]
  },
  {
   "cell_type": "code",
   "execution_count": null,
   "id": "373970d2-ec04-464c-8da5-a952f5e5f506",
   "metadata": {},
   "outputs": [],
   "source": []
  }
 ],
 "metadata": {
  "kernelspec": {
   "display_name": "Python 3 (ipykernel)",
   "language": "python",
   "name": "python3"
  },
  "language_info": {
   "codemirror_mode": {
    "name": "ipython",
    "version": 3
   },
   "file_extension": ".py",
   "mimetype": "text/x-python",
   "name": "python",
   "nbconvert_exporter": "python",
   "pygments_lexer": "ipython3",
   "version": "3.12.2"
  }
 },
 "nbformat": 4,
 "nbformat_minor": 5
}
