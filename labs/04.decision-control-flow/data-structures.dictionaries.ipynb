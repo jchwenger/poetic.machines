{
 "cells": [
  {
   "cell_type": "markdown",
   "id": "8b40af28-527e-4441-b9ff-fe046fc46fd7",
   "metadata": {},
   "source": [
    "# Data Structures: Dictionaries"
   ]
  },
  {
   "cell_type": "markdown",
   "id": "7451359d-7e62-43a7-9e2a-31636c49b25b",
   "metadata": {},
   "source": [
    "[doc](https://docs.python.org/3/library/stdtypes.html#mapping-types-dict)  \n",
    "[RealPython dictionary tutorial](https://realpython.com/python-dicts/)  \n",
    "[RealPython iterate through a dictionary tutorial](https://realpython.com/iterate-through-dictionary-python/)\n",
    "\n",
    "- same as an `object` (typically in JavaScript)\n",
    "- very useful when you need to be able to retrieve elements by a name (\"give me the data under the name `line`\")"
   ]
  },
  {
   "cell_type": "code",
   "execution_count": null,
   "id": "4c7734de-a7fd-4bd3-a8af-e1f6e4f20979",
   "metadata": {},
   "outputs": [],
   "source": [
    "line = \"silencio silencio silencio\"\n",
    "line_gap = \"silencio          silencio\""
   ]
  },
  {
   "cell_type": "code",
   "execution_count": null,
   "id": "e4f34b08-07e8-4fd7-be43-db0ffc2ac8fd",
   "metadata": {},
   "outputs": [],
   "source": [
    "lines_dict = {\n",
    "    # name: data, aka key: value\n",
    "    \"line\": line,\n",
    "    \"line_gap\": line_gap\n",
    "}\n",
    "\n",
    "# you can also use `dict()`, passing a list of lists, or tuple of tuples\n",
    "# lines_dict = dict([\n",
    "#     [\"line\", line],\n",
    "#     [\"line_gap\", line_gap]\n",
    "# ])"
   ]
  },
  {
   "cell_type": "code",
   "execution_count": null,
   "id": "bc7ec0f7-fbd0-46f3-9ceb-8a81fa45adb9",
   "metadata": {},
   "outputs": [],
   "source": [
    "lines_dict.keys()"
   ]
  },
  {
   "cell_type": "code",
   "execution_count": null,
   "id": "1c80c1ba-9bee-4291-8a2a-268f709d6832",
   "metadata": {},
   "outputs": [],
   "source": [
    "lines_dict.values()"
   ]
  },
  {
   "cell_type": "code",
   "execution_count": null,
   "id": "e565faea-59d5-4787-9cd2-d7d214396bcb",
   "metadata": {},
   "outputs": [],
   "source": [
    "lines_dict.items()"
   ]
  },
  {
   "cell_type": "code",
   "execution_count": null,
   "id": "a47146ab-0a8b-4a83-899d-059fbe2c10aa",
   "metadata": {},
   "outputs": [],
   "source": [
    "print(lines_dict[\"line\"])\n",
    "print(lines_dict[\"line\"])\n",
    "print(lines_dict[\"line_gap\"])\n",
    "print(lines_dict[\"line\"])\n",
    "print(lines_dict[\"line\"])"
   ]
  }
 ],
 "metadata": {
  "kernelspec": {
   "display_name": "Python 3 (ipykernel)",
   "language": "python",
   "name": "python3"
  },
  "language_info": {
   "codemirror_mode": {
    "name": "ipython",
    "version": 3
   },
   "file_extension": ".py",
   "mimetype": "text/x-python",
   "name": "python",
   "nbconvert_exporter": "python",
   "pygments_lexer": "ipython3",
   "version": "3.12.2"
  }
 },
 "nbformat": 4,
 "nbformat_minor": 5
}
