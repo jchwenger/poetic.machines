{
 "cells": [
  {
   "cell_type": "markdown",
   "id": "458d3aaa-edef-4f41-905f-b58cf1b771ab",
   "metadata": {},
   "source": [
    "# Decision / Control Flow"
   ]
  },
  {
   "cell_type": "markdown",
   "id": "6d490992-d086-4e1f-ad71-a0eb3bd38289",
   "metadata": {},
   "source": [
    "[docs](https://docs.python.org/3/tutorial/controlflow.html)"
   ]
  },
  {
   "cell_type": "code",
   "execution_count": null,
   "id": "1306c5fe-446f-4540-ab0a-b9640d40298c",
   "metadata": {},
   "outputs": [],
   "source": [
    "import time\n",
    "import random\n",
    "from IPython.display import clear_output"
   ]
  },
  {
   "cell_type": "markdown",
   "id": "ee64f379-b3c7-4ffc-a441-c192f080bfbe",
   "metadata": {},
   "source": [
    "## Linear erasure"
   ]
  },
  {
   "cell_type": "code",
   "execution_count": null,
   "id": "37e00cdb-8ed7-448a-af0a-92d2a772bfed",
   "metadata": {},
   "outputs": [],
   "source": [
    "word = \"silencio\"\n",
    "n_line = 5\n",
    "n_col = 3\n",
    "\n",
    "sleep_time = .2\n",
    "\n",
    "erase_line = 0\n",
    "erase_col = 0\n",
    "\n",
    "# loop 1\n",
    "while True:\n",
    "\n",
    "    # loop 2\n",
    "    for i in range(n_line):\n",
    "        line = \"\"\n",
    "        # loop 3\n",
    "        for j in range(n_col):\n",
    "            if i == erase_line and j == erase_col:\n",
    "                line += \" \" * (len(word) + 1)\n",
    "            else:\n",
    "                line += word + \" \"\n",
    "        print(line)\n",
    "        \n",
    "    time.sleep(sleep_time)\n",
    "    clear_output(wait=True)\n",
    "\n",
    "    erase_col = (erase_col + 1) % n_col\n",
    "\n",
    "    if erase_col == 0:\n",
    "        erase_line = (erase_line + 1) % n_line"
   ]
  },
  {
   "cell_type": "markdown",
   "id": "32e035b7-1f1f-4f18-8a88-b331e0f8e472",
   "metadata": {},
   "source": [
    "## Random erasure"
   ]
  },
  {
   "cell_type": "code",
   "execution_count": null,
   "id": "b6866ef9-4886-470d-8bac-1e54dad94176",
   "metadata": {},
   "outputs": [],
   "source": [
    "word = \"silencio\"\n",
    "n_line = 5\n",
    "n_col = 3\n",
    "\n",
    "sleep_time = .2\n",
    "\n",
    "# loop 1\n",
    "while True:\n",
    "    \n",
    "    random_line = random.randint(0, 4)\n",
    "    random_col = random.randint(0, 2)\n",
    "\n",
    "    # loop 2\n",
    "    for i in range(n_line):\n",
    "        line = \"\"\n",
    "        # loop 3\n",
    "        for j in range(n_col):\n",
    "            if i == random_line and j == random_col:\n",
    "                line += \" \" * (len(word) + 1)\n",
    "            else:\n",
    "                line += word + \" \"\n",
    "        print(line)\n",
    "\n",
    "    time.sleep(sleep_time)\n",
    "    clear_output(wait=True)"
   ]
  },
  {
   "cell_type": "markdown",
   "id": "04f583b5-9a71-45d7-85cd-a9690d5f6eaa",
   "metadata": {},
   "source": [
    "### Ideas"
   ]
  },
  {
   "cell_type": "markdown",
   "id": "afdc2382-685c-45c0-a3bd-5082f4938022",
   "metadata": {},
   "source": [
    "A few examples:\n",
    "- Work with other kinds of words / shapes / poems. What possibilities does the movement introduce/open, that were not accessible with only words on a page?\n",
    "- How do you construct a different kind of pattern? For instance, the blank space moving along the diagonals, or only on the border, etc.?\n",
    "- Given that time is built/organised around frames, can you think of a way to work with rhythm (instead of a regular change every `n` frames?\n",
    "- How do you create a 'blip/glitch' effect? Say, the poem is the original one, fixed, but every now and then, suddenly, the blank space moves to one other spot, and so fast that it is almost subliminal?"
   ]
  },
  {
   "cell_type": "markdown",
   "id": "c16a5498-4580-4758-a99a-1e4f2f2af80c",
   "metadata": {},
   "source": [
    "# Banner effect"
   ]
  },
  {
   "cell_type": "markdown",
   "id": "fb643eff-93b6-49db-8bf1-3017dc8ec778",
   "metadata": {},
   "source": [
    "[source](https://www.poetryfoundation.org/poems/55215/if-i-told-him-a-completed-portrait-of-picasso)"
   ]
  },
  {
   "cell_type": "code",
   "execution_count": null,
   "id": "747287f6-40f1-452a-a27f-4bee99acd8f9",
   "metadata": {},
   "outputs": [],
   "source": [
    "s = \"If Napoleon if I told him if I told him if Napoleon. Would he like it if I told him if I told him if Napoleon. Would he like it if Napoleon if Napoleon if I told him. If I told him if Napoleon if Napoleon if I told him. If I told him would he like it would he like it if I told him.\"\n",
    "\n",
    "sleep_time = .2\n",
    "\n",
    "i = 0\n",
    "width = 50\n",
    "while True:\n",
    "    print(s[i:width + i])\n",
    "    i = (i + 1) % len(s)\n",
    "    time.sleep(sleep_time)\n",
    "    clear_output(wait=True)    "
   ]
  },
  {
   "cell_type": "markdown",
   "id": "4487b1a2-b5c9-490e-88c3-885ee1e20358",
   "metadata": {},
   "source": [
    "### Ideas"
   ]
  },
  {
   "cell_type": "markdown",
   "id": "f634e617-a454-49e1-b2fb-cbd27619f4c2",
   "metadata": {},
   "source": [
    "- How do you reverse the flow of the text?\n",
    "- How do you create an irregular rythm?\n",
    "- Can you create this effect over several lines?"
   ]
  },
  {
   "cell_type": "markdown",
   "id": "37a08d86-64f7-45b8-8129-b1771085046b",
   "metadata": {},
   "source": [
    "## Typewriter effect"
   ]
  },
  {
   "cell_type": "code",
   "execution_count": null,
   "id": "2fbba418-97d5-4363-abb4-f28e5aa2c1ae",
   "metadata": {},
   "outputs": [],
   "source": [
    "s = \"If Napoleon if I told him if I told him if Napoleon. Would he like it if I told him if I told him if Napoleon. Would he like it if Napoleon if Napoleon if I told him. If I told him if Napoleon if Napoleon if I told him. If I told him would he like it would he like it if I told him.\"\n",
    "\n",
    "sleep_time = .2\n",
    "\n",
    "for char in s:\n",
    "    print(char, end=\"\")\n",
    "    time.sleep(sleep_time)"
   ]
  },
  {
   "cell_type": "markdown",
   "id": "3a934f1b-aacc-44ec-ba67-fcf4c9ea44c4",
   "metadata": {},
   "source": [
    "### Ideas"
   ]
  },
  {
   "cell_type": "markdown",
   "id": "700f9b4a-a700-405f-a380-d774d6ba4b92",
   "metadata": {},
   "source": [
    "- How do you create an irregular rythm?\n",
    "- Can you change the code so that instead of writing character by character, you write word by word?"
   ]
  }
 ],
 "metadata": {
  "kernelspec": {
   "display_name": "Python 3 (ipykernel)",
   "language": "python",
   "name": "python3"
  },
  "language_info": {
   "codemirror_mode": {
    "name": "ipython",
    "version": 3
   },
   "file_extension": ".py",
   "mimetype": "text/x-python",
   "name": "python",
   "nbconvert_exporter": "python",
   "pygments_lexer": "ipython3",
   "version": "3.12.2"
  }
 },
 "nbformat": 4,
 "nbformat_minor": 5
}
