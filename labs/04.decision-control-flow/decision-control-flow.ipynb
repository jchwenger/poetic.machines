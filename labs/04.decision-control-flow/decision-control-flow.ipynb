{
 "cells": [
  {
   "cell_type": "markdown",
   "id": "458d3aaa-edef-4f41-905f-b58cf1b771ab",
   "metadata": {},
   "source": [
    "# Words In Motion"
   ]
  },
  {
   "cell_type": "code",
   "execution_count": null,
   "id": "1306c5fe-446f-4540-ab0a-b9640d40298c",
   "metadata": {},
   "outputs": [],
   "source": [
    "import time\n",
    "import random\n",
    "from IPython.display import clear_output"
   ]
  },
  {
   "cell_type": "markdown",
   "id": "ee64f379-b3c7-4ffc-a441-c192f080bfbe",
   "metadata": {},
   "source": [
    "## Linear erasure"
   ]
  },
  {
   "cell_type": "code",
   "execution_count": null,
   "id": "37e00cdb-8ed7-448a-af0a-92d2a772bfed",
   "metadata": {},
   "outputs": [],
   "source": [
    "word = \"silencio\"\n",
    "n_line = 5\n",
    "n_col = 3\n",
    "\n",
    "sleep_time = .2\n",
    "\n",
    "erase_line = 0\n",
    "erase_col = 0\n",
    "\n",
    "# loop 1\n",
    "while True:\n",
    "\n",
    "    # loop 2\n",
    "    for i in range(n_line):\n",
    "        line = \"\"\n",
    "        # loop 3\n",
    "        for j in range(n_col):\n",
    "            if i == erase_line and j == erase_col:\n",
    "                line += \" \" * (len(word) + 1)\n",
    "            else:\n",
    "                line += word + \" \"\n",
    "        print(line)\n",
    "        \n",
    "    time.sleep(sleep_time)\n",
    "    clear_output(wait=True)\n",
    "\n",
    "    erase_col = (erase_col + 1) % n_col\n",
    "\n",
    "    if erase_col == 0:\n",
    "        erase_line = (erase_line + 1) % n_line"
   ]
  },
  {
   "cell_type": "markdown",
   "id": "32e035b7-1f1f-4f18-8a88-b331e0f8e472",
   "metadata": {},
   "source": [
    "## Random erasure"
   ]
  },
  {
   "cell_type": "code",
   "execution_count": null,
   "id": "b6866ef9-4886-470d-8bac-1e54dad94176",
   "metadata": {},
   "outputs": [],
   "source": [
    "word = \"silencio\"\n",
    "n_line = 5\n",
    "n_col = 3\n",
    "\n",
    "sleep_time = .2\n",
    "\n",
    "# loop 1\n",
    "while True:\n",
    "    \n",
    "    random_line = random.randint(0, 4)\n",
    "    random_col = random.randint(0, 2)\n",
    "\n",
    "    # loop 2\n",
    "    for i in range(n_line):\n",
    "        line = \"\"\n",
    "        # loop 3\n",
    "        for j in range(n_col):\n",
    "            if i == random_line and j == random_col:\n",
    "                line += \" \" * (len(word) + 1)\n",
    "            else:\n",
    "                line += word + \" \"\n",
    "        print(line)\n",
    "\n",
    "    time.sleep(sleep_time)\n",
    "    clear_output(wait=True)"
   ]
  },
  {
   "cell_type": "markdown",
   "id": "f3923277-8bf2-4e38-94ef-526340e355fc",
   "metadata": {},
   "source": [
    "## Ideas"
   ]
  },
  {
   "cell_type": "markdown",
   "id": "4b338da2-d471-47f7-bc22-2d20c2b9b9a7",
   "metadata": {},
   "source": [
    "A few examples:\n",
    "- Work with other kinds of words / shapes / poems. What possibilities does the movement introduce/open, that were not accessible with only words on a page?\n",
    "- How do you construct a different kind of pattern? For instance, the blank space moving along the diagonals, or only on the border, etc.?\n",
    "- Given that time is built/organised around frames, can you think of a way to work with rhythm (instead of a regular change every `n` frames?\n",
    "- How do you create a 'blip/glitch' effect? Say, the poem is the original one, fixed, but every now and then, suddenly, the blank space moves to one other spot, and so fast that it is almost subliminal?"
   ]
  }
 ],
 "metadata": {
  "kernelspec": {
   "display_name": "Python 3 (ipykernel)",
   "language": "python",
   "name": "python3"
  },
  "language_info": {
   "codemirror_mode": {
    "name": "ipython",
    "version": 3
   },
   "file_extension": ".py",
   "mimetype": "text/x-python",
   "name": "python",
   "nbconvert_exporter": "python",
   "pygments_lexer": "ipython3",
   "version": "3.12.2"
  }
 },
 "nbformat": 4,
 "nbformat_minor": 5
}
