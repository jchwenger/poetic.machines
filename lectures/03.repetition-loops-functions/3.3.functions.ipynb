{
 "cells": [
  {
   "cell_type": "markdown",
   "id": "ce0e469a-e837-450f-8a51-e4199cae1f34",
   "metadata": {},
   "source": [
    "# Functions"
   ]
  },
  {
   "cell_type": "markdown",
   "id": "a81fc741-67bb-4345-8a01-c3bcbcf5e4d3",
   "metadata": {},
   "source": [
    "[RealPython tutorial](https://realpython.com/defining-your-own-python-function/)  \n",
    "[Official Python tutorial](https://docs.python.org/3/tutorial/controlflow.html#defining-functions)\n",
    "\n",
    "Functions are an extremely powerful tool as it allows us to **encapsulate** complex code into a simple expression. Each time we want to reuse the complex code we wrote, instead of copy-pasting it over and over, we can just call the function, and it will execute it for us."
   ]
  },
  {
   "cell_type": "markdown",
   "id": "b390100f",
   "metadata": {},
   "source": [
    "## Define & call functions"
   ]
  },
  {
   "cell_type": "markdown",
   "id": "5d96cc76",
   "metadata": {},
   "source": [
    "Functions are:\n",
    "- first **defined** (where we write the \"complex code\" once)\n",
    "- then **called** (where the code inside them is executed)\n",
    "\n",
    "How do we do that? We define function with:\n",
    "```python\n",
    "def name_of_function():\n",
    "    # code to be executed\n",
    "    print(\"?\")\n",
    "\n",
    "    # IMPORTANT: the body (\"inside\") of the function is *indented*\n",
    "    # (standard is 4 spaces or 1 tab)\n",
    "```\n",
    "\n",
    "You note that there is no `{}` like in JavaScript."
   ]
  },
  {
   "cell_type": "code",
   "execution_count": null,
   "id": "ad343e87",
   "metadata": {},
   "outputs": [],
   "source": [
    "# here we define the function: it's like write a recipe for a dish\n",
    "# notice that nothing is printed when we run this\n",
    "def be_exclamatory():\n",
    "    print(\"!!!\")\n",
    "          \n",
    "    # same indent, we're still inside the function  \n",
    "    print()\n",
    "    print(\"!\")\n",
    "    print()\n",
    "    print(\"!!!!!!!\")\n",
    "\n",
    "# now we're outside the function\n",
    "\n",
    "# the definition of a function is like any piece of code:\n",
    "# it does nothing until you run it! (currently we've only\n",
    "# told Python what our recipe is...)"
   ]
  },
  {
   "cell_type": "code",
   "execution_count": null,
   "id": "c3e83dfa",
   "metadata": {},
   "outputs": [],
   "source": [
    "# here we call the function (the code inside is executed/run\n",
    "# – we cook our dish using the recipe: many times if we want!)\n",
    "be_exclamatory()\n",
    "be_exclamatory()\n",
    "be_exclamatory()\n",
    "be_exclamatory()"
   ]
  },
  {
   "cell_type": "markdown",
   "id": "bae96471-04af-438e-a6b7-51775089b689",
   "metadata": {},
   "source": [
    "## Function arguments, return values"
   ]
  },
  {
   "cell_type": "markdown",
   "id": "e48df50f-a127-40c7-8b58-b13060b0845f",
   "metadata": {},
   "source": [
    "Functions are self-contained pieces of code (like recipes), but they interact with the \"outside world\": you can inject information/data from the outside when you call them (that's **arguments**), and they can then give back information/data from the inside (that's **return values**). Always on the recipe front, this is analogous to having a cake recipe, where you specify what flavour you want (you \"inject\" chocolate, vanilla, carrot, etc. from the outside); then Python is the cook using that recipe, it performs the steps for you, and comes back with (aka \"returns\") a cake."
   ]
  },
  {
   "cell_type": "code",
   "execution_count": null,
   "id": "03cdb766-b3e9-4ebe-8ae1-c206b3a8ab7e",
   "metadata": {},
   "outputs": [],
   "source": [
    "# we can make functions flexible by passing\n",
    "def say_something(something):  # <- `something` is the name, inside the function,\n",
    "    print(something)           #     of what we will give the function from the outside\n",
    "\n",
    "say_something(\"silencio\")      # <- `something` is now \"silencio\"\n",
    "say_something(\"say something\") # <- `something` is now \"say something\""
   ]
  },
  {
   "cell_type": "code",
   "execution_count": null,
   "id": "b4b0606a-e85c-4d6c-b707-9a7fc03d8508",
   "metadata": {},
   "outputs": [],
   "source": [
    "# multiple arguments\n",
    "def say_something_then_something_else(something, something_else):\n",
    "    print(something)\n",
    "    print(something_else)\n",
    "\n",
    "say_something_then_something_else(\"I say unto thee:\", \"silencio\")"
   ]
  },
  {
   "cell_type": "code",
   "execution_count": null,
   "id": "217d506f-9ebb-4cea-8b66-7947c103af6b",
   "metadata": {},
   "outputs": [],
   "source": [
    "text1 = \"I say unto thee:\"\n",
    "text2 = \"silencio\"\n",
    "\n",
    "say_something_then_something_else(text1, text2)"
   ]
  },
  {
   "cell_type": "code",
   "execution_count": null,
   "id": "d56d7e25-85ee-4615-86fd-83b1d3626813",
   "metadata": {},
   "outputs": [],
   "source": [
    "# you can use *keyword arguments* (kwargs) as well, specifying which is which\n",
    "\n",
    "text1 = \"silencio before\"\n",
    "text2 = \"silencio after\"\n",
    "\n",
    "say_something_then_something_else(something=text1, something_else=text2)"
   ]
  },
  {
   "cell_type": "code",
   "execution_count": null,
   "id": "c965ce3c-bc15-4011-ae03-8d300859ffe9",
   "metadata": {},
   "outputs": [],
   "source": [
    "# now we can swap the order of things if we want\n",
    "say_something_then_something_else(something_else=text1, something=text2)"
   ]
  },
  {
   "cell_type": "code",
   "execution_count": null,
   "id": "fb65b477-6ebc-48d1-b77f-dbaa83d50348",
   "metadata": {},
   "outputs": [],
   "source": [
    "# note: you can mix and match (args and kwargs, but you cannot have args *after* kwargs)\n",
    "say_something_then_something_else(text1, something_else=text2)"
   ]
  },
  {
   "cell_type": "code",
   "execution_count": null,
   "id": "b3a52cf7-207f-4c2b-a2da-df33b2fb22a2",
   "metadata": {},
   "outputs": [],
   "source": [
    "# since `something_else` is given explicitly, the arg with text2 will be\n",
    "# interpreted to be the other one\n",
    "say_something_then_something_else(text2, something_else=text1)"
   ]
  },
  {
   "cell_type": "markdown",
   "id": "534bba17-c018-412a-9f31-a8c55e25d808",
   "metadata": {},
   "source": [
    "## Default arguments"
   ]
  },
  {
   "cell_type": "code",
   "execution_count": null,
   "id": "302d88c5-be0f-4a4c-ba52-8425faa1ebdd",
   "metadata": {},
   "outputs": [],
   "source": [
    "# if nothing is given to this function, it falls back to \"silencio\"\n",
    "def divulge_loudest_secret(answer=\"silencio\"):\n",
    "    print(answer)\n",
    "\n",
    "divulge_loudest_secret()"
   ]
  },
  {
   "cell_type": "code",
   "execution_count": null,
   "id": "2ffdb71d-c75e-4445-b762-3fcddabdb6d2",
   "metadata": {},
   "outputs": [],
   "source": [
    "divulge_loudest_secret(\"ruido\")"
   ]
  },
  {
   "cell_type": "markdown",
   "id": "f6676732-09ff-4c17-94f3-6935fbf4ea99",
   "metadata": {},
   "source": [
    "## Scope"
   ]
  },
  {
   "cell_type": "markdown",
   "id": "d7ba6988",
   "metadata": {},
   "source": [
    "[RealPython namespace tutorial](https://realpython.com/python-namespace)\n",
    "\n",
    "One very important concept related to this \"inside\" and \"outside\" of functions is the notion of **scope**. A function creates a scope, i.e. an \"inside world\", which is partially separate from the \"outside world\" that surrounds it. This has important implications for working with variables, since a variable defined *inside* a function (called \"local\" variables) does not exist outside it, even if the ones defined *outside* the function (\"global\" variables) are accessible from inside it. Let's see a few examples."
   ]
  },
  {
   "cell_type": "code",
   "execution_count": null,
   "id": "5f3d184e-092d-4919-b84d-097de07d2083",
   "metadata": {},
   "outputs": [],
   "source": [
    "word = \"silencio\"\n",
    "\n",
    "def print_local_word():\n",
    "    # inside a function, we are in \"another world\", the `scope` of the function\n",
    "    # if I define `word` here, it does not change `word` outside!\n",
    "    # this is *local*\n",
    "    word = \"ruido\"\n",
    "    print(f\"What is the word here? {word}!\")\n",
    "    \n",
    "print(f\"What is the word here? {word}\")\n",
    "print_local_word()\n",
    "print(f\"What is the word here? {word}...\")"
   ]
  },
  {
   "cell_type": "code",
   "execution_count": null,
   "id": "a3f40390-d6a9-4a4d-a678-fbd37039200b",
   "metadata": {},
   "outputs": [],
   "source": [
    "word = \"silencio\"\n",
    "\n",
    "def print_global_word():\n",
    "    # however, I can always *read* global variables\n",
    "    print(f\"What is the word here? {word}!\")\n",
    "    \n",
    "print(f\"What is the word here? {word}\")\n",
    "print_global_word()\n",
    "print(f\"What is the word here? {word}...\")"
   ]
  },
  {
   "cell_type": "code",
   "execution_count": null,
   "id": "72b7bb41-300d-4275-bc0a-51b57b835148",
   "metadata": {},
   "outputs": [],
   "source": [
    "word = \"silencio\"\n",
    "\n",
    "def print_poem():\n",
    "    # finally, if I want to *modify* a global variable,\n",
    "    # I must declare it as such: `word` here means the\n",
    "    # **global** variable, not a new local one with the same name\n",
    "    global word\n",
    "    word = \"ruido\"\n",
    "    print(f\"What is the word here? {word}!\")\n",
    "    \n",
    "print(f\"What is the word here? {word}\")\n",
    "print_poem()\n",
    "print(f\"What is the word here? {word}...\") # the global variable has been modified!"
   ]
  },
  {
   "cell_type": "markdown",
   "id": "f1c3fd69",
   "metadata": {},
   "source": [
    "Advanced: sometimes we are in situations where there's more than two scopes (e.g. a function inside another function), and we want to work with an 'outer scope' that's still not global: for that we use the `nonlocal` keyword (more in the RealPython tutorial)."
   ]
  }
 ],
 "metadata": {
  "kernelspec": {
   "display_name": "poetic.machines (3.12.2)",
   "language": "python",
   "name": "python3"
  },
  "language_info": {
   "codemirror_mode": {
    "name": "ipython",
    "version": 3
   },
   "file_extension": ".py",
   "mimetype": "text/x-python",
   "name": "python",
   "nbconvert_exporter": "python",
   "pygments_lexer": "ipython3",
   "version": "3.12.2"
  }
 },
 "nbformat": 4,
 "nbformat_minor": 5
}
