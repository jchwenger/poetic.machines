{
 "cells": [
  {
   "cell_type": "markdown",
   "id": "7943ee00-ce61-4010-99f1-d3631d4c91b5",
   "metadata": {},
   "source": [
    "# Repetition & loops"
   ]
  },
  {
   "cell_type": "markdown",
   "id": "145286ed",
   "metadata": {},
   "source": [
    "**Loops** are another powerful way of repeating things many times, thus allowing you to do more by writing less code.\n",
    "\n",
    "If you recall our \"silencio\" example (yet again!), this is how it went:"
   ]
  },
  {
   "cell_type": "code",
   "execution_count": null,
   "id": "e3e6cb41-3399-417e-b9bb-4d76c6cc3c30",
   "metadata": {},
   "outputs": [],
   "source": [
    "# define our two lines\n",
    "line = \"silencio silencio silencio\"\n",
    "line_gap = \"silencio          silencio\""
   ]
  },
  {
   "cell_type": "code",
   "execution_count": null,
   "id": "93a4417b-3d02-47f0-9765-9dea6fa53436",
   "metadata": {},
   "outputs": [],
   "source": [
    "line"
   ]
  },
  {
   "cell_type": "code",
   "execution_count": null,
   "id": "a0166de7-1d12-4b4a-8a40-925bc9f77518",
   "metadata": {},
   "outputs": [],
   "source": [
    "line_gap"
   ]
  },
  {
   "cell_type": "code",
   "execution_count": null,
   "id": "54ca0cec-1b8f-423b-9bf0-8af35bdbe90f",
   "metadata": {},
   "outputs": [],
   "source": [
    "print(line)\n",
    "print(line)\n",
    "print(line_gap)\n",
    "print(line)\n",
    "print(line)"
   ]
  },
  {
   "cell_type": "markdown",
   "id": "f6b14d13-e8e3-4229-9c8c-2c130fc96c50",
   "metadata": {},
   "source": [
    "## `for` loop and `range`"
   ]
  },
  {
   "cell_type": "markdown",
   "id": "a17216bc-eef1-409c-bf89-80f510f6445d",
   "metadata": {},
   "source": [
    "[doc](https://docs.python.org/3/tutorial/controlflow.html#the-range-function)\n",
    "\n",
    "The `for` loop either creates a repetition:\n",
    "- for a fixed number of times, or\n",
    "- through all the elements of e.g. a list (in fact any `iterable` will do – no need to worry about that)\n",
    "\n",
    "**Advanced**: [w<sup>3</sup> iterators](https://www.w3schools.com/python/python_iterators.asp), [RealPython iterators & iterables](https://realpython.com/python-iterators-iterables/)"
   ]
  },
  {
   "cell_type": "code",
   "execution_count": null,
   "id": "dda51749-92f9-4125-9109-fc74be3329a2",
   "metadata": {},
   "outputs": [],
   "source": [
    "# we need to turn `range` into a list otherwise it remains just an\n",
    "# `iterator`: a little machine that waits for you to ask for the next\n",
    "# element (instead of giving them all in one go, like in a list)\n",
    "list(range(3))"
   ]
  },
  {
   "cell_type": "code",
   "execution_count": null,
   "id": "3ee153c8-ec1b-4853-a720-a9e4cb40c9ec",
   "metadata": {},
   "outputs": [],
   "source": [
    "# from 0 [inclusive] to 3 [exclusive]]\n",
    "for i in range(3):\n",
    "    print(i)"
   ]
  },
  {
   "cell_type": "code",
   "execution_count": null,
   "id": "4aaceb58-40bc-4f4a-af71-0cfb5726754f",
   "metadata": {},
   "outputs": [],
   "source": [
    "# define start and end\n",
    "for i in range(1,4):\n",
    "    print(i)    "
   ]
  },
  {
   "cell_type": "code",
   "execution_count": null,
   "id": "7fff77ab-2e99-4971-9841-02d6a759ff1f",
   "metadata": {
    "scrolled": true
   },
   "outputs": [],
   "source": [
    "# step size of two - similar logic as slicing\n",
    "for i in range(0,6,2):\n",
    "    print(i)    "
   ]
  },
  {
   "cell_type": "code",
   "execution_count": null,
   "id": "31cbab35-dda9-4824-bedc-5930dff89941",
   "metadata": {},
   "outputs": [],
   "source": [
    "# `-` step size goes in reverse\n",
    "for i in range(3,0,-1):\n",
    "    print(i)    "
   ]
  },
  {
   "cell_type": "code",
   "execution_count": null,
   "id": "3e4161b1-59e7-4c4a-9957-b6889441cc69",
   "metadata": {},
   "outputs": [],
   "source": [
    "# instead of copy-pasting `print` over and over:\n",
    "# the massive silencio column! (click 'view as scrollable element`)!\n",
    "for i in range(1000):\n",
    "    print(line)"
   ]
  },
  {
   "cell_type": "markdown",
   "id": "384f53f1-c06c-4c8d-8299-ae5f3d47c571",
   "metadata": {},
   "source": [
    "## `break`, `continue`, `pass`"
   ]
  },
  {
   "cell_type": "markdown",
   "id": "33f0baae-1742-438e-93d4-a138d670c67e",
   "metadata": {},
   "source": [
    "[`break` & `continue` doc](https://docs.python.org/3/tutorial/controlflow.html#break-and-continue-statements)  \n",
    "[`pass` doc](https://docs.python.org/3/tutorial/controlflow.html#pass-statements)\n",
    "\n",
    "There are specific keywords associated with loops that are useful to know. Their use might not be immediately apparent now, but they will come in handy later!"
   ]
  },
  {
   "cell_type": "code",
   "execution_count": null,
   "id": "407804e5",
   "metadata": {},
   "outputs": [],
   "source": [
    "# define our poem as a list\n",
    "poem = [line, line, line_gap, line, line]"
   ]
  },
  {
   "cell_type": "code",
   "execution_count": null,
   "id": "88b36712-0df8-4a71-b63a-108a4eaf0347",
   "metadata": {},
   "outputs": [],
   "source": [
    "for l in poem:\n",
    "    print(l)\n",
    "    # stops the loop\n",
    "    break"
   ]
  },
  {
   "cell_type": "code",
   "execution_count": null,
   "id": "f7c8c1ae-53bf-40a6-82a2-01cf2eeedcc3",
   "metadata": {},
   "outputs": [],
   "source": [
    "for l in poem:\n",
    "    print(\"about to print a poem line:\")\n",
    "    # skip to the next iteration\n",
    "    continue\n",
    "    # (this never gets printed)\n",
    "    print(l)"
   ]
  },
  {
   "cell_type": "code",
   "execution_count": null,
   "id": "6a2f8c49-2240-4d8b-9dba-324c0d06ef82",
   "metadata": {},
   "outputs": [],
   "source": [
    "for l in poem:\n",
    "    # does nothing at all, helpful sometimes when you need a placeholder\n",
    "    pass"
   ]
  },
  {
   "cell_type": "markdown",
   "id": "ff5af747-b6f9-49ff-b1bf-02bd35dbf125",
   "metadata": {},
   "source": [
    "## `while` loop"
   ]
  },
  {
   "cell_type": "markdown",
   "id": "ba972f65-21ea-46a7-a089-0876db5126c9",
   "metadata": {},
   "source": [
    "[doc](https://docs.python.org/3/reference/compound_stmts.html#while)\n",
    "\n",
    "The `while` loop, unlike the `for` loop, evaluates a **condition**: if that condition is `True` (boolean), then the loop continues. This allows us to create loops that potentially run forever, or run for a number of iterations that is unknown in advance, or depends on some event happening, etc."
   ]
  },
  {
   "cell_type": "code",
   "execution_count": null,
   "id": "64a600b3-c030-4834-a646-62dbe3fa6e3c",
   "metadata": {},
   "outputs": [],
   "source": [
    "# here we define a variable, and increment it\n",
    "# at each iteration of the loop – once reaching\n",
    "# 5, `i < 5` will fail, and the loop will stop\n",
    "\n",
    "i = 0\n",
    "while i < 5:\n",
    "    print(line)\n",
    "    i += 1"
   ]
  },
  {
   "cell_type": "code",
   "execution_count": null,
   "id": "d35f08c9-3733-4ba8-9db7-3053348bd320",
   "metadata": {},
   "outputs": [],
   "source": [
    "# how to create an infinite loop?\n",
    "while True:\n",
    "    print(\"repeating forever!\")\n",
    "    # if you comment this out, this will run for ever\n",
    "    break"
   ]
  },
  {
   "cell_type": "markdown",
   "id": "2932fb82",
   "metadata": {},
   "source": [
    "### Jörg Piringer's \"presence\""
   ]
  },
  {
   "cell_type": "code",
   "execution_count": null,
   "id": "6abce5f9",
   "metadata": {},
   "outputs": [],
   "source": [
    "from IPython.display import YouTubeVideo\n",
    "YouTubeVideo(\"dEJgt800ylk\", width=853, height=480, start=77) #  LiKE 2017: Jorg Piringer - Coded poetry "
   ]
  },
  {
   "cell_type": "code",
   "execution_count": null,
   "id": "2a0ec8b9",
   "metadata": {},
   "outputs": [],
   "source": [
    "# here I use two extra things: time to be able to\n",
    "# stop my program for a certain time (`sleep`: takes in seconds)\n",
    "# and `clear_output` clears the cell output\n",
    "import time\n",
    "from IPython.display import clear_output\n",
    "\n",
    "# this will literally run forever: press □ on the left to stop\n",
    "while True:\n",
    "    print(\"now\")\n",
    "    time.sleep(.6)\n",
    "    clear_output()"
   ]
  },
  {
   "cell_type": "markdown",
   "id": "924cd86d-3964-4e23-a43b-786ae012d28a",
   "metadata": {},
   "source": [
    "## Nesting loops"
   ]
  },
  {
   "cell_type": "markdown",
   "id": "090c5aa6-65ca-4a39-b13a-adadc088d6bf",
   "metadata": {},
   "source": [
    "Nothing prevents us from writing a loop inside another loop! Things can get complicated pretty quickly."
   ]
  },
  {
   "cell_type": "code",
   "execution_count": null,
   "id": "ecc1518e-a6aa-47dd-a7f3-397ad87b19f6",
   "metadata": {},
   "outputs": [],
   "source": [
    "word = \"silencio\"\n",
    "\n",
    "# loop 1\n",
    "for i in range(5):\n",
    "    line = \"\"\n",
    "    # loop 2\n",
    "    for j in range(3):\n",
    "        line += word + \" \"\n",
    "    print(line)"
   ]
  },
  {
   "cell_type": "markdown",
   "id": "1579e09f-bae0-4cb4-b899-37b192202b7c",
   "metadata": {},
   "source": [
    "## Useful tools"
   ]
  },
  {
   "cell_type": "markdown",
   "id": "47b5fdae-8099-43f0-b58a-51f11863a6f9",
   "metadata": {},
   "source": [
    "### enumerate"
   ]
  },
  {
   "cell_type": "markdown",
   "id": "cda94b3a-1f07-4767-a5e8-3b8a5dfec40b",
   "metadata": {},
   "source": [
    "[doc](https://docs.python.org/3/library/functions.html#enumerate)\n",
    "\n",
    "When iterating over a list (in fact any `iterable` container), it is often very useful to know at which **index** we are in the process. This is what `enumerate` gives us."
   ]
  },
  {
   "cell_type": "code",
   "execution_count": null,
   "id": "b2969d1e-0be0-4063-875f-276725d1d14b",
   "metadata": {},
   "outputs": [],
   "source": [
    "operations = [\n",
    "    \"Resolved 141 packages in 727ms\",\n",
    "    \"Prepared 1 package in 147ms\",\n",
    "    \"Uninstalled 1 package in 5ms\",\n",
    "    \"Installed 3 packages in 8ms\",\n",
    "]\n",
    "\n",
    "# this allows us to *add* an index to any loop\n",
    "# `i` and `op` are both variable names of our choosing\n",
    "for i, op in enumerate(operations):\n",
    "    print(f\"Operation {i}: {op}\")"
   ]
  },
  {
   "cell_type": "markdown",
   "id": "7b4c77f8-7972-4583-89a3-1fd9bd026af2",
   "metadata": {},
   "source": [
    "### zip"
   ]
  },
  {
   "cell_type": "markdown",
   "id": "94a3f9fd-ff0e-4071-b527-8ea459e73243",
   "metadata": {},
   "source": [
    "[doc](https://docs.python.org/3/library/functions.html#zip)\n",
    "\n",
    "`zip` allows us to loop over two or more `iterables` that contain the same number of elements (if one is shorter than the other, the loop stops when reaching the end of the shortest one)."
   ]
  },
  {
   "cell_type": "code",
   "execution_count": null,
   "id": "46fb0b25-0dd8-4b80-82b2-89775ff672a9",
   "metadata": {},
   "outputs": [],
   "source": [
    "words = [\"phono\", \"ethno\", \"philo\"]\n",
    "endings = [\"logy\", \"graphy\"\"sophy\"]\n",
    "\n",
    "\n",
    "for start, end in zip(words, endings):\n",
    "    print(f\"{start} + {end} = {start + end}\")"
   ]
  },
  {
   "cell_type": "markdown",
   "id": "860fc2cc-a9b7-446b-aed7-30762153b96d",
   "metadata": {},
   "source": [
    "### zip_longest"
   ]
  },
  {
   "cell_type": "markdown",
   "id": "4b3d0727-218e-4907-a08e-d34f45381bb1",
   "metadata": {},
   "source": [
    "[doc](https://docs.python.org/3/library/itertools.html#itertools.zip_longest)\n",
    "\n",
    "`zip_longest` allows us to handle `iterables` of unequal length."
   ]
  },
  {
   "cell_type": "code",
   "execution_count": null,
   "id": "237c3cd3-c0e9-4ec7-8032-a754b4e4c335",
   "metadata": {},
   "outputs": [],
   "source": [
    "words = [\"phono\", \"ethno\", \"philo\", \"narrato\", \"pluto\", \"maniaco\"]\n",
    "endings = [\"logy\", \"graphy\", \"sophy\"]\n",
    "\n",
    "# a regular zip will stop where the shortest one stops\n",
    "for start, end in zip(words, endings):\n",
    "    print(f\"{start} + {end} = {start}{end}\")"
   ]
  },
  {
   "cell_type": "code",
   "execution_count": null,
   "id": "3400d79f-f868-4695-a7ea-b672e06c4563",
   "metadata": {},
   "outputs": [],
   "source": [
    "from itertools import zip_longest\n",
    "\n",
    "# with zip_longest, you have the option of looping to the end of the longest one\n",
    "# (when the shortest is finished, `zip_longest` yields None!, but there's an option\n",
    "# to use a default filler value\n",
    "for start, end in zip_longest(words, endings, fillvalue=\"cracy\"):\n",
    "    print(f\"{start} + {end} = {start}{end}\")"
   ]
  },
  {
   "cell_type": "markdown",
   "id": "ef07d754-ac6e-4db4-8a3d-f7b5fbd6d1e4",
   "metadata": {},
   "source": [
    "## Comprehensions"
   ]
  },
  {
   "cell_type": "markdown",
   "id": "08735bf5-70f3-436c-8eba-2e5c02b392f9",
   "metadata": {},
   "source": [
    "[tutorial](https://docs.python.org/3/tutorial/datastructures.html#list-comprehensions)  \n",
    "[other tutorial](https://book.pythontips.com/en/latest/comprehensions.html)\n",
    "\n",
    "Comprehensions are a very [\"Pythonic\"](https://realpython.com/ref/glossary/pythonic/) way of doing – very *idiomatic* of the Python programming language. It allows us to use loops to create lists in elegant one-liners."
   ]
  },
  {
   "cell_type": "code",
   "execution_count": null,
   "id": "373970d2-ec04-464c-8da5-a952f5e5f506",
   "metadata": {},
   "outputs": [],
   "source": [
    "[print(l) for l in poem]\n",
    "\n",
    "# same as:\n",
    "# for l in poem:\n",
    "#     print(l)\n",
    "\n",
    "# note that by doing that we implicitly create a list,\n",
    "# the [None, None, None, None, None] – print() returns None..."
   ]
  },
  {
   "cell_type": "code",
   "execution_count": null,
   "id": "9af5c3e0-bfd1-4f50-b540-71f061a52872",
   "metadata": {},
   "outputs": [],
   "source": [
    "# NOTE: see how the multiple loops in the comprehension are written\n",
    "# in the same order as in the normal loop!\n",
    "# also, by convention, we use `_` for a variable we don't use\n",
    "# (here I just remove the [None, ...] output\n",
    "_ = [print(l) for _ in range(3) for l in poem]\n",
    "\n",
    "# # same as\n",
    "# for _ in range(3):\n",
    "#     for l in poem:\n",
    "#         print(l)"
   ]
  },
  {
   "cell_type": "markdown",
   "id": "bbda26d8-000e-4dd8-8a15-1cf97187694b",
   "metadata": {},
   "source": [
    "## Rythmes et silences"
   ]
  },
  {
   "cell_type": "markdown",
   "id": "3962ed4d",
   "metadata": {},
   "source": [
    "By combining the tools at our disposal, loops, variables, indices and slicing, we can use code to recreate many poems that implicitly use the same systematic logic. Below is one example by Ilse Garnier."
   ]
  },
  {
   "cell_type": "markdown",
   "id": "b6d28a89-f5c6-4055-9a7a-9bbdf9529bae",
   "metadata": {},
   "source": [
    "![Ilse Garnier, Rhytmes et silences]( ../../pics/Garnier.rythmes-silences.2.jpg  )\n",
    "\n",
    "[source](https://poezibao.typepad.com/poezibao/2011/05/anthologie-permanente-ilse-garnier.html)"
   ]
  },
  {
   "cell_type": "code",
   "execution_count": null,
   "id": "2722f7ee-8e0c-405d-9d94-444858e36df8",
   "metadata": {},
   "outputs": [],
   "source": [
    "word1 = \"rythmes\"\n",
    "word2 = \"et\"\n",
    "word3 = \"silence\"\n",
    "\n",
    "# using the index to take one more character each iteration\n",
    "for i in range(0, len(word1)):\n",
    "    print(i, word1[:i+1])"
   ]
  },
  {
   "cell_type": "code",
   "execution_count": null,
   "id": "ff38e08b-600c-4e49-abd2-748096b06f62",
   "metadata": {},
   "outputs": [],
   "source": [
    "# using negative indices, we can start by the end\n",
    "for i in range(len(word1)):\n",
    "    print(-(i+1), word1[-(i+1):])"
   ]
  },
  {
   "cell_type": "code",
   "execution_count": null,
   "id": "5ffb522e-3d9f-4a74-a0d8-de8163d5e745",
   "metadata": {},
   "outputs": [],
   "source": [
    "# of course we want things right aligned:\n",
    "for i in range(len(word1)):\n",
    "    print(\" \" * (len(word1) - i - 1) + word1[-(i+1):])\n",
    "\n",
    "# same result, using the justification method str.rjust\n",
    "# for i in range(len(word1)):\n",
    "#     print(word1[-(i+1):].rjust(len(word1)))\n"
   ]
  },
  {
   "cell_type": "code",
   "execution_count": null,
   "id": "fc9c808f-6f64-4ad9-b740-18b84cd72931",
   "metadata": {},
   "outputs": [],
   "source": [
    "for i in range(len(word1)):\n",
    "    print(\" \" * (i + 1) + word1[(i+1):])\n",
    "\n",
    "# again, also possible using str.rjust\n",
    "# for i in range(len(word1)):\n",
    "#     print(word1[(i+1):].rjust(len(word1)))    "
   ]
  },
  {
   "cell_type": "code",
   "execution_count": null,
   "id": "1ad73d2a-1e2d-48b1-a98d-3124e8f4f3d0",
   "metadata": {},
   "outputs": [],
   "source": [
    "for i in range(len(word1)):\n",
    "    print(\" \" * (len(word1) - i - 1) + word1[-(i+1):])\n",
    "\n",
    "for i in range(len(word1)):\n",
    "    print(\" \" * (i + 1) + word1[(i+1):])    "
   ]
  },
  {
   "cell_type": "code",
   "execution_count": null,
   "id": "8f8d30cb-47aa-4334-ba2b-0ee009de2b59",
   "metadata": {},
   "outputs": [],
   "source": [
    "# the tricky bit here is that we have to write the poem line by line,\n",
    "# instead of e.g. 'painting' the left part, then middle, then right, \n",
    "# as we would do in canvas\n",
    "\n",
    "gap = \" \" * 4\n",
    "\n",
    "# top part\n",
    "for i in range(len(word1)):\n",
    "\n",
    "    if i < len(word1) - 1:\n",
    "        #     left                                        + gap + word2 gap        + gap + right\n",
    "        print(\" \" * (len(word1) - i - 1) + word1[-(i+1):] + gap + \" \" * len(word2) + gap + word3[:(i+1)])\n",
    "    else:\n",
    "        #     left                                        + gap + word2 + gap + right\n",
    "        print(\" \" * (len(word1) - i - 1) + word1[-(i+1):] + gap + word2 + gap + word3[:(i+1)])\n",
    "\n",
    "# bottom part\n",
    "for i in range(len(word1)):\n",
    "    #     left                          + gap + word2 gap        + gap + right\n",
    "    print(\" \" * (i + 1) + word1[(i+1):] + gap + \" \" * len(word2) + gap + word3[:len(word3) - (i+1)])"
   ]
  }
 ],
 "metadata": {
  "kernelspec": {
   "display_name": "Python 3 (ipykernel)",
   "language": "python",
   "name": "python3"
  },
  "language_info": {
   "codemirror_mode": {
    "name": "ipython",
    "version": 3
   },
   "file_extension": ".py",
   "mimetype": "text/x-python",
   "name": "python",
   "nbconvert_exporter": "python",
   "pygments_lexer": "ipython3",
   "version": "3.12.11"
  }
 },
 "nbformat": 4,
 "nbformat_minor": 5
}
