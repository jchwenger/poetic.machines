{
 "cells": [
  {
   "cell_type": "markdown",
   "id": "8b40af28-527e-4441-b9ff-fe046fc46fd7",
   "metadata": {},
   "source": [
    "# Data Structures: Arrays"
   ]
  },
  {
   "cell_type": "markdown",
   "id": "be859b1b-dc85-45b9-a198-2d5700994ffb",
   "metadata": {},
   "source": [
    "[doc](https://docs.python.org/3/library/stdtypes.html#sequence-types-list-tuple-range)  \n",
    "[tutorial](https://docs.python.org/3/tutorial/introduction.html#lists)"
   ]
  },
  {
   "cell_type": "markdown",
   "id": "bbcb3c15-476a-4262-894e-12d11b01e93a",
   "metadata": {},
   "source": [
    "## Lists"
   ]
  },
  {
   "cell_type": "markdown",
   "id": "e9b5bcf4-f574-44ea-9cf8-78a73e2caf70",
   "metadata": {},
   "source": [
    "[doc](https://docs.python.org/3/library/stdtypes.html#list)\n",
    "\n",
    "What are lists? Lists are *containers*, aka **arrays** (if you remember my metaphor for variables, as boxes, this is one level up: boxes of boxes). In Python, lists are not only *mutable* (which means their size isn't set in advance), but they can also contain various data types (you can mix and match `str`, `int`, etc.)!"
   ]
  },
  {
   "cell_type": "code",
   "execution_count": 4,
   "id": "4c7734de-a7fd-4bd3-a8af-e1f6e4f20979",
   "metadata": {},
   "outputs": [],
   "source": [
    "line = \"silencio silencio silencio\"\n",
    "line_gap = \"silencio          silencio\""
   ]
  },
  {
   "cell_type": "code",
   "execution_count": null,
   "id": "e2dbb50b-b509-448b-b7da-b659a6efe5b9",
   "metadata": {},
   "outputs": [],
   "source": [
    "# we can create a 'poem' with many times the same line\n",
    "poem_list = [line, line, line, line, line]\n",
    "print(\"\\n\".join(poem_list))"
   ]
  },
  {
   "cell_type": "code",
   "execution_count": null,
   "id": "158a0ccc-86df-4f71-9a68-80865cee19cd",
   "metadata": {},
   "outputs": [],
   "source": [
    "# with lists, since they are mutable, we can change elements within them\n",
    "# the third element is now the line with a gap\n",
    "poem_list[2] = line_gap\n",
    "print(\"\\n\".join(poem_list))"
   ]
  },
  {
   "cell_type": "markdown",
   "id": "d31317ea-0877-4910-ab7f-14fa461c2813",
   "metadata": {},
   "source": [
    "### Indexing"
   ]
  },
  {
   "cell_type": "markdown",
   "id": "b672d880-0d23-470b-860b-2c496a991ed2",
   "metadata": {},
   "source": [
    "(works exactly the same as with strings)"
   ]
  },
  {
   "cell_type": "code",
   "execution_count": null,
   "id": "0fa6dffa-2059-412a-9eb8-c79474956f0e",
   "metadata": {},
   "outputs": [],
   "source": [
    "# first two lines\n",
    "print(poem_list[:2])\n",
    "\n",
    "# the third line (this returns just the element – a string:\n",
    "# if you wanted a list with one element only, how would you do it?)\n",
    "print(poem_list[2])\n",
    "\n",
    "# from the fourth to the end\n",
    "print(poem_list[-2:])"
   ]
  },
  {
   "cell_type": "markdown",
   "id": "bf46f10c-b4d4-44aa-a7e6-50ab0be7f22d",
   "metadata": {},
   "source": [
    "### Concatenation (addition)"
   ]
  },
  {
   "cell_type": "code",
   "execution_count": null,
   "id": "77ed19f2-c820-46fb-ba0d-df5bfce27d79",
   "metadata": {},
   "outputs": [],
   "source": [
    "first_list = [\"but\", \"yet\"]\n",
    "second_list = [\"however\", \"notwithstanding\", \"absolutely\"]\n",
    "\n",
    "# `+` concatenates the two\n",
    "full_list = first_list + second_list\n",
    "print(full_list)"
   ]
  },
  {
   "cell_type": "markdown",
   "id": "1b1a34e6",
   "metadata": {},
   "source": [
    "## Multiplication (repetition)"
   ]
  },
  {
   "cell_type": "code",
   "execution_count": null,
   "id": "23eedf7f",
   "metadata": {},
   "outputs": [],
   "source": [
    "many_exclamations = [\"!\", \"?\"] * 1000\n",
    "\n",
    "print(many_exclamations)"
   ]
  },
  {
   "cell_type": "markdown",
   "id": "40dee28d-b7b2-4181-9ab5-acbaf7422c54",
   "metadata": {},
   "source": [
    "### Methods"
   ]
  },
  {
   "cell_type": "markdown",
   "id": "21cdc953-91a3-4826-ab39-f8fe9d49fe96",
   "metadata": {},
   "source": [
    "[doc](https://docs.python.org/3/tutorial/datastructures.html#more-on-lists)\n",
    "\n",
    "Just like strings, lists ship with `methods` (aka \"associated functionalities\"). The most frequently used are:\n",
    "- `.append`: append the argument as element;\n",
    "- `.extend`: append the elements of the argument as elements;\n",
    "- `.remove`: remove the given element;\n",
    "- `.insert`: insert element at index;\n",
    "- `.pop`: remove element whilst retrieving it."
   ]
  },
  {
   "cell_type": "markdown",
   "id": "4baa2550",
   "metadata": {},
   "source": [
    "**Note**\n",
    "\n",
    "[del statement](https://docs.python.org/3/tutorial/datastructures.html#the-del-statement)  \n",
    "[RealPython tutorial](https://realpython.com/ref/keywords/del/)"
   ]
  },
  {
   "cell_type": "code",
   "execution_count": null,
   "id": "fb201248-4371-4b97-9b12-17304311e2ca",
   "metadata": {},
   "outputs": [],
   "source": [
    "list_test = [1, 2, 3, 4]\n",
    "print(list_test)\n",
    "\n",
    "# appending one element\n",
    "list_test.append(5)\n",
    "print(list_test)"
   ]
  },
  {
   "cell_type": "code",
   "execution_count": null,
   "id": "d67a3026-bc12-4139-bd02-0eab42c9f820",
   "metadata": {},
   "outputs": [],
   "source": [
    "other_list = [6, 7]\n",
    "\n",
    "# appending other_list *as element*\n",
    "list_test.append(other_list)\n",
    "print(list_test)"
   ]
  },
  {
   "cell_type": "code",
   "execution_count": null,
   "id": "c6d98d66-6873-4173-8312-15ad656cc1e0",
   "metadata": {},
   "outputs": [],
   "source": [
    "# ooops: remove that wrongly inserted list\n",
    "list_test.remove([6,7])\n",
    "\n",
    "# we could also have done this:\n",
    "# del list_test[-1]\n",
    "\n",
    "print(list_test)"
   ]
  },
  {
   "cell_type": "code",
   "execution_count": null,
   "id": "6850674f-bb5a-4cf9-92db-6facacc9e820",
   "metadata": {},
   "outputs": [],
   "source": [
    "# appending *the elements* of other_list\n",
    "list_test.extend(other_list)\n",
    "print(list_test)"
   ]
  },
  {
   "cell_type": "code",
   "execution_count": null,
   "id": "398353f9-6d43-43d4-9838-d3132976f7bb",
   "metadata": {},
   "outputs": [],
   "source": [
    "# insert at position the element '-1'\n",
    "list_test.insert(0, -1)\n",
    "print(list_test)"
   ]
  },
  {
   "cell_type": "code",
   "execution_count": null,
   "id": "e58347e9-7038-49d2-a431-b6c00e31a309",
   "metadata": {},
   "outputs": [],
   "source": [
    "# without argument, gives you the last element and removes it from the list\n",
    "print(list_test.pop())\n",
    "print(list_test)"
   ]
  },
  {
   "cell_type": "code",
   "execution_count": null,
   "id": "716e08a8-2e80-4c57-bdd0-ced67b409225",
   "metadata": {},
   "outputs": [],
   "source": [
    "# it also takes as an argument the index of the element (and removes it from the list)\n",
    "print(list_test.pop(0))\n",
    "print(list_test)"
   ]
  },
  {
   "cell_type": "markdown",
   "id": "ea8b09c7-7a5f-4aaa-a4f5-009b47bfe8a0",
   "metadata": {},
   "source": [
    "There are a few more available in the doc!"
   ]
  },
  {
   "cell_type": "markdown",
   "id": "986e6546-4381-45b6-8d85-90de0bf91168",
   "metadata": {},
   "source": [
    "## Tuples"
   ]
  },
  {
   "cell_type": "markdown",
   "id": "3afbcda0-744b-4a11-b78c-43f6b4dad79f",
   "metadata": {},
   "source": [
    "[doc](https://docs.python.org/3/library/stdtypes.html#tuple)\n",
    "\n",
    "Same as lists, but **immutable** (once created, they cannot be changed – same idea as `const` in JavaScript). Can be useful in some contexts, but you don't need to be too worried about them for now."
   ]
  },
  {
   "cell_type": "code",
   "execution_count": null,
   "id": "0d1cbb0f-9ade-4d1f-90ed-3cecd8cf0738",
   "metadata": {},
   "outputs": [],
   "source": [
    "poem_tuple = (line, line, line, line, line)\n",
    "print(\"\\n\".join(poem_tuple))"
   ]
  },
  {
   "cell_type": "code",
   "execution_count": null,
   "id": "e9ec45f1-22d4-4e89-8c58-b0697c72a301",
   "metadata": {},
   "outputs": [],
   "source": [
    "# fails\n",
    "poem_tuple[2] = line_gap\n",
    "print(\"\\n\".join(poem_tuple))"
   ]
  }
 ],
 "metadata": {
  "kernelspec": {
   "display_name": "poetic.machines (3.12.2)",
   "language": "python",
   "name": "python3"
  },
  "language_info": {
   "codemirror_mode": {
    "name": "ipython",
    "version": 3
   },
   "file_extension": ".py",
   "mimetype": "text/x-python",
   "name": "python",
   "nbconvert_exporter": "python",
   "pygments_lexer": "ipython3",
   "version": "3.12.2"
  }
 },
 "nbformat": 4,
 "nbformat_minor": 5
}
