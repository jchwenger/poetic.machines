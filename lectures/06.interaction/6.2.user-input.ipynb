{
 "cells": [
  {
   "cell_type": "markdown",
   "id": "233c6f0c-6269-4c33-82ad-996cd543d836",
   "metadata": {},
   "source": [
    "# User Input"
   ]
  },
  {
   "cell_type": "markdown",
   "id": "7ac6a952-a412-47dd-903b-d756973e9ea0",
   "metadata": {},
   "source": [
    "[doc](https://docs.python.org/3/library/functions.html#input)"
   ]
  },
  {
   "cell_type": "code",
   "execution_count": null,
   "id": "4ec7213e-c0d6-4b0b-89a1-fe11ed580f86",
   "metadata": {},
   "outputs": [],
   "source": [
    "response = input(\"Type your name here: \")"
   ]
  },
  {
   "cell_type": "code",
   "execution_count": null,
   "id": "cd8ce70e-c0c0-4ee4-9db8-60707b47f9ba",
   "metadata": {},
   "outputs": [],
   "source": [
    "print(response)"
   ]
  },
  {
   "cell_type": "markdown",
   "id": "db3abaae-5aa6-4168-aaa7-e6dcc3201951",
   "metadata": {},
   "source": [
    "## Yes/no choice"
   ]
  },
  {
   "cell_type": "code",
   "execution_count": null,
   "id": "12da914f-0cc1-4f45-8a31-14e289661642",
   "metadata": {},
   "outputs": [],
   "source": [
    "# convention: capital for the default behaviour\n",
    "r = input(\"Do you want to continue? [Y/n]\").lower()\n",
    "\n",
    "done = False\n",
    "\n",
    "# use a loop to keep prompting the user\n",
    "while not done:\n",
    "    # if r is empty, defaults as yes\n",
    "    if not r or r in [\"y\", \"yes\"]:\n",
    "        print(\"The programme continues.\")\n",
    "    elif r in [\"n\", \"no\"]:\n",
    "        print(\"The programme stops.\")\n",
    "    else:\n",
    "        r = input(\"Answer not recognised, please try again. [Y/n]\").lower()\n",
    "        continue\n",
    "    done = True"
   ]
  },
  {
   "cell_type": "markdown",
   "id": "4bce1843-602a-4676-95dd-fd6344aebaa9",
   "metadata": {},
   "source": [
    "## Pick an option"
   ]
  },
  {
   "cell_type": "code",
   "execution_count": null,
   "id": "f02997ba-3bf0-469e-bed5-b34109e07394",
   "metadata": {},
   "outputs": [],
   "source": [
    "options = [\n",
    "    \"Countdown to anarchy initiated.\",\n",
    "    \"Our team will start laying out the foundations at once.\",\n",
    "    \"The world has been reset. Enjoy the big bang!\"]\n",
    "\n",
    "r = input(\"\"\"Options:\n",
    "1) Breed chaos.\n",
    "2) Build a structure.\n",
    "3) Tabula rasa.\n",
    "Which option do you choose? [Pick a number.]\\n\"\"\")\n",
    "\n",
    "done = False\n",
    "\n",
    "# use a loop to keep prompting the user\n",
    "while not done:\n",
    "    try:\n",
    "        # convert from human counting (from 1) to programming (from 0)\n",
    "        r = int(r) - 1\n",
    "        if r >= 0 and r < len(options):\n",
    "            # use the response as index to retrieve the option\n",
    "            choice = options[r]\n",
    "            break\n",
    "        else:\n",
    "            r = input(\"Only three options available, please try again. [Pick a number.]\\n\").lower()\n",
    "    except:\n",
    "        r = input(\"Answer not recognised, please try again. [Pick a number.]\\n\").lower()\n",
    "        continue\n",
    "\n",
    "print(\"-\" * 40)\n",
    "print(choice)"
   ]
  },
  {
   "cell_type": "markdown",
   "id": "149c6d0d-e3e1-41b9-a993-a03a621b132c",
   "metadata": {},
   "source": [
    "## Pattern matching"
   ]
  },
  {
   "cell_type": "markdown",
   "id": "3d819f3d-874b-4984-91b7-96933a89a2b6",
   "metadata": {},
   "source": [
    "[doc](https://docs.python.org/3/reference/compound_stmts.html#match)  \n",
    "[tutorial](https://docs.python.org/3/tutorial/controlflow.html#match-statements), [RealPython](https://realpython.com/structural-pattern-matching/)"
   ]
  },
  {
   "cell_type": "code",
   "execution_count": null,
   "id": "e4309559-4c2c-420b-b1c5-e9316e4fb557",
   "metadata": {},
   "outputs": [],
   "source": [
    "r = input(\"\"\"Please choose your character: \"\"\").lower()\n",
    "\n",
    "done = False\n",
    "\n",
    "match r:\n",
    "    case \"iris\":\n",
    "        print(\"Hello Iris.\")\n",
    "    case \"jeremie\":\n",
    "        print(\"Hello, Jérémie.\")\n",
    "    case _:\n",
    "        print(\"Hello, stranger.\")\n",
    "        \n",
    "print(\"Let the game begin!\")"
   ]
  }
 ],
 "metadata": {
  "kernelspec": {
   "display_name": "Python 3 (ipykernel)",
   "language": "python",
   "name": "python3"
  },
  "language_info": {
   "codemirror_mode": {
    "name": "ipython",
    "version": 3
   },
   "file_extension": ".py",
   "mimetype": "text/x-python",
   "name": "python",
   "nbconvert_exporter": "python",
   "pygments_lexer": "ipython3",
   "version": "3.12.2"
  }
 },
 "nbformat": 4,
 "nbformat_minor": 5
}
