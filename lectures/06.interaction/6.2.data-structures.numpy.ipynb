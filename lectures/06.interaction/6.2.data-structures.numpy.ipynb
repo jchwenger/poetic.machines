{
 "cells": [
  {
   "cell_type": "markdown",
   "id": "78e3a5be",
   "metadata": {},
   "source": [
    "# Data Structures: `NumPy`"
   ]
  },
  {
   "cell_type": "markdown",
   "id": "6cc62e54",
   "metadata": {},
   "source": [
    "[docs](https://numpy.org/doc/stable/reference/index.html)  \n",
    "[absolute basics for beginngers](https://numpy.org/doc/stable/user/absolute_beginners.html)  \n",
    "[quickstart](https://numpy.org/doc/stable/user/quickstart.html)  \n",
    "[w<sup>3</sup>](https://realpython.com/numpy-tutorial/), [RealPython](https://realpython.com/numpy-tutorial/)\n",
    "\n",
    "What is `NumPy`? It is a library providing additional functionalities for **arrays**. This not only becomes very useful for a lot of numerical manipulations, but also because of its underlying optimisations: operations on arrays are often faster than native Python loops!"
   ]
  },
  {
   "cell_type": "code",
   "execution_count": 1,
   "id": "3218c745",
   "metadata": {},
   "outputs": [],
   "source": [
    "# the convention is to give the alias `np`\n",
    "import numpy as np"
   ]
  },
  {
   "cell_type": "markdown",
   "id": "f12abbcc",
   "metadata": {},
   "source": [
    "## Array creation"
   ]
  },
  {
   "cell_type": "markdown",
   "id": "973cc24f",
   "metadata": {},
   "source": [
    "[absolute basics: creation](https://numpy.org/doc/stable/user/absolute_beginners.html#how-to-create-a-basic-array)  \n",
    "[quickstart: creation](https://numpy.org/doc/stable/user/quickstart.html#array-creation)\n",
    "\n",
    "[`np.array` doc](https://numpy.org/doc/stable/reference/generated/numpy.array.html)  \n",
    "[`np.ones` doc](https://numpy.org/doc/stable/reference/generated/numpy.ones.html)  \n",
    "[`np.zeros` doc](https://numpy.org/doc/stable/reference/generated/numpy.zeros.html)  \n",
    "[`np.arange` doc](https://numpy.org/doc/stable/reference/generated/numpy.arange.html)  \n",
    "[`np.linspace` doc](https://numpy.org/doc/stable/reference/generated/numpy.linspace.html)  "
   ]
  },
  {
   "cell_type": "code",
   "execution_count": null,
   "id": "e1e95a61",
   "metadata": {},
   "outputs": [],
   "source": [
    "python_list_of_lists = [[1,2,3],[4,5,6],[7,8,9]]\n",
    "\n",
    "# turn a Python list into a numpy array\n",
    "np_list_of_lists = np.array(python_list_of_lists)\n",
    "\n",
    "# # same as:\n",
    "# np_list_of_lists = np.array([[1,2,3],[4,5,6],[7,8,9]])\n",
    "\n",
    "np_list_of_lists"
   ]
  },
  {
   "cell_type": "code",
   "execution_count": null,
   "id": "5e369646",
   "metadata": {},
   "outputs": [],
   "source": [
    "# pass the shape as a tuple\n",
    "np.ones(shape=(3,3))\n",
    "# # same as:\n",
    "# np.ones((3,3))"
   ]
  },
  {
   "cell_type": "code",
   "execution_count": null,
   "id": "bceff522",
   "metadata": {},
   "outputs": [],
   "source": [
    "np.zeros((2,4))"
   ]
  },
  {
   "cell_type": "code",
   "execution_count": null,
   "id": "92d423e8",
   "metadata": {},
   "outputs": [],
   "source": [
    "np_range = np.arange(24)\n",
    "np_range"
   ]
  },
  {
   "cell_type": "code",
   "execution_count": null,
   "id": "74be023d",
   "metadata": {},
   "outputs": [],
   "source": [
    "# create 20 equally spaced numbers between -10 and 10\n",
    "np.linspace(-10, 10, 20)"
   ]
  },
  {
   "cell_type": "markdown",
   "id": "a45a06d6",
   "metadata": {},
   "source": [
    "## Array Shapes"
   ]
  },
  {
   "cell_type": "markdown",
   "id": "156f0d51",
   "metadata": {},
   "source": [
    "[absolute basics: attributes](https://numpy.org/doc/stable/user/absolute_beginners.html#array-attributes)  \n",
    "[quickstart: printing](https://numpy.org/doc/stable/user/quickstart.html#printing-arrays)"
   ]
  },
  {
   "cell_type": "code",
   "execution_count": null,
   "id": "635f3fa3",
   "metadata": {},
   "outputs": [],
   "source": [
    "np_list_of_lists"
   ]
  },
  {
   "cell_type": "code",
   "execution_count": null,
   "id": "77c4b83d",
   "metadata": {},
   "outputs": [],
   "source": [
    "# the shape is 3x3 (3 rows, 3 columns)\n",
    "np_list_of_lists.shape"
   ]
  },
  {
   "cell_type": "markdown",
   "id": "4afdf333",
   "metadata": {},
   "source": [
    "## Reshaping"
   ]
  },
  {
   "cell_type": "markdown",
   "id": "60e30831",
   "metadata": {},
   "source": [
    "[absolute basics: reshape](https://numpy.org/doc/stable/user/absolute_beginners.html#can-you-reshape-an-array)  \n",
    "[quickstart: printing](https://numpy.org/doc/stable/user/quickstart.html#printing-arrays)\n",
    "\n",
    "[`np.reshape` doc](https://numpy.org/doc/stable/reference/generated/numpy.reshape)"
   ]
  },
  {
   "cell_type": "code",
   "execution_count": null,
   "id": "d9a0030e",
   "metadata": {},
   "outputs": [],
   "source": [
    "np_range"
   ]
  },
  {
   "cell_type": "code",
   "execution_count": null,
   "id": "5c875fe8",
   "metadata": {},
   "outputs": [],
   "source": [
    "np_range.shape"
   ]
  },
  {
   "cell_type": "code",
   "execution_count": null,
   "id": "90d3ddc2",
   "metadata": {},
   "outputs": [],
   "source": [
    "# pass a tuple describing the shape (or separate arguments)\n",
    "# NOTE: it must be compatible with the number of elements! (2 x 12 = 24)\n",
    "np_range.reshape((2,12))\n",
    "\n",
    "# # same as\n",
    "# np_range.reshape(2,12)"
   ]
  },
  {
   "cell_type": "code",
   "execution_count": null,
   "id": "6ae8be02",
   "metadata": {},
   "outputs": [],
   "source": [
    "np_range.reshape((2,3,4))"
   ]
  },
  {
   "cell_type": "code",
   "execution_count": null,
   "id": "77a21992",
   "metadata": {},
   "outputs": [],
   "source": [
    "np_range.reshape((4,3,2))"
   ]
  },
  {
   "cell_type": "markdown",
   "id": "f2940845",
   "metadata": {},
   "source": [
    "## Indexing & Slicing"
   ]
  },
  {
   "cell_type": "markdown",
   "id": "03693d48",
   "metadata": {},
   "source": [
    "[absolute basics: indexing and slicing](https://numpy.org/doc/stable/user/absolute_beginners.html#indexing-and-slicing)  \n",
    "[quickstart: indexing, slicing and iterating](https://numpy.org/doc/stable/user/quickstart.html#indexing-slicing-and-iterating)"
   ]
  },
  {
   "cell_type": "code",
   "execution_count": null,
   "id": "a12d2372",
   "metadata": {},
   "outputs": [],
   "source": [
    "np_list_of_lists"
   ]
  },
  {
   "cell_type": "markdown",
   "id": "b54b25b7",
   "metadata": {},
   "source": [
    "If we want to select the first row, all fine, Python and NumPy are the same. But if we want the first **column**, then Python is clunky, requires a loop:"
   ]
  },
  {
   "cell_type": "code",
   "execution_count": null,
   "id": "40d60720",
   "metadata": {},
   "outputs": [],
   "source": [
    "# row ok\n",
    "print(python_list_of_lists[0])\n",
    "print(np_list_of_lists[0])"
   ]
  },
  {
   "cell_type": "code",
   "execution_count": null,
   "id": "0940eff2",
   "metadata": {},
   "outputs": [],
   "source": [
    "# column uh oh\n",
    "print([row[0] for row in python_list_of_lists])\n",
    "\n",
    "# yay indexing! \n",
    "# - ':' means all elements in the first dimension (all rows)\n",
    "# - '0' in the second dimension (first element of each column)\n",
    "print(np_list_of_lists[:, 0])"
   ]
  },
  {
   "cell_type": "code",
   "execution_count": null,
   "id": "a3a361c9",
   "metadata": {},
   "outputs": [],
   "source": [
    "np_list_of_lists"
   ]
  },
  {
   "cell_type": "code",
   "execution_count": null,
   "id": "4c16aa22",
   "metadata": {},
   "outputs": [],
   "source": [
    "# in each axis, slicing works exactly like in regular Python\n",
    "print(np_list_of_lists[1:3, 1])"
   ]
  },
  {
   "cell_type": "markdown",
   "id": "dadd8cd3",
   "metadata": {},
   "source": [
    "The `[]` syntax to select elements is the same, just with additional functionalities:\n",
    "\n",
    "```python\n",
    "      ← outer axes              inner axes →\n",
    "array[first axis, second axis, ... last axis]\n",
    "```"
   ]
  },
  {
   "cell_type": "code",
   "execution_count": null,
   "id": "563513fe",
   "metadata": {},
   "outputs": [],
   "source": [
    "# the use of `...` means: take everything in all the remaining axes\n",
    "print(np_list_of_lists[-1:, ...])"
   ]
  },
  {
   "cell_type": "markdown",
   "id": "4807049a",
   "metadata": {},
   "source": [
    "## Methods"
   ]
  },
  {
   "cell_type": "markdown",
   "id": "c88adacd",
   "metadata": {},
   "source": [
    "[absolute basics: more useful operations](https://numpy.org/doc/stable/user/absolute_beginners.html#more-useful-array-operations)  \n",
    "[quickstart: basic operations](https://numpy.org/doc/stable/user/quickstart.html#basic-operations)\n",
    "\n",
    "Many, many available operations! Often they can be found either as method (`array.max()`) or as functions (`np.max(array)`).\n",
    "\n",
    "Examples:\n",
    "- `.min() / .max()`\n",
    "- `.sum() / .mean() / .std()`\n",
    "- `.exp() / .log() / .sqrt() / etc.`"
   ]
  },
  {
   "cell_type": "code",
   "execution_count": null,
   "id": "032e95f9",
   "metadata": {},
   "outputs": [],
   "source": [
    "np_list_of_lists"
   ]
  },
  {
   "cell_type": "code",
   "execution_count": null,
   "id": "c6f5149d",
   "metadata": {},
   "outputs": [],
   "source": [
    "np_list_of_lists.max()"
   ]
  },
  {
   "cell_type": "code",
   "execution_count": null,
   "id": "26d8cc35",
   "metadata": {},
   "outputs": [],
   "source": [
    "# max of each column, try 1 for rows\n",
    "np_list_of_lists.max(axis=0)"
   ]
  },
  {
   "cell_type": "code",
   "execution_count": null,
   "id": "9b5b4458",
   "metadata": {},
   "outputs": [],
   "source": [
    "# can also accept an `axis` argument, like most methods\n",
    "np_list_of_lists.mean()"
   ]
  },
  {
   "cell_type": "markdown",
   "id": "99422f7b",
   "metadata": {},
   "source": [
    "## Random Numbers"
   ]
  },
  {
   "cell_type": "markdown",
   "id": "7ceef859",
   "metadata": {},
   "source": [
    "[Random Sampling doc](https://numpy.org/doc/stable/reference/random/index.html#random-sampling)  \n",
    "[RealPython tutorial](https://realpython.com/numpy-random-number-generator/)"
   ]
  },
  {
   "cell_type": "code",
   "execution_count": null,
   "id": "1c79fcf7",
   "metadata": {},
   "outputs": [],
   "source": [
    "seed = 42\n",
    "\n",
    "# instantiate a random number generator object\n",
    "rng = np.random.default_rng(seed)"
   ]
  },
  {
   "cell_type": "markdown",
   "id": "76b4c1c1",
   "metadata": {},
   "source": [
    "### Integers"
   ]
  },
  {
   "cell_type": "markdown",
   "id": "54d73a23",
   "metadata": {},
   "source": [
    "[`rng.integers` doc](https://numpy.org/doc/stable/reference/random/generated/numpy.random.Generator.integers.html)  \n",
    "[`np.random.randint` doc](https://numpy.org/doc/stable/reference/random/generated/numpy.random.RandomState.randint.html) (legacy)"
   ]
  },
  {
   "cell_type": "code",
   "execution_count": null,
   "id": "ee121b9f",
   "metadata": {},
   "outputs": [],
   "source": [
    "# create matrix of 2x2, integers from 0 to 10 [exclusive]\n",
    "rng.integers(0, 10, (2,2))\n",
    "\n",
    "# # old way:\n",
    "# np.random.randint(0, 10, (2,2))"
   ]
  },
  {
   "cell_type": "markdown",
   "id": "55c62e17",
   "metadata": {},
   "source": [
    "### Sequences"
   ]
  },
  {
   "cell_type": "markdown",
   "id": "c37a477f",
   "metadata": {},
   "source": [
    "[`rng.choice` doc](https://numpy.org/doc/stable/reference/random/generated/numpy.random.Generator.choice.html)  \n",
    "[`np.random.choice` doc](https://numpy.org/doc/stable/reference/random/generated/numpy.random.RandomState.choice.html) (legacy)"
   ]
  },
  {
   "cell_type": "code",
   "execution_count": null,
   "id": "e39965dc",
   "metadata": {},
   "outputs": [],
   "source": [
    "# create matrix of 2x2, numbers sampled uniformly from the given list, with replacement\n",
    "rng.choice([1,2,3,4,5,6], replace=True, size=(2,2))\n",
    "\n",
    "# # old way:\n",
    "# np.random.choice([1,2,3,4,5,6], replace=True, size=(2,2))"
   ]
  },
  {
   "cell_type": "markdown",
   "id": "4f5bb0f3",
   "metadata": {},
   "source": [
    "[`rng.shuffle` doc](https://numpy.org/doc/stable/reference/random/generated/numpy.random.Generator.shuffle.html)  \n",
    "[`np.random.shuffle` doc](https://numpy.org/doc/stable/reference/random/generated/numpy.random.RandomState.shuffle.html) (legacy)"
   ]
  },
  {
   "cell_type": "code",
   "execution_count": null,
   "id": "55a66a97",
   "metadata": {},
   "outputs": [],
   "source": [
    "# shuffle the elements in-place!\n",
    "a = [1,2,3,4,5,6]\n",
    "rng.shuffle(a)\n",
    "\n",
    "# # old way:\n",
    "# np.random.shuffle(a)\n",
    "a"
   ]
  },
  {
   "cell_type": "markdown",
   "id": "c6e165de",
   "metadata": {},
   "source": [
    "### Floats (distributions)"
   ]
  },
  {
   "cell_type": "markdown",
   "id": "1cb0a2db",
   "metadata": {},
   "source": [
    "[`rng.random` doc](https://numpy.org/doc/stable/reference/random/generated/numpy.random.Generator.random.html)  \n",
    "[`np.random.rand` doc](https://numpy.org/doc/stable/reference/random/generated/numpy.random.RandomState.rand.html) (legacy)"
   ]
  },
  {
   "cell_type": "code",
   "execution_count": null,
   "id": "a0110491",
   "metadata": {},
   "outputs": [],
   "source": [
    "# uniform distribution within [0, 1]\n",
    "rng.random()"
   ]
  },
  {
   "cell_type": "code",
   "execution_count": null,
   "id": "187a1a2f",
   "metadata": {},
   "outputs": [],
   "source": [
    "# create matrix of 2x2, numbers sampled from the uniform distribution, in [0, 1)\n",
    "rng.random(size=(2,2))"
   ]
  },
  {
   "cell_type": "markdown",
   "id": "08640764",
   "metadata": {},
   "source": [
    "[`rng.uniform` doc](https://numpy.org/doc/stable/reference/random/generated/numpy.random.Generator.uniform.html)   \n",
    "[`np.random.uniform` doc](https://numpy.org/doc/stable/reference/random/generated/numpy.random.RandomState.uniform.html) (legacy)"
   ]
  },
  {
   "cell_type": "code",
   "execution_count": null,
   "id": "b7f44ddf",
   "metadata": {},
   "outputs": [],
   "source": [
    "# create matrix of 2x2, numbers from a uniform distribution in [2, 3]\n",
    "rng.uniform(2, 4, size=(2,2))\n",
    "\n",
    "# # old way\n",
    "# np.random.uniform(2, 4, size=(2,2))"
   ]
  },
  {
   "cell_type": "markdown",
   "id": "6e1e1c30",
   "metadata": {},
   "source": [
    "[`rng.normal` doc](https://numpy.org/doc/stable/reference/random/generated/numpy.random.Generator.normal.html)  \n",
    "[`np.random.randn` doc](https://numpy.org/doc/stable/reference/random/generated/numpy.random.RandomState.randn.html) (legacy)  \n",
    "[`np.random.normal` doc](https://numpy.org/doc/stable/reference/random/generated/numpy.random.RandomState.normal.html) (legacy)"
   ]
  },
  {
   "cell_type": "code",
   "execution_count": null,
   "id": "b91ae167",
   "metadata": {},
   "outputs": [],
   "source": [
    "# one number sampled from a standard normal distribution\n",
    "rng.normal()"
   ]
  },
  {
   "cell_type": "code",
   "execution_count": null,
   "id": "62946bf3",
   "metadata": {},
   "outputs": [],
   "source": [
    "# create matrix of 2x2, numbers from a gaussian of mu 3, sigma 10\n",
    "# (`loc` is mu, `scale` is sigma)\n",
    "rng.normal(loc=3, scale=10, size=(2,2))\n",
    "\n",
    "# # old way, same matrix, numbers from standard normal (mu = 0, sigma = 1)\n",
    "# np.random.randn(2,2)\n",
    "\n",
    "# # old way, same matrix, numbers from a normal with mu = 3, sigma = 10\n",
    "# np.random.normal(loc=3, scale=10, size=(2,2))"
   ]
  },
  {
   "cell_type": "markdown",
   "id": "f3af3baa",
   "metadata": {},
   "source": [
    "## Extra: Broadcasting"
   ]
  },
  {
   "cell_type": "markdown",
   "id": "9d1f3586",
   "metadata": {},
   "source": [
    "[doc](https://numpy.org/doc/stable/user/basics.broadcasting.html)  \n",
    "[absolute basics: broadcasting](https://numpy.org/doc/stable/user/absolute_beginners.html#broadcasting)\n",
    "\n",
    "Broadcasting is one of the great powers of `NumPy`. It allows you to operate on an entire array in one go (again eliminating the need for loops)!\n",
    "\n",
    "![Sasha Rush, broadcasting](pics/srush-broadcasting.png)\n",
    "[Source](https://twitter.com/srush_nlp/status/1516781757596680194?t=RwVp5kUWPvHG-e42wo0ryw&s=19)"
   ]
  },
  {
   "cell_type": "code",
   "execution_count": null,
   "id": "a8783300",
   "metadata": {},
   "outputs": [],
   "source": [
    "# fails\n",
    "python_list_of_lists + 1"
   ]
  },
  {
   "cell_type": "code",
   "execution_count": null,
   "id": "560b34c9",
   "metadata": {},
   "outputs": [],
   "source": [
    "[[x + 1 for x in row] for row in python_list_of_lists]\n"
   ]
  },
  {
   "cell_type": "code",
   "execution_count": null,
   "id": "f64653fc",
   "metadata": {},
   "outputs": [],
   "source": [
    "np_list_of_lists + 1"
   ]
  },
  {
   "cell_type": "code",
   "execution_count": null,
   "id": "037f97b0",
   "metadata": {},
   "outputs": [],
   "source": [
    "# it's also possible to combine arrays\n",
    "np_row_vector = np.array([[5,10,15]])\n",
    "\n",
    "print(\"shape:\", np_row_vector.shape)\n",
    "print(np_row_vector)\n",
    "print()\n",
    "\n",
    "# add the vector to every row\n",
    "print(\"shape:\", np_list_of_lists.shape)\n",
    "print(np_list_of_lists + np_row_vector)"
   ]
  },
  {
   "cell_type": "code",
   "execution_count": null,
   "id": "06079082",
   "metadata": {},
   "outputs": [],
   "source": [
    "\n",
    "# `.T` transposes the vector, same as `np.transpose(np_row_vector)``\n",
    "np_column_vector = np_row_vector.T\n",
    "print(\"shape:\", np_column_vector.shape)\n",
    "print(np_column_vector)\n",
    "print()\n",
    "\n",
    "# add the vector to every column\n",
    "print(\"shape:\", np_list_of_lists.shape)\n",
    "print(np_list_of_lists + np_column_vector)\n"
   ]
  }
 ],
 "metadata": {
  "kernelspec": {
   "display_name": "poetic.machines",
   "language": "python",
   "name": "python3"
  },
  "language_info": {
   "codemirror_mode": {
    "name": "ipython",
    "version": 3
   },
   "file_extension": ".py",
   "mimetype": "text/x-python",
   "name": "python",
   "nbconvert_exporter": "python",
   "pygments_lexer": "ipython3",
   "version": "3.12.11"
  }
 },
 "nbformat": 4,
 "nbformat_minor": 5
}
