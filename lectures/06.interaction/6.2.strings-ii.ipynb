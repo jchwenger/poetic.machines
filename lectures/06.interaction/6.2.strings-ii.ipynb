{
 "cells": [
  {
   "cell_type": "markdown",
   "id": "1d5f634c-c382-425b-b934-4f68d0e5dafa",
   "metadata": {},
   "source": [
    "# Strings II"
   ]
  },
  {
   "cell_type": "code",
   "execution_count": null,
   "id": "a19be256-cb2f-4b30-ae6f-7c95dc72d1a2",
   "metadata": {},
   "outputs": [],
   "source": [
    "word = \"silencio\""
   ]
  },
  {
   "cell_type": "markdown",
   "id": "86a5eda1-24fd-4572-a014-acf57fdd75d0",
   "metadata": {},
   "source": [
    "## Regular Expressions"
   ]
  },
  {
   "cell_type": "markdown",
   "id": "3bc0000f-bd99-48b7-aac3-247bb39d25d0",
   "metadata": {},
   "source": [
    "[HOWTO](https://docs.python.org/3/howto/regex.html), [doc](https://docs.python.org/3/library/re.html)  \n",
    "[Coding Train series](https://www.youtube.com/watch?v=7DG3kCDx53c&list=PLRqwX-V7Uu6YEypLuls7iidwHMdCM6o2w)  \n",
    "[w<sub>3</sub> tutorial](https://www.w3schools.com/python/python_regex.asp), [RealPython tutorial 1](https://realpython.com/regex-python/), [tutorial 2](https://realpython.com/regex-python-part-2/)  \n",
    "[old ugly website with *everything*](https://www.regular-expressions.info/), [test online website](https://regex101.com/)"
   ]
  },
  {
   "cell_type": "code",
   "execution_count": null,
   "id": "ef8b0cc1-9767-4900-af37-0a8b9b08078c",
   "metadata": {},
   "outputs": [],
   "source": [
    "import re"
   ]
  },
  {
   "cell_type": "markdown",
   "id": "0c1d75a7-7d50-41c9-965e-360485eadd69",
   "metadata": {},
   "source": [
    "### Functions"
   ]
  },
  {
   "cell_type": "markdown",
   "id": "4836699f-e141-4e63-a9e0-d1a29bede371",
   "metadata": {},
   "source": [
    "[doc](https://docs.python.org/3/library/re.html#functions)"
   ]
  },
  {
   "cell_type": "markdown",
   "id": "c56430ec-9aa8-4d3e-a51e-fb57c7af658d",
   "metadata": {},
   "source": [
    "#### `re.search`"
   ]
  },
  {
   "cell_type": "markdown",
   "id": "615df5c4-07df-455e-9c72-f110f9a7d9a4",
   "metadata": {},
   "source": [
    "[(doc)](https://docs.python.org/3/library/re.html#re.search), returns a match if the pattern is found anywhere in the string."
   ]
  },
  {
   "cell_type": "code",
   "execution_count": null,
   "id": "59f371d1-4d8c-425f-86e2-350242046c6b",
   "metadata": {},
   "outputs": [],
   "source": [
    "print(word)\n",
    "match = re.search(\"si\", word)\n",
    "print(match)\n",
    "# use match. + tab to search options"
   ]
  },
  {
   "attachments": {},
   "cell_type": "markdown",
   "id": "fe584366-8320-4006-a6c8-3d94dc2a35f0",
   "metadata": {},
   "source": [
    "**Note**:  \n",
    "[walrus doc](https://docs.python.org/3/reference/expressions.html#grammar-token-python-grammar-assignment_expression)  \n",
    "[RealPython walrus tutorial](https://realpython.com/python-walrus-operator/)"
   ]
  },
  {
   "cell_type": "code",
   "execution_count": null,
   "id": "415c1e12-db5e-4ebd-8644-aca9913c0190",
   "metadata": {},
   "outputs": [],
   "source": [
    "# the so-called walrus operator: executes the right-hand side\n",
    "# and saves the result for reuse in one fell swoop!\n",
    "if m := re.search(\"si\", word):\n",
    "    print(f\"match found, span: {m.span()} ('{m[0]}')\") \n",
    "    print(f\"(span is just start: {m.start()}, end: {m.end()})\")\n",
    "    print(f\"string used: {m.string}\")\n",
    "    print(f\"regex used: {m.re}\")\n",
    "    print(f\"we can now slice {word} using indices: {word[m.start():m.end()]} + {word[m.end():]}\")"
   ]
  },
  {
   "cell_type": "markdown",
   "id": "ba3d913d-4f80-41cd-abda-40bda17e00dd",
   "metadata": {},
   "source": [
    "#### `re.finditer`"
   ]
  },
  {
   "cell_type": "markdown",
   "id": "25afcae8-c0ff-41df-a63d-d4b6fb7091e3",
   "metadata": {},
   "source": [
    "[(doc)](https://docs.python.org/3/library/re.html#re.finditer), returns an **iterator** with all the match objects (like `re.search`, but returning all matches, not just the first)."
   ]
  },
  {
   "cell_type": "code",
   "execution_count": null,
   "id": "5769c1eb-8afd-4c81-915a-58e32baceff2",
   "metadata": {},
   "outputs": [],
   "source": [
    "print(f\"Using `finditer` with '{pat.pattern}' on '{word}':\")\n",
    "for m in re.finditer(\"i\", word):\n",
    "    print(f\" - {m[0]} at {m.span()} ({m})\")"
   ]
  },
  {
   "cell_type": "code",
   "execution_count": null,
   "id": "aa4b8c3c-d1d4-4ae0-8b76-a1cdde078f95",
   "metadata": {},
   "outputs": [],
   "source": [
    "# how to get a list out of it?\n",
    "list(re.finditer(\"i\", word))"
   ]
  },
  {
   "cell_type": "markdown",
   "id": "c867e044-c7f4-4fb9-8112-be6fb7405653",
   "metadata": {},
   "source": [
    "##### More"
   ]
  },
  {
   "cell_type": "markdown",
   "id": "7f3c0455-0e9c-48cd-b6cf-18b2ea09689f",
   "metadata": {},
   "source": [
    "[`re.match` doc](https://docs.python.org/3/library/re.html#re.match) is like `re.search`, but the pattern must match the *beginning* of the string.  \n",
    "[`re.fullmatch` doc](https://docs.python.org/3/library/re.html#re.fullmatch) is like `re.search`, but the pattern must match the *entirety* of the string."
   ]
  },
  {
   "cell_type": "markdown",
   "id": "cd6d0696-e923-48f0-a852-e41b05f32fd2",
   "metadata": {},
   "source": [
    "[`re.compile` doc](https://docs.python.org/3/library/re.html#re.compile)\n",
    "\n",
    "Sometimes it can be useful to 'compile' the search pattern into an object, and reuse it (to perform the same search multiple times, say)."
   ]
  },
  {
   "cell_type": "code",
   "execution_count": null,
   "id": "edf78df0-093a-41f2-8d0c-30507a16ab5c",
   "metadata": {},
   "outputs": [],
   "source": [
    "# create a regex object\n",
    "pat = re.compile(\"si\")\n",
    "\n",
    "# same as:\n",
    "# print(re.match(pat, word))\n",
    "print(pat.match(word))"
   ]
  },
  {
   "cell_type": "markdown",
   "id": "fa99245f-35db-4593-b570-955ecbe4aaf3",
   "metadata": {},
   "source": [
    "[`re.findall` (doc)](https://docs.python.org/3/library/re.html#re.findall) returns a **list** with all the string snippets found when performing the search.  "
   ]
  },
  {
   "cell_type": "markdown",
   "id": "774a6b13-be8b-4a12-9bbd-eb9cd055df14",
   "metadata": {},
   "source": [
    "#### `re.split`"
   ]
  },
  {
   "cell_type": "markdown",
   "id": "8deb5b81-fb13-4ef1-ba41-84ff8309f623",
   "metadata": {},
   "source": [
    "[re.split doc](https://docs.python.org/3/library/re.html#re.split)  \n",
    "\n",
    "A more powerful version of `str.split()`..."
   ]
  },
  {
   "cell_type": "code",
   "execution_count": null,
   "id": "8398aa6d-f55e-49a1-8fc1-6b3227f8b6c7",
   "metadata": {},
   "outputs": [],
   "source": [
    "# pattern, string to split\n",
    "re.split(\"i\", word)"
   ]
  },
  {
   "cell_type": "code",
   "execution_count": null,
   "id": "cd212c36-8d21-445d-9f55-a33d02f2af0c",
   "metadata": {
    "editable": true,
    "slideshow": {
     "slide_type": ""
    },
    "tags": []
   },
   "outputs": [],
   "source": [
    "# adding groups (parentheses) will make it return the delimiter as well!\n",
    "# https://stackoverflow.com/a/2136580\n",
    "re.split(r\"(\\s)\", \"Longtemps je me couchai de bonne heure.\")"
   ]
  },
  {
   "cell_type": "markdown",
   "id": "38d9aeb9-27d1-4591-8d8a-aca6ec159586",
   "metadata": {},
   "source": [
    "#### `re.sub`"
   ]
  },
  {
   "cell_type": "markdown",
   "id": "9bd1f3c1-9706-48ef-8e15-0125480c0aa5",
   "metadata": {},
   "source": [
    "[re.sub doc](https://docs.python.org/3/library/re.html#re.sub)  \n",
    "\n",
    "A more powerful version of `str.replace()`..."
   ]
  },
  {
   "cell_type": "code",
   "execution_count": null,
   "id": "99478502-9408-456f-98ee-3758ce26cc42",
   "metadata": {},
   "outputs": [],
   "source": [
    "# pattern, replacement, string\n",
    "re.sub(\"i\", \"i\" * 5, word)"
   ]
  },
  {
   "cell_type": "markdown",
   "id": "ccd0be65-0f82-494b-b34d-e1030f930622",
   "metadata": {},
   "source": [
    "### Syntax"
   ]
  },
  {
   "cell_type": "markdown",
   "id": "be5bdf92-5690-4384-906e-92fe52e99cb5",
   "metadata": {},
   "source": [
    "[HOWTO metacharacters](https://docs.python.org/3/howto/regex.html#more-metacharacters)\n",
    "\n",
    "The power of regular expressions comes from the ability to build complex search patterns using a dedicated syntax.\n",
    "\n",
    "- `.`: represents any char except the newline\n",
    "- `^`: start of line (compare `\\A`, start of entire string)\n",
    "- `$`: end of line (compare `\\Z`, end of entire string)\n",
    "- `\\b` / `\\B`: a word boundary / its complement (not a boundary)"
   ]
  },
  {
   "cell_type": "code",
   "execution_count": null,
   "id": "684ef715-b84c-4863-aa4d-d100ab33c437",
   "metadata": {},
   "outputs": [],
   "source": [
    "print(re.match(r\".\", word))\n",
    "print(re.match(r\"^s\", word))\n",
    "print(re.search(r\"o$\", word))\n",
    "\n",
    "print(re.search(r\"len\", word))\n",
    "# len is inside 'silencio', will not match\n",
    "print(re.search(r\"\\blen\", word))"
   ]
  },
  {
   "cell_type": "markdown",
   "id": "f7d29f2a-4fa0-4d3b-852f-618191889f4a",
   "metadata": {},
   "source": [
    "#### Extra: Flags"
   ]
  },
  {
   "cell_type": "markdown",
   "id": "7ccb0ece-afbf-498f-951a-c64f3057fcfa",
   "metadata": {},
   "source": [
    "[HOWTO flags](https://docs.python.org/3/howto/regex.html#compilation-flags)\n",
    "\n",
    "- `re.DOTALL`: the dot also matches newlines\n",
    "- `re.IGNORECASE`: ignores the case in the pattern\n",
    "- `re.MULTILINE`: `^` / `$` now mean the beginning of the multiline string, not the beginning / end of each line\n",
    "\n",
    "These can also be set inside the pattern itself, search for `(?aiLmsux)` [here](https://docs.python.org/3/library/re.html#regular-expression-syntax) for the reference."
   ]
  },
  {
   "cell_type": "code",
   "execution_count": null,
   "id": "d4d84ddf-acaf-4ee3-a61d-9b979cae0918",
   "metadata": {},
   "outputs": [],
   "source": [
    "# S does not match with s\n",
    "pat = re.compile(r\"S\")\n",
    "print(re.match(pat, word))\n",
    "\n",
    "# now it does – same as re.compile(r\"(?i)S\")\n",
    "pat = re.compile(r\"S\", re.IGNORECASE)\n",
    "print(re.match(pat, word))"
   ]
  },
  {
   "cell_type": "markdown",
   "id": "3e5f6cb0-6bb1-4f75-a012-79c3854095dc",
   "metadata": {},
   "source": [
    "#### Character classes"
   ]
  },
  {
   "cell_type": "markdown",
   "id": "485a9a16-bf09-4468-9e8c-f2df4404bb18",
   "metadata": {},
   "source": [
    "[HOWTO matching characters](https://docs.python.org/3/howto/regex.html#matching-characters)\n",
    "\n",
    "- `\\d` / `\\D`: a number / not a number\n",
    "- `\\s` / `\\S`: a space character (` \\t\\n\\r\\f\\v`) / not a space\n",
    "- `\\w` / `\\W`: a word character (including numbers) / not a word character\n"
   ]
  },
  {
   "cell_type": "markdown",
   "id": "469c010d-cc6d-4cb3-be82-2b9f235d90a3",
   "metadata": {},
   "source": [
    "#### Repeaters (greedy / lazy)"
   ]
  },
  {
   "cell_type": "markdown",
   "id": "f1a4574f-47ae-4b1a-8ab2-742d61b34012",
   "metadata": {
    "editable": true,
    "slideshow": {
     "slide_type": ""
    },
    "tags": []
   },
   "source": [
    "[HOWTO repeating things](https://docs.python.org/3/howto/regex.html#repeating-things)  \n",
    "[HOWTO greedy/non-greedy](https://docs.python.org/3/howto/regex.html#greedy-versus-non-greedy)  \n",
    "\n",
    "| matches | greedy<sup>1</sup> | lazy<sup>2</sup> |\n",
    "| --- | --- | --- |\n",
    "| 0 or 1 of<br>previous item<sup>3</sup> | `?` | |\n",
    "| zero or more of<br>previous item<sup>3</sup>  |`*` | `*?` |\n",
    "| one or more of<br>previous item<sup>3</sup> | `+` | `+?` |\n",
    "|  from `m` to `n` repetitions | `{m,n}` |  `{m,n}?` |\n",
    "\n",
    "1: **greedy**: matches as much text as possible  \n",
    "2: **lazy**: as little as possible  \n",
    "3: this either a character (`ab+` matches `abbbbb`), or a group (`a(bc)+` matches `abcbcbcbc`)"
   ]
  },
  {
   "cell_type": "code",
   "execution_count": null,
   "id": "c6c505e9-2ed8-4db5-9fc9-6a615480293e",
   "metadata": {},
   "outputs": [],
   "source": [
    "s = \"what what what what is the word\"\n",
    "match_greedy = re.match(r\"(what )+\", s)\n",
    "match_lazy = re.match(r\"(what )+?\", s)\n",
    "\n",
    "print(f\"Greedy match: {match_greedy}\")\n",
    "print(f\"Greedy match: {match_lazy}\")"
   ]
  },
  {
   "cell_type": "markdown",
   "id": "659729dd-4209-481f-96e4-7f26b51dbfde",
   "metadata": {},
   "source": [
    "#### Extra: Capture groups"
   ]
  },
  {
   "cell_type": "markdown",
   "id": "e6219b42-6153-49f4-81e2-e2a6be230c02",
   "metadata": {},
   "source": [
    "[HOWTO grouping](https://docs.python.org/3/howto/regex.html#grouping)\n",
    "\n",
    "- `[xyz]`: defines a *character set*, i.e. any of the characters x, y or z (similar to above)  \n",
    "  `[a-z]`: for a range (matches all chars from a to z)  \n",
    "  `[^xyz]`: the negative of a character set, i.e. all chars that are *not* x, y or z\n",
    "- `()`: define a *group* (see below)  \n",
    "  `\\(\\)`: to search for actual parentheses (they must be *escaped* using a slash)\n",
    "- `(x|y|z)`: defines a regex *OR* (match either x, y or z)  \n",
    "  `\\|`: to search for an actual vertical bar (same, must be *escaped*)\n"
   ]
  },
  {
   "cell_type": "code",
   "execution_count": null,
   "id": "515dc66c-0ab5-4bfb-90cc-4ca685b628d8",
   "metadata": {},
   "outputs": [],
   "source": [
    "s = \"Regular expressions (called REs, or regexes, or regex patterns) are essentially a tiny, highly specialized programming language embedded inside Python and made available through the re module. Using this little language, you specify the rules for the set of possible strings that you want to match; this set might contain English sentences, or e-mail addresses, or TeX commands, or anything you like. You can then ask questions such as “Does this string match the pattern?”, or “Is there a match for the pattern anywhere in this string?”. You can also use REs to modify a string or to split it apart in various ways.\"\n",
    "\n",
    "print(s)\n",
    "print()\n",
    "\n",
    "# selecting only snippets of the text using the letters forming `Jeremie` (caps/no-caps)\n",
    "print(re.sub(r\"[^jeremieJEREMIE]+\", \" ■ \", s))\n",
    "print()\n",
    "\n",
    "# selecting the complement (only letters *not* using those letters)\n",
    "print(re.sub(r\"[jeremieJEREMIE]+\", \" □ \", s))"
   ]
  },
  {
   "cell_type": "code",
   "execution_count": null,
   "id": "b00fded8-c24a-4b6d-a24f-72df9eaee552",
   "metadata": {},
   "outputs": [],
   "source": [
    "# source: https://resources.saylor.org/wwwresources/archived/site/wp-content/uploads/2011/01/Waiting-for-Godot.pdf\n",
    "s = \"\"\"\n",
    "POZZO:\n",
    "(peremptory). Who is Godot?\n",
    "ESTRAGON:\n",
    "Godot?\n",
    "POZZO:\n",
    "You took me for Godot.\n",
    "VLADIMIR:\n",
    "Oh no, Sir, not for an instant, Sir.\n",
    "\"\"\"\n",
    "\n",
    "# searching for either V or E speaking, a newline, and the entire line \n",
    "# p to the end (what they say) – selecting their lines only, removing Pozzo\n",
    "for m in re.finditer(r\"(VLADIMIR:|ESTRAGON:)\\n.*\", s):\n",
    "    print(m)\n",
    "print()\n",
    "\n",
    "# searching for any number of word characters inside actual parentheses\n",
    "print(re.search(r\"\\(\\w+\\)\", s))"
   ]
  },
  {
   "cell_type": "code",
   "execution_count": null,
   "id": "fe2225ed-9d66-42fb-ae53-d9be096f9f04",
   "metadata": {},
   "outputs": [],
   "source": [
    "messy_string = \"2234    234 58948   2080 345 455    0345\"\n",
    "\n",
    "# (\\d): a first group containing a number (recalled with \\1)\n",
    "# \\s+: one or more spaces\n",
    "# (\\d): a second group containing just one number (recalled with \\2)\n",
    "pat = re.compile(r\"(\\d)\\s+(\\d)\")\n",
    "\n",
    "print(pat.groups)\n",
    "\n",
    "# replace matches with group one (\\1), first digit, a comma, then group two (\\2), second digit\n",
    "clean_string = re.sub(pat, r\"\\1,\\2\", messy_string)\n",
    "\n",
    "print(clean_string)"
   ]
  },
  {
   "cell_type": "markdown",
   "id": "0316d521-5776-4291-8506-2f32e2a89c58",
   "metadata": {},
   "source": [
    "#### More"
   ]
  },
  {
   "cell_type": "markdown",
   "id": "98604dbc-f40c-48d6-962b-b2ab28f751a2",
   "metadata": {},
   "source": [
    "If you want even more:\n",
    "- [non-capturing and named groups](https://docs.python.org/3/howto/regex.html#non-capturing-and-named-groups) (sometimes it's useful to define a group just for syntactic reasons, without it being counted; sometimes you want to give a name to your group, to be able to retrieve it with the name instead of the index)\n",
    "- [lookaheads & lookbehinds](https://docs.python.org/3/howto/regex.html#lookahead-assertions) (sometimes you want to match only something that follows/precedes an expression: for instance, above, you could retrieve only what Estragon says, without the 'ESTRAGON:' included)\n",
    "\n",
    "For even more functionality, see the [regex](https://pypi.org/project/regex/) module (install with `pip`, backward compatible with `re`)."
   ]
  }
 ],
 "metadata": {
  "kernelspec": {
   "display_name": "Python 3 (ipykernel)",
   "language": "python",
   "name": "python3"
  },
  "language_info": {
   "codemirror_mode": {
    "name": "ipython",
    "version": 3
   },
   "file_extension": ".py",
   "mimetype": "text/x-python",
   "name": "python",
   "nbconvert_exporter": "python",
   "pygments_lexer": "ipython3",
   "version": "3.12.11"
  }
 },
 "nbformat": 4,
 "nbformat_minor": 5
}
