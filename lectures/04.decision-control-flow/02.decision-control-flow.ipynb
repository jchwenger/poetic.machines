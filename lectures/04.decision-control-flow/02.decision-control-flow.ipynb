{
 "cells": [
  {
   "cell_type": "markdown",
   "id": "458d3aaa-edef-4f41-905f-b58cf1b771ab",
   "metadata": {},
   "source": [
    "# Decision / Control Flow"
   ]
  },
  {
   "cell_type": "markdown",
   "id": "6d490992-d086-4e1f-ad71-a0eb3bd38289",
   "metadata": {},
   "source": [
    "[tutorial](https://docs.python.org/3/tutorial/controlflow.html)  \n",
    "[time doc](https://docs.python.org/3/library/time.html)"
   ]
  },
  {
   "cell_type": "code",
   "execution_count": null,
   "id": "1306c5fe-446f-4540-ab0a-b9640d40298c",
   "metadata": {},
   "outputs": [],
   "source": [
    "import time\n",
    "from IPython.display import clear_output"
   ]
  },
  {
   "cell_type": "markdown",
   "id": "dd0db146-24e2-41e8-9dfc-8aca8b96bd74",
   "metadata": {},
   "source": [
    "## Boolean logic"
   ]
  },
  {
   "cell_type": "markdown",
   "id": "d7806f4a-7a70-4873-bf48-4a9af7efbcb1",
   "metadata": {},
   "source": [
    "[tutorial](https://realpython.com/python-boolean/)  \n",
    "[doc](https://docs.python.org/3/library/stdtypes.html#boolean-operations-and-or-not)\n",
    "\n",
    "| Operation | Result | Notes |\n",
    "| --- | --- | --- |\n",
    "| `x or y` | if x is true, then x, else y | only evaluates the 2<sup>nd</sup> argument if the 1<sup>st</sup> one is false |\n",
    "| `x and y` | if x is false, then x, else y |  only evaluates the 2<sup>nd</sup> argument if the 1<sup>st</sup> one is true |\n",
    "| `not x` | if x is false, then `True`, else `False` | `not` has a lower priority than non-Boolean operators,<br>so `not a == b` is interpreted as `not (a == b)`<br>(`a == not b` is a syntax error) |"
   ]
  },
  {
   "cell_type": "code",
   "execution_count": null,
   "id": "91ae92cf-9ff5-47e0-b61a-0be33d783648",
   "metadata": {},
   "outputs": [],
   "source": [
    "True and False # both need to be true for it to be true"
   ]
  },
  {
   "cell_type": "code",
   "execution_count": null,
   "id": "51d430f3-124b-4a58-b750-67c5b9049c70",
   "metadata": {},
   "outputs": [],
   "source": [
    "True or False # only one needs to be true for it to be true"
   ]
  },
  {
   "cell_type": "code",
   "execution_count": null,
   "id": "5a012d8c-3469-436b-9294-590b875d170a",
   "metadata": {},
   "outputs": [],
   "source": [
    "not True"
   ]
  },
  {
   "cell_type": "code",
   "execution_count": null,
   "id": "2881e01f-f1ab-4710-b04e-f52bb36b90bf",
   "metadata": {},
   "outputs": [],
   "source": [
    "if not 0: \n",
    "    print('0 counts as False')\n",
    "\n",
    "if 1: \n",
    "    print('1 (or more) counts as True')    \n",
    "\n",
    "if not \"\": \n",
    "    print('the emtpy string counts as False')"
   ]
  },
  {
   "cell_type": "markdown",
   "id": "1c50bf62-f9eb-4692-8182-91631f697feb",
   "metadata": {},
   "source": [
    "## Comparisons"
   ]
  },
  {
   "cell_type": "markdown",
   "id": "0279121d-79af-4564-9e85-91ae4c31d216",
   "metadata": {},
   "source": [
    "[doc](https://docs.python.org/3/library/stdtypes.html#comparisons)\n",
    "[is doc](https://docs.python.org/3/reference/expressions.html#is)  \n",
    "[is tutorial](https://realpython.com/ref/keywords/is/)\n",
    "\n",
    "| Operation | Meaning |\n",
    "| --- | --- |\n",
    "| `<` | strictly less than |\n",
    "| `<=` | less than or equal |\n",
    "| `>` | strictly greater than |\n",
    "| `>=` | greater than or equal |\n",
    "| `==` | equal |\n",
    "| `!=` | not equal |\n",
    "| `is` | object identity |\n",
    "| `is not` | negated object identity |\n",
    "\n",
    "\n",
    "**FANTASTICALLY IMPORTANT**: `=` is **NOT** the same as `==`!!\n",
    "- `a = b` means \"allocate memory at a new address, with a name given on the left (`a`), put data `b` inside it\n",
    "- `a == b` means \"is data in address named `a` equal to data in address named `b`"
   ]
  },
  {
   "cell_type": "code",
   "execution_count": null,
   "id": "14e08f93-c969-49e3-b6e1-1667caba4e78",
   "metadata": {},
   "outputs": [],
   "source": [
    "1 < 2 # try the other ones!"
   ]
  },
  {
   "cell_type": "code",
   "execution_count": null,
   "id": "fadbab06-409d-44eb-bbd0-79110942040a",
   "metadata": {},
   "outputs": [],
   "source": [
    "# let's create two lists with the same content\n",
    "a = [\"morning\", \"evening\"]\n",
    "b = [\"morning\", \"evening\"]\n",
    "\n",
    "# difference between `==` and `is`\n",
    "print(\"Do the two lists contain the same values?\", a == b)\n",
    "print(\"Are the two lists the same object (= same in memory)?\", a is b)"
   ]
  },
  {
   "cell_type": "code",
   "execution_count": null,
   "id": "44a4788e-9d46-4286-aaa3-e8fb57f878fe",
   "metadata": {},
   "outputs": [],
   "source": [
    "# proof that the two are the same\n",
    "a[1] = \"dusk\"\n",
    "# `a` has changed, `b` has not\n",
    "print(a) \n",
    "print(b)"
   ]
  },
  {
   "cell_type": "code",
   "execution_count": null,
   "id": "32b77e60-c478-4083-bc2b-528bb8f4f122",
   "metadata": {},
   "outputs": [],
   "source": [
    "# create a *new name* for `a`, this does not change the memory\n",
    "c = a\n",
    "print(c)\n",
    "a[1] = \"evening\"\n",
    "# both `a` and `c` have changed, *because they are the same object*\n",
    "print(a)\n",
    "print(c)"
   ]
  },
  {
   "cell_type": "markdown",
   "id": "4484ecea-35f1-45f9-857a-db1d0befe708",
   "metadata": {},
   "source": [
    "## `if`, `else`, `elif`"
   ]
  },
  {
   "cell_type": "code",
   "execution_count": null,
   "id": "b0f06d1e-4a81-4772-8f70-1ad048abc4b4",
   "metadata": {},
   "outputs": [],
   "source": [
    "test = True # try False\n",
    "if test:\n",
    "    print(\"test passed!\")"
   ]
  },
  {
   "cell_type": "code",
   "execution_count": null,
   "id": "20d320c2-b383-4905-801c-7ad2207321d7",
   "metadata": {},
   "outputs": [],
   "source": [
    "test = True\n",
    "if test:\n",
    "    print(\"test passed!\")\n",
    "else:\n",
    "    print(\"test failed!\")"
   ]
  },
  {
   "cell_type": "code",
   "execution_count": null,
   "id": "5006f51a-3fe0-495f-8929-fae25a6ae8e7",
   "metadata": {},
   "outputs": [],
   "source": [
    "value = 0 # try 1, 2, etc.\n",
    "if value == 0:\n",
    "    print(\"value is 0!\")\n",
    "elif value == 1:\n",
    "    print(\"value is 1!\")\n",
    "else:\n",
    "    print(\"value is 2 or more!\")"
   ]
  },
  {
   "cell_type": "markdown",
   "id": "c04cea15-24b0-4bfe-9f04-1c22c6ed627e",
   "metadata": {},
   "source": [
    "## Note: use in Comprehensions"
   ]
  },
  {
   "cell_type": "code",
   "execution_count": null,
   "id": "5c4ccd9f-912c-4833-89f6-029d410102e9",
   "metadata": {},
   "outputs": [],
   "source": [
    "[print(i) for i in range(10) if i < 5] # with just if, it comes at the end\n",
    "\n",
    "# # same as\n",
    "# for i in range(10):\n",
    "#     if i < 5:\n",
    "#         print(i)"
   ]
  },
  {
   "cell_type": "code",
   "execution_count": null,
   "id": "0371b15c-58ab-4aff-9a23-f028ad4f38ce",
   "metadata": {},
   "outputs": [],
   "source": [
    "# with if/else, it comes before the for (elif is not possible)\n",
    "[print(i) if i < 5 else print(9 - i) for i in range(10)] \n",
    "\n",
    "# # same as\n",
    "# for i in range(10):\n",
    "#     if i < 5:\n",
    "#         print(i)"
   ]
  },
  {
   "cell_type": "markdown",
   "id": "845ce657-27f3-4208-9be2-1b7b89289270",
   "metadata": {},
   "source": [
    "## `any, all`"
   ]
  },
  {
   "cell_type": "markdown",
   "id": "39918db0-995e-46b6-86af-493d6762f33a",
   "metadata": {},
   "source": [
    "[any doc](https://docs.python.org/3/library/functions.html#any)  \n",
    "[all doc](https://docs.python.org/3/library/functions.html#all)  \n",
    "[RealPython any tutorial](https://realpython.com/any-python/), [all tutorial](https://realpython.com/python-all/)"
   ]
  },
  {
   "cell_type": "code",
   "execution_count": null,
   "id": "a9fc67a5-c1b8-4a86-b6ed-8ae18ae9b501",
   "metadata": {},
   "outputs": [],
   "source": [
    "list_of_booleans = [True, False, True]\n",
    "\n",
    "# `any` will return True if just *one* element is truthy\n",
    "# `all` will return True if *all* elements are truthy\n",
    "print(\"Is any of the elements true?\", any(list_of_booleans))\n",
    "print(\"Are all elements true?\", all(list_of_booleans))"
   ]
  },
  {
   "cell_type": "code",
   "execution_count": null,
   "id": "8dbcec5c-b26a-47c3-86f8-e1192f10d132",
   "metadata": {},
   "outputs": [],
   "source": [
    "list_of_booleans = [True, True, True]\n",
    "\n",
    "print(\"Is any of the elements true?\", any(list_of_booleans))\n",
    "print(\"Are all elements true?\", all(list_of_booleans))"
   ]
  },
  {
   "cell_type": "code",
   "execution_count": null,
   "id": "353615ae-63dd-4ddb-ad41-866e3b9fabaa",
   "metadata": {},
   "outputs": [],
   "source": [
    "list_of_booleans = [False, False, False]\n",
    "\n",
    "print(\"Is any of the elements True?\", any(list_of_booleans))\n",
    "print(\"Are all elements true?\", all(list_of_booleans))"
   ]
  },
  {
   "cell_type": "markdown",
   "id": "ee64f379-b3c7-4ffc-a441-c192f080bfbe",
   "metadata": {},
   "source": [
    "## Silencio: Linear erasure"
   ]
  },
  {
   "cell_type": "code",
   "execution_count": null,
   "id": "37e00cdb-8ed7-448a-af0a-92d2a772bfed",
   "metadata": {},
   "outputs": [],
   "source": [
    "word = \"silencio\"\n",
    "n_line = 5\n",
    "n_col = 3\n",
    "\n",
    "sleep_time = .2\n",
    "\n",
    "erase_line = 0\n",
    "erase_col = 0\n",
    "\n",
    "# loop 1\n",
    "while True:\n",
    "\n",
    "    # loop 2\n",
    "    for i in range(n_line):\n",
    "        line = \"\"\n",
    "        # loop 3\n",
    "        for j in range(n_col):\n",
    "            if i == erase_line and j == erase_col:\n",
    "                line += \" \" * (len(word) + 1)\n",
    "            else:\n",
    "                line += word + \" \"\n",
    "        print(line)\n",
    "        \n",
    "    time.sleep(sleep_time)\n",
    "    clear_output(wait=True)\n",
    "\n",
    "    erase_col = (erase_col + 1) % n_col\n",
    "\n",
    "    if erase_col == 0:\n",
    "        erase_line = (erase_line + 1) % n_line"
   ]
  },
  {
   "cell_type": "markdown",
   "id": "c16a5498-4580-4758-a99a-1e4f2f2af80c",
   "metadata": {},
   "source": [
    "# Banner effect"
   ]
  },
  {
   "cell_type": "markdown",
   "id": "fb643eff-93b6-49db-8bf1-3017dc8ec778",
   "metadata": {},
   "source": [
    "Using “If I Told Him, A Completed Portrait of Picasso”, by Gertrude Stein ([source](https://www.poetryfoundation.org/poems/55215/if-i-told-him-a-completed-portrait-of-picasso))"
   ]
  },
  {
   "cell_type": "code",
   "execution_count": null,
   "id": "747287f6-40f1-452a-a27f-4bee99acd8f9",
   "metadata": {},
   "outputs": [],
   "source": [
    "s = \"If Napoleon if I told him if I told him if Napoleon. Would he like it if I told him if I told him if Napoleon. Would he like it if Napoleon if Napoleon if I told him. If I told him if Napoleon if Napoleon if I told him. If I told him would he like it would he like it if I told him.\"\n",
    "\n",
    "sleep_time = .2\n",
    "\n",
    "i = 0\n",
    "width = 50\n",
    "while True:\n",
    "    print(s[i:width + i])\n",
    "    i = (i + 1) % len(s)\n",
    "    time.sleep(sleep_time)\n",
    "    clear_output(wait=True)    "
   ]
  },
  {
   "cell_type": "markdown",
   "id": "4487b1a2-b5c9-490e-88c3-885ee1e20358",
   "metadata": {},
   "source": [
    "### Ideas"
   ]
  },
  {
   "cell_type": "markdown",
   "id": "f634e617-a454-49e1-b2fb-cbd27619f4c2",
   "metadata": {},
   "source": [
    "- How do you reverse the flow of the text?\n",
    "- How do you create an irregular rythm?\n",
    "- Can you create this effect over several lines?"
   ]
  },
  {
   "cell_type": "markdown",
   "id": "37a08d86-64f7-45b8-8129-b1771085046b",
   "metadata": {},
   "source": [
    "## Typewriter effect"
   ]
  },
  {
   "cell_type": "code",
   "execution_count": null,
   "id": "9bb0f5a1-c5e5-4ace-8a33-4b1ce9d9481f",
   "metadata": {},
   "outputs": [],
   "source": [
    "sleep_time = .05\n",
    "\n",
    "for i in range(len(s)):\n",
    "    print(s[:i])\n",
    "    time.sleep(sleep_time)\n",
    "    clear_output(wait=True)"
   ]
  },
  {
   "cell_type": "markdown",
   "id": "3a934f1b-aacc-44ec-ba67-fcf4c9ea44c4",
   "metadata": {},
   "source": [
    "### Ideas"
   ]
  },
  {
   "cell_type": "markdown",
   "id": "700f9b4a-a700-405f-a380-d774d6ba4b92",
   "metadata": {},
   "source": [
    "- How do you create an irregular rythm?\n",
    "- Can you change the code so that instead of writing character by character, you write word by word?\n",
    "- Using `if/else` logic, can you check if \"I\" is about to be printed, and print \"you\" instead?"
   ]
  }
 ],
 "metadata": {
  "kernelspec": {
   "display_name": "Python 3 (ipykernel)",
   "language": "python",
   "name": "python3"
  },
  "language_info": {
   "codemirror_mode": {
    "name": "ipython",
    "version": 3
   },
   "file_extension": ".py",
   "mimetype": "text/x-python",
   "name": "python",
   "nbconvert_exporter": "python",
   "pygments_lexer": "ipython3",
   "version": "3.12.2"
  }
 },
 "nbformat": 4,
 "nbformat_minor": 5
}
