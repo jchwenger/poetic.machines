{
 "cells": [
  {
   "cell_type": "markdown",
   "id": "8b40af28-527e-4441-b9ff-fe046fc46fd7",
   "metadata": {},
   "source": [
    "# Data Structures: Dictionaries"
   ]
  },
  {
   "cell_type": "markdown",
   "id": "7451359d-7e62-43a7-9e2a-31636c49b25b",
   "metadata": {},
   "source": [
    "[doc](https://docs.python.org/3/library/stdtypes.html#mapping-types-dict)  \n",
    "[RealPython dictionary tutorial](https://realpython.com/python-dicts/)  \n",
    "[RealPython iterate through a dictionary tutorial](https://realpython.com/iterate-through-dictionary-python/)\n",
    "\n",
    "- aka an `object` (in JavaScript) – this is actually called an \"associative array\", [HashMap](https://www.w3schools.com/dsa/dsa_data_hashmaps.php), or even [Hash Table](https://en.wikipedia.org/wiki/Hash_table)\n",
    "- very useful when you need to be able to retrieve elements by a name instead of an index (\"give me the data under the name `full`\")\n",
    "\n",
    "```python\n",
    "# curly braces, then, separated by commas\n",
    "# pairs of `name: data`, aka `key: value`\n",
    "{\n",
    "  key1: value1,\n",
    "  key2: value2,\n",
    "  # etc.\n",
    "}\n",
    "```\n",
    "\n",
    "Both `keys` and `values` can be various data types (`int`, `float`, `string`, etc. – with some restrictions for the keys: they must be [hashable](https://realpython.com/ref/glossary/hashable/), but don't worry about this...)."
   ]
  },
  {
   "cell_type": "code",
   "execution_count": null,
   "id": "4c7734de-a7fd-4bd3-a8af-e1f6e4f20979",
   "metadata": {},
   "outputs": [],
   "source": [
    "line = \"silencio silencio silencio\"\n",
    "line_gap = \"silencio          silencio\""
   ]
  },
  {
   "cell_type": "code",
   "execution_count": null,
   "id": "e4f34b08-07e8-4fd7-be43-db0ffc2ac8fd",
   "metadata": {},
   "outputs": [],
   "source": [
    "lines_dict = {\n",
    "    \"full\": line,\n",
    "    \"gap\": line_gap,\n",
    "}\n",
    "\n",
    "# # note: you can also use `dict()`, passing a list of lists, or tuple of tuples\n",
    "# lines_dict = dict([\n",
    "#     [\"line\", line],\n",
    "#     [\"line_gap\", line_gap]\n",
    "# ])"
   ]
  },
  {
   "cell_type": "code",
   "execution_count": null,
   "id": "6b188a80",
   "metadata": {},
   "outputs": [],
   "source": [
    "# we retrieve elements using the square bracket `[\"\"]` syntax\n",
    "print(lines_dict[\"full\"])\n",
    "print(lines_dict[\"full\"])\n",
    "print(lines_dict[\"gap\"])\n",
    "print(lines_dict[\"full\"])\n",
    "print(lines_dict[\"full\"])"
   ]
  },
  {
   "cell_type": "code",
   "execution_count": null,
   "id": "3d17b889",
   "metadata": {},
   "outputs": [],
   "source": [
    "# we can add values to the dictionary\n",
    "lines_dict[\"other\"] = \"ruido ruido ruido\"\n",
    "lines_dict"
   ]
  },
  {
   "cell_type": "code",
   "execution_count": null,
   "id": "43586978",
   "metadata": {},
   "outputs": [],
   "source": [
    "# we can delete using `del`\n",
    "del lines_dict[\"other\"]\n",
    "lines_dict"
   ]
  },
  {
   "cell_type": "markdown",
   "id": "d5fc828c",
   "metadata": {},
   "source": [
    "## Iterate over a dictionary"
   ]
  },
  {
   "cell_type": "code",
   "execution_count": null,
   "id": "2e3fcc32",
   "metadata": {},
   "outputs": [],
   "source": [
    "lines_dict"
   ]
  },
  {
   "cell_type": "code",
   "execution_count": null,
   "id": "bc7ec0f7-fbd0-46f3-9ceb-8a81fa45adb9",
   "metadata": {},
   "outputs": [],
   "source": [
    "# `key` is a variable name of our choosing\n",
    "for key in lines_dict.keys():\n",
    "    print(f\"the key is: '{key}', and the value is: '{lines_dict[key]}'\")"
   ]
  },
  {
   "cell_type": "code",
   "execution_count": null,
   "id": "1c80c1ba-9bee-4291-8a2a-268f709d6832",
   "metadata": {},
   "outputs": [],
   "source": [
    "# retrieve only the values\n",
    "for value in lines_dict.values():\n",
    "    print(value)"
   ]
  },
  {
   "cell_type": "code",
   "execution_count": null,
   "id": "e565faea-59d5-4787-9cd2-d7d214396bcb",
   "metadata": {},
   "outputs": [],
   "source": [
    "# retrieve both\n",
    "for key, value in lines_dict.items():\n",
    "    print(f\"{key}, {value}\")"
   ]
  },
  {
   "cell_type": "markdown",
   "id": "0c655eff",
   "metadata": {},
   "source": [
    "## Extra: Comprehension"
   ]
  },
  {
   "cell_type": "code",
   "execution_count": null,
   "id": "398d0fdb",
   "metadata": {},
   "outputs": [],
   "source": [
    "list_a = [\"!\", \"?\", \".\"]\n",
    "list_b = [\"no!\", \"what?\", \"ok.\"]\n",
    "\n",
    "# same as with lists, we can do a for-loop one liner with dictionaries\n",
    "my_dict = { key:value for key,value in zip(list_a, list_b) }\n",
    "\n",
    "print(my_dict)\n",
    "\n",
    "# this is the same as\n",
    "# my_dict = {}\n",
    "# for key,value in zip(list_a, list_b):\n",
    "#     my_dict[key] = value"
   ]
  }
 ],
 "metadata": {
  "kernelspec": {
   "display_name": "poetic.machines",
   "language": "python",
   "name": "python3"
  },
  "language_info": {
   "codemirror_mode": {
    "name": "ipython",
    "version": 3
   },
   "file_extension": ".py",
   "mimetype": "text/x-python",
   "name": "python",
   "nbconvert_exporter": "python",
   "pygments_lexer": "ipython3",
   "version": "3.12.11"
  }
 },
 "nbformat": 4,
 "nbformat_minor": 5
}
