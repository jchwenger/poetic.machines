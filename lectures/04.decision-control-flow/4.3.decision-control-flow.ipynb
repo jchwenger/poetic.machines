{
 "cells": [
  {
   "cell_type": "markdown",
   "id": "458d3aaa-edef-4f41-905f-b58cf1b771ab",
   "metadata": {},
   "source": [
    "# Decision / Control Flow"
   ]
  },
  {
   "cell_type": "markdown",
   "id": "6d490992-d086-4e1f-ad71-a0eb3bd38289",
   "metadata": {},
   "source": [
    "[tutorial](https://docs.python.org/3/tutorial/controlflow.html)  \n",
    "[time doc](https://docs.python.org/3/library/time.html)"
   ]
  },
  {
   "cell_type": "markdown",
   "id": "0477d9f9",
   "metadata": {},
   "source": [
    "Control flow is a way of choosing which commands will be run in our program, depending on some conditions.\n",
    "\n",
    "This is equivalent to programming our behaviour reacting to the weather: \"if it rains: take your umbrella; if it's sunny: take your sunglasses\"."
   ]
  },
  {
   "cell_type": "code",
   "execution_count": null,
   "id": "1306c5fe-446f-4540-ab0a-b9640d40298c",
   "metadata": {},
   "outputs": [],
   "source": [
    "import time\n",
    "from IPython.display import clear_output"
   ]
  },
  {
   "cell_type": "markdown",
   "id": "dd0db146-24e2-41e8-9dfc-8aca8b96bd74",
   "metadata": {},
   "source": [
    "## Boolean logic"
   ]
  },
  {
   "cell_type": "markdown",
   "id": "bd90f9cb",
   "metadata": {},
   "source": [
    "Before we can dive into this, we need to have a bit more context on conditions and logical operations!\n",
    "\n",
    "And we also need a new data type: the `boolean` (can be `True` or `False` – capitals, unlike in JavaScript)."
   ]
  },
  {
   "cell_type": "code",
   "execution_count": null,
   "id": "9e8d15b0",
   "metadata": {},
   "outputs": [],
   "source": [
    "type(True)"
   ]
  },
  {
   "cell_type": "markdown",
   "id": "d7806f4a-7a70-4873-bf48-4a9af7efbcb1",
   "metadata": {},
   "source": [
    "[doc](https://docs.python.org/3/library/stdtypes.html#boolean-operations-and-or-not)  \n",
    "[tutorial](https://realpython.com/python-boolean/)  \n",
    "\n",
    "\n",
    "| Operation | Result | Notes |\n",
    "| --- | --- | --- |\n",
    "| `x or y` | if x is true, then x, else y | only evaluates the 2<sup>nd</sup> argument if the 1<sup>st</sup> one is false |\n",
    "| `x and y` | if x is false, then x, else y |  only evaluates the 2<sup>nd</sup> argument if the 1<sup>st</sup> one is true |\n",
    "| `not x` | if x is false, then `True`, else `False` | `not` has a lower priority than non-Boolean operators,<br>so `not a == b` is interpreted as `not (a == b)`<br>(`a == not b` is a syntax error) |"
   ]
  },
  {
   "cell_type": "code",
   "execution_count": null,
   "id": "91ae92cf-9ff5-47e0-b61a-0be33d783648",
   "metadata": {},
   "outputs": [],
   "source": [
    "# both need to be true for it to be true\n",
    "True and False"
   ]
  },
  {
   "cell_type": "code",
   "execution_count": null,
   "id": "51d430f3-124b-4a58-b750-67c5b9049c70",
   "metadata": {},
   "outputs": [],
   "source": [
    "# only one needs to be true for it to be true\n",
    "True or False"
   ]
  },
  {
   "cell_type": "code",
   "execution_count": null,
   "id": "5a012d8c-3469-436b-9294-590b875d170a",
   "metadata": {},
   "outputs": [],
   "source": [
    "not True"
   ]
  },
  {
   "cell_type": "markdown",
   "id": "1c3d54b6",
   "metadata": {},
   "source": [
    "### Truthiness & Falsiness"
   ]
  },
  {
   "cell_type": "markdown",
   "id": "912dd0dd",
   "metadata": {},
   "source": [
    "[geeksforgeeks tutorial](https://www.geeksforgeeks.org/python/truthy-vs-falsy-values-in-python/)\n",
    "\n",
    "Python data (and data structures) have an inherent boolean value as well. This is called \"truthy\" and \"falsy\" (\"behaves like `True` or `False`)."
   ]
  },
  {
   "cell_type": "code",
   "execution_count": null,
   "id": "f88af37a",
   "metadata": {},
   "outputs": [],
   "source": [
    "# 0 counts as False\n",
    "not 0"
   ]
  },
  {
   "cell_type": "code",
   "execution_count": null,
   "id": "ba5c6a57",
   "metadata": {},
   "outputs": [],
   "source": [
    "# any other number counts as True\n",
    "1 == True"
   ]
  },
  {
   "cell_type": "code",
   "execution_count": null,
   "id": "b554da5e",
   "metadata": {},
   "outputs": [],
   "source": [
    "# the emtpy string counts as False\n",
    "not \"\""
   ]
  },
  {
   "cell_type": "code",
   "execution_count": null,
   "id": "2fd59ed3",
   "metadata": {},
   "outputs": [],
   "source": [
    "# the emtpy list also counts as False\n",
    "not []"
   ]
  },
  {
   "cell_type": "markdown",
   "id": "1c50bf62-f9eb-4692-8182-91631f697feb",
   "metadata": {},
   "source": [
    "### Comparisons"
   ]
  },
  {
   "cell_type": "markdown",
   "id": "0279121d-79af-4564-9e85-91ae4c31d216",
   "metadata": {},
   "source": [
    "[doc](https://docs.python.org/3/library/stdtypes.html#comparisons)\n",
    "\n",
    "| Operation | Meaning |\n",
    "| --- | --- |\n",
    "| `<` | strictly less than |\n",
    "| `<=` | less than or equal |\n",
    "| `>` | strictly greater than |\n",
    "| `>=` | greater than or equal |\n",
    "| `==` | equal |\n",
    "| `!=` | not equal |\n",
    "\n",
    "**FANTASTICALLY IMPORTANT**, again: `=` is **NOT** the same as `==`!!\n",
    "- `a = b` means \"allocate memory at a new address, with a name given on the left (`a`), put data `b` inside it\n",
    "- `a == b` means \"is data in address named `a` equal to data in address named `b`"
   ]
  },
  {
   "cell_type": "code",
   "execution_count": 55,
   "id": "14e08f93-c969-49e3-b6e1-1667caba4e78",
   "metadata": {},
   "outputs": [
    {
     "data": {
      "text/plain": [
       "True"
      ]
     },
     "execution_count": 55,
     "metadata": {},
     "output_type": "execute_result"
    }
   ],
   "source": [
    "# try the other ones!\n",
    "1 < 2\n"
   ]
  },
  {
   "cell_type": "markdown",
   "id": "b7ab19a0",
   "metadata": {},
   "source": [
    "#### Extra: identity comparison"
   ]
  },
  {
   "cell_type": "markdown",
   "id": "b9cca86d",
   "metadata": {},
   "source": [
    "[is doc](https://docs.python.org/3/reference/expressions.html#is)  \n",
    "[is tutorial](https://realpython.com/ref/keywords/is/)\n",
    "\n",
    "| Operation | Meaning |\n",
    "| --- | --- |\n",
    "| `is` | object identity |\n",
    "| `is not` | negated object identity |"
   ]
  },
  {
   "cell_type": "code",
   "execution_count": 56,
   "id": "fadbab06-409d-44eb-bbd0-79110942040a",
   "metadata": {},
   "outputs": [
    {
     "name": "stdout",
     "output_type": "stream",
     "text": [
      "Do the two lists contain the same values? True\n",
      "Are the two lists the same object (= same in memory)? False\n"
     ]
    }
   ],
   "source": [
    "# let's create two lists with the same content\n",
    "a = [\"morning\", \"evening\"]\n",
    "b = [\"morning\", \"evening\"]\n",
    "\n",
    "# difference between `==` and `is`\n",
    "print(\"Do the two lists contain the same values?\", a == b)\n",
    "print(\"Are the two lists the same object (= same in memory)?\", a is b)"
   ]
  },
  {
   "cell_type": "code",
   "execution_count": 57,
   "id": "44a4788e-9d46-4286-aaa3-e8fb57f878fe",
   "metadata": {},
   "outputs": [
    {
     "name": "stdout",
     "output_type": "stream",
     "text": [
      "['morning', 'dusk']\n",
      "['morning', 'evening']\n"
     ]
    }
   ],
   "source": [
    "# proof that the two are the same\n",
    "a[1] = \"dusk\"\n",
    "# `a` has changed, `b` has not\n",
    "print(a) \n",
    "print(b)"
   ]
  },
  {
   "cell_type": "code",
   "execution_count": 58,
   "id": "32b77e60-c478-4083-bc2b-528bb8f4f122",
   "metadata": {},
   "outputs": [
    {
     "name": "stdout",
     "output_type": "stream",
     "text": [
      "['morning', 'dusk']\n",
      "['morning', 'evening']\n",
      "['morning', 'evening']\n"
     ]
    }
   ],
   "source": [
    "# create a *new name* for `a`, this does not change the memory\n",
    "c = a\n",
    "print(c)\n",
    "a[1] = \"evening\"\n",
    "# both `a` and `c` have changed, *because they are the same object*\n",
    "print(a)\n",
    "print(c)"
   ]
  },
  {
   "cell_type": "markdown",
   "id": "ab06a788",
   "metadata": {},
   "source": [
    "### Membership test"
   ]
  },
  {
   "cell_type": "markdown",
   "id": "0e754b88",
   "metadata": {},
   "source": [
    "[doc](https://docs.python.org/3/reference/expressions.html#membership-test-operations)  \n",
    "[w<sup>3</sup> tutorial](https://www.w3schools.com/python/ref_keyword_in.asp)  \n",
    "[RealPython tutorial](https://realpython.com/python-in-operator/) and [reference](https://realpython.com/ref/keywords/in/)\n",
    "\n",
    "We can test whether a piece of data is contained in strings, lists, etc."
   ]
  },
  {
   "cell_type": "code",
   "execution_count": 59,
   "id": "d1ceb8e8",
   "metadata": {},
   "outputs": [
    {
     "data": {
      "text/plain": [
       "False"
      ]
     },
     "execution_count": 59,
     "metadata": {},
     "output_type": "execute_result"
    }
   ],
   "source": [
    "word = \"silencio\"\n",
    "\n",
    "\"r\" in word"
   ]
  },
  {
   "cell_type": "code",
   "execution_count": 60,
   "id": "0e82fc02",
   "metadata": {},
   "outputs": [
    {
     "data": {
      "text/plain": [
       "True"
      ]
     },
     "execution_count": 60,
     "metadata": {},
     "output_type": "execute_result"
    }
   ],
   "source": [
    "some_words = [\"well\", \"hm\", \"whatever\", \"right!\"]\n",
    "\n",
    "\"well\" in some_words"
   ]
  },
  {
   "cell_type": "code",
   "execution_count": 61,
   "id": "1bb17bce",
   "metadata": {},
   "outputs": [
    {
     "data": {
      "text/plain": [
       "True"
      ]
     },
     "execution_count": 61,
     "metadata": {},
     "output_type": "execute_result"
    }
   ],
   "source": [
    "words_dict = { \"Rodolfina\": \"Yes!\", \"Cuthbert\": \"No.\"}\n",
    "\n",
    "# by default, this tests for keys\n",
    "\"Rodolfina\" in words_dict\n",
    "\n",
    "# # same as \n",
    "# \"Rodolfina\" in words_dict.keys()"
   ]
  },
  {
   "cell_type": "code",
   "execution_count": 62,
   "id": "e774141b",
   "metadata": {},
   "outputs": [
    {
     "data": {
      "text/plain": [
       "False"
      ]
     },
     "execution_count": 62,
     "metadata": {},
     "output_type": "execute_result"
    }
   ],
   "source": [
    "# this won't work: \"No.\" is not a key\n",
    "\"No.\" in words_dict"
   ]
  },
  {
   "cell_type": "code",
   "execution_count": 63,
   "id": "786fd0eb",
   "metadata": {},
   "outputs": [
    {
     "data": {
      "text/plain": [
       "True"
      ]
     },
     "execution_count": 63,
     "metadata": {},
     "output_type": "execute_result"
    }
   ],
   "source": [
    "# this works\n",
    "\"No.\" in words_dict.values()"
   ]
  },
  {
   "cell_type": "markdown",
   "id": "4484ecea-35f1-45f9-857a-db1d0befe708",
   "metadata": {},
   "source": [
    "## `if`, `else`, `elif`\n"
   ]
  },
  {
   "cell_type": "markdown",
   "id": "6c41d7ef",
   "metadata": {},
   "source": [
    "Now we are ready! `if` tests for a condition (like `while`). If the condition is true, the body (content) of the statement is executed. *The body is indented* (same as functions)."
   ]
  },
  {
   "cell_type": "code",
   "execution_count": null,
   "id": "b0f06d1e-4a81-4772-8f70-1ad048abc4b4",
   "metadata": {},
   "outputs": [],
   "source": [
    "# try False\n",
    "test = True\n",
    "if test:\n",
    "    print(\"test passed!\")"
   ]
  },
  {
   "cell_type": "code",
   "execution_count": null,
   "id": "20d320c2-b383-4905-801c-7ad2207321d7",
   "metadata": {},
   "outputs": [],
   "source": [
    "test = True\n",
    "if test:\n",
    "    print(\"test passed!\")\n",
    "else:\n",
    "    print(\"test failed!\")"
   ]
  },
  {
   "cell_type": "code",
   "execution_count": null,
   "id": "5006f51a-3fe0-495f-8929-fae25a6ae8e7",
   "metadata": {},
   "outputs": [],
   "source": [
    "# try 1, 2, etc.\n",
    "value = 0\n",
    "if value == 0:\n",
    "    print(\"value is 0!\")\n",
    "elif value == 1:\n",
    "    print(\"value is 1!\")\n",
    "else:\n",
    "    print(\"value is 2 or more!\")"
   ]
  },
  {
   "cell_type": "markdown",
   "id": "c04cea15-24b0-4bfe-9f04-1c22c6ed627e",
   "metadata": {},
   "source": [
    "## Extra: Use in Comprehensions"
   ]
  },
  {
   "cell_type": "code",
   "execution_count": null,
   "id": "5c4ccd9f-912c-4833-89f6-029d410102e9",
   "metadata": {},
   "outputs": [],
   "source": [
    "# with just if, it comes at the end\n",
    "[print(i) for i in range(10) if i < 5]\n",
    "\n",
    "# # same as\n",
    "# for i in range(10):\n",
    "#     if i < 5:\n",
    "#         print(i)"
   ]
  },
  {
   "cell_type": "code",
   "execution_count": null,
   "id": "0371b15c-58ab-4aff-9a23-f028ad4f38ce",
   "metadata": {},
   "outputs": [],
   "source": [
    "# with if/else, it comes before the for (elif is not possible)\n",
    "[print(i) if i < 5 else print(9 - i) for i in range(10)] \n",
    "\n",
    "# # same as\n",
    "# for i in range(10):\n",
    "#     if i < 5:\n",
    "#         print(i)"
   ]
  },
  {
   "cell_type": "markdown",
   "id": "845ce657-27f3-4208-9be2-1b7b89289270",
   "metadata": {},
   "source": [
    "## Extra: `any, all`"
   ]
  },
  {
   "cell_type": "markdown",
   "id": "39918db0-995e-46b6-86af-493d6762f33a",
   "metadata": {},
   "source": [
    "[any doc](https://docs.python.org/3/library/functions.html#any)  \n",
    "[all doc](https://docs.python.org/3/library/functions.html#all)  \n",
    "[RealPython any tutorial](https://realpython.com/any-python/), [all tutorial](https://realpython.com/python-all/)\n",
    "\n",
    "The two built-in functions `any` and `all` can be passed an interable (e.g. list) and test all their elements:\n",
    "- if **one** of the elements is `True`, `any` will return `True` (mirrors `or`);\n",
    "- if **all** of the elements are `True`, `all` will return `True` (mirrors `and`);"
   ]
  },
  {
   "cell_type": "code",
   "execution_count": null,
   "id": "a9fc67a5-c1b8-4a86-b6ed-8ae18ae9b501",
   "metadata": {},
   "outputs": [],
   "source": [
    "list_of_booleans = [True, False, True]\n",
    "\n",
    "# `any` will return True if just *one* element is truthy\n",
    "# `all` will return True if *all* elements are truthy\n",
    "print(\"Are any of the elements true?\", any(list_of_booleans))\n",
    "print(\"Are all elements true?\", all(list_of_booleans))"
   ]
  },
  {
   "cell_type": "code",
   "execution_count": null,
   "id": "8dbcec5c-b26a-47c3-86f8-e1192f10d132",
   "metadata": {},
   "outputs": [],
   "source": [
    "list_of_booleans = [True, True, True]\n",
    "\n",
    "print(\"Is any of the elements true?\", any(list_of_booleans))\n",
    "print(\"Are all elements true?\", all(list_of_booleans))"
   ]
  },
  {
   "cell_type": "code",
   "execution_count": null,
   "id": "353615ae-63dd-4ddb-ad41-866e3b9fabaa",
   "metadata": {},
   "outputs": [],
   "source": [
    "list_of_booleans = [False, False, False]\n",
    "\n",
    "print(\"Is any of the elements True?\", any(list_of_booleans))\n",
    "print(\"Are all elements true?\", all(list_of_booleans))"
   ]
  },
  {
   "cell_type": "markdown",
   "id": "bad97700",
   "metadata": {},
   "source": [
    "Use case: maybe I have multiple texts, and want to test whether they contain \"e\". I can loop over them, save the truth value, and then check the overall result at the end."
   ]
  },
  {
   "cell_type": "code",
   "execution_count": null,
   "id": "59d026ca",
   "metadata": {},
   "outputs": [],
   "source": [
    "def contains_e(text):\n",
    "    return \"e\" in text\n",
    "\n",
    "list_of_texts = [\n",
    "    \"What is an animal?\",\n",
    "    \"A stone is a stone\",\n",
    "    \"Oh no, not now!\"\n",
    "]\n",
    "# TODO: try with series of text \n",
    "# that all contain at least one e;\n",
    "# with one where none have \n",
    "\n",
    "results = []\n",
    "\n",
    "for t in list_of_texts:\n",
    "    has_e = contains_e(t)\n",
    "    results.append(has_e)\n",
    "\n",
    "print(f\"The result list is: {results}.\")\n",
    "print(f\"Is one element true? {any(results)}.\")\n",
    "print(f\"Are all elements true? {all(results)}.\")"
   ]
  },
  {
   "cell_type": "markdown",
   "id": "ee64f379-b3c7-4ffc-a441-c192f080bfbe",
   "metadata": {},
   "source": [
    "## Silencio: Linear erasure"
   ]
  },
  {
   "cell_type": "markdown",
   "id": "4f587bd9",
   "metadata": {},
   "source": [
    "Here we use control flow and the modulo operator `%` to create an animatio!"
   ]
  },
  {
   "cell_type": "code",
   "execution_count": null,
   "id": "37e00cdb-8ed7-448a-af0a-92d2a772bfed",
   "metadata": {},
   "outputs": [],
   "source": [
    "word = \"silencio\"\n",
    "n_row = 5\n",
    "n_col = 3\n",
    "\n",
    "sleep_time = .2\n",
    "\n",
    "erase_row = 0\n",
    "erase_col = 0\n",
    "\n",
    "# loop 1: run forever\n",
    "while True:\n",
    "\n",
    "    # loop 2: build the rows\n",
    "    for i in range(n_row):\n",
    "\n",
    "        # empty line\n",
    "        line = \"\"\n",
    "\n",
    "        # loop 3: build the line\n",
    "        for j in range(n_col):\n",
    "\n",
    "            # if at the right iteration (row/col)\n",
    "            if i == erase_row and j == erase_col:\n",
    "                # add as many spaces as there are characters (+ space after)\n",
    "                line += \" \" * (len(word) + 1)\n",
    "            else:\n",
    "                # otherwise, add just the word (+ space after)\n",
    "                line += word + \" \"\n",
    "        \n",
    "        # our `line` string is ready, print it\n",
    "        print(line)\n",
    "    \n",
    "    # increase the column, going back to zero if we reach n_col\n",
    "    erase_col = (erase_col + 1) % n_col\n",
    "\n",
    "    # if the column has gone back to zero, we need to update the row\n",
    "    if erase_col == 0:\n",
    "        # increase the row, going back to zero if we reach n_row\n",
    "        erase_row = (erase_row + 1) % n_row\n",
    "\n",
    "    # sleeping: this controls the rhythm/speed of our animation\n",
    "    time.sleep(sleep_time)\n",
    "    clear_output(wait=True)"
   ]
  },
  {
   "cell_type": "markdown",
   "id": "9b1afc2f",
   "metadata": {},
   "source": [
    "## Typewriter effect"
   ]
  },
  {
   "cell_type": "markdown",
   "id": "7875af2e",
   "metadata": {},
   "source": [
    "Using “If I Told Him, A Completed Portrait of Picasso”, by Gertrude Stein ([source](https://www.poetryfoundation.org/poems/55215/if-i-told-him-a-completed-portrait-of-picasso))"
   ]
  },
  {
   "cell_type": "code",
   "execution_count": null,
   "id": "74a266e3",
   "metadata": {},
   "outputs": [],
   "source": [
    "s = \"If Napoleon if I told him if I told him if Napoleon. Would he like it if I told him if I told him if Napoleon. Would he like it if Napoleon if Napoleon if I told him. If I told him if Napoleon if Napoleon if I told him. If I told him would he like it would he like it if I told him.\"\n",
    "\n",
    "\n",
    "sleep_time = .05\n",
    "\n",
    "for i in range(len(s)):\n",
    "    # print from 0 to i\n",
    "    print(s[:i])\n",
    "\n",
    "    # speed control\n",
    "    time.sleep(sleep_time)\n",
    "    clear_output(wait=True)"
   ]
  },
  {
   "cell_type": "markdown",
   "id": "a25a3d73",
   "metadata": {},
   "source": [
    "### Practice"
   ]
  },
  {
   "cell_type": "markdown",
   "id": "81db9c53",
   "metadata": {},
   "source": [
    "- Using `if/else` logic, can you check if \"I\" is about to be printed, and print \"you\" instead?\n",
    "- Using the modulo `%`, one could imagine printing more than one letter at a time.\n",
    "- Can you change the code so that instead of writing character by character, you write word by word? The easiest way would be to split `s` on spaces, use the index to select the `[:i]` words, then use `\" \".join()` to print the result!\n",
    "- In order to create an irregular rythm, we will need randomness, next week! But it could be interesting to think about what kind of irregularity could be implemented."
   ]
  },
  {
   "cell_type": "markdown",
   "id": "c16a5498-4580-4758-a99a-1e4f2f2af80c",
   "metadata": {},
   "source": [
    "# Banner effect"
   ]
  },
  {
   "cell_type": "markdown",
   "id": "fb643eff-93b6-49db-8bf1-3017dc8ec778",
   "metadata": {},
   "source": [
    "Using “If I Told Him, A Completed Portrait of Picasso”, by Gertrude Stein ([source](https://www.poetryfoundation.org/poems/55215/if-i-told-him-a-completed-portrait-of-picasso))"
   ]
  },
  {
   "cell_type": "code",
   "execution_count": null,
   "id": "747287f6-40f1-452a-a27f-4bee99acd8f9",
   "metadata": {},
   "outputs": [],
   "source": [
    "s = \"If Napoleon if I told him if I told him if Napoleon. Would he like it if I told him if I told him if Napoleon. Would he like it if Napoleon if Napoleon if I told him. If I told him if Napoleon if Napoleon if I told him. If I told him would he like it would he like it if I told him.\"\n",
    "\n",
    "sleep_time = .2\n",
    "\n",
    "\n",
    "# TODO:\n",
    "#  - tweak that number\n",
    "#  - try with a shorter text, see what happens\n",
    "width = 50\n",
    "\n",
    "i = 0\n",
    "while True:\n",
    "    # both i and width + i increase: this is like creating a sliding window\n",
    "    print(s[i:width + i])\n",
    "\n",
    "    # modulo logic: if i reache the end, start over\n",
    "    i = (i + 1) % len(s)\n",
    "\n",
    "    # speed control\n",
    "    time.sleep(sleep_time)\n",
    "    clear_output(wait=True)    "
   ]
  },
  {
   "cell_type": "markdown",
   "id": "4487b1a2-b5c9-490e-88c3-885ee1e20358",
   "metadata": {},
   "source": [
    "### Practice"
   ]
  },
  {
   "cell_type": "markdown",
   "id": "f634e617-a454-49e1-b2fb-cbd27619f4c2",
   "metadata": {},
   "source": [
    "- How do you reverse the flow of the text?\n",
    "- Same as before, in order to create an irregular rythm, we will need randomness, next week! But it could be interesting to think about what kind of irregularity could be implemented.\n",
    "- Can you create this effect over several lines?"
   ]
  },
  {
   "cell_type": "markdown",
   "id": "7ee2b0b8",
   "metadata": {},
   "source": [
    "## Rythmes et silences (complete)"
   ]
  },
  {
   "cell_type": "markdown",
   "id": "d4035633",
   "metadata": {},
   "source": [
    "The same example we saw last week, by Ilse Garnier, can now be completed adding control flow!"
   ]
  },
  {
   "cell_type": "markdown",
   "id": "43eebc9e",
   "metadata": {},
   "source": [
    "![Ilse Garnier, Rhytmes et silences]( ../../pics/Garnier.rythmes-silences.2.jpg  )\n",
    "\n",
    "[source](https://poezibao.typepad.com/poezibao/2011/05/anthologie-permanente-ilse-garnier.html)\n",
    "\n",
    "Important note: here I work with *text* only, using `print`. That makes things a bit more difficult, because I have to work line by line, and so I must first build all the content of the first line before printing it and moving to the next one. In `py5canvas`, we use `text`, which allows us to \"paint\" on the canvas anywhere: we can therefore paint the left-hand side, the middle, and the right-hand side, separately."
   ]
  },
  {
   "cell_type": "code",
   "execution_count": null,
   "id": "4b5d43df",
   "metadata": {},
   "outputs": [],
   "source": [
    "word1 = \"rythmes\"\n",
    "word2 = \"et\"\n",
    "word3 = \"silence\"\n",
    "\n",
    "# the tricky bit here is that we have to write the poem line by line,\n",
    "# instead of e.g. 'painting' the left part, then middle, then right, \n",
    "# as we would do in canvas\n",
    "\n",
    "gap = \" \" * 4\n",
    "\n",
    "# top part\n",
    "for i in range(len(word1)):\n",
    "\n",
    "    if i < len(word1) - 1:\n",
    "\n",
    "        # build parts\n",
    "        space_left = \" \" * (len(word1) - i - 1)\n",
    "        word_left = word1[-(i+1):]\n",
    "        space_middle = \" \" * len(word2)\n",
    "        word_right = word3[:(i+1)]\n",
    "\n",
    "        # print parts\n",
    "        print(space_left + word_left + gap + space_middle + gap + word_right)\n",
    "    \n",
    "    # the middle line\n",
    "    else:\n",
    "        \n",
    "        # build parts\n",
    "        space_left = \" \" * (len(word1) - i - 1)\n",
    "        word_left = word1[-(i+1):]\n",
    "        word_right = word3[:(i+1)]\n",
    "\n",
    "        # print parts            \n",
    "        print(space_left + word_left + gap + word2 + gap + word_right)\n",
    "\n",
    "# bottom part\n",
    "for i in range(len(word1)):\n",
    "    \n",
    "    # build parts\n",
    "    space_left = \" \" * (i + 1)\n",
    "    word_left = word1[(i+1):]\n",
    "    space_middle = \" \" * len(word2)\n",
    "    word_right =  word3[:len(word3) - (i+1)]\n",
    "\n",
    "    # print parts\n",
    "    print(space_left + word_left + gap + space_middle + gap + word_right)"
   ]
  }
 ],
 "metadata": {
  "kernelspec": {
   "display_name": "poetic.machines",
   "language": "python",
   "name": "python3"
  },
  "language_info": {
   "codemirror_mode": {
    "name": "ipython",
    "version": 3
   },
   "file_extension": ".py",
   "mimetype": "text/x-python",
   "name": "python",
   "nbconvert_exporter": "python",
   "pygments_lexer": "ipython3",
   "version": "3.12.11"
  }
 },
 "nbformat": 4,
 "nbformat_minor": 5
}
