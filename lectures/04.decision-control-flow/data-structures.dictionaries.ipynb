{
 "cells": [
  {
   "cell_type": "markdown",
   "id": "8b40af28-527e-4441-b9ff-fe046fc46fd7",
   "metadata": {},
   "source": [
    "# Data Structures: Dictionaries"
   ]
  },
  {
   "cell_type": "markdown",
   "id": "7451359d-7e62-43a7-9e2a-31636c49b25b",
   "metadata": {},
   "source": [
    "[doc](https://docs.python.org/3/library/stdtypes.html#mapping-types-dict)  \n",
    "[RealPython dictionary tutorial](https://realpython.com/python-dicts/)  \n",
    "[RealPython iterate through a dictionary tutorial](https://realpython.com/iterate-through-dictionary-python/)\n",
    "\n",
    "- same as an `object` (typically in JavaScript)\n",
    "- very useful when you need to be able to retrieve elements by a name (\"give me the data under the name `line`\")"
   ]
  },
  {
   "cell_type": "code",
   "execution_count": null,
   "id": "4c7734de-a7fd-4bd3-a8af-e1f6e4f20979",
   "metadata": {},
   "outputs": [],
   "source": [
    "line = \"silencio silencio silencio\"\n",
    "line_gap = \"silencio          silencio\""
   ]
  },
  {
   "cell_type": "code",
   "execution_count": null,
   "id": "e4f34b08-07e8-4fd7-be43-db0ffc2ac8fd",
   "metadata": {},
   "outputs": [],
   "source": [
    "lines_dict = {\n",
    "    # name: data, aka\n",
    "    # key: value\n",
    "    \"line\": line,\n",
    "    \"line_gap\": line_gap\n",
    "}\n",
    "\n",
    "# you can also use `dict()`, passing a list of lists, or tuple of tuples\n",
    "# lines_dict = dict([\n",
    "#     [\"line\", line],\n",
    "#     [\"line_gap\", line_gap]\n",
    "# ])"
   ]
  },
  {
   "cell_type": "code",
   "execution_count": null,
   "id": "6b188a80",
   "metadata": {},
   "outputs": [],
   "source": [
    "# we retrieve elements using the square bracket `[\"\"]` syntax\n",
    "print(lines_dict[\"line\"])\n",
    "print(lines_dict[\"line\"])\n",
    "print(lines_dict[\"line_gap\"])\n",
    "print(lines_dict[\"line\"])\n",
    "print(lines_dict[\"line\"])"
   ]
  },
  {
   "cell_type": "markdown",
   "id": "d5fc828c",
   "metadata": {},
   "source": [
    "## Iterate over a dictionary"
   ]
  },
  {
   "cell_type": "code",
   "execution_count": null,
   "id": "bc7ec0f7-fbd0-46f3-9ceb-8a81fa45adb9",
   "metadata": {},
   "outputs": [],
   "source": [
    "# `key` is a variable name of our choosing\n",
    "for key in lines_dict.keys():\n",
    "    print(f\"{key}, {lines_dict[key]}\")"
   ]
  },
  {
   "cell_type": "code",
   "execution_count": null,
   "id": "1c80c1ba-9bee-4291-8a2a-268f709d6832",
   "metadata": {},
   "outputs": [],
   "source": [
    "for value in lines_dict.values():\n",
    "    print(value)"
   ]
  },
  {
   "cell_type": "code",
   "execution_count": null,
   "id": "e565faea-59d5-4787-9cd2-d7d214396bcb",
   "metadata": {},
   "outputs": [],
   "source": [
    "for key, value in lines_dict.items():\n",
    "    print(f\"{key}, {value}\")"
   ]
  },
  {
   "cell_type": "markdown",
   "id": "0c655eff",
   "metadata": {},
   "source": [
    "## Comprehension"
   ]
  },
  {
   "cell_type": "code",
   "execution_count": null,
   "id": "398d0fdb",
   "metadata": {},
   "outputs": [],
   "source": [
    "list_a = [\"!\", \"?\", \".\"]\n",
    "list_b = [\"no!\", \"what?\", \"ok.\"]\n",
    "\n",
    "# same as with lists, we can do a for-loop one liner with dictionaries\n",
    "my_dict = {key:value for key,value in zip(list_a, list_b)}\n",
    "\n",
    "print(my_dict)\n",
    "\n",
    "# this is the same as\n",
    "# my_dict = {}\n",
    "# for key,value in zip(list_a, list_b):\n",
    "#     my_dict[key] = value"
   ]
  }
 ],
 "metadata": {
  "kernelspec": {
   "display_name": "poetic.machines (3.12.2)",
   "language": "python",
   "name": "python3"
  },
  "language_info": {
   "codemirror_mode": {
    "name": "ipython",
    "version": 3
   },
   "file_extension": ".py",
   "mimetype": "text/x-python",
   "name": "python",
   "nbconvert_exporter": "python",
   "pygments_lexer": "ipython3",
   "version": "3.12.2"
  }
 },
 "nbformat": 4,
 "nbformat_minor": 5
}
