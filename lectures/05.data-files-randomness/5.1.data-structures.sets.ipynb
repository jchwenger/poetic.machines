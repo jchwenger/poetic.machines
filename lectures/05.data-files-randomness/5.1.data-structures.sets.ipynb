{
 "cells": [
  {
   "cell_type": "markdown",
   "id": "8b40af28-527e-4441-b9ff-fe046fc46fd7",
   "metadata": {},
   "source": [
    "# Data Structures: Sets"
   ]
  },
  {
   "cell_type": "markdown",
   "id": "8f87223d-ed4c-4259-9b4f-b6eb8d41fcf7",
   "metadata": {},
   "source": [
    "[doc](https://docs.python.org/3/library/stdtypes.html#set-types-set-frozenset)\n",
    "\n",
    "Sets are a data structure with two properties:\n",
    "- sets only contain **unique** elements!\n",
    "- sets don't preserve order (like dictionaries)."
   ]
  },
  {
   "cell_type": "code",
   "execution_count": null,
   "id": "520864b8-553a-4b05-900b-34cb15810799",
   "metadata": {},
   "outputs": [],
   "source": [
    "# all notion of order is removed!\n",
    "set1 = set(\"silencio\")\n",
    "set2 = set(\"ruido\")\n",
    "\n",
    "print(set1)\n",
    "print(set2)"
   ]
  },
  {
   "cell_type": "code",
   "execution_count": null,
   "id": "756804e9-39a3-4d64-8fbb-c3fc7864d36f",
   "metadata": {},
   "outputs": [],
   "source": [
    "print(\"r\" in set1)\n",
    "print(\"poem\" in set2)"
   ]
  },
  {
   "cell_type": "code",
   "execution_count": null,
   "id": "bba286fc-9741-4a01-90d3-c1b5d4ac9c31",
   "metadata": {},
   "outputs": [],
   "source": [
    "# els in set1 that are not in set2\n",
    "set1 - set2"
   ]
  },
  {
   "cell_type": "code",
   "execution_count": null,
   "id": "9e5fed4e-e1dc-47fc-b0a7-b9538030391f",
   "metadata": {},
   "outputs": [],
   "source": [
    "# intersection\n",
    "set1 & set2"
   ]
  },
  {
   "cell_type": "code",
   "execution_count": null,
   "id": "b52fc478-bff5-4f44-a030-a82a46a5c69e",
   "metadata": {},
   "outputs": [],
   "source": [
    "# union\n",
    "set1 | set2"
   ]
  },
  {
   "cell_type": "code",
   "execution_count": null,
   "id": "a9788de7-2ea3-4af0-aa0d-3399e05c18e2",
   "metadata": {},
   "outputs": [],
   "source": [
    "# is {'r', 'u'} a subset of {'r','u','i','d','o'} ?\n",
    "# set(\"ru\") turns \"ru\" into {'r', 'u'} \n",
    "set(\"ru\") < set2"
   ]
  },
  {
   "cell_type": "markdown",
   "id": "b18bb03f-d63f-4453-a3d3-4fb78d30d045",
   "metadata": {},
   "source": [
    "## What Is the Word"
   ]
  },
  {
   "cell_type": "code",
   "execution_count": null,
   "id": "afd56c03-fa08-4a34-82dc-5c9de01cc10a",
   "metadata": {},
   "outputs": [],
   "source": [
    "from IPython.display import YouTubeVideo\n",
    "YouTubeVideo(\"kdz70qt9rrw\", width=853, height=480) # What is the Word? - by Samuel Beckett (Cafard_ 2008) "
   ]
  },
  {
   "cell_type": "code",
   "execution_count": null,
   "id": "e7c3ef84-79c1-4c19-b3a2-0afccd472dd6",
   "metadata": {},
   "outputs": [],
   "source": [
    "# source: https://www.ciaranryan.com/samuel-becketts-last-poem/\n",
    "poem = \"\"\"folly –\n",
    "folly for to –\n",
    "for to –\n",
    "what is the word –\n",
    "folly from this –\n",
    "all this –\n",
    "folly from all this –\n",
    "given –\n",
    "folly given all this –\n",
    "seeing –\n",
    "folly seeing all this –\n",
    "this –\n",
    "what is the word –\n",
    "this this –\n",
    "this this here –\n",
    "all this this here –\n",
    "folly given all this –\n",
    "seeing –\n",
    "folly seeing all this this here –\n",
    "for to –\n",
    "what is the word –\n",
    "see –\n",
    "glimpse –\n",
    "seem to glimpse –\n",
    "need to seem to glimpse –\n",
    "folly for to need to seem to glimpse –\n",
    "what –\n",
    "what is the word –\n",
    "and where –\n",
    "folly for to need to seem to glimpse what where –\n",
    "where –\n",
    "what is the word –\n",
    "there –\n",
    "over there –\n",
    "away over there –\n",
    "afar –\n",
    "afar away over there –\n",
    "afaint –\n",
    "afaint afar away over there what –\n",
    "what –\n",
    "what is the word –\n",
    "seeing all this –\n",
    "all this this –\n",
    "all this this here –\n",
    "folly for to see what –\n",
    "glimpse –\n",
    "seem to glimpse –\n",
    "need to seem to glimpse –\n",
    "afaint afar away over there what –\n",
    "folly for to need to seem to glimpse afaint afar away over there what –\n",
    "what –\n",
    "what is the word –\n",
    "\n",
    "what is the word\n",
    "\"\"\""
   ]
  },
  {
   "cell_type": "code",
   "execution_count": null,
   "id": "2a40dbdf-98b6-4a81-961e-208df9e3601a",
   "metadata": {},
   "outputs": [],
   "source": [
    "# all unique characters\n",
    "print(set(poem))"
   ]
  },
  {
   "cell_type": "code",
   "execution_count": null,
   "id": "11b86297-08e0-45da-a189-ab2e8454c646",
   "metadata": {},
   "outputs": [],
   "source": [
    "# to work with words, first use `.split` to split on spaces\n",
    "poem_split = poem.split()\n",
    "print(poem_split)"
   ]
  },
  {
   "cell_type": "code",
   "execution_count": null,
   "id": "b714b9c0",
   "metadata": {},
   "outputs": [],
   "source": [
    "# all unique space/newline-separated words\n",
    "print(set(poem_split))"
   ]
  },
  {
   "cell_type": "code",
   "execution_count": null,
   "id": "4856f502-83a9-435a-a4c6-b0ddf8ec7a05",
   "metadata": {},
   "outputs": [],
   "source": [
    "# all unique lines\n",
    "poem_lines = poem.split(\"\\n\")\n",
    "unique_lines = set(poem_lines)\n",
    "print(unique_lines) \n",
    "\n",
    "print()\n",
    "print(\"# lines in original:\", len(poem_lines))\n",
    "print(\"# unique lines:\", len(unique_lines))"
   ]
  }
 ],
 "metadata": {
  "kernelspec": {
   "display_name": "poetic.machines",
   "language": "python",
   "name": "python3"
  },
  "language_info": {
   "codemirror_mode": {
    "name": "ipython",
    "version": 3
   },
   "file_extension": ".py",
   "mimetype": "text/x-python",
   "name": "python",
   "nbconvert_exporter": "python",
   "pygments_lexer": "ipython3",
   "version": "3.12.11"
  }
 },
 "nbformat": 4,
 "nbformat_minor": 5
}
