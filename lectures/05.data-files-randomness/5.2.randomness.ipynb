{
 "cells": [
  {
   "cell_type": "markdown",
   "id": "c785d43c-de8d-4625-b45c-ea36c5930237",
   "metadata": {},
   "source": [
    "# Randomness"
   ]
  },
  {
   "cell_type": "markdown",
   "id": "cd87e762-5265-4f69-9a96-45b7b0f8f086",
   "metadata": {},
   "source": [
    "[doc](https://docs.python.org/3/library/random.html)  \n",
    "[w<sup>3</sup> tutorial](https://www.w3schools.com/python/numpy/numpy_random.asp)\n",
    "\n",
    "[Randomness](https://en.wikipedia.org/wiki/Randomness) (aka Chance? – discuss!) is a key component of both computing and creation! In this notebook, we will see how to generate randomness in our code.\n",
    "\n",
    "Note: this is, sadly, not **actual** randomness, which is very difficult to generate reliably, but something called [**pseudorandomness**](https://en.wikipedia.org/wiki/Pseudorandomness) (a good enough approximation for most use cases, even if it's actually deterministic). The best random numbers we get are produced using [physical measurements](https://qrng.anu.edu.au/) (great, but super slow).\n",
    "\n",
    "We will see randomness in both Python and `py5canvas` (slightly different APIs)."
   ]
  },
  {
   "cell_type": "markdown",
   "id": "f28b5090",
   "metadata": {},
   "source": [
    "## Pure Python"
   ]
  },
  {
   "cell_type": "code",
   "execution_count": null,
   "id": "141e8a7e-94ec-46dd-9988-a253f2a1be47",
   "metadata": {},
   "outputs": [],
   "source": [
    "import random"
   ]
  },
  {
   "cell_type": "code",
   "execution_count": null,
   "id": "1eae5d9e-a532-4184-9df0-454d147ed48d",
   "metadata": {},
   "outputs": [],
   "source": [
    "# the way to 'remove' randomness from programmes using `random`\n",
    "# is to fix the \"seed\" (here 42, the \"Answer to the Ultimate Question\n",
    "# of Life, the Universe, and Everything\") – running this will guarantee\n",
    "# that you will always get the same numbers below even if you run the\n",
    "# notebook many times (this does not mean running the cells multiple\n",
    "# times, though...)\n",
    "random.seed(42)"
   ]
  },
  {
   "cell_type": "markdown",
   "id": "ac757523-3ce9-4596-92a8-be7a7dd55198",
   "metadata": {},
   "source": [
    "### Integers"
   ]
  },
  {
   "cell_type": "markdown",
   "id": "4d838f46-b2c8-4745-9914-d102e546d5a6",
   "metadata": {},
   "source": [
    "[doc](https://docs.python.org/3/library/random.html#functions-for-integers)"
   ]
  },
  {
   "cell_type": "code",
   "execution_count": null,
   "id": "136cbace-5525-4aaf-a900-23c7d858f81a",
   "metadata": {},
   "outputs": [],
   "source": [
    "# frustratingly, this is from 0 to 3 *inclusive*...\n",
    "random.randint(0, 3)\n"
   ]
  },
  {
   "cell_type": "code",
   "execution_count": null,
   "id": "af3caed4-0149-46f8-93f1-527534d8501b",
   "metadata": {},
   "outputs": [],
   "source": [
    "# get an even number between 0 and 8\n",
    "# same as random.choice(range(0,10,2))\n",
    "random.randrange(0, 10, 2)"
   ]
  },
  {
   "cell_type": "markdown",
   "id": "c0529b36",
   "metadata": {},
   "source": [
    "### Sequences"
   ]
  },
  {
   "cell_type": "markdown",
   "id": "1a19f01c-8d77-44ad-98ca-3e1563e908c5",
   "metadata": {},
   "source": [
    "[doc](https://docs.python.org/3/library/random.html#functions-for-sequences)\n",
    "\n",
    "We can use this to choose one or elements from a set/list (like drawing cards from a hat), or to shuffle elements in a set/list (like shuffling cards)."
   ]
  },
  {
   "cell_type": "code",
   "execution_count": null,
   "id": "8f233956-dbbe-4c0d-948d-1e5ea8c1e216",
   "metadata": {},
   "outputs": [],
   "source": [
    "a = [1,2,3,4,5,6,7]\n",
    "random.choice(a)\n",
    "\n",
    "# use random.choices(a, k=10) to select 10 elements"
   ]
  },
  {
   "cell_type": "code",
   "execution_count": null,
   "id": "455187c6-932d-40d2-b08c-9a16abe5abd1",
   "metadata": {},
   "outputs": [],
   "source": [
    "# performs the shuffle in-place!\n",
    "random.shuffle(a)\n",
    "a"
   ]
  },
  {
   "cell_type": "code",
   "execution_count": null,
   "id": "1ceb6ea5-ce9e-42b2-9cbb-7d98e01021cc",
   "metadata": {},
   "outputs": [],
   "source": [
    "# samples without replacement (like taking balls out of a bag\n",
    "# without putting back the ball you just drew when drawing again)\n",
    "# k must be smaller than the size of the list!\n",
    "random.sample(a, k=4)"
   ]
  },
  {
   "cell_type": "code",
   "execution_count": null,
   "id": "e9550737-0cac-4e15-89c1-b94b67877625",
   "metadata": {},
   "outputs": [],
   "source": [
    "random.sample(\n",
    "    [\"speak\", \"sing\"],\n",
    "    # construct the total options: 4 x \"speak\", 2 x \"sing\"\n",
    "    counts=[4, 2],\n",
    "    # five actions samplesd from that total (must be smaller than `sum(counts)`!)\n",
    "    k=5\n",
    ")"
   ]
  },
  {
   "cell_type": "code",
   "execution_count": null,
   "id": "cdb5c3e8-87e3-4a93-bdf6-dbb69d41e1c2",
   "metadata": {},
   "outputs": [],
   "source": [
    "# to sample efficiently from very large numbers\n",
    "random.sample(range(10000000), k=10)"
   ]
  },
  {
   "cell_type": "markdown",
   "id": "a0a2a69c-ae1d-43b6-96ef-3e425d2f2962",
   "metadata": {},
   "source": [
    "### Floats"
   ]
  },
  {
   "cell_type": "markdown",
   "id": "c7818b74-8b65-4529-bc90-32ad85d5bf3d",
   "metadata": {},
   "source": [
    "[doc](https://docs.python.org/3/library/random.html#real-valued-distributions)"
   ]
  },
  {
   "cell_type": "markdown",
   "id": "0d2a0392",
   "metadata": {},
   "source": [
    "For floats, there are three main functions for us:\n",
    "- `.random()` gives us a number between 0 and 1 ([uniform](https://en.wikipedia.org/wiki/Continuous_uniform_distribution) distribution): all numbers between 0 and 1 are equally likely);\n",
    "- `.uniform(start, end)` is the same, but between `start` and `end`;\n",
    "- `.gauss(mu, sigma)` samples from a [Gaussian (aka Normal, aka Bell Curve)](https://en.wikipedia.org/wiki/Normal_distribution) distribution (when you sample, most of the time you get data around the mean, and the farther away from the mean you are, the less likely this will come up)."
   ]
  },
  {
   "cell_type": "code",
   "execution_count": null,
   "id": "791e3908-d2c7-403f-a854-76104071114f",
   "metadata": {},
   "outputs": [],
   "source": [
    "# between 0 and 1\n",
    "random.random()"
   ]
  },
  {
   "cell_type": "code",
   "execution_count": null,
   "id": "238a26f9-59b4-4376-ab9d-175d22c4fb13",
   "metadata": {},
   "outputs": [],
   "source": [
    "# between 2 and 4\n",
    "random.uniform(2, 4)"
   ]
  },
  {
   "cell_type": "code",
   "execution_count": null,
   "id": "4a0dbc8a-b649-4a01-87f4-28337e8e035f",
   "metadata": {},
   "outputs": [],
   "source": [
    "# sample from a normal/Gaussian distribution, mean 0, standard deviation of 1\n",
    "random.gauss(mu=0, sigma=1)"
   ]
  },
  {
   "cell_type": "markdown",
   "id": "7b5aaea6",
   "metadata": {},
   "source": [
    "### Silencio: Random erasure"
   ]
  },
  {
   "cell_type": "code",
   "execution_count": null,
   "id": "6643de6d",
   "metadata": {},
   "outputs": [],
   "source": [
    "# we need both time.sleep & clear_output functionalities\n",
    "import time\n",
    "from IPython.display import clear_output\n",
    "\n",
    "word = \"silencio\"\n",
    "n_line = 5\n",
    "n_col = 3\n",
    "\n",
    "sleep_time = .2\n",
    "\n",
    "# loop 1\n",
    "while True:\n",
    "    \n",
    "    random_line = random.randint(0, 4)\n",
    "    random_col = random.randint(0, 2)\n",
    "\n",
    "    # loop 2\n",
    "    for i in range(n_line):\n",
    "        line = \"\"\n",
    "        # loop 3\n",
    "        for j in range(n_col):\n",
    "            if i == random_line and j == random_col:\n",
    "                line += \" \" * (len(word) + 1)\n",
    "            else:\n",
    "                line += word + \" \"\n",
    "        print(line)\n",
    "\n",
    "    time.sleep(sleep_time)\n",
    "    clear_output(wait=True)"
   ]
  },
  {
   "cell_type": "markdown",
   "id": "af9b239d",
   "metadata": {},
   "source": [
    "#### Ideas"
   ]
  },
  {
   "cell_type": "markdown",
   "id": "d2de8919",
   "metadata": {},
   "source": [
    "- Work with other kinds of words / shapes / poems. What possibilities does the movement introduce/open, that were not accessible with only words on a page?\n",
    "- How do you construct a different kind of pattern? For instance, the blank space moving along the diagonals, or only on the border, etc.?\n",
    "- Given that time is built/organised around frames, can you think of a way to work with rhythm (instead of a regular change every `n` frames?\n",
    "- How do you create a 'blip/glitch' effect? Say, the poem is the original one, fixed, but every now and then, suddenly, the blank space moves to one other spot, and so fast that it is almost subliminal?"
   ]
  },
  {
   "cell_type": "markdown",
   "id": "e2fd1d5c",
   "metadata": {},
   "source": [
    "## `py5canvas` examples"
   ]
  },
  {
   "cell_type": "markdown",
   "id": "3c022484",
   "metadata": {},
   "source": [
    "- `random`: uniform noise\n",
    "- `noise`: Perline noise (see Shifman's [noise & randomness lectures](https://www.youtube.com/watch?v=3slqsMHKLng&list=PLRqwX-V7Uu6ZV4yEcW3uDwOgGXKUUsPOM&index=2))\n",
    "\n",
    "**Important**: when working inside a `py5canvas` sketch, `random` will be not be the Python module, but the function defined in `py5canvas`! To work with both, I suggest doing:\n",
    "\n",
    "```python\n",
    "import random as rnd\n",
    "# now we can use the native random functions\n",
    "rdn.choice([1,2,3,4])\n",
    "```"
   ]
  },
  {
   "cell_type": "code",
   "execution_count": null,
   "id": "10c33fc7",
   "metadata": {},
   "outputs": [],
   "source": [
    "# this time I don't import everything, so that I don't have name clashed with random\n",
    "import py5canvas as p5"
   ]
  },
  {
   "cell_type": "markdown",
   "id": "f7d2fd58",
   "metadata": {},
   "source": [
    "### Example 1: `random`"
   ]
  },
  {
   "cell_type": "code",
   "execution_count": null,
   "id": "34e16c87",
   "metadata": {},
   "outputs": [],
   "source": [
    "# create the canvas as an object, so the p5 names are not used globally\n",
    "C = p5.Canvas(800, 200)\n",
    "\n",
    "C.background(0)\n",
    "\n",
    "n_points = 1000\n",
    "\n",
    "# translate to the middle of the canvas\n",
    "C.translate(0, C.height/2)\n",
    "\n",
    "for i in range(n_points):\n",
    "\n",
    "    # in white: random points (horizontal, vertical, 30 pixels away from the middle)\n",
    "    C.fill(255)\n",
    "    x_randomised = p5.random(C.width)\n",
    "    y_randomised = p5.random(-30, 30)\n",
    "    C.circle(x_randomised, y_randomised, 5)\n",
    "\n",
    "    # in red: random points (only horizontal)\n",
    "    C.fill(255, 0, 0)\n",
    "    C.circle(x_randomised, 0, 5)    \n",
    "\n",
    "C.show()"
   ]
  },
  {
   "cell_type": "markdown",
   "id": "b30bb81b",
   "metadata": {},
   "source": [
    "### Example 2: `random` + a math function"
   ]
  },
  {
   "cell_type": "code",
   "execution_count": null,
   "id": "1664b841",
   "metadata": {},
   "outputs": [],
   "source": [
    "C = p5.Canvas(800, 200)\n",
    "\n",
    "C.background(0)\n",
    "C.no_fill()\n",
    "C.stroke_weight(1)\n",
    "\n",
    "# tweak me (cannot be zero)\n",
    "sine_coeff = 10\n",
    "\n",
    "# note: we will have 200 * 10 points in total!\n",
    "n_horizontal_points = 200\n",
    "n_vertical_points = 10\n",
    "\n",
    "# translate to the middle of the canvas\n",
    "C.translate(0, C.height/2)\n",
    "\n",
    "for i in range(n_horizontal_points):\n",
    "    \n",
    "    # remap our i (from [0, 200] to [0, width])\n",
    "    x = p5.remap(i, 0, 200, 0, C.width)\n",
    "\n",
    "    # use the sine function\n",
    "    sin_i = p5.sin(i/sine_coeff)\n",
    "\n",
    "    # remap our sine(i) (from [-1, 1] to [-40, 40])\n",
    "    y = p5.remap(sin_i, -1, 1, -40, 40)\n",
    "\n",
    "    # draw the random points\n",
    "    for i in range(n_vertical_points):\n",
    "        C.stroke(255)\n",
    "        y_randomised = y + p5.random(-30, 30)\n",
    "        C.circle(x, y_randomised, 2)\n",
    "\n",
    "    # draw the curve\n",
    "    C.stroke(255, 0, 0)\n",
    "    C.circle(x, y, 2)\n",
    "    \n",
    "C.show()"
   ]
  },
  {
   "cell_type": "markdown",
   "id": "c1f9b88c",
   "metadata": {},
   "source": [
    "### Example 3: Perlin `noise`"
   ]
  },
  {
   "cell_type": "code",
   "execution_count": null,
   "id": "a9a6a70b",
   "metadata": {},
   "outputs": [],
   "source": [
    "C = p5.Canvas(800, 200)\n",
    "\n",
    "C.background(0)\n",
    "C.no_fill()\n",
    "C.stroke_weight(1)\n",
    "\n",
    "n_points = 200\n",
    "\n",
    "# where we start in on the Perlin landscape\n",
    "offset = 0.1\n",
    "# how fast we move / how close we zoom, on the landscape (cannot be zero!)\n",
    "perlin_factor = 100\n",
    "\n",
    "# 1. create points, distributing them evenly from 0 to width\n",
    "xs = []\n",
    "for i in range(n_points):\n",
    "    x = p5.remap(i, 0, n_points, 0, C.width)\n",
    "    xs.append(x)\n",
    "\n",
    "# 2. using our xs, create ts perlin noise values\n",
    "ts = []\n",
    "for x in xs:\n",
    "    t = p5.noise(x / perlin_factor + offset)\n",
    "    ts.append(t)\n",
    "\n",
    "C.stroke(255, 0, 0)\n",
    "for x, t in zip(xs, ts):\n",
    "\n",
    "    # remap our t to be from 0 to height\n",
    "    y = p5.remap(t, min(ts), max(ts), 0, C.height)\n",
    "    C.line(x, 0, x, y)\n",
    "\n",
    "C.show()"
   ]
  },
  {
   "cell_type": "markdown",
   "id": "81e6e248",
   "metadata": {},
   "source": [
    "### Example 4: visualise a Gaussian"
   ]
  },
  {
   "cell_type": "code",
   "execution_count": null,
   "id": "b1b5907a",
   "metadata": {},
   "outputs": [],
   "source": [
    "import math\n",
    "\n",
    "C = p5.Canvas(800, 300)\n",
    "C.background(0)\n",
    "C.text_size(12)\n",
    "C.no_fill()\n",
    "C.stroke(255)\n",
    "C.text_align(p5.CENTER)\n",
    "\n",
    "# create points sampled from a Gaussian\n",
    "# TODO: try 50/500/50000 points\n",
    "mu = 0\n",
    "sigma = 1\n",
    "n_points = 5000\n",
    "nx = []\n",
    "for i in range(n_points):\n",
    "    nx.append(random.gauss(mu, sigma))\n",
    "\n",
    "# now we will arrange them in bins\n",
    "n_bins = 20\n",
    "nx_min = min(nx)\n",
    "nx_max = max(nx)\n",
    "\n",
    "# remap our Gaussian points to be between 0 and n_bins - 1\n",
    "nx_remap = []\n",
    "for n in nx:\n",
    "    n_remap = p5.remap(n, nx_min, nx_max, 0, n_bins - 1)\n",
    "    nx_remap.append(n_remap)\n",
    "\n",
    "# in order to count how many dots we have in each bin\n",
    "# we floor them (17.233 to 17), and then use that as an index\n",
    "# (the 17th bin), increment it\n",
    "\n",
    "counts = [0] * n_bins\n",
    "for n in nx_remap:\n",
    "    # print(math.floor(n))\n",
    "    counts[math.floor(n)] += 1\n",
    "\n",
    "max_count = max(counts)\n",
    "min_count = min(counts)\n",
    "\n",
    "for i, c in enumerate(counts):\n",
    "    # x: remap i to go from 20 to width\n",
    "    x = p5.remap(i, 0, len(counts), 20, C.width)\n",
    "\n",
    "    # y: remap c to go from 10 to height (minus 50, to stay in the canvas) \n",
    "    y = p5.remap(c, min_count, max_count, 10, C.height - 50)\n",
    "    \n",
    "    # draw a circle at the height corresponding to the number of samples (count)\n",
    "    # (note that we flip things vertically: height - y, since 0 is at the top)\n",
    "    C.circle(x, C.height - y, 10)\n",
    "    # write the actual number of samples\n",
    "    C.text(f\"{c}\", x, C.height - y - 10)\n",
    "    \n",
    "\n",
    "C.show()"
   ]
  }
 ],
 "metadata": {
  "kernelspec": {
   "display_name": "poetic.machines",
   "language": "python",
   "name": "python3"
  },
  "language_info": {
   "codemirror_mode": {
    "name": "ipython",
    "version": 3
   },
   "file_extension": ".py",
   "mimetype": "text/x-python",
   "name": "python",
   "nbconvert_exporter": "python",
   "pygments_lexer": "ipython3",
   "version": "3.12.11"
  }
 },
 "nbformat": 4,
 "nbformat_minor": 5
}
