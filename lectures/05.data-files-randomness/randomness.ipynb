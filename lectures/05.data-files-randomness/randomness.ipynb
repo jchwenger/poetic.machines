{
 "cells": [
  {
   "cell_type": "markdown",
   "id": "c785d43c-de8d-4625-b45c-ea36c5930237",
   "metadata": {},
   "source": [
    "# Randomness"
   ]
  },
  {
   "cell_type": "markdown",
   "id": "cd87e762-5265-4f69-9a96-45b7b0f8f086",
   "metadata": {},
   "source": [
    "[doc](https://docs.python.org/3/library/random.html)"
   ]
  },
  {
   "cell_type": "code",
   "execution_count": null,
   "id": "141e8a7e-94ec-46dd-9988-a253f2a1be47",
   "metadata": {},
   "outputs": [],
   "source": [
    "import time\n",
    "import random\n",
    "from IPython.display import clear_output"
   ]
  },
  {
   "cell_type": "code",
   "execution_count": null,
   "id": "1eae5d9e-a532-4184-9df0-454d147ed48d",
   "metadata": {},
   "outputs": [],
   "source": [
    "random.seed(42)"
   ]
  },
  {
   "cell_type": "markdown",
   "id": "ac757523-3ce9-4596-92a8-be7a7dd55198",
   "metadata": {},
   "source": [
    "## Integer"
   ]
  },
  {
   "cell_type": "markdown",
   "id": "4d838f46-b2c8-4745-9914-d102e546d5a6",
   "metadata": {},
   "source": [
    "[doc](https://docs.python.org/3/library/random.html#functions-for-integers)"
   ]
  },
  {
   "cell_type": "code",
   "execution_count": null,
   "id": "136cbace-5525-4aaf-a900-23c7d858f81a",
   "metadata": {},
   "outputs": [],
   "source": [
    "random.randint(0, 10)"
   ]
  },
  {
   "cell_type": "code",
   "execution_count": null,
   "id": "af3caed4-0149-46f8-93f1-527534d8501b",
   "metadata": {},
   "outputs": [],
   "source": [
    "# get an even number between 0 and 8\n",
    "# same as random.choice(range(0,10,2))\n",
    "random.randrange(0, 10, 2)"
   ]
  },
  {
   "cell_type": "markdown",
   "id": "5b3c64da-6cf1-4b28-b030-9fbef476a243",
   "metadata": {},
   "source": [
    "## Silencio: Random erasure"
   ]
  },
  {
   "cell_type": "code",
   "execution_count": null,
   "id": "41f119e1-5fed-4b17-8dab-542665e62d65",
   "metadata": {},
   "outputs": [],
   "source": [
    "word = \"silencio\"\n",
    "n_line = 5\n",
    "n_col = 3\n",
    "\n",
    "sleep_time = .2\n",
    "\n",
    "# loop 1\n",
    "while True:\n",
    "    \n",
    "    random_line = random.randint(0, 4)\n",
    "    random_col = random.randint(0, 2)\n",
    "\n",
    "    # loop 2\n",
    "    for i in range(n_line):\n",
    "        line = \"\"\n",
    "        # loop 3\n",
    "        for j in range(n_col):\n",
    "            if i == random_line and j == random_col:\n",
    "                line += \" \" * (len(word) + 1)\n",
    "            else:\n",
    "                line += word + \" \"\n",
    "        print(line)\n",
    "\n",
    "    time.sleep(sleep_time)\n",
    "    clear_output(wait=True)"
   ]
  },
  {
   "cell_type": "markdown",
   "id": "c2465d5e-2d7f-4304-9d9c-bca13a1f11b2",
   "metadata": {},
   "source": [
    "### Ideas"
   ]
  },
  {
   "cell_type": "markdown",
   "id": "5698fee6-56e3-4176-9cf6-9fff0f58bc7f",
   "metadata": {},
   "source": [
    "A few examples:\n",
    "- Work with other kinds of words / shapes / poems. What possibilities does the movement introduce/open, that were not accessible with only words on a page?\n",
    "- How do you construct a different kind of pattern? For instance, the blank space moving along the diagonals, or only on the border, etc.?\n",
    "- Given that time is built/organised around frames, can you think of a way to work with rhythm (instead of a regular change every `n` frames?\n",
    "- How do you create a 'blip/glitch' effect? Say, the poem is the original one, fixed, but every now and then, suddenly, the blank space moves to one other spot, and so fast that it is almost subliminal?"
   ]
  },
  {
   "cell_type": "markdown",
   "id": "0e104b3b-ff1b-4666-87c0-43c394c21e53",
   "metadata": {},
   "source": [
    "## Sequences"
   ]
  },
  {
   "cell_type": "markdown",
   "id": "1a19f01c-8d77-44ad-98ca-3e1563e908c5",
   "metadata": {},
   "source": [
    "[doc](https://docs.python.org/3/library/random.html#functions-for-sequences)"
   ]
  },
  {
   "cell_type": "code",
   "execution_count": null,
   "id": "8f233956-dbbe-4c0d-948d-1e5ea8c1e216",
   "metadata": {},
   "outputs": [],
   "source": [
    "a = [1,2,3,4,5,6,7]\n",
    "random.choice(a)"
   ]
  },
  {
   "cell_type": "code",
   "execution_count": null,
   "id": "455187c6-932d-40d2-b08c-9a16abe5abd1",
   "metadata": {},
   "outputs": [],
   "source": [
    "random.shuffle(a) # does that in-place!\n",
    "a"
   ]
  },
  {
   "cell_type": "code",
   "execution_count": null,
   "id": "1ceb6ea5-ce9e-42b2-9cbb-7d98e01021cc",
   "metadata": {},
   "outputs": [],
   "source": [
    "# samples without replacement (like taking balls out of a bag\n",
    "# without putting back the ball you just drew when drawing again)\n",
    "random.sample(a, k=4)"
   ]
  },
  {
   "cell_type": "code",
   "execution_count": null,
   "id": "e9550737-0cac-4e15-89c1-b94b67877625",
   "metadata": {},
   "outputs": [],
   "source": [
    "random.sample(\n",
    "    [\"speak\", \"sing\"],\n",
    "    counts=[4, 2],      # construct the total options: 4 x \"speak\", 2 x \"sing\"\n",
    "    k=5                 # five actions samplesd from that total\n",
    ")"
   ]
  },
  {
   "cell_type": "code",
   "execution_count": null,
   "id": "cdb5c3e8-87e3-4a93-bdf6-dbb69d41e1c2",
   "metadata": {},
   "outputs": [],
   "source": [
    "# to sample efficiently from very large numbers\n",
    "random.sample(range(10000000), k=10)"
   ]
  },
  {
   "cell_type": "markdown",
   "id": "a0a2a69c-ae1d-43b6-96ef-3e425d2f2962",
   "metadata": {},
   "source": [
    "## Floats"
   ]
  },
  {
   "cell_type": "markdown",
   "id": "c7818b74-8b65-4529-bc90-32ad85d5bf3d",
   "metadata": {},
   "source": [
    "[doc](https://docs.python.org/3/library/random.html#real-valued-distributions)"
   ]
  },
  {
   "cell_type": "code",
   "execution_count": null,
   "id": "791e3908-d2c7-403f-a854-76104071114f",
   "metadata": {},
   "outputs": [],
   "source": [
    "random.random() # between 0 and 1"
   ]
  },
  {
   "cell_type": "code",
   "execution_count": null,
   "id": "238a26f9-59b4-4376-ab9d-175d22c4fb13",
   "metadata": {},
   "outputs": [],
   "source": [
    "random.uniform(2, 4) # between 2 and 4"
   ]
  },
  {
   "cell_type": "code",
   "execution_count": null,
   "id": "4a0dbc8a-b649-4a01-87f4-28337e8e035f",
   "metadata": {},
   "outputs": [],
   "source": [
    "# sample from a normal/Gaussian distribution, mean 0, standard deviation of 1\n",
    "random.gauss(mu=0, sigma=1)"
   ]
  }
 ],
 "metadata": {
  "kernelspec": {
   "display_name": "Python 3 (ipykernel)",
   "language": "python",
   "name": "python3"
  },
  "language_info": {
   "codemirror_mode": {
    "name": "ipython",
    "version": 3
   },
   "file_extension": ".py",
   "mimetype": "text/x-python",
   "name": "python",
   "nbconvert_exporter": "python",
   "pygments_lexer": "ipython3",
   "version": "3.12.2"
  }
 },
 "nbformat": 4,
 "nbformat_minor": 5
}
