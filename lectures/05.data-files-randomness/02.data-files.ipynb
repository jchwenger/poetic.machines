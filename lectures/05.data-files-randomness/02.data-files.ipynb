{
 "cells": [
  {
   "cell_type": "markdown",
   "id": "771394d1-c4c5-428c-b542-53d8e77676df",
   "metadata": {},
   "source": [
    "# Working with Data & Files"
   ]
  },
  {
   "cell_type": "markdown",
   "id": "9fcf953c",
   "metadata": {},
   "source": [
    "In this notebook, we will learn how to handle files and data in Python (loading from disk, saving to disk)."
   ]
  },
  {
   "cell_type": "markdown",
   "id": "099bc86d-47af-4d21-936d-bbdad3f5e7b2",
   "metadata": {},
   "source": [
    "## Interfacing with the OS"
   ]
  },
  {
   "cell_type": "markdown",
   "id": "d1f94dcd-4934-4d44-aa03-34a532897e93",
   "metadata": {},
   "source": [
    "[tutorial](https://realpython.com/working-with-files-in-python/#getting-a-directory-listing)  \n",
    "[os doc](https://docs.python.org/3/library/os.html)  \n",
    "[Pathlib doc](https://docs.python.org/3/library/pathlib.html)  \n",
    "\n",
    "To deal with files, directories, etc., there are two main ways: `os` is the older one, and `pathlib` the new one. I'll be showing tricks I use regularly, using both approaches (often they overlap)."
   ]
  },
  {
   "cell_type": "code",
   "execution_count": null,
   "id": "01450367-b011-45c1-8559-a0b020382c42",
   "metadata": {},
   "outputs": [],
   "source": [
    "import os\n",
    "import pathlib"
   ]
  },
  {
   "cell_type": "code",
   "execution_count": null,
   "id": "33b3589a-9762-4faa-aa94-2d47f81285c0",
   "metadata": {},
   "outputs": [],
   "source": [
    "# lists the content of the current directory\n",
    "os.listdir()"
   ]
  },
  {
   "cell_type": "code",
   "execution_count": null,
   "id": "6d7f83b9",
   "metadata": {},
   "outputs": [],
   "source": [
    "# with pathlib, you first create a 'path' object, then you can iterate\n",
    "p = pathlib.Path(\".\")\n",
    "list(p.iterdir())"
   ]
  },
  {
   "cell_type": "code",
   "execution_count": null,
   "id": "cc69cd63",
   "metadata": {},
   "outputs": [],
   "source": [
    "# nice pathlib handling of '/' to create new paths\n",
    "# with os, you'd need to do os.path.join(first_path, \"second_path\")\n",
    "sub_p = p / \"subdirectory\"\n",
    "print(sub_p)"
   ]
  },
  {
   "cell_type": "markdown",
   "id": "72da993e",
   "metadata": {},
   "source": [
    "### Creating / Deleting Directories\n",
    "\n",
    "[`os.mkdir` doc](https://docs.python.org/3/library/os.html#os.mkdir)  \n",
    "[`os.makedirs` doc](https://docs.python.org/3/library/os.html#os.makedirs)  \n",
    "[`os.rmdir` doc](https://docs.python.org/3/library/os.html#os.rmdir)  \n",
    "[`os.removedirs` doc](https://docs.python.org/3/library/os.html#os.removedirs) \n",
    "\n",
    "\n",
    "**NOTE: DELETING WITH PYTHON ISNT'T \"MOVING TO THE BIN\".**  \n",
    "**When you remove something, it's *gone*. Be careful!**"
   ]
  },
  {
   "cell_type": "code",
   "execution_count": null,
   "id": "748a8c12",
   "metadata": {},
   "outputs": [],
   "source": [
    "test_dirs = \"test/subtest\"\n",
    "\n",
    "# to create a directory, you use either the old way (you cannot create\n",
    "# more than one, like \"dir/other-dir/\", and it throws an error if the\n",
    "# directory exists)\n",
    "# os.mkdir(test_dirs)\n",
    "\n",
    "# or the new way, where you can create nested dir (for it not to throw\n",
    "# an error if the directory exists, use `exist_ok=True`)\n",
    "os.makedirs(test_dirs, exist_ok=True)"
   ]
  },
  {
   "cell_type": "code",
   "execution_count": null,
   "id": "2c4b2431",
   "metadata": {},
   "outputs": [],
   "source": [
    "# similarly, to remove a directory, the old way is this,\n",
    "# removing only the *last* directory (\"test\" would remain)\n",
    "# (but you need to delete all the files inside first)\n",
    "# os.rmdir(test_dirs)\n",
    "\n",
    "# to remove multiple directories, you can use this\n",
    "# (the last directory must still be empty)\n",
    "os.removedirs(test_dirs)\n"
   ]
  },
  {
   "cell_type": "markdown",
   "id": "6637f294",
   "metadata": {},
   "source": [
    "### Renaming files/directories"
   ]
  },
  {
   "cell_type": "code",
   "execution_count": null,
   "id": "aab1cd05",
   "metadata": {},
   "outputs": [],
   "source": [
    "# notice the `empty.txt` file (it is empty)\n",
    "os.listdir()"
   ]
  },
  {
   "cell_type": "code",
   "execution_count": null,
   "id": "f6f91b85",
   "metadata": {},
   "outputs": [],
   "source": [
    "# rename it (this also works for directories, and they don't need to be empty!)\n",
    "os.rename(\"empty.txt\", \"still-empty.txt\")\n",
    "\n",
    "# has it changed?\n",
    "os.listdir()"
   ]
  },
  {
   "cell_type": "code",
   "execution_count": null,
   "id": "eec6c451",
   "metadata": {},
   "outputs": [],
   "source": [
    "# rename it back\n",
    "os.rename(\"still-empty.txt\", \"empty.txt\")"
   ]
  },
  {
   "cell_type": "markdown",
   "id": "a075e496",
   "metadata": {},
   "source": [
    "#### Extra: `shutil`\n"
   ]
  },
  {
   "cell_type": "markdown",
   "id": "bd8f6ee0",
   "metadata": {},
   "source": [
    "[doc](https://docs.python.org/3/library/shutil.html). \n",
    "[RealPython tutorial](https://realpython.com/ref/stdlib/shutil/)\n",
    "\n",
    "[`shutil.rmtree` doc](https://docs.python.org/3/library/shutil.html#shutil.rmtree)  \n",
    "[`shutil.move` doc](https://docs.python.org/3/library/shutil.html#shutil.move)  \n",
    "[`shutil.copy` doc](https://docs.python.org/3/library/shutil.html#shutil.copy)  \n",
    "\n",
    "\n",
    "One thing you can do with `shutil` is removing directories with files in them (even more dangerous – there is no undoing this):\n",
    "\n",
    "```python\n",
    "import shutil\n",
    "\n",
    "# this will recursively remove everything\n",
    "shutil.rmtree(\"directory_with_things_in_it\")\n",
    "\n",
    "# same as `os.rename`, but guaranteed to work in all cases\n",
    "shutil.move(\"old-file-name\", \"new-file-name\")\n",
    "```"
   ]
  },
  {
   "cell_type": "markdown",
   "id": "cfb93d2e-d38a-4aa7-a62c-c43f01dc46e5",
   "metadata": {},
   "source": [
    "## Plain text"
   ]
  },
  {
   "cell_type": "markdown",
   "id": "62440dbe",
   "metadata": {},
   "source": [
    "Important note! You are probably used to working with text in something like Word, Page, or some other common word processor. The documents you have there (`.docx`, `.odt`, etc.) are in fact closer to webpages than 'just text'. That means that a lot of formatting exists around it that you don't see when you edit the file! If you want to see how deep the rabbit hole goes, right click on one `.docx` file, and select \"uncompress\" instead of \"open\" or \"open with\" – you will see that actually those files are **zip** files, with many weird files inside them!\n",
    "\n",
    "If you were to load a `.docx` file into Python, you would also get all that formatting (which is written in text as well), and that's not what we want. Even the simpler `.rtf` (\"rich text format\") that you can select sometimes when saving file still adds \"unseen formatting\" text around the text you write.\n",
    "\n",
    "Instead, [\"plain text\"](https://en.wikipedia.org/wiki/Plain_text) is what is contained in this cell (what you copy-paste if you enter this cell to edit it, and \"select all\" to copy). Simply a number of characters, that under the hood are each have a particular binary representation.\n",
    "\n",
    "Note also that a notebook like this one **also** hides quite a lot of formatting behind it – but a `.py` (or a `.js`, or in fact a `.txt`) file does not! In those, what we see is what we get, no additional text, and that's what we need to work with."
   ]
  },
  {
   "cell_type": "markdown",
   "id": "69e62880",
   "metadata": {},
   "source": [
    "## Open and load files"
   ]
  },
  {
   "cell_type": "markdown",
   "id": "d0406116-1598-4fa3-80e1-efbb132502b9",
   "metadata": {},
   "source": [
    "[`open` docs](https://docs.python.org/3/library/functions.html#open)\n",
    "- first arg: file name;\n",
    "- second arg: \"r\": read, \"w\": write, add a \"b\" to it for binary\n",
    "\n",
    "[w<sup>3</sup> tutorial](https://www.w3schools.com/python/python_file_open.asp), [RealPython tutorial](https://realpython.com/python-with-statement/)\n",
    "\n",
    "`open` is the tool we use both to open existing files and to create new ones! It also works really well with a particular syntax called a [`context manager`](https://book.pythontips.com/en/latest/context_managers.html) (don't worry about knowing this) that uses the keyword `with`: it creates a context within which the file is open, and automatically closes it (and clean things up) after it, so you don't need to think about manually doing the opening and closing."
   ]
  },
  {
   "cell_type": "code",
   "execution_count": null,
   "id": "19bdbd5a-bf54-449b-ba38-70993e6b2789",
   "metadata": {},
   "outputs": [],
   "source": [
    "# there's a file in data/, let's open it\n",
    "# store the file object in a variable called 'i' (for 'input')\n",
    "with open(\"data/linux.txt\", \"r\") as i:\n",
    "    # to actually get the data, you need to invoke `.read()`\n",
    "    data_read = i.read()\n",
    "\n",
    "# here's some text, the first 200 chars!\n",
    "data_read[:200]\n",
    "# print(data_read)"
   ]
  },
  {
   "cell_type": "code",
   "execution_count": null,
   "id": "fe9e4cbf-19d5-4249-8c2e-147a3f65bbe7",
   "metadata": {},
   "outputs": [],
   "source": [
    "# now we can handle it the way we're familiar with,\n",
    "# here spliting it on newlines, taking the first 5 lines\n",
    "data_read.split(\"\\n\")[:3] "
   ]
  },
  {
   "cell_type": "code",
   "execution_count": null,
   "id": "74360681-9cb8-42e7-8bf2-ebc052a1a66b",
   "metadata": {},
   "outputs": [],
   "source": [
    "# in some cases we know we want to work on lines,\n",
    "# so instead of the raw `read()` we can invoke `readlines`\n",
    "with open(\"data/linux.txt\", \"r\") as i:\n",
    "    data_readlines = i.readlines()\n",
    "\n",
    "# beware: with this method the newlines are preserved!\n",
    "# (each line ends with '\\n')\n",
    "data_readlines[:3]"
   ]
  },
  {
   "cell_type": "markdown",
   "id": "283c38e2-f10a-44b7-9f55-f80d3a5b1159",
   "metadata": {},
   "source": [
    "## JSON"
   ]
  },
  {
   "cell_type": "markdown",
   "id": "a20ecd03-88af-4b40-aea9-7f89fe126688",
   "metadata": {},
   "source": [
    "[docs](https://docs.python.org/3/library/json.html)\n",
    "[w<sup>3</sup> tutorial](https://www.w3schools.com/js/js_json.asp), [Mozilla tutorial](https://developer.mozilla.org/en-US/docs/Learn_web_development/Core/Scripting/JSON)  \n",
    "[JSON (JavaScript Object Notation)](https://www.json.org/json-en.html), nice reference there!\n",
    "\n",
    "`JSON` is a very useful format for saving data in a way that is both 1) similar to programming syntax (`lists`, `dictionaries`, ...) but also 2) remains plain text, so very transparent!\n",
    "\n",
    "It presents itself with this kind of format (like a dictionary, within which you can have lists or other dictionaries):\n",
    "\n",
    "```json\n",
    "{\n",
    "    \"key1\": \"value\",\n",
    "    \"key2\": [\"1\", \"2\", \"3\"],\n",
    "    \"key3\": {\n",
    "        \"nested-key\": \"nested-value\"\n",
    "    }\n",
    "    \"last-key\": \"one-last-thing\"\n",
    "}\n",
    "```\n",
    "\n",
    "Important difference with Python/JavaScript: **no trailing commas** are allowed (in Python, you could have a comma, or not, after `\"3\"` or after `\"nested-value\"`, or after the last element, \"one-last-thing\")."
   ]
  },
  {
   "cell_type": "code",
   "execution_count": null,
   "id": "7f48e320-76d9-4a23-adf9-8589f11fca78",
   "metadata": {},
   "outputs": [],
   "source": [
    "import json"
   ]
  },
  {
   "cell_type": "code",
   "execution_count": null,
   "id": "fe1b00a6-d295-47d2-a092-8c1be78ec08d",
   "metadata": {},
   "outputs": [],
   "source": [
    "# create a complex dictionary/object\n",
    "d = {\n",
    "    \"opening\": {\n",
    "        \"totems\": [\"night\", \"moon\", \"fountain\",],\n",
    "        \"tools\": [\"spoon\", \"megaphone\", \"pencil sharpener\", \"plastic skull\",],\n",
    "    },\n",
    "    \"die-throws\": [3,5,4,4,6,1,0],\n",
    "    \"eyes-closed\": False,\n",
    "}\n",
    "\n",
    "# json.dumps converts a Python object to a JSON-compatible string\n",
    "# (note that all the pesky trailing commas, allowed in Python, have been removed)\n",
    "d_json = json.dumps(d)\n",
    "d_json"
   ]
  },
  {
   "cell_type": "code",
   "execution_count": null,
   "id": "89cf21b7-1833-4dfb-82d0-9a3f1940dda5",
   "metadata": {},
   "outputs": [],
   "source": [
    "# you can then write it to a file if you wish\n",
    "# using \"w\" (write\") instead of \"r\" (read)\n",
    "# (here I use 'o' for \"output\" as a name for the file object)\n",
    "with open(\"data/performance.json\", \"w\") as o:\n",
    "    o.write(d_json)"
   ]
  },
  {
   "cell_type": "markdown",
   "id": "ce27001b",
   "metadata": {},
   "source": [
    "**NOTE**: just like with removing files, if you have a file of the same name and open it like this for writing, **ANY PREVIOUS DATA WILL BE LOST, NOT REVERSIBLE**."
   ]
  },
  {
   "cell_type": "code",
   "execution_count": null,
   "id": "17144f31-8a44-4e3a-bb37-445ab34431d2",
   "metadata": {},
   "outputs": [],
   "source": [
    "# you can achieve the same result with json.dump\n",
    "with open(\"data/performance.json\", \"w\") as o:\n",
    "    json.dump(d, o)"
   ]
  },
  {
   "cell_type": "code",
   "execution_count": null,
   "id": "33e156a5-6778-4e06-bceb-b712162f7d55",
   "metadata": {},
   "outputs": [],
   "source": [
    "# if you want to load your JSON file, do it as if it were plain text\n",
    "with open(\"data/performance.json\", \"r\") as o:\n",
    "    d_reloaded = json.load(o)\n",
    "d_reloaded"
   ]
  },
  {
   "cell_type": "markdown",
   "id": "8cea61bf-f313-4571-8a07-091a3e1c60c2",
   "metadata": {},
   "source": [
    "## Save binary data"
   ]
  },
  {
   "cell_type": "markdown",
   "id": "27576d33-a3e9-40cd-b81c-25a23d590866",
   "metadata": {},
   "source": [
    "[doc](https://docs.python.org/3/library/pickle.html)\n",
    "\n",
    "Often it can be useful to save things not in a human-readable format, but just as raw binary code (often better for memory)! For that, we use the tool `pickle`."
   ]
  },
  {
   "cell_type": "code",
   "execution_count": null,
   "id": "d1b98d9e-aba9-4f36-b563-2fdbd1c4d91d",
   "metadata": {},
   "outputs": [],
   "source": [
    "import pickle"
   ]
  },
  {
   "cell_type": "code",
   "execution_count": null,
   "id": "14dd7251-93d3-4c6a-9acb-4aa9985fbb55",
   "metadata": {},
   "outputs": [],
   "source": [
    "# let's define a list\n",
    "l = [10, 5, 8, 7]\n",
    "\n",
    "# to write, we use \"wb\" for \"write binary\"\n",
    "with open(\"data/my_list.pkl\", \"wb\") as o:\n",
    "    pickle.dump(l, o)"
   ]
  },
  {
   "cell_type": "code",
   "execution_count": null,
   "id": "a4b75d3e-5a0c-41a8-9d1e-cac95b2c38a5",
   "metadata": {},
   "outputs": [],
   "source": [
    "# to read/load, we use \"rb\" for \"read binary\"\n",
    "with open(\"data/my_list.pkl\", \"rb\") as i:\n",
    "    l_reloaded = pickle.load(i)\n",
    "\n",
    "l_reloaded"
   ]
  },
  {
   "cell_type": "markdown",
   "id": "71b3a816-57d8-4a3f-87d9-14db06a97958",
   "metadata": {},
   "source": [
    "## Extra: Scraping"
   ]
  },
  {
   "cell_type": "markdown",
   "id": "07102551-78d8-4092-98eb-4ef449c96a66",
   "metadata": {},
   "source": [
    "[BeautifulSoup doc](https://beautiful-soup-4.readthedocs.io/en/latest/)  \n",
    "[urllib3 doc](https://urllib3.readthedocs.io/en/stable/)\n",
    "\n",
    "Very often programmers and hackers use programs to grab data from the Internet and use it in various ways. This is called \"scraping\" (and a program doing this is a \"scraper\"). Below is an example of how you would do this for one webpage. This requires two kinds of knowledge: Python, of course, but also how webpages are structured (`html` mostly, but also the other two main components, `css` and `JavaScript` – beyond the scope of this course). Don't worry about this too much – just note that running the following cells should create a folder called `wolf-rehfeldt`, and download a series of images in there for you – beautiful poems that could serve as an inspiration for your own work!"
   ]
  },
  {
   "cell_type": "code",
   "execution_count": null,
   "id": "6d2508b8-d894-4708-ad66-b706026aff53",
   "metadata": {},
   "outputs": [],
   "source": [
    "import pathlib\n",
    "import urllib3\n",
    "from bs4 import BeautifulSoup\n",
    "\n",
    "works_dir = pathlib.Path(\"wolf-rehfeldt\")\n",
    "img_dir = works_dir / \"images\"\n",
    "\n",
    "# create directories for images and markdown files\n",
    "works_dir.mkdir(exist_ok=True)\n",
    "img_dir.mkdir(exist_ok=True)\n",
    "\n",
    "# url of the site\n",
    "url = \"https://www.richardsaltoun.com/viewing-room/7-ruth-wolf-rehfeldt-letters/\"\n",
    "\n",
    "# set up urllib3 PoolManager\n",
    "http = urllib3.PoolManager()\n",
    "\n",
    "# fetch the page content (this is the **whole web page code**, all the html, as plain text)\n",
    "response = http.request('GET', url)\n",
    "soup = BeautifulSoup(response.data, 'html.parser')"
   ]
  },
  {
   "cell_type": "code",
   "execution_count": null,
   "id": "5403e8d4-86fa-473a-86ff-5b651d2cea01",
   "metadata": {},
   "outputs": [],
   "source": [
    "# write the html into a file for examination\n",
    "with (works_dir / \"soup.html\").open(\"w\") as o:\n",
    "    o.write(str(soup))"
   ]
  },
  {
   "cell_type": "code",
   "execution_count": null,
   "id": "b9677e4b-523b-4bed-982e-7bfbf47c3872",
   "metadata": {},
   "outputs": [],
   "source": [
    "# convert string dict to dict\n",
    "# https://stackoverflow.com/a/988251\n",
    "import ast\n",
    "\n",
    "# this is is to select the largest image format from the object on the web page\n",
    "def get_largest_res(data):\n",
    "    data = ast.literal_eval(data)\n",
    "    return data[str(max([int(k) for k in data.keys()]))]\n",
    "\n",
    "# after checking the html manually, found the class of the container with all the images\n",
    "artworks_items = soup.select(\".panel_type_6\")[0]\n",
    "# print(artworks_items)\n",
    "\n",
    "# select all `img` inside it\n",
    "image_divs = artworks_items.select(\"img\")\n",
    "# print(image_divs)\n",
    "\n",
    "# select all legends inside it\n",
    "legends = artworks_items.select(\".content\")\n",
    "# print(legends)\n",
    "\n",
    "for i, (img_div, legend) in enumerate(zip(image_divs, legends)):\n",
    "    \n",
    "    # print(\"-\" * 40)\n",
    "    # print(i)\n",
    "    # print(img_div)\n",
    "    # print(legend)\n",
    "    \n",
    "    # get the link to the pic in the largest resolution\n",
    "    artwork_max_res_url = get_largest_res(img_div[\"data-responsive-src\"])\n",
    "    extension = os.path.splitext(artwork_max_res_url)[1]\n",
    "    # print(artwork_max_res_url)\n",
    "    # print(extension)\n",
    "\n",
    "    # create a filename out of the legend\n",
    "    image_filename = f\"{legend.get_text(strip=True).replace('/','-').replace(', ', ',').replace(' ', '-')}{extension}\"\n",
    "    # print(image_filename)    \n",
    "    \n",
    "    # Download the image\n",
    "    img_response = http.request('GET', artwork_max_res_url)\n",
    "    if img_response.status == 200:\n",
    "        print(f\" - image downloaded, writing to {img_dir}/{image_filename}\")\n",
    "        with open(img_dir / image_filename, 'wb') as o:\n",
    "            o.write(img_response.data)\n",
    "    else:\n",
    "        print(f\" - image {image_filename}, url response status: {img_response.status}\")"
   ]
  }
 ],
 "metadata": {
  "kernelspec": {
   "display_name": "Python 3 (ipykernel)",
   "language": "python",
   "name": "python3"
  },
  "language_info": {
   "codemirror_mode": {
    "name": "ipython",
    "version": 3
   },
   "file_extension": ".py",
   "mimetype": "text/x-python",
   "name": "python",
   "nbconvert_exporter": "python",
   "pygments_lexer": "ipython3",
   "version": "3.12.11"
  }
 },
 "nbformat": 4,
 "nbformat_minor": 5
}
