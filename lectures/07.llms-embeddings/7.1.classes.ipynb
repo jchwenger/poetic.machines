{
 "cells": [
  {
   "cell_type": "markdown",
   "id": "e24c9403-3820-46e7-8b28-2e8ce3efaa46",
   "metadata": {},
   "source": [
    "# Classes"
   ]
  },
  {
   "cell_type": "markdown",
   "id": "049e4c6b-8e25-48a9-8a75-95acdbc5d063",
   "metadata": {},
   "source": [
    "[tutorial](https://docs.python.org/3/tutorial/classes.html)  \n",
    "[w<sup>3</sup>](https://www.w3schools.com/python/python_classes.asp), [RealPython tutorial](https://realpython.com/python-classes/)  \n",
    "\n",
    "Classes, aka **objects** (in JavaScript as well), are a powerful way of encapsulating code into one 'entity' that can be viewed as an archetype for something – say, the Platonic idea of a cat – out of which many separate, particular entities can be created – real cats, that are all different. Classes allow you to attach both properties (`variables`) and functions (which are then called `methods`) to this entity. Similar to functions, once the entity is **defined**, you can **instantiate** as many 'copies' as you want.\n",
    "\n",
    "Just like we had the `def` keyword to define **functions**, now we have `class` to define a class."
   ]
  },
  {
   "cell_type": "markdown",
   "id": "dbdc34d2-7030-41e9-badb-1a757f9ff050",
   "metadata": {},
   "source": [
    "## Attributes"
   ]
  },
  {
   "cell_type": "code",
   "execution_count": 2,
   "id": "0c80718d-9657-41d9-926d-14f775f883eb",
   "metadata": {},
   "outputs": [],
   "source": [
    "class Dataset:\n",
    "\n",
    "    # this is a *class attribute*, all instances will share it\n",
    "    name = \"my non-dataset\""
   ]
  },
  {
   "cell_type": "code",
   "execution_count": null,
   "id": "07e65d09-b6dd-441d-b100-a2ae488f324e",
   "metadata": {},
   "outputs": [
    {
     "name": "stdout",
     "output_type": "stream",
     "text": [
      "my non-dataset\n",
      "my non-dataset\n",
      "my non-dataset\n"
     ]
    }
   ],
   "source": [
    "d1 = Dataset()\n",
    "d2 = Dataset()\n",
    "\n",
    "# the class itself and the instances have the same name\n",
    "print(Dataset.name)\n",
    "print(d1.name)\n",
    "print(d2.name)"
   ]
  },
  {
   "cell_type": "code",
   "execution_count": null,
   "id": "4684ccc1-1204-490a-8424-bed9b2d2bd4e",
   "metadata": {},
   "outputs": [
    {
     "name": "stdout",
     "output_type": "stream",
     "text": [
      "my non-dataset\n",
      "my not-a-dataset!\n",
      "my non-dataset\n"
     ]
    }
   ],
   "source": [
    "# here we change the instance name only\n",
    "d1.name = \"my not-a-dataset!\"\n",
    "\n",
    "# only d1.name has changed\n",
    "print(Dataset.name)\n",
    "print(d1.name)\n",
    "print(d2.name)"
   ]
  },
  {
   "cell_type": "code",
   "execution_count": null,
   "id": "376ebb00-45fc-4591-b05e-ddc6abf9ae7d",
   "metadata": {},
   "outputs": [
    {
     "name": "stdout",
     "output_type": "stream",
     "text": [
      "my not-a-dataset!\n",
      "my not-a-dataset!\n",
      "my not-a-dataset!\n"
     ]
    }
   ],
   "source": [
    "# here we change the class name\n",
    "Dataset.name = \"my not-a-dataset!\"\n",
    "\n",
    "# changes everywhere\n",
    "print(Dataset.name)\n",
    "print(d1.name)\n",
    "print(d2.name)"
   ]
  },
  {
   "cell_type": "code",
   "execution_count": 7,
   "id": "8e3f2faf-d201-4591-a36e-528fb4141fa8",
   "metadata": {},
   "outputs": [],
   "source": [
    "class Dataset:\n",
    "\n",
    "    name = \"the Platonic name of all Datasets\"\n",
    "    \n",
    "    # `self` here is just any variable name, but refers to\n",
    "    # the **instance** (not the class): when `__init__` is\n",
    "    # called, the instance is actually passed as an argument\n",
    "    def __init__(self, name):\n",
    "        # this is an *instance attribute*, specific to each instance\n",
    "        self.name = name"
   ]
  },
  {
   "cell_type": "code",
   "execution_count": null,
   "id": "63064ba7-0aa5-49a3-aff6-d889303fd153",
   "metadata": {},
   "outputs": [
    {
     "name": "stdout",
     "output_type": "stream",
     "text": [
      "the Platonic name of all Datasets\n",
      "my dummy dataset\n",
      "another dummy dataset\n"
     ]
    }
   ],
   "source": [
    "d1 = Dataset(\"my dummy dataset\")\n",
    "d2 = Dataset(\"another dummy dataset\")\n",
    "\n",
    "# fails: the class itself does not have a 'name' attribute\n",
    "print(Dataset.name)\n",
    "print(d1.name)\n",
    "print(d2.name)"
   ]
  },
  {
   "cell_type": "code",
   "execution_count": null,
   "id": "b4a2e76b",
   "metadata": {},
   "outputs": [
    {
     "name": "stdout",
     "output_type": "stream",
     "text": [
      "the Platonic name of all Datasets\n"
     ]
    }
   ],
   "source": [
    "# fun note: the original `name` is still in there, but \n",
    "print(d1.__class__.name)"
   ]
  },
  {
   "cell_type": "markdown",
   "id": "8cbd4066-1552-4e63-a096-263535f53810",
   "metadata": {},
   "source": [
    "## Methods"
   ]
  },
  {
   "cell_type": "code",
   "execution_count": null,
   "id": "7f3ceb72-ba52-429d-a1fd-b25a4b04b8a3",
   "metadata": {},
   "outputs": [],
   "source": [
    "class Dataset:\n",
    "    \n",
    "    def __init__(self, name):\n",
    "        # this is an *instance attribute*, specific to each instance\n",
    "        self.name = name\n",
    "\n",
    "    def print_name(self):\n",
    "        print(self.name)"
   ]
  },
  {
   "cell_type": "code",
   "execution_count": null,
   "id": "5ef94705-b607-4b17-840c-387cfffb9270",
   "metadata": {},
   "outputs": [],
   "source": [
    "d1 = Dataset(\"my dummy dataset\")\n",
    "d2 = Dataset(\"another dummy dataset\")\n",
    "\n",
    "# fails: the class itself does not have a 'name' attribute\n",
    "# Dataset.print_name()\n",
    "\n",
    "# this works, using the d1's name\n",
    "# Dataset.print_name(d1)\n",
    "\n",
    "d1.print_name()\n",
    "d2.print_name()"
   ]
  },
  {
   "cell_type": "markdown",
   "id": "31f2fb18-d838-40d2-969a-d8ac8b861a8f",
   "metadata": {},
   "source": [
    "## Inheritance"
   ]
  },
  {
   "cell_type": "code",
   "execution_count": null,
   "id": "a354f4c4-ed6e-4d65-8c6a-0dd9eaa42dfe",
   "metadata": {},
   "outputs": [],
   "source": [
    "class DatasetWithProcessing(Dataset):\n",
    "    \n",
    "    # __init__ and print_name are imported from Dataset\n",
    "    \n",
    "    def process(self):\n",
    "        print(self.name.split(\" \"))"
   ]
  },
  {
   "cell_type": "code",
   "execution_count": null,
   "id": "98486ed5-e473-49b4-8827-cba45bd53703",
   "metadata": {},
   "outputs": [],
   "source": [
    "d1 = DatasetWithProcessing(\"my dummy dataset\")\n",
    "d2 = DatasetWithProcessing(\"another dummy dataset\")\n",
    "\n",
    "d1.print_name()\n",
    "d1.process()\n",
    "d2.print_name()\n",
    "d2.process()"
   ]
  },
  {
   "cell_type": "code",
   "execution_count": null,
   "id": "caacd574-313a-46b7-8575-55ea63a4d09c",
   "metadata": {},
   "outputs": [],
   "source": [
    "class PoliteDataset(Dataset):\n",
    "\n",
    "    # __init__ is imported, but we change print_name\n",
    "    def print_name(self):\n",
    "        print(f\"The name of this dataset is {self.name}.\")"
   ]
  },
  {
   "cell_type": "code",
   "execution_count": null,
   "id": "d72f1f3f-b01b-4b68-a74d-eb6fd2d69541",
   "metadata": {
    "editable": true,
    "slideshow": {
     "slide_type": ""
    },
    "tags": []
   },
   "outputs": [],
   "source": [
    "d1 = PoliteDataset(\"my dummy dataset\")\n",
    "d2 = PoliteDataset(\"another dummy dataset\")\n",
    "\n",
    "d1.print_name()\n",
    "d2.print_name()"
   ]
  },
  {
   "cell_type": "markdown",
   "id": "55766345-709c-4a03-95f0-ee1fe4d23034",
   "metadata": {},
   "source": [
    "## Extra: Wanna Stare into the Abyss? Custom operations on objects"
   ]
  },
  {
   "cell_type": "code",
   "execution_count": null,
   "id": "f0fcfb90-d13e-4392-851e-9015590573f1",
   "metadata": {
    "editable": true,
    "slideshow": {
     "slide_type": ""
    },
    "tags": []
   },
   "outputs": [],
   "source": [
    "d1 + d2 # FAILS!"
   ]
  },
  {
   "cell_type": "code",
   "execution_count": null,
   "id": "6eccec00-69aa-47a9-9227-9acf7d248d11",
   "metadata": {},
   "outputs": [],
   "source": [
    "class ConcatenableDataset:\n",
    "    \n",
    "    def __init__(self, name):\n",
    "        # this is an *instance attribute*, specific to each instance\n",
    "        self.name = name\n",
    "\n",
    "    def print_name(self):\n",
    "        print(self.name)\n",
    "\n",
    "    def __add__(self, other):\n",
    "        # create a new dataset object, the name of which combines the two\n",
    "        return ConcatenableDataset(\" \".join([self.name, \"together with\", other.name]))\n",
    "\n",
    "\n",
    "d1 = ConcatenableDataset(\"my dummy dataset\")\n",
    "d2 = ConcatenableDataset(\"another dummy dataset\")\n",
    "\n",
    "d1.print_name()\n",
    "d2.print_name()\n",
    "\n",
    "# adding two dataset objects\n",
    "d3 = d1 + d2\n",
    "\n",
    "d3.print_name()  "
   ]
  },
  {
   "cell_type": "markdown",
   "id": "6217f2cd-b03d-4280-9f40-bbfa69576a04",
   "metadata": {
    "editable": true,
    "slideshow": {
     "slide_type": ""
    },
    "tags": []
   },
   "source": [
    "`__add__` (which is called when you use `+` is called an **operator**.\n",
    "\n",
    "Dream of digging into the *gory details* of all this and play?  \n",
    "\n",
    "You can find all of them [here](https://docs.python.org/3/library/operator.html)."
   ]
  }
 ],
 "metadata": {
  "kernelspec": {
   "display_name": "Python 3 (ipykernel)",
   "language": "python",
   "name": "python3"
  },
  "language_info": {
   "codemirror_mode": {
    "name": "ipython",
    "version": 3
   },
   "file_extension": ".py",
   "mimetype": "text/x-python",
   "name": "python",
   "nbconvert_exporter": "python",
   "pygments_lexer": "ipython3",
   "version": "3.12.11"
  }
 },
 "nbformat": 4,
 "nbformat_minor": 5
}
