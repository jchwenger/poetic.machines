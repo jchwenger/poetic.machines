{
 "cells": [
  {
   "cell_type": "markdown",
   "id": "84d3a5f5-4e83-4e2b-91e5-66d0c4a3de07",
   "metadata": {},
   "source": [
    "# Error Handling"
   ]
  },
  {
   "cell_type": "markdown",
   "id": "844150a4-7edc-499a-af96-083a22446f61",
   "metadata": {},
   "source": [
    "[tutorial](https://docs.python.org/3/tutorial/errors.html)  \n",
    "[w<sup>3</sup> tutorial](https://www.w3schools.com/python/gloss_python_error_handling.asp), [RealPython Exceptions](https://realpython.com/python-exceptions/)\n",
    "\n",
    "Often, we introduce bugs (check out the fab anecdote about Grace Hopper [here](https://en.wikipedia.org/wiki/Bug_(engineering)#History)) in our code, leading to the programme failing/stopping. There are ways of preparing for that, and, hopefully, preventing crashes!"
   ]
  },
  {
   "cell_type": "markdown",
   "id": "c0a3f498-5bfb-4eb4-a6a5-681831c693b4",
   "metadata": {},
   "source": [
    "## `try`, `except`"
   ]
  },
  {
   "cell_type": "markdown",
   "id": "98fe6b62-9079-4ee6-84e0-d3833a03515a",
   "metadata": {},
   "source": [
    "[`try` doc](https://docs.python.org/3/reference/compound_stmts.html#try)  \n",
    "[`except` doc](https://docs.python.org/3/reference/compound_stmts.html#except-clause)  \n",
    "\n",
    "This is the main functionality: inside `try`, we execute the code that potentially fails, and inside `except` we run code *only in cases of a failure/error – and the programme continues even if there was one!"
   ]
  },
  {
   "cell_type": "code",
   "execution_count": null,
   "id": "79693997-9eb0-444b-bd9d-6edd978917dc",
   "metadata": {},
   "outputs": [],
   "source": [
    "# fails, our programme breaks down\n",
    "print(x)"
   ]
  },
  {
   "cell_type": "code",
   "execution_count": null,
   "id": "c40d9f9f-83e1-46f1-af64-3992470eb77a",
   "metadata": {},
   "outputs": [],
   "source": [
    "# with try/except, we can 'catch' the error, our programme keeps running\n",
    "try:\n",
    "    print(x)\n",
    "    \n",
    "# generic name for all exceptions, renamed/aliased as 'e' (like imports)\n",
    "except Exception as e:\n",
    "    print(\"An exception occurred:\")\n",
    "    # which exception occurred\n",
    "    print(type(e))\n",
    "    # the error message you'd get\n",
    "    print(e)"
   ]
  },
  {
   "cell_type": "markdown",
   "id": "e96bdd9e-2775-457c-9e0e-aade6f31137a",
   "metadata": {},
   "source": [
    "### (`else` & `finally`)"
   ]
  },
  {
   "cell_type": "markdown",
   "id": "ab0188bc-e0fa-4033-a457-e8eb182c02b6",
   "metadata": {},
   "source": [
    "[`else` doc](https://docs.python.org/3/reference/compound_stmts.html#else-clause)  \n",
    "[`finally` doc](https://docs.python.org/3/reference/compound_stmts.html#finally-clause)  "
   ]
  },
  {
   "cell_type": "code",
   "execution_count": null,
   "id": "b337d58c-4fb1-4883-a098-44d5f4eb4b33",
   "metadata": {},
   "outputs": [],
   "source": [
    "# TODO: try with this line not commented out as well\n",
    "# x = 2\n",
    "\n",
    "try:\n",
    "    print(x)\n",
    "except Exception as e:\n",
    "    print(\"An exception occurred:\")\n",
    "    print(type(e))\n",
    "    # print(e)\n",
    "else:\n",
    "    # let's make sure x isn't around next time we run this cell\n",
    "    print(\"(This runs only if no error occurs...)\")\n",
    "    del x\n",
    "finally:\n",
    "    print(\"(This runs whether or not an error happens...)\")"
   ]
  },
  {
   "cell_type": "markdown",
   "id": "47555dde-5a38-49ca-9139-5f241e3095f5",
   "metadata": {},
   "source": [
    "## Concrete Exceptions"
   ]
  },
  {
   "attachments": {},
   "cell_type": "markdown",
   "id": "269b518d-d83d-4be1-8371-abd21f360591",
   "metadata": {},
   "source": [
    "[doc](https://docs.python.org/3/library/exceptions.html#concrete-exceptions),  \n",
    "[RealPython Built-in Exceptions Walkthrough](https://realpython.com/python-built-in-exceptions/)\n",
    "\n",
    "We can be more precise if we want:"
   ]
  },
  {
   "cell_type": "code",
   "execution_count": null,
   "id": "f447a8a6-53d8-45f5-a0f7-b0371e0c21cf",
   "metadata": {},
   "outputs": [],
   "source": [
    "try:\n",
    "    print(x)\n",
    "except NameError as e:\n",
    "    print(f\"A {type(e)} occurred:\")\n",
    "    print(e)"
   ]
  },
  {
   "cell_type": "markdown",
   "id": "e5e89f57-260c-4768-b672-7e517c14aa24",
   "metadata": {},
   "source": [
    "But beware, if *another type of error* occurs, now we don't catch it (our programme breaks)."
   ]
  },
  {
   "cell_type": "code",
   "execution_count": null,
   "id": "59763ade-71a1-4541-86cf-e3a2e1edd8ff",
   "metadata": {},
   "outputs": [],
   "source": [
    "x = 2\n",
    "\n",
    "try:\n",
    "    print(x/0)\n",
    "# FAILS to catch as this will be a ZeroDivisionError\n",
    "except NameError as e:\n",
    "    print(f\"A {type(e)} occurred:\")\n",
    "    print(e)\n",
    "    del x"
   ]
  }
 ],
 "metadata": {
  "kernelspec": {
   "display_name": "Python 3 (ipykernel)",
   "language": "python",
   "name": "python3"
  },
  "language_info": {
   "codemirror_mode": {
    "name": "ipython",
    "version": 3
   },
   "file_extension": ".py",
   "mimetype": "text/x-python",
   "name": "python",
   "nbconvert_exporter": "python",
   "pygments_lexer": "ipython3",
   "version": "3.12.11"
  }
 },
 "nbformat": 4,
 "nbformat_minor": 5
}
