{
 "cells": [
  {
   "cell_type": "markdown",
   "id": "ead0c92b-8f8b-4159-a75f-18ee0517ae2f",
   "metadata": {},
   "source": [
    "# Modules"
   ]
  },
  {
   "attachments": {},
   "cell_type": "markdown",
   "id": "ebc53401-6193-4686-a554-9c2e4c481f94",
   "metadata": {},
   "source": [
    "[tutorial](https://docs.python.org/3/tutorial/modules.html)  \n",
    "[w<sup>3</sup>](https://www.w3schools.com/python/python_modules.asp), [RealPython Introduction](https://realpython.com/python-modules-packages/), [RealPython learning path](https://realpython.com/learning-paths/modules-and-packages/)\n",
    "\n",
    "Python projects rarely contain only one file. How to organise things when your project grows? It is possible to separate your code into several files (including multiple folders).\n",
    "\n",
    "Create a file called `printer.py` with this inside it\n",
    "\n",
    "```python\n",
    "def hello():\n",
    "    print(\"Hello from `printer.py`\")\n",
    "\n",
    "messages = [\"One message from `printer.py`\", \"Another message from `printer.py`\"]\n",
    "```\n",
    "\n",
    "Now in another file, perhaps called `main.py`, in the same directory, put this:\n",
    "\n",
    "```python\n",
    "import printer\n",
    "\n",
    "# now the `hello` function is accessible from the printer module\n",
    "printer.hello()\n",
    "\n",
    "# you can also access variables\n",
    "print(\"\\n\".join(printer.messages))\n",
    "```\n",
    "\n",
    "Sometimes you want to use a shorter name:\n",
    "\n",
    "```python\n",
    "import printer as pr\n",
    "\n",
    "pr.hello()\n",
    "\n",
    "# Note: this no longer works since we aliased `printer` but it would work if you\n",
    "# *also* add `import printer`above\n",
    "# printer.hello()\n",
    "\n",
    "print(\"\\n\".join(pr.messages))\n",
    "```\n",
    "\n",
    "You can even have the names of the module accessible directly but **beware**, this could overwrite default functions (if you have defined a new function `print`, you won't be able to access the original `print` function (how to solve this? Either `del print`, or `import builtins` followed by `builtins.print`) (see [here](https://stackoverflow.com/a/17152796)).\n",
    "\n",
    "```python\n",
    "# the star means \"everything\", now `hello` and `messages` are accessible\n",
    "from printer import *\n",
    "\n",
    "hello()\n",
    "print(\"\\n\".join(messages))\n",
    "```\n",
    "\n",
    "It is good practice not to do that (oops, `from py5canvas import *` (*μ_μ)), and instead to be explicit:\n",
    "\n",
    "\n",
    "```python\n",
    "from printer import hello\n",
    "from printer import messages\n",
    "\n",
    "hello()\n",
    "print(\"\\n\".join(messages))\n",
    "```"
   ]
  },
  {
   "cell_type": "markdown",
   "id": "a5d5d4bf-c586-4868-b0a6-0c10dc772a1a",
   "metadata": {},
   "source": [
    "## Separating standalone execution and import"
   ]
  },
  {
   "cell_type": "markdown",
   "id": "30db9567-1bca-4358-b900-69cd77b3b0c5",
   "metadata": {},
   "source": [
    "[RealPython tutorial](https://realpython.com/if-name-main-python/)\n",
    "\n",
    "When a module is imported, all its contents are run, which is sometimes *not* what you want! If you want `printer.py` to be executable directly as well as giving you functions to import elsewhere, you need to distinguish when the script is run as the \"main\" script (the one you invoke with `python script.py`) and when it's run by another script, for import purposes. You do this by checking the `__name__` variable at the end of the file:\n",
    "\n",
    "```python\n",
    "if __name__ == \"__main__\":\n",
    "    print(\"Hi there, I am `printer.py`, and I have just been invoked as a standalone script.\")\n",
    "```"
   ]
  }
 ],
 "metadata": {
  "kernelspec": {
   "display_name": "Python 3 (ipykernel)",
   "language": "python",
   "name": "python3"
  },
  "language_info": {
   "codemirror_mode": {
    "name": "ipython",
    "version": 3
   },
   "file_extension": ".py",
   "mimetype": "text/x-python",
   "name": "python",
   "nbconvert_exporter": "python",
   "pygments_lexer": "ipython3",
   "version": "3.12.11"
  }
 },
 "nbformat": 4,
 "nbformat_minor": 5
}
