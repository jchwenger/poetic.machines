{
 "cells": [
  {
   "cell_type": "markdown",
   "id": "31b6c48a-3718-4952-98c9-5384c590779f",
   "metadata": {},
   "source": [
    "### Strings III"
   ]
  },
  {
   "cell_type": "code",
   "execution_count": null,
   "id": "cd5e47e5-398e-4a63-a89d-49c30359abd3",
   "metadata": {},
   "outputs": [],
   "source": [
    "import string\n",
    "\n",
    "import time\n",
    "from IPython.display import YouTubeVideo\n",
    "from IPython.display import clear_output"
   ]
  },
  {
   "cell_type": "code",
   "execution_count": null,
   "id": "12dcb8b2-8937-40e8-ae8e-a7c2dbda13f6",
   "metadata": {},
   "outputs": [],
   "source": [
    "word = \"silencio\""
   ]
  },
  {
   "attachments": {},
   "cell_type": "markdown",
   "id": "b1b39bff-31da-4cac-aad7-febfb6331bb3",
   "metadata": {},
   "source": [
    "## Advanced: Unicode, encoding and UTF-8 "
   ]
  },
  {
   "cell_type": "markdown",
   "id": "14c08882-bdaa-4df6-bd85-38015bd91f81",
   "metadata": {},
   "source": [
    "[doc (aka the gory detail)](https://docs.python.org/3/howto/unicode.html)  \n",
    "[`ord()` doc](https://docs.python.org/3/library/functions.html#ord)  \n",
    "[`chr()` doc](https://docs.python.org/3/library/functions.html#chr)  \n",
    "[`bin()` doc](https://docs.python.org/3/library/functions.html#bin)  \n",
    "[`int()` doc](https://docs.python.org/3/library/functions.html#int)\n",
    "\n",
    "- `unicode`: worldwide standard assigning one **number** to one **character**\n",
    "- encoding: the way you **implement** this in computers (how to organise the 0s and 1s, binary representation, so as to get the computer to handle text properly)\n",
    "- `utf-8` (Unicode Transformation Format – 8-bit): one specific implementation, in this case using 8 bits for each character\n"
   ]
  },
  {
   "cell_type": "code",
   "execution_count": null,
   "id": "405f06ce-9c2b-43e9-b903-79108dbe2db3",
   "metadata": {},
   "outputs": [],
   "source": [
    "YouTubeVideo(\"MijmeoH9LT4\", width=853, height=480) #  Characters, Symbols and the Unicode Miracle - Computerphile "
   ]
  },
  {
   "cell_type": "code",
   "execution_count": null,
   "id": "a3c566fa-2f84-4c6e-a58b-1c59fe0ab20a",
   "metadata": {},
   "outputs": [],
   "source": [
    "print(\"the unicode point for 'a' is:\", ord(\"a\"))"
   ]
  },
  {
   "cell_type": "code",
   "execution_count": null,
   "id": "8e163d79-8aea-4482-aa10-18fed7b14a8f",
   "metadata": {},
   "outputs": [],
   "source": [
    "print(\"the character for unicode point 97:\", chr(97))"
   ]
  },
  {
   "cell_type": "code",
   "execution_count": null,
   "id": "881a07b0-5a6c-4781-b6cc-0901c20f4e18",
   "metadata": {},
   "outputs": [],
   "source": [
    "print(\"binary representation of 97 is:\", bin(97))"
   ]
  },
  {
   "cell_type": "code",
   "execution_count": null,
   "id": "6c07c4fd-5113-458c-ac48-e336cda34ce7",
   "metadata": {},
   "outputs": [],
   "source": [
    "print(\"converting from binary to integer (base 10):\", int('10', 2)) # try '0', '1', '10', '11' ...\n",
    "print(\"'converting' from base 10 to integer (also base 10):\", int('10', 10)) "
   ]
  },
  {
   "cell_type": "code",
   "execution_count": null,
   "id": "9a915cd7-a93a-48ca-a2ae-c590c7a65cbe",
   "metadata": {},
   "outputs": [],
   "source": [
    "print(\"converting bytes for 97 back to 97:\", int(bin(97), 2))"
   ]
  },
  {
   "cell_type": "code",
   "execution_count": null,
   "id": "52f9f82a-7ed2-47f4-a8c3-277b7670f247",
   "metadata": {},
   "outputs": [],
   "source": [
    "print(\"converting bytes for 97 back to 'a':\", chr(int(bin(97), 2)))"
   ]
  },
  {
   "cell_type": "code",
   "execution_count": null,
   "id": "c92f2f2e-878e-4807-b0ca-f43b0b91b13c",
   "metadata": {},
   "outputs": [],
   "source": [
    "# to convert a string to binary,\n",
    "# first 'encode' to bytes\n",
    "byte_string = \"a\".encode(\"utf8\") # try adding more letters\n",
    "# then turn the bytes into binary\n",
    "# (the '0b' only indicates this is a binary string)\n",
    "# (see the `int()` doc for details)\n",
    "list_of_binary_strings = [bin(byte) for byte in byte_string]\n",
    "print(list_of_binary_strings)"
   ]
  },
  {
   "cell_type": "code",
   "execution_count": null,
   "id": "c2d4801e-de3d-46ca-a7ef-e040798b3c99",
   "metadata": {},
   "outputs": [],
   "source": [
    "# Chinese characters take more than one byte!\n",
    "byte_string = \"龙\".encode(\"utf8\")\n",
    "list_of_binary_strings = [bin(byte) for byte in byte_string]\n",
    "print(list_of_binary_strings)"
   ]
  },
  {
   "cell_type": "markdown",
   "id": "70e23aea-9780-4a4f-8e6e-2a9552b03def",
   "metadata": {},
   "source": [
    "Jörg Piringer's [unicode](https://joerg.piringer.net/index.php?href=unicode/unicode.xml), going through numbers `0 - 65536 (49571 characters)`:"
   ]
  },
  {
   "cell_type": "code",
   "execution_count": null,
   "id": "77a606af-e30a-4380-9a9a-14fc2373288a",
   "metadata": {},
   "outputs": [],
   "source": [
    "YouTubeVideo(\"Z_sl99D2a18\", width=853, height=480) #  unicode "
   ]
  },
  {
   "cell_type": "code",
   "execution_count": null,
   "id": "963de865-f671-4149-ad3e-f7871227bee3",
   "metadata": {},
   "outputs": [],
   "source": [
    "# many characters are also space / invisible / etc., so won't display anything\n",
    "for i in range(65536):\n",
    "    print(chr(i))\n",
    "    # try this if you also want the index\n",
    "    # print(i, chr(i))\n",
    "    time.sleep(.09)\n",
    "    clear_output(wait=True)"
   ]
  },
  {
   "cell_type": "markdown",
   "id": "fabd8469-8b82-458b-9cff-b20d1b298939",
   "metadata": {},
   "source": [
    "## Extra: `str.translate`"
   ]
  },
  {
   "cell_type": "markdown",
   "id": "675f1f19-b70e-479f-a07c-0016914d50e9",
   "metadata": {},
   "source": [
    "[translate doc](https://docs.python.org/3/library/stdtypes.html#str.translate)  \n",
    "[maketrans doc](https://docs.python.org/3/library/stdtypes.html#str.maketrans)\n",
    "\n",
    "A useful tool to translate strings character by character (e.g. all \"e\"s become \"a\"s, or \"remove all punctuation (all punctuation becomes ''\")."
   ]
  },
  {
   "cell_type": "code",
   "execution_count": null,
   "id": "893dfd2a-8866-486d-9a9c-084dd45e732f",
   "metadata": {},
   "outputs": [],
   "source": [
    "# translate expects the `unicode` number!\n",
    "word.translate(\n",
    "    {\n",
    "        ord(\"i\"): ord(\"1\"),\n",
    "        ord(\"e\"): ord(\"3\"),\n",
    "        ord(\"c\"): ord(\"<\"),\n",
    "        ord(\"o\"): ord(\"0\"),\n",
    "    }\n",
    ")"
   ]
  },
  {
   "cell_type": "code",
   "execution_count": null,
   "id": "a21adcf3-47bb-4ea8-a582-d07c7ea3855e",
   "metadata": {},
   "outputs": [],
   "source": [
    "word.translate(\n",
    "    str.maketrans(\"ieco\", \"13<0\")\n",
    ")"
   ]
  },
  {
   "cell_type": "code",
   "execution_count": null,
   "id": "df710b12-1886-4bec-a7ce-62843ddf3e20",
   "metadata": {},
   "outputs": [],
   "source": [
    "# maketrans can take a third argument:\n",
    "# here we say: translate everything as is (\"\" to \"\")\n",
    "# and the last argument is for *everything that needs to be removed*\n",
    "# (equivalent to do `ord(\",\"): None` for all punctuation characters)\n",
    "print(str.maketrans(\"\", \"\", string.punctuation))"
   ]
  },
  {
   "cell_type": "code",
   "execution_count": null,
   "id": "41bb3ce0-f83a-4c8f-a81f-ac6348550ee6",
   "metadata": {
    "scrolled": true
   },
   "outputs": [],
   "source": [
    "# now, we can remove all punctuation from text\n",
    "print(\"Hello there! How are you? Yes, you...\".translate(\n",
    "    str.maketrans(\"\", \"\", string.punctuation)\n",
    "))"
   ]
  }
 ],
 "metadata": {
  "kernelspec": {
   "display_name": "Python 3 (ipykernel)",
   "language": "python",
   "name": "python3"
  },
  "language_info": {
   "codemirror_mode": {
    "name": "ipython",
    "version": 3
   },
   "file_extension": ".py",
   "mimetype": "text/x-python",
   "name": "python",
   "nbconvert_exporter": "python",
   "pygments_lexer": "ipython3",
   "version": "3.12.11"
  }
 },
 "nbformat": 4,
 "nbformat_minor": 5
}
