{
 "cells": [
  {
   "cell_type": "markdown",
   "id": "b962995f-928b-48b4-a56d-a69d8ccb9ca8",
   "metadata": {},
   "source": [
    "# Functions"
   ]
  },
  {
   "cell_type": "markdown",
   "id": "edddbb21-09df-416c-a817-69786d5aeaa6",
   "metadata": {},
   "source": [
    "[RealPython tutorial](https://realpython.com/defining-your-own-python-function/)  \n",
    "[Official Python tutorial](https://docs.python.org/3/tutorial/controlflow.html#defining-functions)"
   ]
  },
  {
   "cell_type": "markdown",
   "id": "c3833d65-bdb6-4b08-93d0-b6695a522633",
   "metadata": {},
   "source": [
    "## `lambda` functions, aka functions on the fly"
   ]
  },
  {
   "cell_type": "markdown",
   "id": "24bef538-1953-4f5e-9a91-b720e2e1f8e9",
   "metadata": {},
   "source": [
    "[tutorial](https://realpython.com/python-lambda/)"
   ]
  },
  {
   "cell_type": "code",
   "execution_count": null,
   "id": "15948fa5-840e-44b0-9f41-41e02c07278e",
   "metadata": {},
   "outputs": [],
   "source": [
    "# sometimes it can be useful to define a function 'on the go'\n",
    "list_words_quantities = [(\"accident\", 10),(\"miracle\", 5),(\"defeat\", 7),(\"triumphs\", 1)]\n",
    "\n",
    "# sort alphabetically (use words)\n",
    "print(sorted(list_words_quantities, key=lambda x: x[0]))\n",
    "\n",
    "# sort numerically (try add reverse=True)\n",
    "print(sorted(list_words_quantities, key=lambda x: x[1]))"
   ]
  },
  {
   "cell_type": "code",
   "execution_count": null,
   "id": "b9fb0cf1-e4bb-4bf8-a090-f21948d1e354",
   "metadata": {},
   "outputs": [],
   "source": [
    "# the first one is the same as \n",
    "def extract_first(x):\n",
    "    return x[0]\n",
    "    \n",
    "print(sorted(list_words_quantities, key=extract_first))"
   ]
  },
  {
   "cell_type": "markdown",
   "id": "11962990-208b-4981-96a8-3ac638e4dffa",
   "metadata": {},
   "source": [
    "## Built-in functions"
   ]
  },
  {
   "cell_type": "markdown",
   "id": "a0a038f4-0fd9-44d2-904d-dca40eb1b1c6",
   "metadata": {},
   "source": [
    "[doc](https://docs.python.org/3/library/functions.html)"
   ]
  },
  {
   "cell_type": "markdown",
   "id": "358b1629-d787-4783-bf2b-f6d998ac6b2c",
   "metadata": {},
   "source": [
    "### `sorted`"
   ]
  },
  {
   "cell_type": "markdown",
   "id": "b39c044d-c694-40be-8bc2-53555a049d4c",
   "metadata": {},
   "source": [
    "[doc](https://docs.python.org/3/library/functions.html#sorted)"
   ]
  },
  {
   "cell_type": "code",
   "execution_count": null,
   "id": "69b1319c-9b81-44eb-855b-605e34c586d3",
   "metadata": {},
   "outputs": [],
   "source": [
    "numbers = [23,4,98]\n",
    "\n",
    "# creates a new sorted list\n",
    "print(sorted(numbers)) \n",
    "\n",
    "# original list is still unsorted\n",
    "print(numbers)"
   ]
  },
  {
   "cell_type": "code",
   "execution_count": null,
   "id": "f1b30064-b1ea-46a0-9a99-5c5a4b019c4f",
   "metadata": {},
   "outputs": [],
   "source": [
    "# to sort \"in place\", use the `sort` *method*\n",
    "numbers.sort()\n",
    "print(numbers)"
   ]
  },
  {
   "cell_type": "code",
   "execution_count": null,
   "id": "33e2c57d-9368-4058-a675-fed2cb0f74fd",
   "metadata": {},
   "outputs": [],
   "source": [
    "words = [\"haha\", \"oops\", \"aouch\"]\n",
    "\n",
    "# sort alphabetically\n",
    "print(sorted(words))"
   ]
  },
  {
   "cell_type": "markdown",
   "id": "66618572-c1a0-4014-9d3b-738bc8b2c6b3",
   "metadata": {},
   "source": [
    "### `min, max`"
   ]
  },
  {
   "cell_type": "markdown",
   "id": "45dcbd2b-e7ec-4249-92bc-0895a56735c1",
   "metadata": {},
   "source": [
    "[min doc](https://docs.python.org/3/library/functions.html#min)  \n",
    "[max doc](https://docs.python.org/3/library/functions.html#max)  "
   ]
  },
  {
   "cell_type": "code",
   "execution_count": null,
   "id": "9393cb35-1b2e-4385-85d3-57f1a4f9f41b",
   "metadata": {},
   "outputs": [],
   "source": [
    "numbers = [0, 10, -3]\n",
    "print(min(numbers), max(numbers))"
   ]
  },
  {
   "cell_type": "code",
   "execution_count": null,
   "id": "c75d15f8-b87f-4a15-8a9e-0577d0b834a1",
   "metadata": {},
   "outputs": [],
   "source": [
    "# for strings, it's alphabetical! (although it doesn't behave nicely \n",
    "# when you have accents like é or à, and not sure about non-Western languages...)\n",
    "letters = [\"a\", \"v\", \"d\"]\n",
    "print(min(letters), max(letters))"
   ]
  },
  {
   "cell_type": "markdown",
   "id": "b2e66a1d-93e0-46a2-9e32-b4e0a1fdd002",
   "metadata": {},
   "source": [
    "### `map, filter, reduce`"
   ]
  },
  {
   "cell_type": "markdown",
   "id": "34dcf3ac-ef22-4b3e-b1e0-17218e3d1e26",
   "metadata": {},
   "source": [
    "[map/filter/reduce tutorial](https://www.learnpython.org/en/Map%2C_Filter%2C_Reduce), [other tutorial](https://book.pythontips.com/en/latest/map_filter.html)  "
   ]
  },
  {
   "cell_type": "markdown",
   "id": "ea006fa4-7aaf-454c-96bd-c40a3d7e9ef4",
   "metadata": {},
   "source": [
    "#### `map`"
   ]
  },
  {
   "cell_type": "markdown",
   "id": "c669db09",
   "metadata": {},
   "source": [
    "[doc](https://docs.python.org/3/library/functions.html#map)  \n",
    "[RealPython tutorial](https://realpython.com/python-map-function/)"
   ]
  },
  {
   "cell_type": "code",
   "execution_count": null,
   "id": "0445f8d7-0973-45fc-b836-2bd212820545",
   "metadata": {},
   "outputs": [],
   "source": [
    "numbers = [0,10,-3]\n",
    "\n",
    "def square(x):\n",
    "    return x**2\n",
    "\n",
    "# apply the same function to each element\n",
    "print(list(map(square, numbers)))"
   ]
  },
  {
   "cell_type": "code",
   "execution_count": null,
   "id": "17b6d977-4604-4cbc-8a9d-29442d2cffd0",
   "metadata": {},
   "outputs": [],
   "source": [
    "words = [\"iteration\", \"computation\", \"exponentiation\"]\n",
    "\n",
    "# other example, using a lambda (anonymous) function\n",
    "print(list(map(lambda x: x.upper(), words)))"
   ]
  },
  {
   "cell_type": "markdown",
   "id": "f827356f-939f-42fb-872a-9a8fdba7f972",
   "metadata": {},
   "source": [
    "#### `filter`"
   ]
  },
  {
   "cell_type": "markdown",
   "id": "1af51540",
   "metadata": {},
   "source": [
    "[doc](https://docs.python.org/3/library/functions.html#filter)  \n",
    "[RealPython tutorial](https://realpython.com/python-filter-function/)"
   ]
  },
  {
   "cell_type": "code",
   "execution_count": null,
   "id": "c9afadff-4f60-4e94-81bb-c3a9d43a0ecc",
   "metadata": {},
   "outputs": [],
   "source": [
    "numbers = [0,10,-3]\n",
    "\n",
    "# use a condition on each element, retain only those for which it is true\n",
    "print(list(filter(lambda x: x < 0, numbers)))"
   ]
  },
  {
   "cell_type": "markdown",
   "id": "afbcf77f-3f40-4375-a3ba-e7ace71b2fea",
   "metadata": {},
   "source": [
    "### `reduce`"
   ]
  },
  {
   "cell_type": "markdown",
   "id": "71ebbe4a",
   "metadata": {},
   "source": [
    "[doc](https://docs.python.org/3/library/functools.html#functools.reduce)  \n",
    "[RealPython](https://realpython.com/python-reduce-function/)\n",
    "\n",
    "Applies a function of two arguments cumulatively to the items of iterable, from left to right, so as to reduce the iterable to a single value. For example, `reduce(lambda x, y: x+y, [1, 2, 3, 4, 5])` calculates `((((1+2)+3)+4)+5)`."
   ]
  },
  {
   "cell_type": "code",
   "execution_count": null,
   "id": "4b462d5a-0f74-4e96-bdfd-f5860849eeb4",
   "metadata": {},
   "outputs": [],
   "source": [
    "from functools import reduce\n",
    "\n",
    "words = [\"iteration\", \"computation\", \"exponentiation\"]\n",
    "\n",
    "print(reduce(lambda x, y: \" & \".join([x, y]), words))"
   ]
  },
  {
   "cell_type": "code",
   "execution_count": null,
   "id": "5f7cae81-9631-43f2-aed3-c3080ac68f3b",
   "metadata": {},
   "outputs": [],
   "source": [
    "numbers = [0, 10, -3]\n",
    "\n",
    "total = 0\n",
    "for n in numbers:\n",
    "    total += n\n",
    "print(total)\n",
    "\n",
    "print(reduce(lambda x, y: x + y, numbers))"
   ]
  },
  {
   "cell_type": "markdown",
   "id": "cc8d1789-6f4c-47c1-9275-2513a55e6c0a",
   "metadata": {},
   "source": [
    "## Functions are first-class citizens in Python"
   ]
  },
  {
   "cell_type": "code",
   "execution_count": null,
   "id": "b3737c70-02e8-4aac-8936-dd394d6a45c2",
   "metadata": {},
   "outputs": [],
   "source": [
    "def silencio():\n",
    "    print(\"silencio\")\n",
    "\n",
    "def ruido():\n",
    "    print(\"ruido\")\n",
    "\n",
    "# the function name is the same as any variable\n",
    "s = silencio\n",
    "\n",
    "s()"
   ]
  },
  {
   "cell_type": "code",
   "execution_count": null,
   "id": "9c6df76e-cb42-4478-a045-4bf9e6943ddf",
   "metadata": {},
   "outputs": [],
   "source": [
    "# NOTE: THIS MEANS YOU CAN OVERWRITE THE LANGUAGE ITSELF ☠️\n",
    "# (only keywords like `def`, `del`, etc., cannot be overwritten)\n",
    "list = ruido\n",
    "\n",
    "# we have just overwritten the list operator\n",
    "list()\n",
    "\n",
    "a = {1,3,4,5}\n",
    "list(a) # NOW I CANNOT TURN A SET INTO A LIST ANY MORE"
   ]
  },
  {
   "cell_type": "code",
   "execution_count": null,
   "id": "5da06ee7-8ae4-4fd0-954c-87bec20f8ca8",
   "metadata": {},
   "outputs": [],
   "source": [
    "# to restore, just delete the variable\n",
    "# https://stackoverflow.com/a/17152796\n",
    "del list\n",
    "list(a)"
   ]
  },
  {
   "cell_type": "code",
   "execution_count": null,
   "id": "5d82b119-7fe3-46d1-8e41-ac19b2ba87de",
   "metadata": {},
   "outputs": [],
   "source": [
    "# define a function that takes in another function\n",
    "def poetic_column_with_holes(func, size, holes=None):\n",
    "    for i in range(size):\n",
    "        # if at one of the indices for the hole,\n",
    "        # print an empty line\n",
    "        if i in holes:\n",
    "            print()\n",
    "            continue\n",
    "        # otherwise print\n",
    "        func()"
   ]
  },
  {
   "cell_type": "code",
   "execution_count": null,
   "id": "625edb33-6b31-4fe2-af2a-a3379240b882",
   "metadata": {},
   "outputs": [],
   "source": [
    "poetic_column_with_holes(silencio, 9, holes=[4])"
   ]
  },
  {
   "cell_type": "code",
   "execution_count": null,
   "id": "129b8394-8edb-43ce-9c35-75e87297f429",
   "metadata": {},
   "outputs": [],
   "source": [
    "poetic_column_with_holes(ruido, 8, holes=[2,5])"
   ]
  },
  {
   "cell_type": "markdown",
   "id": "34595fdc-52bd-4204-a639-54e89ec5329a",
   "metadata": {},
   "source": [
    "## Advanced: decorators"
   ]
  },
  {
   "cell_type": "markdown",
   "id": "5fbfd787-848c-416f-90f2-591c4b15c673",
   "metadata": {},
   "source": [
    "[RealPython tutorail primer](https://realpython.com/primer-on-python-decorators/)  \n",
    "[RealPython tutorial (video)](https://realpython.com/courses/python-decorators-101/)  "
   ]
  },
  {
   "cell_type": "code",
   "execution_count": null,
   "id": "8b023022-8853-4e5b-a87d-d03725bb1838",
   "metadata": {},
   "outputs": [],
   "source": [
    "def silencio():\n",
    "    word = \"silencio\"\n",
    "    blank = \" \" * len(word)\n",
    "    for i in range(5):\n",
    "        if i == 2:\n",
    "            print(\" \".join([word, blank, word]))\n",
    "        else:\n",
    "            print(\" \".join([word, word, word]))\n",
    "\n",
    "silencio()"
   ]
  },
  {
   "cell_type": "code",
   "execution_count": null,
   "id": "8d4d1a9f-e159-4fc0-9703-8a73e06e3fca",
   "metadata": {},
   "outputs": [],
   "source": [
    "def i_say_unto_thee(func):\n",
    "    def biblical_wrapper():\n",
    "        print(\"I say unto thee:\")\n",
    "        print()\n",
    "        func()\n",
    "        print()\n",
    "        print(\"Heed my word, mere mortal!\")\n",
    "\n",
    "    return biblical_wrapper"
   ]
  },
  {
   "cell_type": "code",
   "execution_count": null,
   "id": "2d36a2e2-6522-46f7-ae61-05416a2f865d",
   "metadata": {},
   "outputs": [],
   "source": [
    "wrapped_silencio = i_say_unto_thee(silencio)\n",
    "wrapped_silencio()"
   ]
  },
  {
   "cell_type": "code",
   "execution_count": null,
   "id": "caec66ba-f63e-4d30-933c-92fe00570313",
   "metadata": {},
   "outputs": [],
   "source": [
    "# using the @ syntax is the same as above\n",
    "@i_say_unto_thee\n",
    "def ruido():\n",
    "    word = \"ruido\"\n",
    "    blank = \" \" * len(word)\n",
    "    for i in range(5):\n",
    "        if i % 2 == 0:\n",
    "            print(\" \".join([blank, word, blank]))\n",
    "        else:\n",
    "            print(\" \".join([word, blank, word]))\n",
    "\n",
    "# now the `ruido` function is automatically wrapped\n",
    "ruido()"
   ]
  }
 ],
 "metadata": {
  "kernelspec": {
   "display_name": "poetic.machines",
   "language": "python",
   "name": "python3"
  },
  "language_info": {
   "codemirror_mode": {
    "name": "ipython",
    "version": 3
   },
   "file_extension": ".py",
   "mimetype": "text/x-python",
   "name": "python",
   "nbconvert_exporter": "python",
   "pygments_lexer": "ipython3",
   "version": "3.12.11"
  }
 },
 "nbformat": 4,
 "nbformat_minor": 5
}
