{
 "cells": [
  {
   "cell_type": "markdown",
   "id": "1ac8359f-6b89-4983-a5e9-a1a7fa4a13c0",
   "metadata": {},
   "source": [
    "# Intro to Python & Jupyter"
   ]
  },
  {
   "cell_type": "markdown",
   "id": "1902170c-6279-4b53-9dcc-ef8e4f3fc47d",
   "metadata": {},
   "source": [
    "## Jupyter"
   ]
  },
  {
   "cell_type": "markdown",
   "id": "5abbd647-6715-4473-bfa5-238e208090ad",
   "metadata": {},
   "source": [
    "[doc](https://jupyter-notebook.readthedocs.io/en/stable/examples/Notebook/Notebook%20Basics.html)  \n",
    "[shortcuts cheat sheet](https://blog.ja-ke.tech/assets/jupyterlab-shortcuts/Shortcuts.png)\n",
    "\n",
    "- two types of cells: markdown & code\n",
    "- two modes: edit and command, switch between the two\n",
    "- create, delete cells\n",
    "- change cell type\n",
    "- run/render cells (staying put, moving on, creating new one)\n",
    "- split/merge cells\n",
    "- fold headings\n",
    "- learn your shortcuts!"
   ]
  },
  {
   "cell_type": "markdown",
   "id": "b60fa701-233d-4cef-947c-f5a20a688146",
   "metadata": {},
   "source": [
    "## Markdown"
   ]
  },
  {
   "cell_type": "markdown",
   "id": "09a025f9-61b0-466a-911b-541a591e5445",
   "metadata": {},
   "source": [
    "[cheat sheet](https://www.markdownguide.org/cheat-sheet/)  \n",
    "\n",
    "- italics, bold, strikethrough\n",
    "- headings\n",
    "- lists, ordered & unordered\n",
    "- code\n",
    "- horizontal separator\n",
    "- links, images\n",
    "- [html](https://www.w3schools.com/html/html_intro.asp)/[css](https://www.w3schools.com/css/default.asp) also work!"
   ]
  },
  {
   "cell_type": "markdown",
   "id": "c12dbda4-e67b-4ca1-a5f9-990cbea34f72",
   "metadata": {},
   "source": [
    "## Arithmetic operators"
   ]
  },
  {
   "cell_type": "markdown",
   "id": "3874061d-1bd2-463f-a516-eaf2ab954130",
   "metadata": {},
   "source": [
    "`+, -, *, /, **, %, //`\n",
    "\n",
    "[w<sup>3</sup> school reference](https://www.w3schools.com/python/gloss_python_arithmetic_operators.asp)  \n",
    "[RealPython modulo](https://realpython.com/python-modulo-operator/),  \n",
    "[Golan Levin on modulo](https://www.youtube.com/watch?v=r5Iy3v1co0A)\n",
    "\n",
    "**Hacker tip**: the Real Python has a limit on how many articles you can read. One way to circumvent this is to use a dedicated browser, like [Brave](https://brave.com/), where you can [wipe out all memory easily](https://support.brave.app/hc/en-us/articles/360048833872-How-Do-I-Clear-Cookies-And-Site-Data-In-Brave)."
   ]
  },
  {
   "cell_type": "code",
   "execution_count": null,
   "id": "acdc2086-5233-4364-a0ed-f5b74bb28b29",
   "metadata": {},
   "outputs": [],
   "source": []
  },
  {
   "cell_type": "markdown",
   "id": "83fc3ddb-f20b-4e85-9e2f-f86f48f80506",
   "metadata": {},
   "source": [
    "## Printing"
   ]
  },
  {
   "cell_type": "markdown",
   "id": "58216aee-fca1-4936-94a6-312820cb96df",
   "metadata": {},
   "source": [
    "[doc](https://docs.python.org/3/library/functions.html#print)"
   ]
  },
  {
   "cell_type": "code",
   "execution_count": null,
   "id": "d8394fec-49c3-405d-8b09-3b7c804ab577",
   "metadata": {},
   "outputs": [],
   "source": [
    "print(\"silencio\", end=\"!\")"
   ]
  },
  {
   "cell_type": "code",
   "execution_count": null,
   "id": "0a2bf81b-ab73-46fe-a743-92db8a38f295",
   "metadata": {},
   "outputs": [],
   "source": [
    "# add something at the end (space as default in between)\n",
    "print(\"silencio\", \"silencio\", \"silencio\", end=\"!\")"
   ]
  },
  {
   "cell_type": "code",
   "execution_count": null,
   "id": "53d8b905-a1b4-43cb-bd65-e0815d4459cc",
   "metadata": {},
   "outputs": [],
   "source": [
    "# add something in between\n",
    "print(\"silencio\", \"silencio\", \"silencio\", sep=\",\")"
   ]
  },
  {
   "cell_type": "code",
   "execution_count": null,
   "id": "ab9fbd85-61dd-47a3-a199-033f1b1b32f0",
   "metadata": {},
   "outputs": [],
   "source": [
    "# add something in between\n",
    "print(\"silencio\", \"silencio\", \"silencio\", sep=\"\\n\")"
   ]
  },
  {
   "cell_type": "markdown",
   "id": "d2398ecf-d1e9-4c18-883b-a3c5efa62a9b",
   "metadata": {},
   "source": [
    "![Eugen Gomringer's *Silencio*](../../pics/Gomringer.silencio.jpg)\n",
    "\n",
    "([source](https://www.instagram.com/p/C4kR0d1uIQ0/))"
   ]
  },
  {
   "cell_type": "code",
   "execution_count": null,
   "id": "b55f7e78-9691-4dfd-8b13-bdf01ca8dac4",
   "metadata": {
    "scrolled": true
   },
   "outputs": [],
   "source": [
    "print(\"\"\"\n",
    "silencio silencio silencio\n",
    "silencio silencio silencio\n",
    "silencio          silencio\n",
    "silencio silencio silencio\n",
    "silencio silencio silencio\n",
    "\"\"\")"
   ]
  },
  {
   "cell_type": "code",
   "execution_count": null,
   "id": "fd7779c8-249d-48cf-862a-cfdce1c7900b",
   "metadata": {},
   "outputs": [],
   "source": [
    "print(\"silencio silencio silencio\")\n",
    "print(\"silencio silencio silencio\")\n",
    "print(\"silencio          silencio\")\n",
    "print(\"silencio silencio silencio\")\n",
    "print(\"silencio silencio silencio\")"
   ]
  },
  {
   "cell_type": "markdown",
   "id": "6dee3675-9496-4a72-95d8-6ca6527aeb2d",
   "metadata": {},
   "source": [
    "## Data Types"
   ]
  },
  {
   "cell_type": "markdown",
   "id": "ac83b0d3-3f86-43a4-bac3-abb219118f28",
   "metadata": {},
   "source": [
    "[tutorial](https://realpython.com/python-data-types/)"
   ]
  },
  {
   "cell_type": "code",
   "execution_count": null,
   "id": "8e4debdc-d52f-411a-a1ce-b9f4e80415dd",
   "metadata": {},
   "outputs": [],
   "source": [
    "# integers: numbers without decimals\n",
    "print(1, type(1))"
   ]
  },
  {
   "cell_type": "code",
   "execution_count": null,
   "id": "18c95461-1a9c-4990-b011-f17a12846cfc",
   "metadata": {},
   "outputs": [],
   "source": [
    "# floats: numbers with decimals\n",
    "# note the dot!\n",
    "print(1., type(1.))"
   ]
  },
  {
   "cell_type": "code",
   "execution_count": null,
   "id": "d2c050eb-77f9-4a20-831b-018d167b01a2",
   "metadata": {},
   "outputs": [],
   "source": [
    "# boolean: True/False\n",
    "# try False\n",
    "print(True, type(True))"
   ]
  },
  {
   "cell_type": "code",
   "execution_count": null,
   "id": "85b96745-7cc2-41dd-9f9c-e96d9c36181f",
   "metadata": {},
   "outputs": [],
   "source": [
    "# the null type\n",
    "print(None, type(None))"
   ]
  },
  {
   "cell_type": "code",
   "execution_count": null,
   "id": "b825a630-444c-493a-8694-a29b169ec8e4",
   "metadata": {},
   "outputs": [],
   "source": [
    "# string: text\n",
    "print(\"silencio\", type(\"silencio\"))"
   ]
  }
 ],
 "metadata": {
  "kernelspec": {
   "display_name": "Python 3 (ipykernel)",
   "language": "python",
   "name": "python3"
  },
  "language_info": {
   "codemirror_mode": {
    "name": "ipython",
    "version": 3
   },
   "file_extension": ".py",
   "mimetype": "text/x-python",
   "name": "python",
   "nbconvert_exporter": "python",
   "pygments_lexer": "ipython3",
   "version": "3.12.11"
  }
 },
 "nbformat": 4,
 "nbformat_minor": 5
}
