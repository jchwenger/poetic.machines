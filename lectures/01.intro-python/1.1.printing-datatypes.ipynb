{
 "cells": [
  {
   "cell_type": "markdown",
   "id": "1ac8359f-6b89-4983-a5e9-a1a7fa4a13c0",
   "metadata": {},
   "source": [
    "# Intro to Python & Jupyter"
   ]
  },
  {
   "cell_type": "markdown",
   "id": "ff0337da",
   "metadata": {},
   "source": [
    "Jupyter, in which this document is written, is a framework for combining regular text (in a syntax called `markdown`) and code, in a format similart to a web page. Let's look at what this software can do."
   ]
  },
  {
   "cell_type": "markdown",
   "id": "1902170c-6279-4b53-9dcc-ef8e4f3fc47d",
   "metadata": {},
   "source": [
    "## Jupyter"
   ]
  },
  {
   "cell_type": "markdown",
   "id": "5abbd647-6715-4473-bfa5-238e208090ad",
   "metadata": {},
   "source": [
    "[doc](https://jupyter-notebook.readthedocs.io/en/stable/examples/Notebook/Notebook%20Basics.html)  \n",
    "[shortcuts cheat sheet](https://blog.ja-ke.tech/assets/jupyterlab-shortcuts/Shortcuts.png)\n",
    "\n",
    "Here's a list of things to know:\n",
    "- two types of cells: markdown & code\n",
    "- two modes: edit and command, switch between the two\n",
    "- create, delete, cut, paste cells\n",
    "- change cell type\n",
    "- run/render cells (staying put, moving on, creating new one)\n",
    "- split/merge cells\n",
    "- fold headings\n",
    "- **learn your shortcuts**!"
   ]
  },
  {
   "cell_type": "markdown",
   "id": "b60fa701-233d-4cef-947c-f5a20a688146",
   "metadata": {},
   "source": [
    "## Markdown"
   ]
  },
  {
   "cell_type": "markdown",
   "id": "09a025f9-61b0-466a-911b-541a591e5445",
   "metadata": {},
   "source": [
    "[cheat sheet](https://www.markdownguide.org/cheat-sheet/)  \n",
    "\n",
    "Markdown things to know:\n",
    "- *italics*, **bold**, ~~strikethrough~~\n",
    "- headings using from 1 to 5 '\\#'\n",
    "- lists, unordered (like this one) or ordered:\n",
    "  1. hey!\n",
    "  2. what?\n",
    "  3. yes!\n",
    "- `code` and\n",
    "  ```\n",
    "  a code block\n",
    "  on multiple lines\n",
    "  ```\n",
    "- links to [html](https://www.w3schools.com/html/html_intro.asp)/[css](https://www.w3schools.com/css/default.asp) since they also also work in these cells!\n",
    "- a horizontal separator:\n",
    "\n",
    "  ---\n",
    "\n",
    "- finally, an image:\n",
    "\n",
    "  ![python logo](./data/python-logo-notext.png )\n"
   ]
  },
  {
   "cell_type": "markdown",
   "id": "c12dbda4-e67b-4ca1-a5f9-990cbea34f72",
   "metadata": {},
   "source": [
    "## Arithmetic operators"
   ]
  },
  {
   "cell_type": "markdown",
   "id": "3874061d-1bd2-463f-a516-eaf2ab954130",
   "metadata": {},
   "source": [
    "Perhaps the first use case for computers you can think of is... computing! Namely, be a *calculator* and do arithmetic for us. Good news, it can. Here are the main arithmetic operations we will encounter:\n",
    "\n",
    "`+, -, *, /, **, %, //`\n",
    "\n",
    "[w<sup>3</sup> school reference](https://www.w3schools.com/python/gloss_python_arithmetic_operators.asp)  \n",
    "[RealPython modulo](https://realpython.com/python-modulo-operator/),  \n",
    "[Golan Levin on modulo](https://www.youtube.com/watch?v=r5Iy3v1co0A)\n",
    "\n",
    "**Hacker tip**: the Real Python website has a limit on how many articles you can read. One way to circumvent this is to use a dedicated browser, like [Brave](https://brave.com/), where you can [wipe out all browsing memory easily](https://support.brave.app/hc/en-us/articles/360048833872-How-Do-I-Clear-Cookies-And-Site-Data-In-Brave) by clicking on the sandwich icon in the top right and then on \"Delete browser data\"."
   ]
  },
  {
   "cell_type": "code",
   "execution_count": null,
   "id": "acdc2086-5233-4364-a0ed-f5b74bb28b29",
   "metadata": {},
   "outputs": [],
   "source": [
    "# code cell to test arithmetic"
   ]
  },
  {
   "cell_type": "markdown",
   "id": "b25fa55f",
   "metadata": {},
   "source": [
    "Note: how to test for equality? Use `==` (double equal sign). For the opposite, inequality, use `!=`.\n",
    "\n",
    "**Important**: a single equal sign, `=`, does **not** mean the same thing, we will see that next week.\n",
    "\n",
    "The comparisons are:\n",
    "\n",
    "`==, !=, <, <=, >, >=`"
   ]
  },
  {
   "cell_type": "code",
   "execution_count": null,
   "id": "c1f8d325",
   "metadata": {},
   "outputs": [],
   "source": [
    "# code cell to test comparisons"
   ]
  },
  {
   "cell_type": "markdown",
   "id": "83fc3ddb-f20b-4e85-9e2f-f86f48f80506",
   "metadata": {},
   "source": [
    "## Printing"
   ]
  },
  {
   "cell_type": "markdown",
   "id": "58216aee-fca1-4936-94a6-312820cb96df",
   "metadata": {},
   "source": [
    "[doc](https://docs.python.org/3/library/functions.html#print)\n",
    "\n",
    "The hello world of programming is always to display some text (famously, *hello world*). Here we are building our way towards one of the poems we will look at this term, \"Silencio\" by Eugen Gomringer.\n",
    "\n",
    "Don't worry about this for now, but `print` is a **function**, which means that we will pass it (give it) what we want printed, between `()`."
   ]
  },
  {
   "cell_type": "code",
   "execution_count": null,
   "id": "d8394fec-49c3-405d-8b09-3b7c804ab577",
   "metadata": {},
   "outputs": [],
   "source": [
    "# prints \"silencio\" – don't worry about this for now,\n",
    "# but we need the quotation marks around text here!\n",
    "print(\"silencio\")"
   ]
  },
  {
   "cell_type": "code",
   "execution_count": null,
   "id": "30650a24",
   "metadata": {},
   "outputs": [],
   "source": [
    "# we can give multiple things, separating them with a ','\n",
    "# the default behaviour is to add a \" \" between them\n",
    "print(\"silencio\", \"silencio\", \"silencio\")"
   ]
  },
  {
   "cell_type": "markdown",
   "id": "4fabde15",
   "metadata": {},
   "source": [
    "Bonus functionalities of `print`: `end` and `sep`."
   ]
  },
  {
   "cell_type": "code",
   "execution_count": null,
   "id": "0a2bf81b-ab73-46fe-a743-92db8a38f295",
   "metadata": {},
   "outputs": [],
   "source": [
    "# add something at the end (after everything we pass has been printed)\n",
    "print(\"silencio\", \"silencio\", \"silencio\", end=\"!\")"
   ]
  },
  {
   "cell_type": "code",
   "execution_count": null,
   "id": "53d8b905-a1b4-43cb-bd65-e0815d4459cc",
   "metadata": {},
   "outputs": [],
   "source": [
    "#c change the default separator (`sep`)\n",
    "print(\"silencio\", \"silencio\", \"silencio\", sep=\",\")"
   ]
  },
  {
   "cell_type": "code",
   "execution_count": null,
   "id": "ab9fbd85-61dd-47a3-a199-033f1b1b32f0",
   "metadata": {},
   "outputs": [],
   "source": [
    "# sep can be used to add newlines ('\\n') between our elements\n",
    "print(\"silencio\", \"silencio\", \"silencio\", sep=\"\\n\")"
   ]
  },
  {
   "cell_type": "markdown",
   "id": "a2009e72",
   "metadata": {},
   "source": [
    "## Silencio"
   ]
  },
  {
   "cell_type": "markdown",
   "id": "d2398ecf-d1e9-4c18-883b-a3c5efa62a9b",
   "metadata": {},
   "source": [
    "Already now, with just this function, we could start experimenting. \n",
    "\n",
    "![Eugen Gomringer's *Silencio*](../../pics/Gomringer.silencio.jpg)\n",
    "\n",
    "([source](https://www.instagram.com/p/C4kR0d1uIQ0/))"
   ]
  },
  {
   "cell_type": "code",
   "execution_count": null,
   "id": "b55f7e78-9691-4dfd-8b13-bdf01ca8dac4",
   "metadata": {
    "scrolled": true
   },
   "outputs": [],
   "source": [
    "# using a multiline string\n",
    "print(\"\"\"\n",
    "silencio silencio silencio\n",
    "silencio silencio silencio\n",
    "silencio          silencio\n",
    "silencio silencio silencio\n",
    "silencio silencio silencio\n",
    "\"\"\")"
   ]
  },
  {
   "cell_type": "code",
   "execution_count": null,
   "id": "fd7779c8-249d-48cf-862a-cfdce1c7900b",
   "metadata": {},
   "outputs": [],
   "source": [
    "# printing each line separately\n",
    "print(\"silencio silencio silencio\")\n",
    "print(\"silencio silencio silencio\")\n",
    "print(\"silencio          silencio\")\n",
    "print(\"silencio silencio silencio\")\n",
    "print(\"silencio silencio silencio\")"
   ]
  },
  {
   "cell_type": "code",
   "execution_count": null,
   "id": "a8703197",
   "metadata": {},
   "outputs": [],
   "source": [
    "# using `sep`, giving it the symbol for \"newline\": \"\\n\"\n",
    "# note: between the 'arguments' (each bit between the commas),\n",
    "# we can add any new line we want\n",
    "print(\n",
    "    \"silencio silencio silencio\",\n",
    "    \"silencio silencio silencio\",\n",
    "    \"silencio          silencio\",\n",
    "    \"silencio silencio silencio\",\n",
    "    \"silencio silencio silencio\",\n",
    "    sep=\"\\n\"\n",
    ")\n"
   ]
  },
  {
   "cell_type": "markdown",
   "id": "518f5c29",
   "metadata": {},
   "source": [
    "As you can see, there is often many different ways of doing the same thing with programming! The language gives us flexibility so that we can pick which method is best in various contexts."
   ]
  },
  {
   "cell_type": "markdown",
   "id": "6dee3675-9496-4a72-95d8-6ca6527aeb2d",
   "metadata": {},
   "source": [
    "## Data Types"
   ]
  },
  {
   "cell_type": "markdown",
   "id": "ac83b0d3-3f86-43a4-bac3-abb219118f28",
   "metadata": {},
   "source": [
    "[tutorial](https://realpython.com/python-data-types/)\n",
    "\n",
    "Even if underneath it all, there are only zeros and ones, all programming languages are organised in higher-level categories (\"ways in which the zeros and ones are structured\"), that allow us to manipulate different kinds of data more easily. Here are some fundamental ones:\n",
    "\n",
    "- **integers** (`int`): numbers without decimals (for short: direct binary representation, usually 8 bits)\n",
    "- **floats** (`float`): numbers with decimals – even if the decimal is empty: `1.` is a float (usually 32 bits, using a formula, see [here](https://en.wikipedia.org/wiki/Floating-point_arithmetic))\n",
    "- **strings** (`str`): strings of characters, aka text (yet another encoding, with often 8 bits per character, we'll see more about that)\n",
    "\n",
    "As you can see, a `float` will take more memory than an `int` (note: one **byte** is 8 bits, and one bit is just a 0/1)! For now, in Python, you don't need to worry too much about this, though.\n",
    "\n",
    "And that is because there are two types of programming languages, strongly vs weakly typed: Python is a *weakly* typed language (we will see more of this later), which means that a lot of data-handling work is done automatically for you in the background. Easier to learn and write, but makes the language slower."
   ]
  },
  {
   "cell_type": "code",
   "execution_count": null,
   "id": "8e4debdc-d52f-411a-a1ce-b9f4e80415dd",
   "metadata": {},
   "outputs": [],
   "source": [
    "# integers: numbers without decimals\n",
    "# `type` is yet another function, don't worry about it\n",
    "print(1, type(1))"
   ]
  },
  {
   "cell_type": "code",
   "execution_count": null,
   "id": "18c95461-1a9c-4990-b011-f17a12846cfc",
   "metadata": {},
   "outputs": [],
   "source": [
    "# floats: numbers with decimals\n",
    "# note the dot!\n",
    "print(1.5, type(1.5))"
   ]
  },
  {
   "cell_type": "code",
   "execution_count": null,
   "id": "c6c01481",
   "metadata": {},
   "outputs": [],
   "source": [
    "# two different data types, beware the dot!\n",
    "print(type(1), type(1.))"
   ]
  },
  {
   "cell_type": "code",
   "execution_count": null,
   "id": "be80d109",
   "metadata": {},
   "outputs": [],
   "source": [
    "# string: text, type `string`\n",
    "print(\"silencio\", type(\"silencio\"))"
   ]
  },
  {
   "cell_type": "markdown",
   "id": "e7691e2b",
   "metadata": {},
   "source": [
    "### More! (For later only)"
   ]
  },
  {
   "cell_type": "markdown",
   "id": "c124ec33",
   "metadata": {},
   "source": [
    "- **boleans** (`bool`): logical values (`True` or `False`)\n",
    "- the **null** type (`NoneType`) (needed when representing... nothing)"
   ]
  },
  {
   "cell_type": "code",
   "execution_count": null,
   "id": "d2c050eb-77f9-4a20-831b-018d167b01a2",
   "metadata": {},
   "outputs": [],
   "source": [
    "# boolean: True/False\n",
    "# try False\n",
    "print(True, type(True))"
   ]
  },
  {
   "cell_type": "code",
   "execution_count": null,
   "id": "85b96745-7cc2-41dd-9f9c-e96d9c36181f",
   "metadata": {},
   "outputs": [],
   "source": [
    "# the null type, when we need a placeholder for 'nothing'\n",
    "print(None, type(None))"
   ]
  },
  {
   "cell_type": "markdown",
   "id": "a60ab537",
   "metadata": {},
   "source": [
    "### Extra: Wanna Stare into the Abyss?"
   ]
  },
  {
   "cell_type": "markdown",
   "id": "fbf68374",
   "metadata": {},
   "source": [
    "You absolutely, and unequivocally, don't need to know this."
   ]
  },
  {
   "cell_type": "code",
   "execution_count": null,
   "id": "467140a6",
   "metadata": {},
   "outputs": [],
   "source": [
    "# will NOT work if there's a decimal (dot)\n",
    "# 0 is 0, 1 in 1, 2 is 10, 3 is 11, etc.\n",
    "# `bin` transforms an integer into bits\n",
    "integer = 0\n",
    "integer_as_bits = bin(integer)\n",
    "\n",
    "print(\"The number:\", integer)\n",
    "print(\"The bits underneath:\", integer_as_bits, \"('0b' just means: 'after me, that's bits'):\")"
   ]
  },
  {
   "cell_type": "code",
   "execution_count": null,
   "id": "cd08cd47",
   "metadata": {},
   "outputs": [],
   "source": [
    "# https://www.geeksforgeeks.org/python/python-program-to-convert-floating-to-binary/\n",
    "import struct\n",
    "n = 10.75\n",
    "\n",
    "print(\"We start with the number:\", n)\n",
    "\n",
    "number_as_bits = struct.unpack(\"!I\", struct.pack(\"!f\", n))[0]\n",
    "bits_as_string = f\"{number_as_bits:032b}\"\n",
    "\n",
    "print(\"The bits underneath are:\", bits_as_string)\n",
    "\n",
    "# below is an implementation of what's explained here:\n",
    "# https://en.wikipedia.org/wiki/Floating-point_arithmetic#Internal_representation\n",
    "# thx ChatGPT :> (https://chatgpt.com/share/68dd53c9-b4e4-8005-9404-a3851af0ea64)\n",
    "\n",
    "# 1. sign bit\n",
    "sign = -1 if bits_as_string[0] == \"1\" else 1\n",
    "\n",
    "# 2. exponent bits (8 bits)\n",
    "# (extract)\n",
    "exponent_bits = bits_as_string[1:9]\n",
    "exponent = int(exponent_bits, 2) - 127  # bias = 127\n",
    "\n",
    "# 3. mantissa (23 bits)\n",
    "mantissa_bits = bits_as_string[9:]\n",
    "mantissa = 1.0  # implicit leading 1 for normalized numbers\n",
    "for i, b in enumerate(mantissa_bits, start=1):\n",
    "    if b == \"1\":\n",
    "        mantissa += 2 ** -i\n",
    "\n",
    "# 4. Combine\n",
    "recovered_float = sign * mantissa * (2 ** exponent)\n",
    "\n",
    "print(\"From the bits, we reconsitute the number as:\", recovered_float)"
   ]
  }
 ],
 "metadata": {
  "kernelspec": {
   "display_name": "poetic.machines",
   "language": "python",
   "name": "python3"
  },
  "language_info": {
   "codemirror_mode": {
    "name": "ipython",
    "version": 3
   },
   "file_extension": ".py",
   "mimetype": "text/x-python",
   "name": "python",
   "nbconvert_exporter": "python",
   "pygments_lexer": "ipython3",
   "version": "3.12.11"
  }
 },
 "nbformat": 4,
 "nbformat_minor": 5
}
