{
 "cells": [
  {
   "cell_type": "markdown",
   "metadata": {},
   "source": [
    "# py5Canvas"
   ]
  },
  {
   "cell_type": "markdown",
   "metadata": {},
   "source": [
    "## Import "
   ]
  },
  {
   "cell_type": "markdown",
   "metadata": {},
   "source": [
    "**Note**: [w<sup>3</sup> `import` & modules](https://www.w3schools.com/python/python_modules.asp)"
   ]
  },
  {
   "cell_type": "code",
   "execution_count": 1,
   "metadata": {},
   "outputs": [],
   "source": [
    "# from this module, import everything (\"*\")\n",
    "from py5canvas import *"
   ]
  },
  {
   "cell_type": "markdown",
   "metadata": {},
   "source": [
    "## Create a sketch step by step\n"
   ]
  },
  {
   "cell_type": "markdown",
   "metadata": {},
   "source": [
    "#### Note: Naming Conventions"
   ]
  },
  {
   "cell_type": "markdown",
   "metadata": {},
   "source": [
    "The standard **naming convention** in Python is `snake_case` rather than `camelCase`. That is, we use underscores to separate terms rather than capitalization. So for example the equivalent of the p5.js `createCanvas(...)` is `create_canvas(...)`."
   ]
  },
  {
   "cell_type": "markdown",
   "metadata": {},
   "source": [
    "### Creating and clearing a Canvas\n",
    "\n"
   ]
  },
  {
   "attachments": {},
   "cell_type": "markdown",
   "metadata": {},
   "source": [
    "Once you have imported the `py5canvas` module you can create a blank canvas with `create_canvas`. The background will be grey by default:\n",
    "\n"
   ]
  },
  {
   "cell_type": "code",
   "execution_count": null,
   "metadata": {},
   "outputs": [],
   "source": [
    "create_canvas(800, 300)\n",
    "show()"
   ]
  },
  {
   "attachments": {},
   "cell_type": "markdown",
   "metadata": {},
   "source": [
    "the `show()` method will display the current canvas image below the current notebook cell."
   ]
  },
  {
   "attachments": {},
   "cell_type": "markdown",
   "metadata": {},
   "source": [
    "By default the `Canvas` object is cleared to grey. We can change this:"
   ]
  },
  {
   "cell_type": "code",
   "execution_count": null,
   "metadata": {},
   "outputs": [],
   "source": [
    "create_canvas(800, 300)\n",
    "background(255, 0, 0)\n",
    "show()"
   ]
  },
  {
   "cell_type": "markdown",
   "metadata": {},
   "source": [
    "### Drawing text"
   ]
  },
  {
   "cell_type": "markdown",
   "metadata": {},
   "source": [
    "To draw text use the `text` method. We can change size using `text_size` and optionally set the text to be horizontally centered. The text is colored with the current fill color, which is set with the `fill` function:\n",
    "\n"
   ]
  },
  {
   "cell_type": "code",
   "execution_count": null,
   "metadata": {},
   "outputs": [],
   "source": [
    "create_canvas(800, 300)\n",
    "background(0)\n",
    "\n",
    "# text size, this size will be valid for all future texts\n",
    "text_size(30)\n",
    "\n",
    "# first text\n",
    "fill(255)\n",
    "# I can specify a stroke around the letters\n",
    "stroke(255, 0, 0)\n",
    "stroke_weight(1)\n",
    "text_align(\"left\")\n",
    "text(\"Left aligned\", 20, 100)\n",
    "\n",
    "show()"
   ]
  },
  {
   "cell_type": "code",
   "execution_count": null,
   "metadata": {},
   "outputs": [],
   "source": [
    "# no stroke\n",
    "no_stroke()\n",
    "\n",
    "# second text\n",
    "fill(0, 128, 255)\n",
    "\n",
    "# text align can take a second argument, `valign` (\"top\", \"center\", \"bottom\")\n",
    "text_align(\"center\", \"center\")\n",
    "text(\"Centered text\", width/2, height/2)\n",
    "\n",
    "show()"
   ]
  },
  {
   "cell_type": "code",
   "execution_count": null,
   "metadata": {},
   "outputs": [],
   "source": [
    "# third text\n",
    "fill(0,255,0)\n",
    "\n",
    "text_align(\"right\")\n",
    "# using Python formatted strings\n",
    "text(f\"The canvas width is: {width}\", width - 20, height- 20)\n",
    "\n",
    "# # note: we could also pass `align` and `valign` directly to text\n",
    "# text(f\"The canvas width is: {width}\", width - 20, height- 20, align=\"right\")\n",
    "\n",
    "show()"
   ]
  },
  {
   "cell_type": "markdown",
   "metadata": {},
   "source": [
    "### Basic shapes\n",
    "\n"
   ]
  },
  {
   "cell_type": "markdown",
   "metadata": {},
   "source": [
    "Similarly to p5js we can draw basic shapes such as rectangles and circles.\n",
    "\n"
   ]
  },
  {
   "cell_type": "code",
   "execution_count": null,
   "metadata": {},
   "outputs": [],
   "source": [
    "create_canvas(800, 300)\n",
    "background(0)\n",
    "fill(255, 0, 255)\n",
    "\n",
    "stroke(255)\n",
    "stroke_weight(7)\n",
    "\n",
    "# you can use `rect` here as well, like in p5\n",
    "rectangle(10, 70, 200, 150) \n",
    "\n",
    "show()"
   ]
  },
  {
   "attachments": {},
   "cell_type": "markdown",
   "metadata": {},
   "source": [
    "The `rectangle` method has two arguments, the `[x,y]` coordinates of the top left corner and the size `[width, height]` of the rectangle.\n",
    "Here we first set the fill and stroke color with `fill` and `stroke` and then also the stroke thickness with `stroke_weight`.\n",
    "\n",
    "Let's also add a blue circle to the canvas:"
   ]
  },
  {
   "cell_type": "code",
   "execution_count": null,
   "metadata": {},
   "outputs": [],
   "source": [
    "fill(0, 128, 255)\n",
    "circle(400, height/2, 100)\n",
    "show()"
   ]
  },
  {
   "attachments": {},
   "cell_type": "markdown",
   "metadata": {},
   "source": [
    "Note that here we did not clear the canvas so we the rectangle is still visible. This is because once we create a \"canvas\" with `create_canvas`, it will remain persistent in the notebook cells until we create another one."
   ]
  },
  {
   "cell_type": "markdown",
   "metadata": {},
   "source": [
    "### Color modes\n",
    "\n"
   ]
  },
  {
   "attachments": {},
   "cell_type": "markdown",
   "metadata": {},
   "source": [
    "By default the canvas uses RGB colors specified in the range between 0 and 255. We can specify colors as single arguments similarly to p5.js.\n",
    "\n"
   ]
  },
  {
   "cell_type": "code",
   "execution_count": null,
   "metadata": {},
   "outputs": [],
   "source": [
    "create_canvas(300, 300)\n",
    "background(0)\n",
    "\n",
    "stroke(255)\n",
    "\n",
    "# blue circle\n",
    "# three values is RGB (red green blue)\n",
    "fill(0, 128, 255)\n",
    "circle(80, height/2, 50)\n",
    "\n",
    "# black circle\n",
    "# only one value is greyscale\n",
    "fill(0)\n",
    "circle(130, height/2, 50)\n",
    "\n",
    "# 'white' circle, but quite transparent (alpha closer to 0 than to 255)\n",
    "# two values is grey, alpha\n",
    "fill(255, 100)\n",
    "circle(180, height/2, 50)\n",
    "\n",
    "# green cirlce, somewhat transparent (alpha close to 255)\n",
    "# four values is RGBA (red green blue alpha)\n",
    "fill(0, 255, 0, 200)\n",
    "circle(230, height/2, 50)\n",
    "\n",
    "show()"
   ]
  },
  {
   "cell_type": "markdown",
   "metadata": {},
   "source": [
    "## Silencio"
   ]
  },
  {
   "cell_type": "code",
   "execution_count": null,
   "metadata": {},
   "outputs": [],
   "source": [
    "create_canvas(512,300)\n",
    "background(255)\n",
    "\n",
    "no_stroke()\n",
    "\n",
    "fill(0)\n",
    "text_font(\"Courier New\")\n",
    "text_size(25)\n",
    "\n",
    "text(\"silencio silencio silencio\", [60, 50])\n",
    "text(\"silencio silencio silencio\", [60, 100])\n",
    "text(\"silencio          silencio\", [60, 150])\n",
    "text(\"silencio silencio silencio\", [60, 200])\n",
    "text(\"silencio silencio silencio\", [60, 250])\n",
    "\n",
    "# save as png\n",
    "save(\"silencio.png\")\n",
    "\n",
    "show()"
   ]
  },
  {
   "cell_type": "markdown",
   "metadata": {},
   "source": [
    "## Fonts"
   ]
  },
  {
   "cell_type": "code",
   "execution_count": null,
   "metadata": {},
   "outputs": [],
   "source": [
    "create_canvas(512, 512)\n",
    "background(255)\n",
    "no_stroke()\n",
    "\n",
    "fill(0)\n",
    "text_font(\"Times New Roman\")\n",
    "# text_style(\"normal\")\n",
    "text_size(35)\n",
    "text(\"hello\", [30, 50])\n",
    "\n",
    "fill(255, 0, 0)\n",
    "text_font(\"Courier New\")\n",
    "text_style(\"italic\")\n",
    "text_size(65)\n",
    "text(\"world!\", [80, 100])\n",
    "\n",
    "fill(0, 255, 0)\n",
    "text_font(\"Helvetica\")\n",
    "text_style(\"bold\")\n",
    "text_size(65)\n",
    "text(\"goodbye\", [140, 300])\n",
    "\n",
    "fill(0, 0, 255)\n",
    "text_font(\"Brush Script MT\")\n",
    "text_style(\"bolditalic\")\n",
    "text_size(75)\n",
    "text(\"universe!\", [60, 400])\n",
    "\n",
    "# save as svg\n",
    "save('fonts.svg')\n",
    "\n",
    "show()"
   ]
  }
 ],
 "metadata": {
  "kernelspec": {
   "display_name": "Python 3 (ipykernel)",
   "language": "python",
   "name": "python3"
  },
  "language_info": {
   "codemirror_mode": {
    "name": "ipython",
    "version": 3
   },
   "file_extension": ".py",
   "mimetype": "text/x-python",
   "name": "python",
   "nbconvert_exporter": "python",
   "pygments_lexer": "ipython3",
   "version": "3.12.0"
  },
  "org": null,
  "vscode": {
   "interpreter": {
    "hash": "cc9c83ea0cbc10bff8212b234c7b05dbba13e500ad11c2ffb95769d4a1c2136e"
   }
  }
 },
 "nbformat": 4,
 "nbformat_minor": 4
}
