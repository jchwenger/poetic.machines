{
 "cells": [
  {
   "cell_type": "markdown",
   "id": "8b40af28-527e-4441-b9ff-fe046fc46fd7",
   "metadata": {},
   "source": [
    "# Variables"
   ]
  },
  {
   "cell_type": "markdown",
   "id": "28c16a43-f00a-4b4e-a312-b1fe5ca7fb26",
   "metadata": {},
   "source": [
    "## Variable Creation: Allocation"
   ]
  },
  {
   "cell_type": "markdown",
   "id": "3c3c843b-a91d-47af-8b51-44db49395397",
   "metadata": {},
   "source": [
    "What are variables? They are a way for us to manage (allocate) **memory**. Often, we want to store some piece of data, to be able to reuse it later, or do some processing on it. The way this is done is by using the `=` operator.\n",
    "\n",
    "**BEWARE**, this does **not** mean \"equals\". It means that we *assign a value (our data) to a place in memory (named however we choose)*.\n",
    "\n",
    "This is like telling our computer: \"please store this piece of data into memory\" as well as \"here's the name referring to the place in memory where you put it\" (the computer does the actual memory allocation in the background for us).\n",
    "\n",
    "Metaphorically, let's say the computer uses boxes to store things. Creating a variable then means: \"get me some data and a box to put it in, and here's how I'm calling this box, so that if I use the box name you can give me the data back.\"\n",
    "\n",
    "Another way of looking at this is that the name of the variable is the **address** (perhaps a \"post box\"?) where the data is stored. By giving the address, the computer-postman can go fetch it and git it back to us."
   ]
  },
  {
   "cell_type": "code",
   "execution_count": null,
   "id": "4c7734de-a7fd-4bd3-a8af-e1f6e4f20979",
   "metadata": {},
   "outputs": [],
   "source": [
    "# here we ask Python to create a piece of text\n",
    "# \"silencio silencio silencio\" and store it in memory\n",
    "# (we call that place in memory `line`)\n",
    "line = \"silencio silencio silencio\""
   ]
  },
  {
   "cell_type": "code",
   "execution_count": null,
   "id": "7ba12c74",
   "metadata": {},
   "outputs": [],
   "source": [
    "# now we ask the computer: give me back my data\n",
    "print(line)"
   ]
  },
  {
   "cell_type": "code",
   "execution_count": null,
   "id": "556ad617",
   "metadata": {},
   "outputs": [],
   "source": [
    "# a \"variable\" is called that because what's in the box can change\n",
    "line = \"no más silencio!!\"\n",
    "print(line)"
   ]
  },
  {
   "cell_type": "markdown",
   "id": "625494b2",
   "metadata": {},
   "source": [
    "\n",
    "Python is **extremely** nice to us, even nicer than JavaScript: no keyword (like `var`, `let` or `const`) needed for creating variables. Only a name.\n",
    "\n",
    "**Rules for variable names**:\n",
    "\n",
    "- must start with a letter or the underscore character\n",
    "- cannot start with a number\n",
    "- can only contain alpha-numeric characters and underscores (A-z, 0-9, and _ )\n",
    "- are case-sensitive (age, Age and AGE are three different variables)\n",
    "- cannot be any of the Python keywords.\n",
    "\n",
    "[w<sup>3</sup> source](https://www.w3schools.com/python/python_variables_names.asp)\n",
    "\n",
    "**Naming Convention**:\n",
    "\n",
    "For variables, the Python convention is `snake_case` (in p5.js/JavaScript it's `camelCase`!) ([wiki](https://en.wikipedia.org/wiki/Naming_convention_(programming)#Examples_of_multiple-word_identifier_formats)).\n",
    "\n",
    "[RealPython tutorial](https://realpython.com/python-pep8/#naming-styles)"
   ]
  },
  {
   "cell_type": "markdown",
   "id": "9e7d6bb9",
   "metadata": {},
   "source": [
    "## Deletion/Freeing Memory: Deallocation"
   ]
  },
  {
   "cell_type": "markdown",
   "id": "8bf3f834",
   "metadata": {},
   "source": [
    "[doc](https://docs.python.org/3/tutorial/datastructures.html#the-del-statement)  \n",
    "[RealPython tutorial](https://realpython.com/ref/keywords/del/)\n",
    "\n",
    "What if we want to delete a variable?"
   ]
  },
  {
   "cell_type": "code",
   "execution_count": null,
   "id": "c990b7ef",
   "metadata": {},
   "outputs": [],
   "source": [
    "# free the memory in \n",
    "del line\n",
    "\n",
    "# fails! `line` is no longer defined\n",
    "print(line)"
   ]
  },
  {
   "cell_type": "markdown",
   "id": "cfaae0f9",
   "metadata": {},
   "source": [
    "## Silencio Strikes Again!"
   ]
  },
  {
   "cell_type": "markdown",
   "id": "f43b88c4",
   "metadata": {},
   "source": [
    "![Eugen Gomringer's *Silencio*](../../pics/Gomringer.silencio.jpg)\n",
    "\n",
    "([source](https://www.instagram.com/p/C4kR0d1uIQ0/))"
   ]
  },
  {
   "cell_type": "markdown",
   "id": "f002897e",
   "metadata": {},
   "source": [
    "Here's yet another way in which we can play with Gomringer's poem, this time with variables."
   ]
  },
  {
   "cell_type": "code",
   "execution_count": null,
   "id": "e12afdb7",
   "metadata": {},
   "outputs": [],
   "source": [
    "# one variable per line\n",
    "line = \"silencio silencio silencio\"\n",
    "line_gap = \"silencio          silencio\""
   ]
  },
  {
   "cell_type": "code",
   "execution_count": null,
   "id": "efbb6a11-dcb0-4157-a735-bdcc8531d7d4",
   "metadata": {},
   "outputs": [],
   "source": [
    "line_gap"
   ]
  },
  {
   "cell_type": "code",
   "execution_count": null,
   "id": "98bc7df7-ffe6-4576-bca6-3aedd362643d",
   "metadata": {},
   "outputs": [],
   "source": [
    "print(line)\n",
    "print(line)\n",
    "print(line_gap)\n",
    "print(line)\n",
    "print(line)"
   ]
  },
  {
   "cell_type": "code",
   "execution_count": null,
   "id": "678ac698-8c68-49f5-9dde-e3e85ec41866",
   "metadata": {},
   "outputs": [],
   "source": [
    "# how about we go deeper, and work at the level of the word?\n",
    "word = \"silencio\""
   ]
  },
  {
   "cell_type": "markdown",
   "id": "161e1774",
   "metadata": {},
   "source": [
    "We will see much more of this later, but `len` is a **function** that gives us the number of characters in a string. Like `print`, we pass it the string inside `()`."
   ]
  },
  {
   "cell_type": "code",
   "execution_count": null,
   "id": "60f69138-fcec-4ce8-af61-62abf41688b6",
   "metadata": {},
   "outputs": [],
   "source": [
    "# \"silencio\" has 8 characters\n",
    "len(word)"
   ]
  },
  {
   "cell_type": "code",
   "execution_count": null,
   "id": "0805b37b-41d6-471b-9cc9-04f7ad7acd55",
   "metadata": {},
   "outputs": [],
   "source": [
    "# we will also see more of this later, but \n",
    "# multiplying a string repeats it!\n",
    "\"!\" * 3"
   ]
  },
  {
   "cell_type": "code",
   "execution_count": null,
   "id": "5100de5f-346f-4335-a584-642feb255160",
   "metadata": {},
   "outputs": [],
   "source": [
    "# we can then create a 'gap'\n",
    "# of the same length as \"silencio\"\n",
    "# by repeating \" \" the correct number of times\n",
    "gap = \" \" * len(word)"
   ]
  },
  {
   "cell_type": "code",
   "execution_count": null,
   "id": "5aafc642-e479-4942-b4ee-2219c6e0357b",
   "metadata": {},
   "outputs": [],
   "source": [
    "# we can now print our poem\n",
    "# by reusing the same word\n",
    "# many times\n",
    "print(word, word, word)\n",
    "print(word, word, word)\n",
    "print(word,  gap, word)\n",
    "print(word, word, word)\n",
    "print(word, word, word)"
   ]
  }
 ],
 "metadata": {
  "kernelspec": {
   "display_name": "poetic.machines (3.12.2)",
   "language": "python",
   "name": "python3"
  },
  "language_info": {
   "codemirror_mode": {
    "name": "ipython",
    "version": 3
   },
   "file_extension": ".py",
   "mimetype": "text/x-python",
   "name": "python",
   "nbconvert_exporter": "python",
   "pygments_lexer": "ipython3",
   "version": "3.12.2"
  }
 },
 "nbformat": 4,
 "nbformat_minor": 5
}
