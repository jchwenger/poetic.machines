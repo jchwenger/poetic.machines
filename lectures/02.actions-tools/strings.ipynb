{
 "cells": [
  {
   "cell_type": "markdown",
   "id": "1d5f634c-c382-425b-b934-4f68d0e5dafa",
   "metadata": {},
   "source": [
    "# Strings I"
   ]
  },
  {
   "cell_type": "markdown",
   "id": "f9daa0fe",
   "metadata": {},
   "source": [
    "Working with text in Python. \"String\" (of characters) is what textual data is called in programming."
   ]
  },
  {
   "cell_type": "code",
   "execution_count": null,
   "id": "c8a8f92c-52f6-4d60-9bbd-cc0b668962a9",
   "metadata": {},
   "outputs": [],
   "source": [
    "# we define a variable called 'word', containing the text \"silencio\"\n",
    "# this could be single or double quotes\n",
    "word = \"silencio\"\n",
    "word"
   ]
  },
  {
   "cell_type": "code",
   "execution_count": null,
   "id": "66760d73",
   "metadata": {},
   "outputs": [],
   "source": [
    "# need to write multiple lines? -> Use three quotes (single or double)\n",
    "some_multiline_text = \"\"\"I can now\n",
    "write as much text\n",
    "on as many lines\n",
    "as I want.\n",
    "\"\"\"\n",
    "# the '\\n' in there are \"newline\" characters\n",
    "some_multiline_text"
   ]
  },
  {
   "cell_type": "code",
   "execution_count": null,
   "id": "03c62f0c",
   "metadata": {},
   "outputs": [],
   "source": [
    "# when you 'print' the text, the newline chars appear... as new lines!\n",
    "print(some_multiline_text)"
   ]
  },
  {
   "cell_type": "markdown",
   "id": "6206297f-b285-4763-81a9-aa0734e127c4",
   "metadata": {},
   "source": [
    "## Indexing & Slicing"
   ]
  },
  {
   "cell_type": "markdown",
   "id": "3d6392f1",
   "metadata": {},
   "source": [
    "One way for us to interact with strings (and other data types) is by *selecting* parts of it (one or more characters). *Indexing* is the name for accessing a particular character using its *position* (index) in the string, and *slicing* is the name for 'cutting' or 'selecting' a part of the string."
   ]
  },
  {
   "cell_type": "code",
   "execution_count": null,
   "id": "07c739b8-0c33-47c5-8956-947a09d510e9",
   "metadata": {},
   "outputs": [],
   "source": [
    "# start included, end excluded, counting from zero ☠️!\n",
    "# so characters 0, 1, 2\n",
    "word[0:3]\n",
    "\n",
    "# Note: not like in JavaScript, that does not support string indexing\n",
    "# (you need to use methods like .substring() or .slice())"
   ]
  },
  {
   "cell_type": "code",
   "execution_count": null,
   "id": "666f21e4-9167-404b-aceb-024352eecac6",
   "metadata": {},
   "outputs": [],
   "source": [
    "# with negative numbers, count from the end\n",
    "# (the last character)\n",
    "word[-1]"
   ]
  },
  {
   "cell_type": "code",
   "execution_count": null,
   "id": "a3c2abde-53f3-4cff-8112-1b0c926d4311",
   "metadata": {},
   "outputs": [],
   "source": [
    "# take 'every n', here every 2\n",
    "# from 0 to the end, every 2 chars\n",
    "# every second letter\n",
    "word[::2]"
   ]
  },
  {
   "cell_type": "markdown",
   "id": "b0baa650",
   "metadata": {},
   "source": [
    "Fun idea: we could use this to *hide* a text inside another one!"
   ]
  },
  {
   "cell_type": "code",
   "execution_count": null,
   "id": "c852d44f-ab00-4191-9b7f-ad23d7fb8675",
   "metadata": {},
   "outputs": [],
   "source": [
    "# some weird word\n",
    "word_hidden = \"5sgi7lfefnmcvicoo\"\n",
    "print(word_hidden)"
   ]
  },
  {
   "cell_type": "code",
   "execution_count": null,
   "id": "1da6ae7a-3fb5-4c5f-891b-cd3444b31857",
   "metadata": {},
   "outputs": [],
   "source": [
    "# what happens if we start from letter 2,\n",
    "# take only one every two character?\n",
    "print(word_hidden[1::2])"
   ]
  },
  {
   "cell_type": "markdown",
   "id": "1542bfe2-2331-4e34-b34a-b9274b98a657",
   "metadata": {},
   "source": [
    "## Concatenation, splitting, joining"
   ]
  },
  {
   "cell_type": "markdown",
   "id": "db5316c6",
   "metadata": {},
   "source": [
    "Other things we want to be able to do is put multiple pieces of text together, or on the contrary break a string down into parts."
   ]
  },
  {
   "cell_type": "code",
   "execution_count": null,
   "id": "9537ef7d-89ee-4fec-bc81-364c6899705b",
   "metadata": {},
   "outputs": [],
   "source": [
    "# you can use '+' to concatenate multiple strings\n",
    "two_silencios = word + \" \" + word\n",
    "print(two_silencios)"
   ]
  },
  {
   "cell_type": "code",
   "execution_count": null,
   "id": "28a715db-6126-4a8e-8720-7ee0037354ad",
   "metadata": {},
   "outputs": [],
   "source": [
    "# the splitting char(s) disappear,\n",
    "silencios_split1 = two_silencios.split(\" \")\n",
    "print(silencios_split1)"
   ]
  },
  {
   "cell_type": "code",
   "execution_count": null,
   "id": "006ac389",
   "metadata": {},
   "outputs": [],
   "source": [
    "# beware!, if you have a splitting char at the end\n",
    "# you still get an empty string in the result (\"after\" the split)\n",
    "\n",
    "# add a space at the end for this example\n",
    "two_silencios_trailing_space = two_silencios + \" \"\n",
    "silencios_split1 = two_silencios_trailing_space.split(\" \")\n",
    "print(silencios_split1)"
   ]
  },
  {
   "cell_type": "code",
   "execution_count": null,
   "id": "b6124659-d0d5-4092-a676-cbd2293b9318",
   "metadata": {},
   "outputs": [],
   "source": [
    "# this could be used in weird ways...\n",
    "silencios_split2 = two_silencios.split(\"i\")\n",
    "print(silencios_split2)"
   ]
  },
  {
   "cell_type": "code",
   "execution_count": null,
   "id": "a3c3399c-ce0b-4dbf-bcdf-0c92c3a976be",
   "metadata": {},
   "outputs": [],
   "source": [
    "# how to reverse a split?\n",
    "# use \"separator\".join(iterable)\n",
    "print(silencios_split1)\n",
    "print(\" \".join(silencios_split1))\n",
    "\n",
    "# Practice: try and replace the space inside the \" \" with something else?"
   ]
  },
  {
   "cell_type": "markdown",
   "id": "c793411f",
   "metadata": {},
   "source": [
    "## Repetition / Multiplication\n"
   ]
  },
  {
   "cell_type": "markdown",
   "id": "431ee13c",
   "metadata": {},
   "source": [
    "One really fun feature of Python is that we can use multiplication to *repeat* strings."
   ]
  },
  {
   "cell_type": "code",
   "execution_count": null,
   "id": "95ef7292",
   "metadata": {},
   "outputs": [],
   "source": [
    "# take \"!!!!!.\", copy it 10000 times, store the result in `ten_thousand_exclamations`\n",
    "ten_thousand_exclamations = \"!!!!!.\" * 10000\n",
    "\n",
    "# Note: for the right output, click the three dots at the top next to \"Clear All Outputs\",\n",
    "# then \"Customize Notebook Layout\", search for \"wrap\" in the search bar, and toggle\n",
    "# \"Notebook > Output: Word Wrap\"\n",
    "\n",
    "# uncomment at your peril and behold the power of programming!!\n",
    "# print(ten_thousand_exclamations)"
   ]
  },
  {
   "cell_type": "markdown",
   "id": "0a526847-9ec0-4db1-884b-3eb2848f8b5a",
   "metadata": {},
   "source": [
    "## String constants"
   ]
  },
  {
   "cell_type": "markdown",
   "id": "10faf8b8",
   "metadata": {},
   "source": [
    "What are string constants? Various useful sets of characters, like \"all punctuation characters\", or \"all numbers, etc."
   ]
  },
  {
   "cell_type": "markdown",
   "id": "52bf5d04-ac5b-423f-bed5-aa6f43cf3f80",
   "metadata": {},
   "source": [
    "[docs](https://docs.python.org/3/library/string.html#string-constants)  \n",
    "**Note**: [w<sup>3</sup> `import` & modules](https://www.w3schools.com/python/python_modules.asp)"
   ]
  },
  {
   "cell_type": "code",
   "execution_count": null,
   "id": "51187295-03e6-484b-ac2e-4beba47e600d",
   "metadata": {},
   "outputs": [],
   "source": [
    "# we haven't seen much of this, but for now\n",
    "# let's say we \"import the functionalities contained in the 'string' module\"\n",
    "import string"
   ]
  },
  {
   "cell_type": "code",
   "execution_count": null,
   "id": "2066a74b-0dca-4565-82db-21b0365f865e",
   "metadata": {},
   "outputs": [],
   "source": [
    "# very useful!, can be used e.g. to remove all punctuation\n",
    "string.punctuation"
   ]
  },
  {
   "cell_type": "markdown",
   "id": "1625a554-b95d-4c76-a27b-1750427b538e",
   "metadata": {},
   "source": [
    "## String Methods"
   ]
  },
  {
   "cell_type": "markdown",
   "id": "50196f72-179f-4ffc-9ce2-3d435d68bbc3",
   "metadata": {},
   "source": [
    "[docs](https://docs.python.org/3/library/stdtypes.html#string-methods)\n",
    "\n",
    "What are `methods`? We will see that in detail when we talk about functions: for now, you can think of this as \"functionalities associated with strings\" (almost like, as if any string in Python wasn't just the text itself, but also shipped with various 'tools' you can use on it). Here I just show a few common ones, but there are more in the docs!"
   ]
  },
  {
   "cell_type": "markdown",
   "id": "0fa5b94f-1eda-4fc8-9639-b1de75db85b6",
   "metadata": {},
   "source": [
    "### Search, replace"
   ]
  },
  {
   "cell_type": "markdown",
   "id": "e428c7bc",
   "metadata": {},
   "source": [
    "Tools to find the location of one or more characters inside a string."
   ]
  },
  {
   "cell_type": "code",
   "execution_count": null,
   "id": "6a8d2952-b9a4-4025-b841-049439fdde09",
   "metadata": {},
   "outputs": [],
   "source": [
    "# gives me the *index* of the first 'i'\n",
    "# if you give more than one char, it still gives the index of the *first* character\n",
    "word.find(\"i\")\n",
    "\n",
    "# remember, we count from 0!\n"
   ]
  },
  {
   "cell_type": "code",
   "execution_count": null,
   "id": "cbe27f04",
   "metadata": {},
   "outputs": [],
   "source": [
    "# for the last 'i', use rfind() ('right' find: from the end)\n",
    "word.rfind(\"i\")"
   ]
  },
  {
   "cell_type": "code",
   "execution_count": null,
   "id": "cf4f747a-47ba-4f0b-80c7-3415163b0806",
   "metadata": {},
   "outputs": [],
   "source": [
    "# now I could use that index:\n",
    "# slicing from 0 to where the first 'c' is (exclusive)\n",
    "word[:word.find(\"c\")]"
   ]
  },
  {
   "cell_type": "code",
   "execution_count": null,
   "id": "15788ad7-a0cf-4f40-bda3-b17374c6c4eb",
   "metadata": {},
   "outputs": [],
   "source": [
    "# replace all instances of 'i' by u\n",
    "word.replace(\"i\", \"u\")"
   ]
  },
  {
   "cell_type": "code",
   "execution_count": null,
   "id": "4b78860f",
   "metadata": {},
   "outputs": [],
   "source": [
    "# create a string with \"silencio\" centred, using \"!\" instead of space as padding\n",
    "word.center(80, \"!\")\n",
    "\n",
    "# try `.ljust` or `.rjust`"
   ]
  },
  {
   "cell_type": "markdown",
   "id": "b97d43b5-092e-44b2-be0e-03ecd580db39",
   "metadata": {},
   "source": [
    "### Working with case"
   ]
  },
  {
   "cell_type": "markdown",
   "id": "19c6cc19",
   "metadata": {},
   "source": [
    "Python also comes with handy tools to modify the text at hand.\n",
    "\n",
    "Note: those methods don't modify the string itself: instead, they give you a *modified copy*. As you can see below, the original string \"silencio\" remains unchanged!"
   ]
  },
  {
   "cell_type": "code",
   "execution_count": null,
   "id": "5ece3100-4599-4150-918b-45d99fb49b34",
   "metadata": {},
   "outputs": [],
   "source": [
    "word.capitalize()"
   ]
  },
  {
   "cell_type": "code",
   "execution_count": null,
   "id": "103eb601-2b8b-4c4d-b0bf-28bc28216ea9",
   "metadata": {},
   "outputs": [],
   "source": [
    "word.upper()"
   ]
  },
  {
   "cell_type": "code",
   "execution_count": null,
   "id": "cb4e8a48-8295-4a0c-9e1f-1ec3beadea51",
   "metadata": {},
   "outputs": [],
   "source": [
    "# by chaining those, we act on the *result* of each operations:\n",
    "# \"silencio\" -> \"SILENCIO\" -> \"silencio\"\n",
    "word.upper().lower()"
   ]
  },
  {
   "cell_type": "code",
   "execution_count": null,
   "id": "770a4208-a85c-4895-b5b2-d788c069398a",
   "metadata": {},
   "outputs": [],
   "source": [
    "word.capitalize().swapcase()"
   ]
  },
  {
   "cell_type": "markdown",
   "id": "6a01b90d-2cd1-41cd-861b-41d43d0f0650",
   "metadata": {},
   "source": [
    "## F-string (formatted strings)"
   ]
  },
  {
   "cell_type": "markdown",
   "id": "62d88c88-54a6-4765-8785-c8e44f0f3346",
   "metadata": {},
   "source": [
    "[tutorial](https://docs.python.org/3/tutorial/inputoutput.html#fancier-output-formatting)  \n",
    "[cheat sheet](https://fstring.help/cheat/)  \n",
    "[f-strings docs](https://docs.python.org/3/library/stdtypes.html#formatted-string-literals-f-strings)  \n",
    "[`str.format()` doc](https://docs.python.org/3/library/stdtypes.html#str.format)\n",
    "\n",
    "What are formatted strings? They are a way of *constructing* strings using other pieces of data we are manipulating. Formatting a string is roughly synonymous with \"injecting some data into a string\". This is especially useful when the data isn't of type `str`, and so has to be transformed into a representation compatible with strings; but it also comes with some nice layout functionalities.\n"
   ]
  },
  {
   "cell_type": "code",
   "execution_count": null,
   "id": "140c0848-0046-47e1-a07d-cd763f74e0b1",
   "metadata": {},
   "outputs": [],
   "source": [
    "# the string must start with `f` (f\"some text\")\n",
    "# the data we inject must be surrounded by `{}`\n",
    "f\"What is the word? {word}.\""
   ]
  },
  {
   "cell_type": "code",
   "execution_count": null,
   "id": "3008c96a-7d89-4dea-925b-ce02b6f33f36",
   "metadata": {},
   "outputs": [],
   "source": [
    "# left aligned with `<`, specify the width\n",
    "f\"What is the word? {word:<80}!\""
   ]
  },
  {
   "cell_type": "code",
   "execution_count": null,
   "id": "a2a0dce6-7e39-4ee9-a972-515ba1fe85a2",
   "metadata": {},
   "outputs": [],
   "source": [
    "# right aligned with `>`\n",
    "f\"What is the word? {word:>80}...\""
   ]
  },
  {
   "cell_type": "code",
   "execution_count": null,
   "id": "5002bdb9-6024-4f7a-ab09-59027f39baee",
   "metadata": {},
   "outputs": [],
   "source": [
    "# centered with `^`\n",
    "f\"What is the word? {word:^80}?\""
   ]
  },
  {
   "cell_type": "code",
   "execution_count": null,
   "id": "ba171b7d-163c-4b9c-887d-53a69e9e03fa",
   "metadata": {},
   "outputs": [],
   "source": [
    "width = 80\n",
    "# use a variable in the parameter!\n",
    "print(f\"What is the word? {word:^{width}}.\")"
   ]
  },
  {
   "cell_type": "markdown",
   "id": "cf074ecc",
   "metadata": {},
   "source": [
    "And also for numbers:"
   ]
  },
  {
   "cell_type": "code",
   "execution_count": null,
   "id": "3cae6459",
   "metadata": {},
   "outputs": [],
   "source": [
    "# print a large number separating thousands with a comma\n",
    "f\"for the {1000000000000:,}th time: {word}\""
   ]
  },
  {
   "cell_type": "code",
   "execution_count": null,
   "id": "cb7028ac",
   "metadata": {},
   "outputs": [],
   "source": [
    "duration = 1.23484368345\n",
    "# limit decimals to only two (note the leading '.' and trailing 'f')\n",
    "f\"The poem lasted approximately {duration:.2f} seconds\""
   ]
  }
 ],
 "metadata": {
  "kernelspec": {
   "display_name": "poetic.machines (3.12.2)",
   "language": "python",
   "name": "python3"
  },
  "language_info": {
   "codemirror_mode": {
    "name": "ipython",
    "version": 3
   },
   "file_extension": ".py",
   "mimetype": "text/x-python",
   "name": "python",
   "nbconvert_exporter": "python",
   "pygments_lexer": "ipython3",
   "version": "3.12.2"
  }
 },
 "nbformat": 4,
 "nbformat_minor": 5
}
